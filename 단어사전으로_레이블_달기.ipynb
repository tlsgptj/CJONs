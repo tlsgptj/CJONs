{
  "nbformat": 4,
  "nbformat_minor": 0,
  "metadata": {
    "colab": {
      "provenance": [],
      "gpuType": "T4",
      "include_colab_link": true
    },
    "kernelspec": {
      "name": "python3",
      "display_name": "Python 3"
    },
    "language_info": {
      "name": "python"
    }
  },
  "cells": [
    {
      "cell_type": "markdown",
      "metadata": {
        "id": "view-in-github",
        "colab_type": "text"
      },
      "source": [
        "<a href=\"https://colab.research.google.com/github/tlsgptj/CJONs/blob/tkwjs/%EB%8B%A8%EC%96%B4%EC%82%AC%EC%A0%84%EC%9C%BC%EB%A1%9C_%EB%A0%88%EC%9D%B4%EB%B8%94_%EB%8B%AC%EA%B8%B0.ipynb\" target=\"_parent\"><img src=\"https://colab.research.google.com/assets/colab-badge.svg\" alt=\"Open In Colab\"/></a>"
      ]
    },
    {
      "cell_type": "code",
      "execution_count": null,
      "metadata": {
        "id": "busL1Nobiy0T",
        "colab": {
          "base_uri": "https://localhost:8080/"
        },
        "outputId": "9c1796b6-21ce-470c-8858-134bb98eb1da"
      },
      "outputs": [
        {
          "output_type": "stream",
          "name": "stdout",
          "text": [
            "Collecting transformers\n",
            "  Downloading transformers-4.31.0-py3-none-any.whl (7.4 MB)\n",
            "\u001b[2K     \u001b[90m━━━━━━━━━━━━━━━━━━━━━━━━━━━━━━━━━━━━━━━━\u001b[0m \u001b[32m7.4/7.4 MB\u001b[0m \u001b[31m18.5 MB/s\u001b[0m eta \u001b[36m0:00:00\u001b[0m\n",
            "\u001b[?25hRequirement already satisfied: filelock in /usr/local/lib/python3.10/dist-packages (from transformers) (3.12.2)\n",
            "Collecting huggingface-hub<1.0,>=0.14.1 (from transformers)\n",
            "  Downloading huggingface_hub-0.16.4-py3-none-any.whl (268 kB)\n",
            "\u001b[2K     \u001b[90m━━━━━━━━━━━━━━━━━━━━━━━━━━━━━━━━━━━━━━\u001b[0m \u001b[32m268.8/268.8 kB\u001b[0m \u001b[31m24.5 MB/s\u001b[0m eta \u001b[36m0:00:00\u001b[0m\n",
            "\u001b[?25hRequirement already satisfied: numpy>=1.17 in /usr/local/lib/python3.10/dist-packages (from transformers) (1.23.5)\n",
            "Requirement already satisfied: packaging>=20.0 in /usr/local/lib/python3.10/dist-packages (from transformers) (23.1)\n",
            "Requirement already satisfied: pyyaml>=5.1 in /usr/local/lib/python3.10/dist-packages (from transformers) (6.0.1)\n",
            "Requirement already satisfied: regex!=2019.12.17 in /usr/local/lib/python3.10/dist-packages (from transformers) (2022.10.31)\n",
            "Requirement already satisfied: requests in /usr/local/lib/python3.10/dist-packages (from transformers) (2.31.0)\n",
            "Collecting tokenizers!=0.11.3,<0.14,>=0.11.1 (from transformers)\n",
            "  Downloading tokenizers-0.13.3-cp310-cp310-manylinux_2_17_x86_64.manylinux2014_x86_64.whl (7.8 MB)\n",
            "\u001b[2K     \u001b[90m━━━━━━━━━━━━━━━━━━━━━━━━━━━━━━━━━━━━━━━━\u001b[0m \u001b[32m7.8/7.8 MB\u001b[0m \u001b[31m35.5 MB/s\u001b[0m eta \u001b[36m0:00:00\u001b[0m\n",
            "\u001b[?25hCollecting safetensors>=0.3.1 (from transformers)\n",
            "  Downloading safetensors-0.3.2-cp310-cp310-manylinux_2_17_x86_64.manylinux2014_x86_64.whl (1.3 MB)\n",
            "\u001b[2K     \u001b[90m━━━━━━━━━━━━━━━━━━━━━━━━━━━━━━━━━━━━━━━━\u001b[0m \u001b[32m1.3/1.3 MB\u001b[0m \u001b[31m37.9 MB/s\u001b[0m eta \u001b[36m0:00:00\u001b[0m\n",
            "\u001b[?25hRequirement already satisfied: tqdm>=4.27 in /usr/local/lib/python3.10/dist-packages (from transformers) (4.65.0)\n",
            "Requirement already satisfied: fsspec in /usr/local/lib/python3.10/dist-packages (from huggingface-hub<1.0,>=0.14.1->transformers) (2023.6.0)\n",
            "Requirement already satisfied: typing-extensions>=3.7.4.3 in /usr/local/lib/python3.10/dist-packages (from huggingface-hub<1.0,>=0.14.1->transformers) (4.7.1)\n",
            "Requirement already satisfied: charset-normalizer<4,>=2 in /usr/local/lib/python3.10/dist-packages (from requests->transformers) (3.2.0)\n",
            "Requirement already satisfied: idna<4,>=2.5 in /usr/local/lib/python3.10/dist-packages (from requests->transformers) (3.4)\n",
            "Requirement already satisfied: urllib3<3,>=1.21.1 in /usr/local/lib/python3.10/dist-packages (from requests->transformers) (1.26.16)\n",
            "Requirement already satisfied: certifi>=2017.4.17 in /usr/local/lib/python3.10/dist-packages (from requests->transformers) (2023.7.22)\n",
            "Installing collected packages: tokenizers, safetensors, huggingface-hub, transformers\n",
            "Successfully installed huggingface-hub-0.16.4 safetensors-0.3.2 tokenizers-0.13.3 transformers-4.31.0\n"
          ]
        }
      ],
      "source": [
        "!pip install transformers\n",
        "\n",
        "# 필요한 라이브러리 불러오기\n",
        "import pandas as pd\n",
        "import urllib.request"
      ]
    },
    {
      "cell_type": "markdown",
      "source": [
        "#1.0 ㄲ"
      ],
      "metadata": {
        "id": "rb3YW9Qdn4V8"
      }
    },
    {
      "cell_type": "code",
      "source": [
        "# read_csv() 함수를 사용해 csv파일 읽기\n",
        "\n",
        "df1 = pd.read_csv('/content/1. Piccini Memoro Rosso N.V._cleaning.csv')\n",
        "# df2 = pd.read_csv('/content/2. Elk Cove Estate Pinot Noir_cleaning.csv')\n",
        "# df3 = pd.read_csv('/content/3. Bodega Norton Malbec D.O.C._cleaning.csv')\n",
        "# df4 = pd.read_csv('/content/4. Antinori Villa Antinori Chianti Classico Riserva_cleaning.csv')\n",
        "# df5 = pd.read_csv('/content/5. Mascota Vineyards Unánime Gran Vino Tinto_cleaning.csv')\n",
        "# df6 = pd.read_csv('/content/6. Gran Passione Rosso Veneto_cleaning.csv')\n",
        "# df7 = pd.read_csv('/content/7. Imperial Rioja Reserva_cleaning.csv')\n",
        "# df8 = pd.read_csv('/content/8. The Federalist Cabernet Sauvignon_cleaning.csv')\n",
        "# df9 = pd.read_csv('/content/9. Decoy California Red Wine_cleaning.csv')\n",
        "# df10 = pd.read_csv('/content/10. Beaulieu Vineyard (BV) Napa Valley Cabernet Sauvignon_cleaning.csv')\n",
        "# df11 = pd.read_csv('/content/11. Masseria La Volpe 1 Uno Primitivo di Manduria_cleaning.csv')\n",
        "# df12 = pd.read_csv('/content/12. Perez Cruz Carmenère Limited Edition_cleaning.csv')\n",
        "# df13 = pd.read_csv('/content/13. Paraduxx Proprietary Red_cleaning.csv')\n",
        "# df14 = pd.read_csv('/content/14. Tinazzi Tenuta Valleselle Ripa Magna Corvina_cleaning.csv')\n",
        "# df15 = pd.read_csv(\"/content/15. Gentleman's Collection Cabernet Sauvignon (Batch No. 1 & 3)_cleaning.csv\")\n",
        "# df16 = pd.read_csv('/content/16. Umberto Cesari Liano Sangiovese - Cabernet Sauvignon_cleaning.csv')\n",
        "# df17 = pd.read_csv(\"/content/Port 1. W. & J. Graham's 10 Year Old Tawny Port N.V._cleaning.csv\")\n",
        "# df18 = pd.read_csv(\"/content/White 1. Cloudy Bay Sauvinon Blanc_cleaning.csv\")\n",
        "# df19 = pd.read_csv(\"/content/White 2. Craggy Range Marlborrough Sauvinon Blanc_cleaning.csv\")\n",
        "\n",
        "\n",
        "\n",
        "# test 데이터\n",
        "\n",
        "# df_test = pd.read_csv('/content/test.csv')\n",
        "\n",
        "# df1 = pd.read_csv('/content/Torre Oria Knock Knock Red Blend.csv', encoding='cp949')\n",
        "# df2 = pd.read_csv('/content/Château Pibran Pauillac.csv', encoding='cp949')\n",
        "# df3 = pd.read_csv('/content/Domain Road Vineyard Pinot Noir 2020.csv', encoding='cp949')\n",
        "# df4 = pd.read_csv('/content/Dominus Dominus (Christian Moueix).csv', encoding='cp949')\n",
        "# df5 = pd.read_csv('/content/Duckhorn Three Palms Vineyard Merlot.csv', encoding='cp949')\n",
        "# df6 = pd.read_csv('/content/Mysterious Diggings Pinot Noir 2022.csv', encoding='cp949')\n",
        "# df7 = pd.read_csv('/content/River Run Pinot Noir 2021.csv', encoding='cp949')\n",
        "# df8 = pd.read_csv('/content/Rutherford Hill Merlot.csv', encoding='cp949')\n",
        "# df9 = pd.read_csv('/content/Sea Smoke Southing Pinot Noir.csv', encoding='cp949')\n",
        "# df10 = pd.read_csv('/content/Weinert Carrascal 2002.csv', encoding='cp949')\n",
        "\n",
        "\n",
        "# dfs = [df1, df2, df3, df4, df5, df6, df7, df8, df9, df10, df11, df12, df13, df14, df15, df16, df17, df18, df19]\n",
        "# dfs = [df1, df2, df3, df4, df5, df6, df7, df8, df9, df10]\n",
        "dfs = [df1]"
      ],
      "metadata": {
        "id": "sdVjz3f1YsFL"
      },
      "execution_count": null,
      "outputs": []
    },
    {
      "cell_type": "code",
      "source": [
        "df1.shape, #df2.shape, df3.shape, df4.shape, df5.shape, df6.shape, df7.shape, df8.shape, df9.shape, df10.shape #데이터 사이즈 확인"
      ],
      "metadata": {
        "colab": {
          "base_uri": "https://localhost:8080/"
        },
        "id": "-76ZlqF_Ytqn",
        "outputId": "ef1cc9e7-81a5-456d-a505-bea1a3094a32"
      },
      "execution_count": null,
      "outputs": [
        {
          "output_type": "execute_result",
          "data": {
            "text/plain": [
              "(780, 2)"
            ]
          },
          "metadata": {},
          "execution_count": 3
        }
      ]
    },
    {
      "cell_type": "markdown",
      "source": [
        "# 1.1. 결측치 제거"
      ],
      "metadata": {
        "id": "EqiRBYsPYyMk"
      }
    },
    {
      "cell_type": "code",
      "source": [
        "df1.isnull().sum()"
      ],
      "metadata": {
        "colab": {
          "base_uri": "https://localhost:8080/"
        },
        "id": "7sXE5Z4KYzsl",
        "outputId": "fa9304eb-c5d1-416f-e676-7e0756fd8b4b"
      },
      "execution_count": null,
      "outputs": [
        {
          "output_type": "execute_result",
          "data": {
            "text/plain": [
              "Unnamed: 0    0\n",
              "Score         0\n",
              "Review        0\n",
              "Rating        0\n",
              "dtype: int64"
            ]
          },
          "metadata": {},
          "execution_count": 20
        }
      ]
    },
    {
      "cell_type": "code",
      "source": [
        "df1 = df1[~df1['Review'].isnull()]"
      ],
      "metadata": {
        "id": "gItK7_S0Y1Rr"
      },
      "execution_count": null,
      "outputs": []
    },
    {
      "cell_type": "markdown",
      "source": [
        "# 1.2. 데이터셋에서 영어만 추출"
      ],
      "metadata": {
        "id": "tC7Cvp2oY3UV"
      }
    },
    {
      "cell_type": "code",
      "source": [
        "!pip install git+https://github.com/Artemis1111/lingua-py.git"
      ],
      "metadata": {
        "colab": {
          "base_uri": "https://localhost:8080/"
        },
        "id": "7kPRJZLNY25H",
        "outputId": "a91ef753-34d9-4850-cec6-88b8a28a0cfa"
      },
      "execution_count": null,
      "outputs": [
        {
          "output_type": "stream",
          "name": "stdout",
          "text": [
            "Collecting git+https://github.com/Artemis1111/lingua-py.git\n",
            "  Cloning https://github.com/Artemis1111/lingua-py.git to /tmp/pip-req-build-lhrjaz8w\n",
            "  Running command git clone --filter=blob:none --quiet https://github.com/Artemis1111/lingua-py.git /tmp/pip-req-build-lhrjaz8w\n",
            "  Resolved https://github.com/Artemis1111/lingua-py.git to commit f76c1d3d3fad87e3154d64fa75f03d92ce4463cd\n",
            "  Installing build dependencies ... \u001b[?25l\u001b[?25hdone\n",
            "  Getting requirements to build wheel ... \u001b[?25l\u001b[?25hdone\n",
            "  Preparing metadata (pyproject.toml) ... \u001b[?25l\u001b[?25hdone\n",
            "Requirement already satisfied: numpy<2.0.0,>=1.24.1 in /usr/local/lib/python3.10/dist-packages (from lingua-language-detector==1.3.2) (1.25.2)\n",
            "Requirement already satisfied: regex<2023.0.0,>=2022.10.31 in /usr/local/lib/python3.10/dist-packages (from lingua-language-detector==1.3.2) (2022.10.31)\n"
          ]
        }
      ]
    },
    {
      "cell_type": "code",
      "source": [
        "from lingua import Language, LanguageDetectorBuilder\n",
        "languages = [Language.ENGLISH, Language.FRENCH, Language.GERMAN, Language.SPANISH, Language.RUSSIAN, Language.CHINESE, Language.JAPANESE, Language.KOREAN, Language.PORTUGUESE, Language.ITALIAN]\n",
        "detector = LanguageDetectorBuilder.from_languages(*languages).build()\n",
        "detector.detect_language_of(\"languages are awesome\")"
      ],
      "metadata": {
        "colab": {
          "base_uri": "https://localhost:8080/"
        },
        "id": "0_npWVToY8eh",
        "outputId": "f41f310b-998d-450a-9df3-414562d9ae26"
      },
      "execution_count": null,
      "outputs": [
        {
          "output_type": "execute_result",
          "data": {
            "text/plain": [
              "Language.ENGLISH"
            ]
          },
          "metadata": {},
          "execution_count": 46
        }
      ]
    },
    {
      "cell_type": "code",
      "source": [
        "def non_eng_remove(df, review_str):\n",
        "  review_revised = []\n",
        "  for review in df[review_str]:\n",
        "    if detector.detect_language_of(review) != Language.ENGLISH:\n",
        "      review = None\n",
        "    review_revised.append(review)\n",
        "  return review_revised"
      ],
      "metadata": {
        "id": "X0DXh70tY-Pf"
      },
      "execution_count": null,
      "outputs": []
    },
    {
      "cell_type": "code",
      "source": [
        "dfs_num = len(dfs)"
      ],
      "metadata": {
        "id": "8ktf6s_ilvCP"
      },
      "execution_count": null,
      "outputs": []
    },
    {
      "cell_type": "code",
      "source": [
        "for i in range(dfs_num):\n",
        "  ans_review = []\n",
        "  for review in dfs[i]['Review']:\n",
        "    ans_review.append(str(review))\n",
        "  dfs[i][\"Review\"] = ans_review"
      ],
      "metadata": {
        "id": "1ns0887bjaI7"
      },
      "execution_count": null,
      "outputs": []
    },
    {
      "cell_type": "code",
      "source": [
        "# for i in range(dfs_num):\n",
        "#   dfs[i]['Review'] = non_eng_remove(dfs[i], 'Review')\n",
        "df1[\"Review\"] = non_eng_remove(df1, 'Review')"
      ],
      "metadata": {
        "id": "Y1JnKFwfY_UX"
      },
      "execution_count": null,
      "outputs": []
    },
    {
      "cell_type": "code",
      "source": [
        "df1 = df1[~df1['Review'].isnull()]\n",
        "# df2 = df2[~df2['Review'].isnull()]\n",
        "# df3 = df3[~df3['Review'].isnull()]\n",
        "# df4 = df4[~df4['Review'].isnull()]\n",
        "# df5 = df5[~df5['Review'].isnull()]\n",
        "# df6 = df6[~df6['Review'].isnull()]\n",
        "# df7 = df7[~df7['Review'].isnull()]\n",
        "# df8 = df8[~df8['Review'].isnull()]\n",
        "# df9 = df9[~df9['Review'].isnull()]\n",
        "# df10 = df10[~df10['Review'].isnull()]"
      ],
      "metadata": {
        "id": "fKhwizcGpaSn"
      },
      "execution_count": null,
      "outputs": []
    },
    {
      "cell_type": "code",
      "source": [
        "df1.isnull().sum()\n",
        "  #보고싶으면 직접 하나하나 입력해보세요"
      ],
      "metadata": {
        "colab": {
          "base_uri": "https://localhost:8080/"
        },
        "id": "xO6L9Z-kZAvS",
        "outputId": "11cdb6e1-9b9a-4e74-c455-2fa4fbdaacc2"
      },
      "execution_count": null,
      "outputs": [
        {
          "output_type": "execute_result",
          "data": {
            "text/plain": [
              "Review    0\n",
              "Rating    0\n",
              "dtype: int64"
            ]
          },
          "metadata": {},
          "execution_count": 56
        }
      ]
    },
    {
      "cell_type": "code",
      "source": [
        "df1.shape#, df2.shape, df3.shape, df4.shape, df5.shape, df6.shape, df7.shape, df8.shape, df9.shape, df10.shape, # df11.shape, df12.shape, df13.shape, df14.shape, df15.shape, df16.shape, df17.shape, df18.shape, df19.shape"
      ],
      "metadata": {
        "id": "IBZ_ZeAsvkgf",
        "colab": {
          "base_uri": "https://localhost:8080/"
        },
        "outputId": "ecfa4426-6782-4d1d-c730-64423351e713"
      },
      "execution_count": null,
      "outputs": [
        {
          "output_type": "execute_result",
          "data": {
            "text/plain": [
              "(168, 2)"
            ]
          },
          "metadata": {},
          "execution_count": 57
        }
      ]
    },
    {
      "cell_type": "markdown",
      "source": [
        "non_eng_remove 완성본 저장하기"
      ],
      "metadata": {
        "id": "c_04lj2Dvp3r"
      }
    },
    {
      "cell_type": "code",
      "source": [
        "\n",
        "df1.to_csv('Torre Oria Knock Knock Red Blend_cleaning.csv')\n",
        "# df2.to_csv('Château Pibran Pauillac_cleaning.csv')\n",
        "# df3.to_csv('Domain Road Vineyard Pinot Noir 2020_cleaning.csv')\n",
        "# df4.to_csv('Dominus Dominus (Christian Moueix)_cleaning.csv')\n",
        "# df5.to_csv('Duckhorn Three Palms Vineyard Merlot_cleaning.csv')\n",
        "# df6.to_csv('Mysterious Diggings Pinot Noir 202_cleaning2.csv')\n",
        "# df7.to_csv('River Run Pinot Noir 2021_cleaning.csv')\n",
        "# df8.to_csv('Rutherford Hill Merlot_cleaning.csv')\n",
        "# df9.to_csv('Sea Smoke Southing Pinot Noir_cleaning.csv')\n",
        "# df10.to_csv('Weinert Carrascal 2002_cleaning.csv')\n"
      ],
      "metadata": {
        "id": "J3mWD1p21Y3S"
      },
      "execution_count": null,
      "outputs": []
    },
    {
      "cell_type": "markdown",
      "source": [
        "# 1.3. chat gpt 사용하기\n",
        "\n",
        "dry review, sweet review 모아보기"
      ],
      "metadata": {
        "id": "2bc6Mu0V-nxu"
      }
    },
    {
      "cell_type": "code",
      "source": [
        "import re\n",
        "\n",
        "# 단어 분류 기준\n",
        "\n",
        "flavor_dict_sweet_dry = {\"dry\": \"Dry\", \"astringent\": \"Dry\", \"lean\": \"Dry\", \"crisp\": \"Dry\", \"tart\": \"Dry\",\n",
        "               \"off-dry\": \"Dry\", \"bone-dry\": \"Dry\", \"stony\": \"Dry\", \"dusty\": \"Dry\", \"dried\": \"Dry\", \"dryness\": \"Dry\",\n",
        "               \"sweet\": \"Sweet\", \"sweetness\": \"Sweet\", \"sugary\": \"Sweet\", \"sweetish\": \"Sweet\",\n",
        "               \"honeyed\": \"Sweet\", \"luscious\": \"Sweet\", \"nectar-like\": \"Sweet\", \"sweety\": \"Sweet\", \"desert\": \"Sweet\"\n",
        "}\n",
        "flavor_dict_tannin_smooth = {\n",
        "    \"astringency\": \"Tannins\", \"austere\": \"Tannins\", \"bitterness\": \"Tannins\",\n",
        "    \"hard\": \"Tannins\", \"harsh\": \"Tannins\", \"tannins\": \"Tannins\", \"tannin\": \"Tannins\",\n",
        "    \"structured\": \"Tannins\", \"grippy\": \"Tannins\",\"tannic\": \"Tannins\", \"smooth\": \"Smooth\",\n",
        "    \"silky\": \"Smooth\", \"velvety\": \"Smooth\", \"elegant\": \"Smooth\",\n",
        "    \"round\": \"Smooth\", \"supple\": \"Smooth\", \"luscious\": \"Smooth\",\n",
        "    \"balanced\": \"Smooth\"\n",
        "}\n",
        "flavor_dict_acidic_soft = {\n",
        "    \"tart\": \"Acidic\", \"crisp\": \"Acidic\", \"zesty\": \"Acidic\", \"vinegary\": \"Acidic\",\n",
        "    \"lively\": \"Acidic\", \"bright\": \"Acidic\", \"tangy\": \"Acidic\", 'acid': \"Acidic\",\n",
        "    \"grippy\": \"Acidic\", \"hard\": \"Acidic\", \"acidic\": \"Acidic\", 'acidity': \"Acidic\",\n",
        "    \"harsh\": \"Acidic\" , \"austere\": \"Acidic\",\"sour\":\"Acidic\",\"pungent\":\"Acidic\",\"acidulous\":\"Acidic\",\n",
        "\n",
        "    \"silky\": \"Soft\", \"supple\": \"Soft\", \"velvety\": \"Soft\",\n",
        "    \"elegant\": \"Soft\", \"round\": \"Soft\", \"luscious\": \"Soft\",\n",
        "    \"balanced\": \"Soft\",\"softness\":\"Soft\", \"soft\": \"Soft\",\n",
        "    \"softly\": \"Soft\", \"soften\": \"Soft\", \"softness\": \"Soft\", \"softy\": \"Soft\",\n",
        "}\n",
        "flavor_dict_Light_Bold = {\n",
        "    \"full-bodied\": \"Bold\", \"bodied\": \"Bold\", \"robust\": \"Bold\", \"bold\": \"Bold\", \"rich\": \"Bold\",\n",
        "    \"full-flavored\": \"Bold\", \"intense\": \"Bold\", \"weighty\": \"Bold\", \"concentrated\": \"Bold\", \"weight\": \"Bold\", \"boldness\": \"Bold\",\n",
        "\n",
        "    \"light\": \"Light\", \"light-bodied\": \"Light\", \"ethereal\": \"Light\", \"delicate\": \"Light\",\n",
        "    \"luscious\": \"Light\", \"unburdened\": \"Light\", \"lighty\": \"Light\", \"feathery\": \"Light\",\n",
        "    \"airy\": \"Light\", \"mild\": \"Light\", \"graceful\": \"Light\", \"easygoing\": \"Light\"\n",
        "}\n",
        "\n",
        "\n",
        "#Austere, Hard ,Harsh :탄닌, 산도\n",
        "\n",
        "def classify_flavor_Sweet_Dry(text): #@@@@@@@     Sweet_Dry\n",
        "    # -를 띄어쓰기로 바꾸는 코드\n",
        "    text.replace(\"-\", \" \")\n",
        "\n",
        "    #소문자로 바꾸고 쪼개기\n",
        "    words = text.lower().split()\n",
        "\n",
        "    #문장 속 문장부호 지우기\n",
        "    for i in range(len(words)):\n",
        "      words[i] = re.sub(r'[!\"#$%&\\'()*+,-./:;<=>?@\\[\\]^_\\`{|}~\\\\\\\\]','', str(words[i]))\n",
        "\n",
        "    flavor_count_S_D = {\"Dry\": 0, \"Sweet\": 0}\n",
        "\n",
        "    for word in words:\n",
        "        if word in flavor_dict_sweet_dry:\n",
        "            flavor = flavor_dict_sweet_dry[word]\n",
        "            flavor_count_S_D[flavor] += 1\n",
        "\n",
        "    if flavor_count_S_D[\"Dry\"] > flavor_count_S_D[\"Sweet\"]:\n",
        "        return \"Dry\"\n",
        "    elif flavor_count_S_D[\"Sweet\"] > flavor_count_S_D[\"Dry\"]:\n",
        "        return \"Sweet\"\n",
        "    else:\n",
        "        return \"Unknown\"\n",
        "\n",
        "\n",
        "def classify_flavor_Tannin_smooth(text):  #@@@@@@@     Tannin_smooth\n",
        "    # -를 띄어쓰기로 바꾸는 코드\n",
        "    text.replace(\"-\", \" \")\n",
        "\n",
        "    #소문자로 바꾸고 쪼개기\n",
        "    words = text.lower().split()\n",
        "\n",
        "    #문장 속 문장부호 지우기\n",
        "    for i in range(len(words)):\n",
        "      words[i] = re.sub(r'[!\"#$%&\\'()*+,-./:;<=>?@\\[\\]^_\\`{|}~\\\\\\\\]','', str(words[i]))\n",
        "\n",
        "    flavor_count_T_S = {\"Tannins\": 0, \"Smooth\": 0}\n",
        "\n",
        "    for word in words:\n",
        "        if word in flavor_dict_tannin_smooth:\n",
        "            flavor = flavor_dict_tannin_smooth[word]\n",
        "            flavor_count_T_S[flavor] += 1\n",
        "\n",
        "    if flavor_count_T_S[\"Tannins\"] > flavor_count_T_S[\"Smooth\"]:\n",
        "        return \"Tannins\"\n",
        "    elif flavor_count_T_S[\"Smooth\"] > flavor_count_T_S[\"Tannins\"]:\n",
        "        return \"Smooth\"\n",
        "    else:\n",
        "        return \"Unknown\"\n",
        "\n",
        "#def classify_flavor_Acidic_Soft(text):  #@@@@@@@     Acidic_Soft\n",
        "    # -를 띄어쓰기로 바꾸는 코드\n",
        "    text.replace(\"-\", \" \")\n",
        "\n",
        "    #소문자로 바꾸고 쪼개기\n",
        "    words = text.lower().split()\n",
        "\n",
        "    #문장 속 문장부호 지우기\n",
        "    for i in range(len(words)):\n",
        "      words[i] = re.sub(r'[!\"#$%&\\'()*+,-./:;<=>?@\\[\\]^_\\`{|}~\\\\\\\\]','', str(words[i]))\n",
        "\n",
        "    flavor_count_A_S = {\"Acidic\": 0, \"Soft\": 0}\n",
        "    for word in words:\n",
        "        if word in flavor_dict_acidic_soft:\n",
        "            flavor = flavor_dict_acidic_soft[word]\n",
        "            flavor_count_A_S[flavor] += 1\n",
        "\n",
        "    if flavor_count_A_S[\"Acidic\"] > flavor_count_A_S[\"Soft\"]:\n",
        "        return \"Acidic\"\n",
        "    elif flavor_count_A_S[\"Soft\"] > flavor_count_A_S[\"Acidic\"]:\n",
        "        return \"Soft\"\n",
        "    else:\n",
        "        return \"Unknown\"\n",
        "\n",
        "def classify_flavor_Light_Bold(text):  #@@@@@@@     Light_Bold\n",
        "    # -를 띄어쓰기로 바꾸는 코드\n",
        "    text.replace(\"-\", \" \")\n",
        "\n",
        "    #소문자로 바꾸고 쪼개기\n",
        "    words = text.lower().split()\n",
        "\n",
        "    #문장 속 문장부호 지우기\n",
        "    for i in range(len(words)):\n",
        "      words[i] = re.sub(r'[!\"#$%&\\'()*+,-./:;<=>?@\\[\\]^_\\`{|}~\\\\\\\\]','', str(words[i]))\n",
        "\n",
        "    flavor_count_A_S = {\"Light\": 0, \"Bold\": 0}\n",
        "    for word in words:\n",
        "        if word in flavor_dict_Light_Bold:\n",
        "            flavor = flavor_dict_Light_Bold[word]\n",
        "            flavor_count_A_S[flavor] += 1\n",
        "\n",
        "    if flavor_count_A_S[\"Light\"] > flavor_count_A_S[\"Bold\"]:\n",
        "        return \"Light\"\n",
        "    elif flavor_count_A_S[\"Bold\"] > flavor_count_A_S[\"Light\"]:\n",
        "        return \"Bold\"\n",
        "    else:\n",
        "        return \"Unknown\""
      ],
      "metadata": {
        "id": "0WbyfPP_iIMg"
      },
      "execution_count": null,
      "outputs": []
    },
    {
      "cell_type": "markdown",
      "source": [
        "# 1.3.1 단맛"
      ],
      "metadata": {
        "id": "pvV_zDgnDYdS"
      }
    },
    {
      "cell_type": "code",
      "source": [
        "# 분류된 문장들을 저장할 리스트\n",
        "dry_reviews = []\n",
        "sweet_reviews = []\n",
        "unknown1_reviews = []\n",
        "\n",
        "# 리뷰 데이터들\n",
        "for df in dfs:\n",
        "  reviews = df[\"Review\"]\n",
        "\n",
        "  for review in reviews:\n",
        "    # 리뷰 데이터에서 문장 부분만 추출\n",
        "    flavor_class = classify_flavor_Sweet_Dry(review)\n",
        "\n",
        "    # Dry와 Sweet으로 분류된 문장들을 각각의 리스트에 추가\n",
        "    if flavor_class == \"Dry\":\n",
        "      dry_reviews.append(review)\n",
        "    elif flavor_class == \"Sweet\":\n",
        "      sweet_reviews.append(review)\n",
        "    elif flavor_class == \"Unknown\":\n",
        "      unknown1_reviews.append(review)\n",
        "\n",
        "# # 분류 결과 출력\n",
        "# print(\"Dry Reviews!!!!!!!!!!!!!!!!!!!!!!!!!!!!!!!!!!!!!!!!!!!!!!!:\")\n",
        "# for review in dry_reviews:\n",
        "#     print(review)#(\"\\n\" + \"-\"*100 + '\\n', review)\n",
        "\n",
        "# print(\"\\n\"*10)\n",
        "\n",
        "# print(\"\\nSweet Reviews!!!!!!!!!!!!!!!!!!!!!!!!!!!!!!!!!!!!!!!!!!!!!:\")\n",
        "# for review in sweet_reviews:\n",
        "#     print(review)#(\"\\n\" + \"-\"*100 + '\\n', review)\n",
        "\n",
        "# print(\"\\n\"*10)\n",
        "\n",
        "# print(\"\\nUnknown Reviews!!!!!!!!!!!!!!!!!!!!!!!!!!!!!!!!!!!!!!!!!!!!:\")\n",
        "# for review in unknown_reviews:\n",
        "#     print(review)#(\"\\n\" + \"-\"*100 + '\\n', review)"
      ],
      "metadata": {
        "id": "eAu_pQtw-nf6"
      },
      "execution_count": null,
      "outputs": []
    },
    {
      "cell_type": "markdown",
      "source": [
        "# 1.3.2 쓴맛"
      ],
      "metadata": {
        "id": "-ZXQJy7FDhlQ"
      }
    },
    {
      "cell_type": "code",
      "source": [
        "# 분류된 문장들을 저장할 리스트\n",
        "Tannin_reviews = []\n",
        "smooth_reviews = []\n",
        "unknown2_reviews = []\n",
        "\n",
        "# 리뷰 데이터들\n",
        "for df in dfs:\n",
        "  reviews = df[\"Review\"]\n",
        "\n",
        "  for review in reviews:\n",
        "    # 리뷰 데이터에서 문장 부분만 추출\n",
        "    flavor_class = classify_flavor_Tannin_smooth(review)\n",
        "\n",
        "    #  Tannin와 smooth으로 분류된 문장들을 각각의 리스트에 추가\n",
        "    if flavor_class == \"Tannins\":\n",
        "       Tannin_reviews.append(review)\n",
        "    elif flavor_class == \"Smooth\":\n",
        "      smooth_reviews.append(review)\n",
        "    elif flavor_class == \"Unknown\":\n",
        "      unknown2_reviews.append(review)\n",
        "\n",
        "# # 분류 결과 출력\n",
        "# print(\" Tannins Reviews:\")\n",
        "# for review in  Tannin_reviews:\n",
        "#     print(\"\\n\" + \"-\"*100 + '\\n', review)\n",
        "\n",
        "# print(\"\\n\"*10)\n",
        "\n",
        "# print(\"\\nSmooth Reviews:\")\n",
        "# for review in smooth_reviews:\n",
        "#     print(\"\\n\" + \"-\"*100 + '\\n', review)\n",
        "\n",
        "# print(\"\\n\"*10)\n",
        "\n",
        "# print(\"\\nUnknown Reviews:\")\n",
        "# for review in unknown_reviews:\n",
        "#     print(\"\\n\" + \"-\"*100 + '\\n', review)"
      ],
      "metadata": {
        "id": "p1UeVzzhDgp4"
      },
      "execution_count": null,
      "outputs": []
    },
    {
      "cell_type": "markdown",
      "source": [
        "# 1.3.3 신맛"
      ],
      "metadata": {
        "id": "3YPPCQNeDkGi"
      }
    },
    {
      "cell_type": "code",
      "source": [
        "# 분류된 문장들을 저장할 리스트\n",
        "Acidic_reviews = []\n",
        "Soft_reviews = []\n",
        "unknown3_reviews = []\n",
        "\n",
        "# 리뷰 데이터들\n",
        "for df in dfs:\n",
        "  reviews = df[\"Review\"]\n",
        "\n",
        "  for review in reviews:\n",
        "    # 리뷰 데이터에서 문장 부분만 추출\n",
        "    flavor_class = classify_flavor_Acidic_Soft(review)\n",
        "\n",
        "    #  Acidic와 Soft으로 분류된 문장들을 각각의 리스트에 추가\n",
        "    if flavor_class == \"Acidic\":\n",
        "       Acidic_reviews.append(review)\n",
        "    elif flavor_class == \"Soft\":\n",
        "      Soft_reviews.append(review)\n",
        "    elif flavor_class == \"Unknown\":\n",
        "      unknown3_reviews.append(review)\n",
        "\n",
        "# # 분류 결과 출력\n",
        "# print(\" Acidic Reviews:\")\n",
        "# for review in  Acidic_reviews:\n",
        "#     print(\"\\n\" + \"-\"*100 + '\\n', review)\n",
        "\n",
        "# print(\"\\n\"*10)\n",
        "\n",
        "# print(\"\\nSoft Reviews:\")\n",
        "# for review in Soft_reviews:\n",
        "#     print(\"\\n\" + \"-\"*100 + '\\n', review)\n",
        "\n",
        "# print(\"\\n\"*10)\n",
        "\n",
        "# print(\"\\nUnknown Reviews:\")\n",
        "# for review in unknown_reviews:\n",
        "#     print(\"\\n\" + \"-\"*100 + '\\n', review)"
      ],
      "metadata": {
        "id": "2V0geWVLDmFI",
        "colab": {
          "base_uri": "https://localhost:8080/",
          "height": 258
        },
        "outputId": "886975fd-89ed-4c09-b317-8fd598359422"
      },
      "execution_count": null,
      "outputs": [
        {
          "output_type": "error",
          "ename": "NameError",
          "evalue": "ignored",
          "traceback": [
            "\u001b[0;31m---------------------------------------------------------------------------\u001b[0m",
            "\u001b[0;31mNameError\u001b[0m                                 Traceback (most recent call last)",
            "\u001b[0;32m<ipython-input-6-2769f1e89ceb>\u001b[0m in \u001b[0;36m<cell line: 7>\u001b[0;34m()\u001b[0m\n\u001b[1;32m     10\u001b[0m   \u001b[0;32mfor\u001b[0m \u001b[0mreview\u001b[0m \u001b[0;32min\u001b[0m \u001b[0mreviews\u001b[0m\u001b[0;34m:\u001b[0m\u001b[0;34m\u001b[0m\u001b[0;34m\u001b[0m\u001b[0m\n\u001b[1;32m     11\u001b[0m     \u001b[0;31m# 리뷰 데이터에서 문장 부분만 추출\u001b[0m\u001b[0;34m\u001b[0m\u001b[0;34m\u001b[0m\u001b[0m\n\u001b[0;32m---> 12\u001b[0;31m     \u001b[0mflavor_class\u001b[0m \u001b[0;34m=\u001b[0m \u001b[0mclassify_flavor_Acidic_Soft\u001b[0m\u001b[0;34m(\u001b[0m\u001b[0mreview\u001b[0m\u001b[0;34m)\u001b[0m\u001b[0;34m\u001b[0m\u001b[0;34m\u001b[0m\u001b[0m\n\u001b[0m\u001b[1;32m     13\u001b[0m \u001b[0;34m\u001b[0m\u001b[0m\n\u001b[1;32m     14\u001b[0m     \u001b[0;31m#  Acidic와 Soft으로 분류된 문장들을 각각의 리스트에 추가\u001b[0m\u001b[0;34m\u001b[0m\u001b[0;34m\u001b[0m\u001b[0m\n",
            "\u001b[0;31mNameError\u001b[0m: name 'classify_flavor_Acidic_Soft' is not defined"
          ]
        }
      ]
    },
    {
      "cell_type": "markdown",
      "source": [
        "# 1.3.4 바디감"
      ],
      "metadata": {
        "id": "5aeip10sxPa8"
      }
    },
    {
      "cell_type": "code",
      "source": [
        "# 분류된 문장들을 저장할 리스트\n",
        "Light_reviews = []\n",
        "Bold_reviews = []\n",
        "unknown4_reviews = []\n",
        "\n",
        "# 리뷰 데이터들\n",
        "for df in dfs:\n",
        "  reviews = df[\"Review\"]\n",
        "\n",
        "  for review in reviews:\n",
        "    # 리뷰 데이터에서 문장 부분만 추출\n",
        "    flavor_class = classify_flavor_Light_Bold(review)\n",
        "\n",
        "    #  Light와 Bold으로 분류된 문장들을 각각의 리스트에 추가\n",
        "    if flavor_class == \"Light\":\n",
        "        Light_reviews.append(review)\n",
        "    elif flavor_class == \"Bold\":\n",
        "        Bold_reviews.append(review)\n",
        "    elif flavor_class == \"Unknown\":\n",
        "        unknown4_reviews.append(review)"
      ],
      "metadata": {
        "id": "5dPT8oeJxOnc"
      },
      "execution_count": null,
      "outputs": []
    },
    {
      "cell_type": "markdown",
      "source": [
        "# 1.3.5 맛 별로 분석하기\n",
        "\n",
        "flavor1과 flavor2가 무엇을 의미하는지 입력해 주세요"
      ],
      "metadata": {
        "id": "vZjD1fOkF1pq"
      }
    },
    {
      "cell_type": "code",
      "source": [
        "import random\n",
        "\n",
        "# unknown = unknown1_reviews\n",
        "# flavor1 = sweet_reviews         # select1\n",
        "# flavor2 = dry_reviews\n",
        "\n",
        "# unknown = unknown2_reviews\n",
        "# flavor1 = Tannin_reviews        # select2\n",
        "# flavor2 = smooth_reviews\n",
        "\n",
        "# unknown = unknown3_reviews\n",
        "# flavor1 = Acidic_reviews        # select3\n",
        "# flavor2 = Soft_reviews\n",
        "\n",
        "unknown = unknown4_reviews\n",
        "flavor1 = Light_reviews        # select4\n",
        "flavor2 = Bold_reviews\n",
        "\n",
        "print(\"unknown: \", len(unknown))\n",
        "print(\"flavor1: \", len(flavor1))\n",
        "print(\"flavor2: \", len(flavor2))"
      ],
      "metadata": {
        "id": "JT3EdwkiHMj_",
        "colab": {
          "base_uri": "https://localhost:8080/"
        },
        "outputId": "59f4b083-b37a-4ec8-f743-13cd67e0e651"
      },
      "execution_count": null,
      "outputs": [
        {
          "output_type": "stream",
          "name": "stdout",
          "text": [
            "unknown:  357\n",
            "flavor1:  34\n",
            "flavor2:  96\n"
          ]
        }
      ]
    },
    {
      "cell_type": "code",
      "source": [
        "data = [unknown, flavor1, flavor2]\n",
        "\n",
        "review_num = min(len(unknown), len(flavor1), len(flavor2))\n",
        "\n",
        "# 각각 가장 작은 값 골라내기\n",
        "for i in range(3):\n",
        "  data[i] = random.sample(data[i], review_num)\n",
        "\n",
        "# pandas 형태로 라벨 붙이기\n",
        "\n",
        "unknown_dic = pd.Series(data[0], index=[0]*review_num)\n",
        "flavor1_dic = pd.Series(data[1], index=[1]*review_num)\n",
        "flavor2_dic = pd.Series(data[2], index=[2]*review_num)\n",
        "\n",
        "combined_dic = pd.concat([unknown_dic , flavor1_dic , flavor2_dic])"
      ],
      "metadata": {
        "id": "GyzGV4b-F1EU"
      },
      "execution_count": null,
      "outputs": []
    },
    {
      "cell_type": "code",
      "source": [
        "print(combined_dic)"
      ],
      "metadata": {
        "id": "Ks2COOBcMh_s",
        "colab": {
          "base_uri": "https://localhost:8080/"
        },
        "outputId": "c5e779b8-7a75-4c13-ecb8-5cac31fcbd95"
      },
      "execution_count": null,
      "outputs": [
        {
          "output_type": "stream",
          "name": "stdout",
          "text": [
            "0    3.9 is fair. \\nBlack cherry smooth tannins and...\n",
            "0    Was down to ?7 in Sainsbury’s, buy this occasi...\n",
            "0                         Great value for a tasty wine\n",
            "0    Great catch, found it at Rewe in Germany. Fres...\n",
            "0    Well balanced, enough deep colour, deep comple...\n",
            "                           ...                        \n",
            "2    Another pleasant wine to drink, smooth fruity ...\n",
            "2    Ruby red colour, medium bodied. On nose, rich ...\n",
            "2    A medium to full bodied wine with rich aromati...\n",
            "2    A gorgeous blended red from Piccini in the for...\n",
            "2    My mark: 3.8\\nNose: high intense, plum, red be...\n",
            "Length: 102, dtype: object\n"
          ]
        }
      ]
    },
    {
      "cell_type": "code",
      "source": [
        "# csv로 추출하기\n",
        "combined_dic.to_csv('combined_sample_LB.csv')"
      ],
      "metadata": {
        "id": "Se_6j7vpMePh"
      },
      "execution_count": null,
      "outputs": []
    },
    {
      "cell_type": "markdown",
      "source": [
        "# 1.3.6. 새로운 부정표현 flavor 합치기\n",
        "\n",
        "1.3.4와 마찬가지로, 1.3.1~1.3.3 중에서 가장 최근에 실행했던 하나만 인식됩니다.\n",
        "\n",
        "아래 코드는 새로운 부정표현 리뷰들을 다시 합치기 위한 것 입니다."
      ],
      "metadata": {
        "id": "6YwGlzA-oDGN"
      }
    },
    {
      "cell_type": "code",
      "source": [
        "# read_csv() 함수를 사용해 csv파일 읽기\n",
        "\n",
        "df = pd.read_csv('/content/negative_complited_dry_sweet.csv') # sweet-dry만 이거 필요... 다른 애들은 필요 없음.\n",
        "\n",
        "# df_flavor1_neg = pd.read_csv('/content/No_Dry_1.csv') # 바꿔줄 때, 숫자를 일치시키기!\n",
        "# df_flavor2_neg = pd.read_csv('/content/No_sweet_2.csv') # 바꿔줄 때, 숫자를 일치시키기!\n",
        "\n",
        "df_flavor1_neg = pd.read_csv('/content/No_Smooth_1.csv') # 바꿔줄 때, 숫자를 일치시키기!\n",
        "df_flavor2_neg = pd.read_csv('/content/No_Tannins_2.csv') # 바꿔줄 때, 숫자를 일치시키기!\n",
        "\n",
        "# df_flavor1_neg = pd.read_csv('/content/No_Soft_1.csv') # 바꿔줄 때, 숫자를 일치시키기!\n",
        "# df_flavor2_neg = pd.read_csv('/content/No_Acidic_2.csv') # 바꿔줄 때, 숫자를 일치시키기!"
      ],
      "metadata": {
        "id": "dZqLkT-loNGi"
      },
      "execution_count": null,
      "outputs": []
    },
    {
      "cell_type": "code",
      "source": [
        "additional_num = 100 # 추가 부정어 개수\n",
        "\n",
        "data = [unknown, flavor1, flavor2]\n",
        "\n",
        "review_num = min(len(unknown), len(flavor1) + additional_num, len(flavor2) + additional_num)\n",
        "\n",
        "# 새로넣은 지표 결측치 제거\n",
        "df_flavor1_neg = df_flavor1_neg[~df_flavor1_neg['Review'].isnull()]\n",
        "df_flavor2_neg = df_flavor2_neg[~df_flavor2_neg['Review'].isnull()]\n",
        "\n",
        "df_flavor1_neg.shape, df_flavor2_neg.shape\n",
        "\n",
        "# 원래 csv에 새로운 부정표현들 넣어주기\n",
        "for review in df_flavor1_neg['Review']:\n",
        "    flavor1.append(review)\n",
        "for review in df_flavor2_neg['Review']:\n",
        "    flavor2.append(review)\n",
        "\n",
        "# 각각 가장 작은 값 골라내기\n",
        "for i in range(3):\n",
        "  data[i] = random.sample(data[i], review_num)\n",
        "\n",
        "# pandas 형태로 라벨 붙이기\n",
        "\n",
        "unknown_dic = pd.Series(data[0], index=[0]*review_num)\n",
        "flavor1_dic = pd.Series(data[1], index=[1]*review_num)\n",
        "flavor2_dic = pd.Series(data[2], index=[2]*review_num)\n",
        "\n",
        "combined_dic = pd.concat([unknown_dic , flavor1_dic , flavor2_dic])\n",
        "df_flavor1_neg.shape, df_flavor2_neg.shape"
      ],
      "metadata": {
        "colab": {
          "base_uri": "https://localhost:8080/"
        },
        "id": "Dha2WTeCorxw",
        "outputId": "9c800854-e7de-4ac8-d3bc-699111aafbb8"
      },
      "execution_count": null,
      "outputs": [
        {
          "output_type": "execute_result",
          "data": {
            "text/plain": [
              "((100, 1), (100, 1))"
            ]
          },
          "metadata": {},
          "execution_count": 126
        }
      ]
    },
    {
      "cell_type": "code",
      "source": [
        "print(combined_dic)"
      ],
      "metadata": {
        "colab": {
          "base_uri": "https://localhost:8080/"
        },
        "id": "O5Hm4POu8aUU",
        "outputId": "4fcf4bff-a693-4a08-8af6-e0a28b2c7d5a"
      },
      "execution_count": null,
      "outputs": [
        {
          "output_type": "stream",
          "name": "stdout",
          "text": [
            "0                                     Drink and smile.\n",
            "0                              Full bodied, good value\n",
            "0                         I think\\n- need to try again\n",
            "0          Blackberry  anise coffee leather dark fruit\n",
            "0                                Full-bodied and bold.\n",
            "                           ...                        \n",
            "2    Soft balanced nose with berry, Rose and wood, ...\n",
            "2    Great summer cab. Nice and round and soft. Ber...\n",
            "2    Fruity and flourish, good strong taste of grap...\n",
            "2    Really enjoyed this Chianti! Smooth oak and va...\n",
            "2    Earthy blackberry very smooth texture. Wonderf...\n",
            "Length: 5316, dtype: object\n"
          ]
        }
      ]
    },
    {
      "cell_type": "code",
      "source": [
        "combined_dic.to_csv('df_SA.csv')"
      ],
      "metadata": {
        "id": "xh87O0XqQkGY"
      },
      "execution_count": null,
      "outputs": []
    },
    {
      "cell_type": "markdown",
      "source": [
        "# 2.0. 키워드분석 기초작업"
      ],
      "metadata": {
        "id": "DFSe38KdBuh9"
      }
    },
    {
      "cell_type": "code",
      "source": [
        "!pip install wordcloud\n",
        "!pip install transformers\n",
        "\n",
        "# 필요한 라이브러리 불러오기\n",
        "import pandas as pd\n",
        "import urllib.request"
      ],
      "metadata": {
        "colab": {
          "base_uri": "https://localhost:8080/"
        },
        "id": "pfAJTvW1Bz4G",
        "outputId": "4bd9bbd5-327c-4043-955c-a862b62ee6a8"
      },
      "execution_count": null,
      "outputs": [
        {
          "output_type": "stream",
          "name": "stdout",
          "text": [
            "Requirement already satisfied: wordcloud in /usr/local/lib/python3.10/dist-packages (1.8.2.2)\n",
            "Requirement already satisfied: numpy>=1.6.1 in /usr/local/lib/python3.10/dist-packages (from wordcloud) (1.22.4)\n",
            "Requirement already satisfied: pillow in /usr/local/lib/python3.10/dist-packages (from wordcloud) (9.4.0)\n",
            "Requirement already satisfied: matplotlib in /usr/local/lib/python3.10/dist-packages (from wordcloud) (3.7.1)\n",
            "Requirement already satisfied: contourpy>=1.0.1 in /usr/local/lib/python3.10/dist-packages (from matplotlib->wordcloud) (1.1.0)\n",
            "Requirement already satisfied: cycler>=0.10 in /usr/local/lib/python3.10/dist-packages (from matplotlib->wordcloud) (0.11.0)\n",
            "Requirement already satisfied: fonttools>=4.22.0 in /usr/local/lib/python3.10/dist-packages (from matplotlib->wordcloud) (4.41.1)\n",
            "Requirement already satisfied: kiwisolver>=1.0.1 in /usr/local/lib/python3.10/dist-packages (from matplotlib->wordcloud) (1.4.4)\n",
            "Requirement already satisfied: packaging>=20.0 in /usr/local/lib/python3.10/dist-packages (from matplotlib->wordcloud) (23.1)\n",
            "Requirement already satisfied: pyparsing>=2.3.1 in /usr/local/lib/python3.10/dist-packages (from matplotlib->wordcloud) (3.1.0)\n",
            "Requirement already satisfied: python-dateutil>=2.7 in /usr/local/lib/python3.10/dist-packages (from matplotlib->wordcloud) (2.8.2)\n",
            "Requirement already satisfied: six>=1.5 in /usr/local/lib/python3.10/dist-packages (from python-dateutil>=2.7->matplotlib->wordcloud) (1.16.0)\n",
            "Collecting transformers\n",
            "  Downloading transformers-4.31.0-py3-none-any.whl (7.4 MB)\n",
            "\u001b[2K     \u001b[90m━━━━━━━━━━━━━━━━━━━━━━━━━━━━━━━━━━━━━━━━\u001b[0m \u001b[32m7.4/7.4 MB\u001b[0m \u001b[31m20.1 MB/s\u001b[0m eta \u001b[36m0:00:00\u001b[0m\n",
            "\u001b[?25hRequirement already satisfied: filelock in /usr/local/lib/python3.10/dist-packages (from transformers) (3.12.2)\n",
            "Collecting huggingface-hub<1.0,>=0.14.1 (from transformers)\n",
            "  Downloading huggingface_hub-0.16.4-py3-none-any.whl (268 kB)\n",
            "\u001b[2K     \u001b[90m━━━━━━━━━━━━━━━━━━━━━━━━━━━━━━━━━━━━━━\u001b[0m \u001b[32m268.8/268.8 kB\u001b[0m \u001b[31m26.6 MB/s\u001b[0m eta \u001b[36m0:00:00\u001b[0m\n",
            "\u001b[?25hRequirement already satisfied: numpy>=1.17 in /usr/local/lib/python3.10/dist-packages (from transformers) (1.22.4)\n",
            "Requirement already satisfied: packaging>=20.0 in /usr/local/lib/python3.10/dist-packages (from transformers) (23.1)\n",
            "Requirement already satisfied: pyyaml>=5.1 in /usr/local/lib/python3.10/dist-packages (from transformers) (6.0.1)\n",
            "Requirement already satisfied: regex!=2019.12.17 in /usr/local/lib/python3.10/dist-packages (from transformers) (2022.10.31)\n",
            "Requirement already satisfied: requests in /usr/local/lib/python3.10/dist-packages (from transformers) (2.27.1)\n",
            "Collecting tokenizers!=0.11.3,<0.14,>=0.11.1 (from transformers)\n",
            "  Downloading tokenizers-0.13.3-cp310-cp310-manylinux_2_17_x86_64.manylinux2014_x86_64.whl (7.8 MB)\n",
            "\u001b[2K     \u001b[90m━━━━━━━━━━━━━━━━━━━━━━━━━━━━━━━━━━━━━━━━\u001b[0m \u001b[32m7.8/7.8 MB\u001b[0m \u001b[31m60.2 MB/s\u001b[0m eta \u001b[36m0:00:00\u001b[0m\n",
            "\u001b[?25hCollecting safetensors>=0.3.1 (from transformers)\n",
            "  Downloading safetensors-0.3.2-cp310-cp310-manylinux_2_17_x86_64.manylinux2014_x86_64.whl (1.3 MB)\n",
            "\u001b[2K     \u001b[90m━━━━━━━━━━━━━━━━━━━━━━━━━━━━━━━━━━━━━━━━\u001b[0m \u001b[32m1.3/1.3 MB\u001b[0m \u001b[31m61.5 MB/s\u001b[0m eta \u001b[36m0:00:00\u001b[0m\n",
            "\u001b[?25hRequirement already satisfied: tqdm>=4.27 in /usr/local/lib/python3.10/dist-packages (from transformers) (4.65.0)\n",
            "Requirement already satisfied: fsspec in /usr/local/lib/python3.10/dist-packages (from huggingface-hub<1.0,>=0.14.1->transformers) (2023.6.0)\n",
            "Requirement already satisfied: typing-extensions>=3.7.4.3 in /usr/local/lib/python3.10/dist-packages (from huggingface-hub<1.0,>=0.14.1->transformers) (4.7.1)\n",
            "Requirement already satisfied: urllib3<1.27,>=1.21.1 in /usr/local/lib/python3.10/dist-packages (from requests->transformers) (1.26.16)\n",
            "Requirement already satisfied: certifi>=2017.4.17 in /usr/local/lib/python3.10/dist-packages (from requests->transformers) (2023.7.22)\n",
            "Requirement already satisfied: charset-normalizer~=2.0.0 in /usr/local/lib/python3.10/dist-packages (from requests->transformers) (2.0.12)\n",
            "Requirement already satisfied: idna<4,>=2.5 in /usr/local/lib/python3.10/dist-packages (from requests->transformers) (3.4)\n",
            "Installing collected packages: tokenizers, safetensors, huggingface-hub, transformers\n",
            "Successfully installed huggingface-hub-0.16.4 safetensors-0.3.2 tokenizers-0.13.3 transformers-4.31.0\n"
          ]
        }
      ]
    },
    {
      "cell_type": "code",
      "source": [
        "df1 = pd.read_csv('/content/Torre Oria Knock Knock Red Blend_cleaning.csv')\n",
        "df2 = pd.read_csv('/content/Château Pibran Pauillac_cleaning.csv')\n",
        "df3 = pd.read_csv('/content/Domain Road Vineyard Pinot Noir 2020_cleaning.csv')\n",
        "df4 = pd.read_csv('/content/Dominus Dominus (Christian Moueix)_cleaning.csv')\n",
        "df5 = pd.read_csv('/content/Duckhorn Three Palms Vineyard Merlot_cleaning.csv')\n",
        "df6 = pd.read_csv('/content/Mysterious Diggings Pinot Noir 2022_cleaning.csv')\n",
        "df7 = pd.read_csv('/content/River Run Pinot Noir 2021_cleaning.csv')\n",
        "df8 = pd.read_csv('/content/Rutherford Hill Merlot_cleaning.csv')\n",
        "df9 = pd.read_csv('/content/Sea Smoke Southing Pinot Noir_cleaning.csv')\n",
        "df10 = pd.read_csv('/content/Weinert Carrascal 2002_cleaning.csv')\n",
        "df11 = pd.read_csv('/content/Torre Oria Knock Knock Red Blend_cleaning.csv')"
      ],
      "metadata": {
        "id": "8_7sq1JHGLMM"
      },
      "execution_count": null,
      "outputs": []
    },
    {
      "cell_type": "markdown",
      "source": [
        "# 2.1. wordcloud 활용하여 리뷰데이터 시각화"
      ],
      "metadata": {
        "id": "MkEmtq6QuFpK"
      }
    },
    {
      "cell_type": "code",
      "source": [
        "# 1. 필요한 모듈 불러오기\n",
        "from wordcloud import WordCloud, STOPWORDS\n",
        "import matplotlib.pyplot as plt\n",
        "from matplotlib import rc\n",
        "import re"
      ],
      "metadata": {
        "id": "Y3LE8n_NuHP6"
      },
      "execution_count": null,
      "outputs": []
    },
    {
      "cell_type": "code",
      "source": [
        "# 2. Stopwords 및 특수문자 필터링을 위한 준비\n",
        "\n",
        "comment_words = ''\n",
        "stopwords = set(STOPWORDS)\n",
        "\n",
        "tokenized_text = []\n",
        "\n",
        "\n",
        "\n",
        "df = df1  #우리가 보고싶은 애를 여기에 입력\n",
        "\n",
        "\n",
        "\n",
        "# 3. 문장 데이터를 단어화하기\n",
        "for val in df[\"Review\"]:\n",
        "\n",
        "  # 문장을 string으로 만들기\n",
        "  val = str(val)\n",
        "\n",
        "  # 문장을 소문자로 바꾸기\n",
        "  val = val.lower()\n",
        "\n",
        "  #문장 속 문장부호 지우기\n",
        "  val = re.sub(r'[!\"#$%&\\'()*+,-./:;<=>?@\\[\\]^_\\`{|}~\\\\\\\\]','', val)\n",
        "\n",
        "  # 문장을 쪼개기\n",
        "  tokens = val.split()\n",
        "\n",
        "  tokenized_text.append(tokens)\n",
        "  comment_words += \" \".join(tokens) + \" \"\n",
        "\n",
        "wordcloud = WordCloud(width = 800, height = 800,\n",
        "                background_color ='white',\n",
        "                stopwords = stopwords,\n",
        "                min_font_size = 10).generate(comment_words)\n",
        "\n",
        "# # wordcloud 써서 시각화\n",
        "# plt.figure(figsize = (8, 8), facecolor = None)\n",
        "# plt.imshow(wordcloud)\n",
        "# plt.axis(\"off\")\n",
        "# plt.tight_layout(pad = 0)\n",
        "\n",
        "# plt.show()"
      ],
      "metadata": {
        "id": "aFtcUAnDuM2L"
      },
      "execution_count": null,
      "outputs": []
    },
    {
      "cell_type": "code",
      "source": [
        "# 필터링할 추가적인 stopwords들 정의\n",
        "\n",
        "stopwords_Rose = ['wine', 'good', 'nice', 'nose', 'really', 'first', 'great', 'little',\n",
        "                  'high', 'easy', 'top', 'color', 'long', 'tasty', 'excellent', 'very', 'notes',\n",
        "                  'taste', 'colour', 'still', 'one', 'well', 'perfect', 'drink', 'aftertaste',\n",
        "                  'value'\n",
        "]\n",
        "stopwords_name = ['provence'\n",
        "]"
      ],
      "metadata": {
        "id": "N-mC-C9uuPVg"
      },
      "execution_count": null,
      "outputs": []
    },
    {
      "cell_type": "code",
      "source": [
        "# 토큰화된 문장확인\n",
        "tokenized_text[0]"
      ],
      "metadata": {
        "id": "rTnIN81puQ7m",
        "colab": {
          "base_uri": "https://localhost:8080/"
        },
        "outputId": "e061fce9-1553-46a4-9055-bdc36de58502"
      },
      "execution_count": null,
      "outputs": [
        {
          "output_type": "execute_result",
          "data": {
            "text/plain": [
              "['peat',\n",
              " 'and',\n",
              " 'cherry',\n",
              " 'vanilla',\n",
              " 'on',\n",
              " 'the',\n",
              " 'nose',\n",
              " 'light',\n",
              " 'silky',\n",
              " 'mouthfeel',\n",
              " 'tastes',\n",
              " 'just',\n",
              " 'like',\n",
              " 'it',\n",
              " 'smells',\n",
              " 'not',\n",
              " 'very',\n",
              " 'complicated',\n",
              " 'but',\n",
              " 'pleasant',\n",
              " 'non',\n",
              " 'the',\n",
              " 'less']"
            ]
          },
          "metadata": {},
          "execution_count": 24
        }
      ]
    },
    {
      "cell_type": "code",
      "source": [
        "def filter_stopwords(tokenized_text, stopwords_2, stopword_3):\n",
        "  tokenized_filtered = []\n",
        "\n",
        "  for i in tokenized_text:\n",
        "    for word in i:\n",
        "      if word not in stopwords and word not in stopwords_2 and word not in stopword_3:\n",
        "        tokenized_filtered.append(word)\n",
        "\n",
        "  return tokenized_filtered"
      ],
      "metadata": {
        "id": "TrDrQnmFuSZF"
      },
      "execution_count": null,
      "outputs": []
    },
    {
      "cell_type": "code",
      "source": [
        "len(tokenized_text)"
      ],
      "metadata": {
        "colab": {
          "base_uri": "https://localhost:8080/"
        },
        "id": "8_szI48OuTrH",
        "outputId": "25069937-cbd5-4114-b800-b133ce21140d"
      },
      "execution_count": null,
      "outputs": [
        {
          "output_type": "execute_result",
          "data": {
            "text/plain": [
              "487"
            ]
          },
          "metadata": {},
          "execution_count": 26
        }
      ]
    },
    {
      "cell_type": "code",
      "source": [
        "tokenized_filtered = filter_stopwords(tokenized_text, stopwords_Rose, stopwords_name)"
      ],
      "metadata": {
        "id": "BTVGj46DuU76"
      },
      "execution_count": null,
      "outputs": []
    },
    {
      "cell_type": "code",
      "source": [
        "# 필터링 되었는지 확인\n",
        "tokenized_filtered[0:10]"
      ],
      "metadata": {
        "colab": {
          "base_uri": "https://localhost:8080/"
        },
        "id": "DdWZXSzouQ1o",
        "outputId": "9294e906-9f9f-4969-d69d-17affb69c5d8"
      },
      "execution_count": null,
      "outputs": [
        {
          "output_type": "execute_result",
          "data": {
            "text/plain": [
              "['peat',\n",
              " 'cherry',\n",
              " 'vanilla',\n",
              " 'light',\n",
              " 'silky',\n",
              " 'mouthfeel',\n",
              " 'tastes',\n",
              " 'smells',\n",
              " 'complicated',\n",
              " 'pleasant']"
            ]
          },
          "metadata": {},
          "execution_count": 28
        }
      ]
    },
    {
      "cell_type": "code",
      "source": [
        "len(tokenized_filtered)"
      ],
      "metadata": {
        "colab": {
          "base_uri": "https://localhost:8080/"
        },
        "id": "eup3zviRuXmu",
        "outputId": "7939e6bd-5111-4766-cdd4-ae5acd2d6a12"
      },
      "execution_count": null,
      "outputs": [
        {
          "output_type": "execute_result",
          "data": {
            "text/plain": [
              "6628"
            ]
          },
          "metadata": {},
          "execution_count": 29
        }
      ]
    },
    {
      "cell_type": "code",
      "source": [
        "import operator\n",
        "\n",
        "def word_count(tokenized_data):\n",
        "  word_counter = {}\n",
        "\n",
        "  for i in tokenized_data:\n",
        "    if i in word_counter.keys():\n",
        "      word_counter[i] += 1\n",
        "    else:\n",
        "      word_counter[i] = 1\n",
        "\n",
        "  # 많이 나온 순서대로 정렬\n",
        "\n",
        "  sorted_dict = dict( sorted(word_counter.items(),\n",
        "                           key=operator.itemgetter(1), reverse=True))\n",
        "\n",
        "  return sorted_dict"
      ],
      "metadata": {
        "id": "6QpM0eh0uYr-"
      },
      "execution_count": null,
      "outputs": []
    },
    {
      "cell_type": "code",
      "source": [
        "tokenized_dict = word_count(tokenized_filtered)"
      ],
      "metadata": {
        "id": "7zMPLyeOuaGk"
      },
      "execution_count": null,
      "outputs": []
    },
    {
      "cell_type": "markdown",
      "source": [
        "##wordcloud 보기"
      ],
      "metadata": {
        "id": "ZHN5TtKQDsHZ"
      }
    },
    {
      "cell_type": "code",
      "source": [
        "# 가장 상위 20개의 단어 보기\n",
        "def top_20(tokenized_dict):\n",
        "  top_20_words = list(tokenized_dict.items())[:100]\n",
        "  return top_20_words\n",
        "\n",
        "top_20(tokenized_dict)"
      ],
      "metadata": {
        "id": "H9AjCvOLubKu",
        "colab": {
          "base_uri": "https://localhost:8080/"
        },
        "outputId": "11927ae2-660b-4f74-86ab-59b67d0c80e6"
      },
      "execution_count": null,
      "outputs": [
        {
          "output_type": "execute_result",
          "data": {
            "text/plain": [
              "[('cherry', 167),\n",
              " ('red', 147),\n",
              " ('fruit', 110),\n",
              " ('oak', 100),\n",
              " ('plum', 99),\n",
              " ('smooth', 96),\n",
              " ('tobacco', 92),\n",
              " ('finish', 88),\n",
              " ('dark', 80),\n",
              " ('tannins', 79),\n",
              " ('medium', 71),\n",
              " ('vanilla', 70),\n",
              " ('black', 63),\n",
              " ('coffee', 60),\n",
              " ('full', 57),\n",
              " ('price', 53),\n",
              " ('fruity', 53),\n",
              " ('sweet', 52),\n",
              " ('bodied', 52),\n",
              " ('chocolate', 52),\n",
              " ('italian', 47),\n",
              " ('dry', 44),\n",
              " ('lovely', 44),\n",
              " ('acidity', 40),\n",
              " ('blend', 40),\n",
              " ('body', 39),\n",
              " ('balanced', 38),\n",
              " ('rich', 37),\n",
              " ('light', 35),\n",
              " ('soft', 35),\n",
              " ('bit', 35),\n",
              " ('palate', 34),\n",
              " ('blackberry', 34),\n",
              " ('fruits', 32),\n",
              " ('ruby', 31),\n",
              " ('leather', 31),\n",
              " ('flavours', 29),\n",
              " ('ripe', 29),\n",
              " ('bottle', 28),\n",
              " ('spices', 28),\n",
              " ('flavour', 26),\n",
              " ('hint', 25),\n",
              " ('hints', 25),\n",
              " ('complex', 25),\n",
              " ('drinking', 25),\n",
              " ('grapes', 24),\n",
              " ('cherries', 22),\n",
              " ('quite', 21),\n",
              " ('will', 21),\n",
              " ('dried', 20),\n",
              " ('spice', 20),\n",
              " ('primitivo', 20),\n",
              " ('aromas', 20),\n",
              " ('pleasant', 19),\n",
              " ('delicious', 19),\n",
              " ('10', 19),\n",
              " ('deep', 19),\n",
              " ('berries', 19),\n",
              " ('fig', 18),\n",
              " ('nero', 18),\n",
              " ('merlot', 18),\n",
              " ('plums', 18),\n",
              " ('silky', 17),\n",
              " ('buy', 17),\n",
              " ('spicy', 17),\n",
              " ('pepper', 17),\n",
              " ('strong', 16),\n",
              " ('licorice', 16),\n",
              " ('day', 16),\n",
              " ('food', 16),\n",
              " ('slightly', 16),\n",
              " ('italy', 16),\n",
              " ('enjoyable', 15),\n",
              " ('bold', 15),\n",
              " ('strawberry', 15),\n",
              " ('low', 15),\n",
              " ('intense', 15),\n",
              " ('much', 15),\n",
              " ('montepulciano', 15),\n",
              " ('aroma', 15),\n",
              " ('money', 14),\n",
              " ('flavors', 14),\n",
              " ('velvety', 14),\n",
              " ('better', 14),\n",
              " ('warm', 13),\n",
              " ('tuscan', 13),\n",
              " ('balance', 13),\n",
              " ('flavor', 13),\n",
              " ('prune', 13),\n",
              " ('definitely', 12),\n",
              " ('it’s', 12),\n",
              " ('almost', 12),\n",
              " ('tannin', 12),\n",
              " ('sweetness', 12),\n",
              " ('davola', 12),\n",
              " ('38', 12),\n",
              " ('super', 12),\n",
              " ('mouth', 12),\n",
              " ('lots', 12),\n",
              " ('enjoyed', 12)]"
            ]
          },
          "metadata": {},
          "execution_count": 32
        }
      ]
    },
    {
      "cell_type": "code",
      "source": [
        "wc = WordCloud(background_color=\"white\", min_font_size=10)\n",
        "cloud = wc.generate_from_frequencies(tokenized_dict)\n",
        "\n",
        "\n",
        "plt.figure(figsize=(10, 8))\n",
        "plt.axis('off')\n",
        "plt.imshow(cloud)\n",
        "plt.show()"
      ],
      "metadata": {
        "colab": {
          "base_uri": "https://localhost:8080/",
          "height": 424
        },
        "id": "dWzkNS8nucbD",
        "outputId": "c90c1320-763a-4ab9-ef64-ea5af59a4dc7"
      },
      "execution_count": null,
      "outputs": [
        {
          "output_type": "display_data",
          "data": {
            "text/plain": [
              "<Figure size 1000x800 with 1 Axes>"
            ],
            "image/png": "[encoded data removed]"
          },
          "metadata": {}
        }
      ]
    },
    {
      "cell_type": "markdown",
      "source": [
        "# 2.2 키워드 분석하기"
      ],
      "metadata": {
        "id": "Yk4l2JmEujx8"
      }
    },
    {
      "cell_type": "code",
      "source": [
        "# Dry-Sweet 지표가 잘 나타난 것 구하기\n",
        "\n",
        "import re\n",
        "\n",
        "# 단어 분류 기준\n",
        "\n",
        "flavor_dict_sweet_dry = {\"dry\": \"Dry\", \"astringent\": \"Dry\", \"lean\": \"Dry\", \"crisp\": \"Dry\", \"tart\": \"Dry\",\n",
        "               \"off-dry\": \"Dry\", \"bone-dry\": \"Dry\", \"stony\": \"Dry\", \"dusty\": \"Dry\", \"dried\": \"Dry\", \"dryness\": \"Dry\",\n",
        "               \"sweet\": \"Sweet\", \"sweetness\": \"Sweet\", \"sugary\": \"Sweet\", \"sweetish\": \"Sweet\",\n",
        "               \"honeyed\": \"Sweet\", \"luscious\": \"Sweet\", \"nectar-like\": \"Sweet\", \"sweety\": \"Sweet\", \"desert\": \"Sweet\"\n",
        "}\n",
        "flavor_dict_tannin_smooth = {\n",
        "    \"astringency\": \"Tannins\", \"austere\": \"Tannins\", \"bitterness\": \"Tannins\",\n",
        "    \"hard\": \"Tannins\", \"harsh\": \"Tannins\", \"tannins\": \"Tannins\", \"tannin\": \"Tannins\",\n",
        "    \"structured\": \"Tannins\", \"grippy\": \"Tannins\",\"tannic\": \"Tannins\", \"smooth\": \"Smooth\",\n",
        "    \"silky\": \"Smooth\", \"velvety\": \"Smooth\", \"elegant\": \"Smooth\",\n",
        "    \"round\": \"Smooth\", \"supple\": \"Smooth\", \"luscious\": \"Smooth\",\n",
        "    \"balanced\": \"Smooth\"\n",
        "}\n",
        "flavor_dict_acidic_soft = {\n",
        "    \"tart\": \"Acidic\", \"crisp\": \"Acidic\", \"zesty\": \"Acidic\", \"vinegary\": \"Acidic\",\n",
        "    \"lively\": \"Acidic\", \"bright\": \"Acidic\", \"tangy\": \"Acidic\", 'acid': \"Acidic\",\n",
        "    \"grippy\": \"Acidic\", \"hard\": \"Acidic\", \"acidic\": \"Acidic\", 'acidity': \"Acidic\",\n",
        "    \"harsh\": \"Acidic\" , \"austere\": \"Acidic\",\"sour\":\"Acidic\",\"pungent\":\"Acidic\",\"acidulous\":\"Acidic\",\n",
        "\n",
        "    \"silky\": \"Soft\", \"supple\": \"Soft\", \"velvety\": \"Soft\",\n",
        "    \"elegant\": \"Soft\", \"round\": \"Soft\", \"luscious\": \"Soft\",\n",
        "    \"balanced\": \"Soft\",\"softness\":\"Soft\", \"soft\": \"Soft\",\n",
        "    \"softly\": \"Soft\", \"soften\": \"Soft\", \"softness\": \"Soft\", \"softy\": \"Soft\",\n",
        "}\n",
        "flavor_dict_Light_Bold = {\n",
        "    \"full-bodied\": \"Bold\", \"bodied\": \"Bold\", \"robust\": \"Bold\", \"bold\": \"Bold\", \"rich\": \"Bold\",\n",
        "    \"full-flavored\": \"Bold\", \"intense\": \"Bold\", \"weighty\": \"Bold\", \"concentrated\": \"Bold\", \"weight\": \"Bold\", \"boldness\": \"Bold\",\n",
        "\n",
        "    \"light\": \"Light\", \"light-bodied\": \"Light\", \"ethereal\": \"Light\", \"delicate\": \"Light\",\n",
        "    \"luscious\": \"Light\", \"unburdened\": \"Light\", \"lighty\": \"Light\", \"feathery\": \"Light\",\n",
        "    \"airy\": \"Light\", \"mild\": \"Light\", \"graceful\": \"Light\", \"easygoing\": \"Light\"\n",
        "}"
      ],
      "metadata": {
        "id": "TVZgJqdUujW2"
      },
      "execution_count": null,
      "outputs": []
    },
    {
      "cell_type": "code",
      "source": [
        "from collections import defaultdict, OrderedDict\n",
        "\n",
        "flavors_dict_SWEET = defaultdict(int)\n",
        "flavors_dict_Tannins = defaultdict(int)\n",
        "flavors_dict_Acidic = defaultdict(int)\n",
        "flavors_dict_Light = defaultdict(int)\n",
        "\n",
        "flavors_list_SWEET = []\n",
        "flavors_list_Tannins = []\n",
        "flavors_list_Acidic = []\n",
        "flavors_list_Light = []\n",
        "\n",
        "#단맛 키워드 기반 감정분석\n",
        "\n",
        "for k, v in tokenized_dict.items():\n",
        "  for key, value in flavor_dict_sweet_dry.items():\n",
        "    if k == key:\n",
        "      flavors_list_SWEET.append((value, v))\n",
        "\n",
        "for k, v in flavors_list_SWEET:\n",
        "  if k in flavors_dict_SWEET:\n",
        "    flavors_dict_SWEET[k] += v\n",
        "  else:\n",
        "    flavors_dict_SWEET[k] = v\n",
        "\n",
        "flavors_dict_SWEET = OrderedDict(sorted(flavors_dict_SWEET.items(),\n",
        "                            key=lambda item: item[1],\n",
        "                            reverse=True))\n",
        "\n",
        "print(\"flavors_dict_SWEET : \", flavors_dict_SWEET)\n",
        "\n",
        "\n",
        "#쓴맛 키워드 기반 감정분석\n",
        "\n",
        "for k, v in tokenized_dict.items():\n",
        "  for key, value in flavor_dict_tannin_smooth.items():\n",
        "    if k == key:\n",
        "      flavors_list_Tannins.append((value, v))\n",
        "\n",
        "for k, v in flavors_list_Tannins:\n",
        "  if k in flavors_dict_Tannins:\n",
        "    flavors_dict_Tannins[k] += v\n",
        "  else:\n",
        "    flavors_dict_Tannins[k] = v\n",
        "\n",
        "flavors_dict_Tannins = OrderedDict(sorted(flavors_dict_Tannins.items(),\n",
        "                            key=lambda item: item[1],\n",
        "                            reverse=True))\n",
        "\n",
        "print(\"flavors_dict_Tannins : \", flavors_dict_Tannins)\n",
        "\n",
        "\n",
        "#신맛 키워드 기반 분석\n",
        "\n",
        "for k, v in tokenized_dict.items():\n",
        "  for key, value in flavor_dict_acidic_soft.items():\n",
        "    if k == key:\n",
        "      flavors_list_Acidic.append((value, v))\n",
        "\n",
        "for k, v in flavors_list_Acidic:\n",
        "  if k in flavors_dict_Acidic:\n",
        "    flavors_dict_Acidic[k] += v\n",
        "  else:\n",
        "    flavors_dict_Acidic[k] = v\n",
        "\n",
        "flavors_dict_Acidic = OrderedDict(sorted(flavors_dict_Acidic.items(),\n",
        "                            key=lambda item: item[1],\n",
        "                            reverse=True))\n",
        "\n",
        "print(\"flavors_dict_Acidic : \", flavors_dict_Acidic)\n",
        "\n",
        "\n",
        "#바디감 키워드 기반 분석\n",
        "\n",
        "for k, v in tokenized_dict.items():\n",
        "  for key, value in flavor_dict_Light_Bold.items():\n",
        "    if k == key:\n",
        "      flavors_list_Light.append((value, v))\n",
        "\n",
        "for k, v in flavors_list_Light:\n",
        "  if k in flavors_dict_Light:\n",
        "    flavors_dict_Light[k] += v\n",
        "  else:\n",
        "    flavors_dict_Light[k] = v\n",
        "\n",
        "flavors_dict_Light = OrderedDict(sorted(flavors_dict_Light.items(),\n",
        "                            key=lambda item: item[1],\n",
        "                            reverse=True))\n",
        "\n",
        "print(\"flavors_dict_Light : \", flavors_dict_Light)"
      ],
      "metadata": {
        "colab": {
          "base_uri": "https://localhost:8080/"
        },
        "id": "B6V-E7z7C1VM",
        "outputId": "9b24881b-5ed5-4e0b-fbbb-a4918b84c6f3"
      },
      "execution_count": null,
      "outputs": [
        {
          "output_type": "stream",
          "name": "stdout",
          "text": [
            "flavors_dict_SWEET :  OrderedDict([('Dry', 71), ('Sweet', 69)])\n",
            "flavors_dict_Tannins :  OrderedDict([('Smooth', 178), ('Tannins', 104)])\n",
            "flavors_dict_Acidic :  OrderedDict([('Soft', 118), ('Acidic', 78)])\n",
            "flavors_dict_Light :  OrderedDict([('Bold', 123), ('Light', 45)])\n"
          ]
        }
      ]
    },
    {
      "cell_type": "code",
      "source": [
        "# Plotly로 시각화\n",
        "\n",
        "# Pie Chart\n",
        "import pandas as pd\n",
        "import plotly.express as px\n",
        "from plotly.subplots import make_subplots\n",
        "import plotly.graph_objects as go\n",
        "\n",
        "flavors = pd.Series(flavors_dict_SWEET)\n",
        "\n",
        "# 세 개의 플롯을 한 화면에 나타내기\n",
        "import pandas as pd\n",
        "import plotly.graph_objects as go\n",
        "from plotly.subplots import make_subplots\n",
        "# 서브플롯 생성\n",
        "fig = make_subplots(rows=1, cols=3, specs=[[{'type': 'pie'}, {'type': 'pie'}, {'type': 'pie'}]])\n",
        "\n",
        "# Sweet - Dry 플롯\n",
        "fig1 = px.pie(values=list(flavors_dict_SWEET.values()), names=list(flavors_dict_SWEET.keys()), title='Sweet - Dry')\n",
        "fig1.update_traces(marker=dict(colors=['Pink', 'skyBlue']))\n",
        "\n",
        "fig1.show()\n",
        "\n",
        "# Tannins - Smooth 플롯\n",
        "fig2 = px.pie(values=list(flavors_dict_Tannins.values()), names=list(flavors_dict_Tannins.keys()), title='Tannins - Smooth')\n",
        "fig2.update_traces(marker=dict(colors=['red', 'blue']))\n",
        "\n",
        "fig2.show()\n",
        "\n",
        "# Acidic - Soft 플롯\n",
        "fig3 = px.pie(values=list(flavors_dict_Acidic.values()), names=list(flavors_dict_Acidic.keys()), title='Acidic - Soft')\n",
        "fig3.update_traces(marker=dict(colors=['green', 'Yellow']))\n",
        "\n",
        "fig3.show()\n",
        "\n",
        "# Light - Bold 플롯\n",
        "fig4 = px.pie(values=list(flavors_dict_Light.values()), names=list(flavors_dict_Light.keys()), title='Light - Bold')\n",
        "fig4.update_traces(marker=dict(colors=['black', 'grey']))\n",
        "\n",
        "fig4.show()\n",
        "'''\n",
        "# 서브플롯 생성\n",
        "fig = make_subplots(rows=1, cols=3, specs=[[{'type': 'pie'}, {'type': 'pie'}, {'type': 'pie'}]])\n",
        "\n",
        "\n",
        "fig1 = px.pie(flavors, values=flavors, names=flavors.index, title=\"Sweet - Dry\", hover_data=[flavors], labels=flavors.index)\n",
        "#fig1.update_traces(textposition='inside', textinfo='percent+label')\n",
        "#fig1.show()\n",
        "\n",
        "flavors1 = pd.Series(flavors_dict_Tannins)\n",
        "\n",
        "fig2 = px.pie(flavors1, values=flavors1, names=flavors1.index, title=\"Taninns - Smooth\", hover_data=[flavors1], labels=flavors1.index)\n",
        "#fig2.update_traces(textposition='inside', textinfo='percent+label')\n",
        "#fig2.show()\n",
        "\n",
        "flavors2 = pd.Series(flavors_dict_Acidic)\n",
        "fig3 = px.pie(flavors2, values=flavors2, names=flavors2.index, title=\"ACidic - Soft\", hover_data=[flavors2], labels=flavors2.index)\n",
        "#fig3.update_traces(textposition='inside', textinfo='percent+label')\n",
        "#fig3.show()\n",
        "\n",
        "fig1.show()\n",
        "fig2.show()\n",
        "fig3.show()\n",
        "\n",
        "'''\n"
      ],
      "metadata": {
        "colab": {
          "base_uri": "https://localhost:8080/",
          "height": 1000
        },
        "id": "0ubNTO4-EM1U",
        "outputId": "3b3f5e29-0031-4a94-ecaa-790f7ff1cee4"
      },
      "execution_count": null,
      "outputs": [
        {
          "output_type": "display_data",
          "data": {
            "text/html": [
              "<html>\n",
              "<head><meta charset=\"utf-8\" /></head>\n",
              "<body>\n",
              "    <div>            <script src=\"https://cdnjs.cloudflare.com/ajax/libs/mathjax/2.7.5/MathJax.js?config=TeX-AMS-MML_SVG\"></script><script type=\"text/javascript\">if (window.MathJax && window.MathJax.Hub && window.MathJax.Hub.Config) {window.MathJax.Hub.Config({SVG: {font: \"STIX-Web\"}});}</script>                <script type=\"text/javascript\">window.PlotlyConfig = {MathJaxConfig: 'local'};</script>\n",
              "        <script src=\"https://cdn.plot.ly/plotly-2.18.2.min.js\"></script>                <div id=\"39fc4470-2134-4aed-b05d-6b964c3a638f\" class=\"plotly-graph-div\" style=\"height:525px; width:100%;\"></div>            <script type=\"text/javascript\">                                    window.PLOTLYENV=window.PLOTLYENV || {};                                    if (document.getElementById(\"39fc4470-2134-4aed-b05d-6b964c3a638f\")) {                    Plotly.newPlot(                        \"39fc4470-2134-4aed-b05d-6b964c3a638f\",                        [{\"domain\":{\"x\":[0.0,1.0],\"y\":[0.0,1.0]},\"hovertemplate\":\"label=%{label}<br>value=%{value}<extra></extra>\",\"labels\":[\"Dry\",\"Sweet\"],\"legendgroup\":\"\",\"name\":\"\",\"showlegend\":true,\"values\":[71,69],\"type\":\"pie\",\"marker\":{\"colors\":[\"Pink\",\"skyBlue\"]}}],                        {\"template\":{\"data\":{\"histogram2dcontour\":[{\"type\":\"histogram2dcontour\",\"colorbar\":{\"outlinewidth\":0,\"ticks\":\"\"},\"colorscale\":[[0.0,\"#0d0887\"],[0.1111111111111111,\"#46039f\"],[0.2222222222222222,\"#7201a8\"],[0.3333333333333333,\"#9c179e\"],[0.4444444444444444,\"#bd3786\"],[0.5555555555555556,\"#d8576b\"],[0.6666666666666666,\"#ed7953\"],[0.7777777777777778,\"#fb9f3a\"],[0.8888888888888888,\"#fdca26\"],[1.0,\"#f0f921\"]]}],\"choropleth\":[{\"type\":\"choropleth\",\"colorbar\":{\"outlinewidth\":0,\"ticks\":\"\"}}],\"histogram2d\":[{\"type\":\"histogram2d\",\"colorbar\":{\"outlinewidth\":0,\"ticks\":\"\"},\"colorscale\":[[0.0,\"#0d0887\"],[0.1111111111111111,\"#46039f\"],[0.2222222222222222,\"#7201a8\"],[0.3333333333333333,\"#9c179e\"],[0.4444444444444444,\"#bd3786\"],[0.5555555555555556,\"#d8576b\"],[0.6666666666666666,\"#ed7953\"],[0.7777777777777778,\"#fb9f3a\"],[0.8888888888888888,\"#fdca26\"],[1.0,\"#f0f921\"]]}],\"heatmap\":[{\"type\":\"heatmap\",\"colorbar\":{\"outlinewidth\":0,\"ticks\":\"\"},\"colorscale\":[[0.0,\"#0d0887\"],[0.1111111111111111,\"#46039f\"],[0.2222222222222222,\"#7201a8\"],[0.3333333333333333,\"#9c179e\"],[0.4444444444444444,\"#bd3786\"],[0.5555555555555556,\"#d8576b\"],[0.6666666666666666,\"#ed7953\"],[0.7777777777777778,\"#fb9f3a\"],[0.8888888888888888,\"#fdca26\"],[1.0,\"#f0f921\"]]}],\"heatmapgl\":[{\"type\":\"heatmapgl\",\"colorbar\":{\"outlinewidth\":0,\"ticks\":\"\"},\"colorscale\":[[0.0,\"#0d0887\"],[0.1111111111111111,\"#46039f\"],[0.2222222222222222,\"#7201a8\"],[0.3333333333333333,\"#9c179e\"],[0.4444444444444444,\"#bd3786\"],[0.5555555555555556,\"#d8576b\"],[0.6666666666666666,\"#ed7953\"],[0.7777777777777778,\"#fb9f3a\"],[0.8888888888888888,\"#fdca26\"],[1.0,\"#f0f921\"]]}],\"contourcarpet\":[{\"type\":\"contourcarpet\",\"colorbar\":{\"outlinewidth\":0,\"ticks\":\"\"}}],\"contour\":[{\"type\":\"contour\",\"colorbar\":{\"outlinewidth\":0,\"ticks\":\"\"},\"colorscale\":[[0.0,\"#0d0887\"],[0.1111111111111111,\"#46039f\"],[0.2222222222222222,\"#7201a8\"],[0.3333333333333333,\"#9c179e\"],[0.4444444444444444,\"#bd3786\"],[0.5555555555555556,\"#d8576b\"],[0.6666666666666666,\"#ed7953\"],[0.7777777777777778,\"#fb9f3a\"],[0.8888888888888888,\"#fdca26\"],[1.0,\"#f0f921\"]]}],\"surface\":[{\"type\":\"surface\",\"colorbar\":{\"outlinewidth\":0,\"ticks\":\"\"},\"colorscale\":[[0.0,\"#0d0887\"],[0.1111111111111111,\"#46039f\"],[0.2222222222222222,\"#7201a8\"],[0.3333333333333333,\"#9c179e\"],[0.4444444444444444,\"#bd3786\"],[0.5555555555555556,\"#d8576b\"],[0.6666666666666666,\"#ed7953\"],[0.7777777777777778,\"#fb9f3a\"],[0.8888888888888888,\"#fdca26\"],[1.0,\"#f0f921\"]]}],\"mesh3d\":[{\"type\":\"mesh3d\",\"colorbar\":{\"outlinewidth\":0,\"ticks\":\"\"}}],\"scatter\":[{\"fillpattern\":{\"fillmode\":\"overlay\",\"size\":10,\"solidity\":0.2},\"type\":\"scatter\"}],\"parcoords\":[{\"type\":\"parcoords\",\"line\":{\"colorbar\":{\"outlinewidth\":0,\"ticks\":\"\"}}}],\"scatterpolargl\":[{\"type\":\"scatterpolargl\",\"marker\":{\"colorbar\":{\"outlinewidth\":0,\"ticks\":\"\"}}}],\"bar\":[{\"error_x\":{\"color\":\"#2a3f5f\"},\"error_y\":{\"color\":\"#2a3f5f\"},\"marker\":{\"line\":{\"color\":\"#E5ECF6\",\"width\":0.5},\"pattern\":{\"fillmode\":\"overlay\",\"size\":10,\"solidity\":0.2}},\"type\":\"bar\"}],\"scattergeo\":[{\"type\":\"scattergeo\",\"marker\":{\"colorbar\":{\"outlinewidth\":0,\"ticks\":\"\"}}}],\"scatterpolar\":[{\"type\":\"scatterpolar\",\"marker\":{\"colorbar\":{\"outlinewidth\":0,\"ticks\":\"\"}}}],\"histogram\":[{\"marker\":{\"pattern\":{\"fillmode\":\"overlay\",\"size\":10,\"solidity\":0.2}},\"type\":\"histogram\"}],\"scattergl\":[{\"type\":\"scattergl\",\"marker\":{\"colorbar\":{\"outlinewidth\":0,\"ticks\":\"\"}}}],\"scatter3d\":[{\"type\":\"scatter3d\",\"line\":{\"colorbar\":{\"outlinewidth\":0,\"ticks\":\"\"}},\"marker\":{\"colorbar\":{\"outlinewidth\":0,\"ticks\":\"\"}}}],\"scattermapbox\":[{\"type\":\"scattermapbox\",\"marker\":{\"colorbar\":{\"outlinewidth\":0,\"ticks\":\"\"}}}],\"scatterternary\":[{\"type\":\"scatterternary\",\"marker\":{\"colorbar\":{\"outlinewidth\":0,\"ticks\":\"\"}}}],\"scattercarpet\":[{\"type\":\"scattercarpet\",\"marker\":{\"colorbar\":{\"outlinewidth\":0,\"ticks\":\"\"}}}],\"carpet\":[{\"aaxis\":{\"endlinecolor\":\"#2a3f5f\",\"gridcolor\":\"white\",\"linecolor\":\"white\",\"minorgridcolor\":\"white\",\"startlinecolor\":\"#2a3f5f\"},\"baxis\":{\"endlinecolor\":\"#2a3f5f\",\"gridcolor\":\"white\",\"linecolor\":\"white\",\"minorgridcolor\":\"white\",\"startlinecolor\":\"#2a3f5f\"},\"type\":\"carpet\"}],\"table\":[{\"cells\":{\"fill\":{\"color\":\"#EBF0F8\"},\"line\":{\"color\":\"white\"}},\"header\":{\"fill\":{\"color\":\"#C8D4E3\"},\"line\":{\"color\":\"white\"}},\"type\":\"table\"}],\"barpolar\":[{\"marker\":{\"line\":{\"color\":\"#E5ECF6\",\"width\":0.5},\"pattern\":{\"fillmode\":\"overlay\",\"size\":10,\"solidity\":0.2}},\"type\":\"barpolar\"}],\"pie\":[{\"automargin\":true,\"type\":\"pie\"}]},\"layout\":{\"autotypenumbers\":\"strict\",\"colorway\":[\"#636efa\",\"#EF553B\",\"#00cc96\",\"#ab63fa\",\"#FFA15A\",\"#19d3f3\",\"#FF6692\",\"#B6E880\",\"#FF97FF\",\"#FECB52\"],\"font\":{\"color\":\"#2a3f5f\"},\"hovermode\":\"closest\",\"hoverlabel\":{\"align\":\"left\"},\"paper_bgcolor\":\"white\",\"plot_bgcolor\":\"#E5ECF6\",\"polar\":{\"bgcolor\":\"#E5ECF6\",\"angularaxis\":{\"gridcolor\":\"white\",\"linecolor\":\"white\",\"ticks\":\"\"},\"radialaxis\":{\"gridcolor\":\"white\",\"linecolor\":\"white\",\"ticks\":\"\"}},\"ternary\":{\"bgcolor\":\"#E5ECF6\",\"aaxis\":{\"gridcolor\":\"white\",\"linecolor\":\"white\",\"ticks\":\"\"},\"baxis\":{\"gridcolor\":\"white\",\"linecolor\":\"white\",\"ticks\":\"\"},\"caxis\":{\"gridcolor\":\"white\",\"linecolor\":\"white\",\"ticks\":\"\"}},\"coloraxis\":{\"colorbar\":{\"outlinewidth\":0,\"ticks\":\"\"}},\"colorscale\":{\"sequential\":[[0.0,\"#0d0887\"],[0.1111111111111111,\"#46039f\"],[0.2222222222222222,\"#7201a8\"],[0.3333333333333333,\"#9c179e\"],[0.4444444444444444,\"#bd3786\"],[0.5555555555555556,\"#d8576b\"],[0.6666666666666666,\"#ed7953\"],[0.7777777777777778,\"#fb9f3a\"],[0.8888888888888888,\"#fdca26\"],[1.0,\"#f0f921\"]],\"sequentialminus\":[[0.0,\"#0d0887\"],[0.1111111111111111,\"#46039f\"],[0.2222222222222222,\"#7201a8\"],[0.3333333333333333,\"#9c179e\"],[0.4444444444444444,\"#bd3786\"],[0.5555555555555556,\"#d8576b\"],[0.6666666666666666,\"#ed7953\"],[0.7777777777777778,\"#fb9f3a\"],[0.8888888888888888,\"#fdca26\"],[1.0,\"#f0f921\"]],\"diverging\":[[0,\"#8e0152\"],[0.1,\"#c51b7d\"],[0.2,\"#de77ae\"],[0.3,\"#f1b6da\"],[0.4,\"#fde0ef\"],[0.5,\"#f7f7f7\"],[0.6,\"#e6f5d0\"],[0.7,\"#b8e186\"],[0.8,\"#7fbc41\"],[0.9,\"#4d9221\"],[1,\"#276419\"]]},\"xaxis\":{\"gridcolor\":\"white\",\"linecolor\":\"white\",\"ticks\":\"\",\"title\":{\"standoff\":15},\"zerolinecolor\":\"white\",\"automargin\":true,\"zerolinewidth\":2},\"yaxis\":{\"gridcolor\":\"white\",\"linecolor\":\"white\",\"ticks\":\"\",\"title\":{\"standoff\":15},\"zerolinecolor\":\"white\",\"automargin\":true,\"zerolinewidth\":2},\"scene\":{\"xaxis\":{\"backgroundcolor\":\"#E5ECF6\",\"gridcolor\":\"white\",\"linecolor\":\"white\",\"showbackground\":true,\"ticks\":\"\",\"zerolinecolor\":\"white\",\"gridwidth\":2},\"yaxis\":{\"backgroundcolor\":\"#E5ECF6\",\"gridcolor\":\"white\",\"linecolor\":\"white\",\"showbackground\":true,\"ticks\":\"\",\"zerolinecolor\":\"white\",\"gridwidth\":2},\"zaxis\":{\"backgroundcolor\":\"#E5ECF6\",\"gridcolor\":\"white\",\"linecolor\":\"white\",\"showbackground\":true,\"ticks\":\"\",\"zerolinecolor\":\"white\",\"gridwidth\":2}},\"shapedefaults\":{\"line\":{\"color\":\"#2a3f5f\"}},\"annotationdefaults\":{\"arrowcolor\":\"#2a3f5f\",\"arrowhead\":0,\"arrowwidth\":1},\"geo\":{\"bgcolor\":\"white\",\"landcolor\":\"#E5ECF6\",\"subunitcolor\":\"white\",\"showland\":true,\"showlakes\":true,\"lakecolor\":\"white\"},\"title\":{\"x\":0.05},\"mapbox\":{\"style\":\"light\"}}},\"legend\":{\"tracegroupgap\":0},\"title\":{\"text\":\"Sweet - Dry\"}},                        {\"responsive\": true}                    ).then(function(){\n",
              "                            \n",
              "var gd = document.getElementById('39fc4470-2134-4aed-b05d-6b964c3a638f');\n",
              "var x = new MutationObserver(function (mutations, observer) {{\n",
              "        var display = window.getComputedStyle(gd).display;\n",
              "        if (!display || display === 'none') {{\n",
              "            console.log([gd, 'removed!']);\n",
              "            Plotly.purge(gd);\n",
              "            observer.disconnect();\n",
              "        }}\n",
              "}});\n",
              "\n",
              "// Listen for the removal of the full notebook cells\n",
              "var notebookContainer = gd.closest('#notebook-container');\n",
              "if (notebookContainer) {{\n",
              "    x.observe(notebookContainer, {childList: true});\n",
              "}}\n",
              "\n",
              "// Listen for the clearing of the current output cell\n",
              "var outputEl = gd.closest('.output');\n",
              "if (outputEl) {{\n",
              "    x.observe(outputEl, {childList: true});\n",
              "}}\n",
              "\n",
              "                        })                };                            </script>        </div>\n",
              "</body>\n",
              "</html>"
            ]
          },
          "metadata": {}
        },
        {
          "output_type": "display_data",
          "data": {
            "text/html": [
              "<html>\n",
              "<head><meta charset=\"utf-8\" /></head>\n",
              "<body>\n",
              "    <div>            <script src=\"https://cdnjs.cloudflare.com/ajax/libs/mathjax/2.7.5/MathJax.js?config=TeX-AMS-MML_SVG\"></script><script type=\"text/javascript\">if (window.MathJax && window.MathJax.Hub && window.MathJax.Hub.Config) {window.MathJax.Hub.Config({SVG: {font: \"STIX-Web\"}});}</script>                <script type=\"text/javascript\">window.PlotlyConfig = {MathJaxConfig: 'local'};</script>\n",
              "        <script src=\"https://cdn.plot.ly/plotly-2.18.2.min.js\"></script>                <div id=\"f795054f-2a15-476d-94c6-00e3aba611f7\" class=\"plotly-graph-div\" style=\"height:525px; width:100%;\"></div>            <script type=\"text/javascript\">                                    window.PLOTLYENV=window.PLOTLYENV || {};                                    if (document.getElementById(\"f795054f-2a15-476d-94c6-00e3aba611f7\")) {                    Plotly.newPlot(                        \"f795054f-2a15-476d-94c6-00e3aba611f7\",                        [{\"domain\":{\"x\":[0.0,1.0],\"y\":[0.0,1.0]},\"hovertemplate\":\"label=%{label}<br>value=%{value}<extra></extra>\",\"labels\":[\"Smooth\",\"Tannins\"],\"legendgroup\":\"\",\"name\":\"\",\"showlegend\":true,\"values\":[178,104],\"type\":\"pie\",\"marker\":{\"colors\":[\"red\",\"blue\"]}}],                        {\"template\":{\"data\":{\"histogram2dcontour\":[{\"type\":\"histogram2dcontour\",\"colorbar\":{\"outlinewidth\":0,\"ticks\":\"\"},\"colorscale\":[[0.0,\"#0d0887\"],[0.1111111111111111,\"#46039f\"],[0.2222222222222222,\"#7201a8\"],[0.3333333333333333,\"#9c179e\"],[0.4444444444444444,\"#bd3786\"],[0.5555555555555556,\"#d8576b\"],[0.6666666666666666,\"#ed7953\"],[0.7777777777777778,\"#fb9f3a\"],[0.8888888888888888,\"#fdca26\"],[1.0,\"#f0f921\"]]}],\"choropleth\":[{\"type\":\"choropleth\",\"colorbar\":{\"outlinewidth\":0,\"ticks\":\"\"}}],\"histogram2d\":[{\"type\":\"histogram2d\",\"colorbar\":{\"outlinewidth\":0,\"ticks\":\"\"},\"colorscale\":[[0.0,\"#0d0887\"],[0.1111111111111111,\"#46039f\"],[0.2222222222222222,\"#7201a8\"],[0.3333333333333333,\"#9c179e\"],[0.4444444444444444,\"#bd3786\"],[0.5555555555555556,\"#d8576b\"],[0.6666666666666666,\"#ed7953\"],[0.7777777777777778,\"#fb9f3a\"],[0.8888888888888888,\"#fdca26\"],[1.0,\"#f0f921\"]]}],\"heatmap\":[{\"type\":\"heatmap\",\"colorbar\":{\"outlinewidth\":0,\"ticks\":\"\"},\"colorscale\":[[0.0,\"#0d0887\"],[0.1111111111111111,\"#46039f\"],[0.2222222222222222,\"#7201a8\"],[0.3333333333333333,\"#9c179e\"],[0.4444444444444444,\"#bd3786\"],[0.5555555555555556,\"#d8576b\"],[0.6666666666666666,\"#ed7953\"],[0.7777777777777778,\"#fb9f3a\"],[0.8888888888888888,\"#fdca26\"],[1.0,\"#f0f921\"]]}],\"heatmapgl\":[{\"type\":\"heatmapgl\",\"colorbar\":{\"outlinewidth\":0,\"ticks\":\"\"},\"colorscale\":[[0.0,\"#0d0887\"],[0.1111111111111111,\"#46039f\"],[0.2222222222222222,\"#7201a8\"],[0.3333333333333333,\"#9c179e\"],[0.4444444444444444,\"#bd3786\"],[0.5555555555555556,\"#d8576b\"],[0.6666666666666666,\"#ed7953\"],[0.7777777777777778,\"#fb9f3a\"],[0.8888888888888888,\"#fdca26\"],[1.0,\"#f0f921\"]]}],\"contourcarpet\":[{\"type\":\"contourcarpet\",\"colorbar\":{\"outlinewidth\":0,\"ticks\":\"\"}}],\"contour\":[{\"type\":\"contour\",\"colorbar\":{\"outlinewidth\":0,\"ticks\":\"\"},\"colorscale\":[[0.0,\"#0d0887\"],[0.1111111111111111,\"#46039f\"],[0.2222222222222222,\"#7201a8\"],[0.3333333333333333,\"#9c179e\"],[0.4444444444444444,\"#bd3786\"],[0.5555555555555556,\"#d8576b\"],[0.6666666666666666,\"#ed7953\"],[0.7777777777777778,\"#fb9f3a\"],[0.8888888888888888,\"#fdca26\"],[1.0,\"#f0f921\"]]}],\"surface\":[{\"type\":\"surface\",\"colorbar\":{\"outlinewidth\":0,\"ticks\":\"\"},\"colorscale\":[[0.0,\"#0d0887\"],[0.1111111111111111,\"#46039f\"],[0.2222222222222222,\"#7201a8\"],[0.3333333333333333,\"#9c179e\"],[0.4444444444444444,\"#bd3786\"],[0.5555555555555556,\"#d8576b\"],[0.6666666666666666,\"#ed7953\"],[0.7777777777777778,\"#fb9f3a\"],[0.8888888888888888,\"#fdca26\"],[1.0,\"#f0f921\"]]}],\"mesh3d\":[{\"type\":\"mesh3d\",\"colorbar\":{\"outlinewidth\":0,\"ticks\":\"\"}}],\"scatter\":[{\"fillpattern\":{\"fillmode\":\"overlay\",\"size\":10,\"solidity\":0.2},\"type\":\"scatter\"}],\"parcoords\":[{\"type\":\"parcoords\",\"line\":{\"colorbar\":{\"outlinewidth\":0,\"ticks\":\"\"}}}],\"scatterpolargl\":[{\"type\":\"scatterpolargl\",\"marker\":{\"colorbar\":{\"outlinewidth\":0,\"ticks\":\"\"}}}],\"bar\":[{\"error_x\":{\"color\":\"#2a3f5f\"},\"error_y\":{\"color\":\"#2a3f5f\"},\"marker\":{\"line\":{\"color\":\"#E5ECF6\",\"width\":0.5},\"pattern\":{\"fillmode\":\"overlay\",\"size\":10,\"solidity\":0.2}},\"type\":\"bar\"}],\"scattergeo\":[{\"type\":\"scattergeo\",\"marker\":{\"colorbar\":{\"outlinewidth\":0,\"ticks\":\"\"}}}],\"scatterpolar\":[{\"type\":\"scatterpolar\",\"marker\":{\"colorbar\":{\"outlinewidth\":0,\"ticks\":\"\"}}}],\"histogram\":[{\"marker\":{\"pattern\":{\"fillmode\":\"overlay\",\"size\":10,\"solidity\":0.2}},\"type\":\"histogram\"}],\"scattergl\":[{\"type\":\"scattergl\",\"marker\":{\"colorbar\":{\"outlinewidth\":0,\"ticks\":\"\"}}}],\"scatter3d\":[{\"type\":\"scatter3d\",\"line\":{\"colorbar\":{\"outlinewidth\":0,\"ticks\":\"\"}},\"marker\":{\"colorbar\":{\"outlinewidth\":0,\"ticks\":\"\"}}}],\"scattermapbox\":[{\"type\":\"scattermapbox\",\"marker\":{\"colorbar\":{\"outlinewidth\":0,\"ticks\":\"\"}}}],\"scatterternary\":[{\"type\":\"scatterternary\",\"marker\":{\"colorbar\":{\"outlinewidth\":0,\"ticks\":\"\"}}}],\"scattercarpet\":[{\"type\":\"scattercarpet\",\"marker\":{\"colorbar\":{\"outlinewidth\":0,\"ticks\":\"\"}}}],\"carpet\":[{\"aaxis\":{\"endlinecolor\":\"#2a3f5f\",\"gridcolor\":\"white\",\"linecolor\":\"white\",\"minorgridcolor\":\"white\",\"startlinecolor\":\"#2a3f5f\"},\"baxis\":{\"endlinecolor\":\"#2a3f5f\",\"gridcolor\":\"white\",\"linecolor\":\"white\",\"minorgridcolor\":\"white\",\"startlinecolor\":\"#2a3f5f\"},\"type\":\"carpet\"}],\"table\":[{\"cells\":{\"fill\":{\"color\":\"#EBF0F8\"},\"line\":{\"color\":\"white\"}},\"header\":{\"fill\":{\"color\":\"#C8D4E3\"},\"line\":{\"color\":\"white\"}},\"type\":\"table\"}],\"barpolar\":[{\"marker\":{\"line\":{\"color\":\"#E5ECF6\",\"width\":0.5},\"pattern\":{\"fillmode\":\"overlay\",\"size\":10,\"solidity\":0.2}},\"type\":\"barpolar\"}],\"pie\":[{\"automargin\":true,\"type\":\"pie\"}]},\"layout\":{\"autotypenumbers\":\"strict\",\"colorway\":[\"#636efa\",\"#EF553B\",\"#00cc96\",\"#ab63fa\",\"#FFA15A\",\"#19d3f3\",\"#FF6692\",\"#B6E880\",\"#FF97FF\",\"#FECB52\"],\"font\":{\"color\":\"#2a3f5f\"},\"hovermode\":\"closest\",\"hoverlabel\":{\"align\":\"left\"},\"paper_bgcolor\":\"white\",\"plot_bgcolor\":\"#E5ECF6\",\"polar\":{\"bgcolor\":\"#E5ECF6\",\"angularaxis\":{\"gridcolor\":\"white\",\"linecolor\":\"white\",\"ticks\":\"\"},\"radialaxis\":{\"gridcolor\":\"white\",\"linecolor\":\"white\",\"ticks\":\"\"}},\"ternary\":{\"bgcolor\":\"#E5ECF6\",\"aaxis\":{\"gridcolor\":\"white\",\"linecolor\":\"white\",\"ticks\":\"\"},\"baxis\":{\"gridcolor\":\"white\",\"linecolor\":\"white\",\"ticks\":\"\"},\"caxis\":{\"gridcolor\":\"white\",\"linecolor\":\"white\",\"ticks\":\"\"}},\"coloraxis\":{\"colorbar\":{\"outlinewidth\":0,\"ticks\":\"\"}},\"colorscale\":{\"sequential\":[[0.0,\"#0d0887\"],[0.1111111111111111,\"#46039f\"],[0.2222222222222222,\"#7201a8\"],[0.3333333333333333,\"#9c179e\"],[0.4444444444444444,\"#bd3786\"],[0.5555555555555556,\"#d8576b\"],[0.6666666666666666,\"#ed7953\"],[0.7777777777777778,\"#fb9f3a\"],[0.8888888888888888,\"#fdca26\"],[1.0,\"#f0f921\"]],\"sequentialminus\":[[0.0,\"#0d0887\"],[0.1111111111111111,\"#46039f\"],[0.2222222222222222,\"#7201a8\"],[0.3333333333333333,\"#9c179e\"],[0.4444444444444444,\"#bd3786\"],[0.5555555555555556,\"#d8576b\"],[0.6666666666666666,\"#ed7953\"],[0.7777777777777778,\"#fb9f3a\"],[0.8888888888888888,\"#fdca26\"],[1.0,\"#f0f921\"]],\"diverging\":[[0,\"#8e0152\"],[0.1,\"#c51b7d\"],[0.2,\"#de77ae\"],[0.3,\"#f1b6da\"],[0.4,\"#fde0ef\"],[0.5,\"#f7f7f7\"],[0.6,\"#e6f5d0\"],[0.7,\"#b8e186\"],[0.8,\"#7fbc41\"],[0.9,\"#4d9221\"],[1,\"#276419\"]]},\"xaxis\":{\"gridcolor\":\"white\",\"linecolor\":\"white\",\"ticks\":\"\",\"title\":{\"standoff\":15},\"zerolinecolor\":\"white\",\"automargin\":true,\"zerolinewidth\":2},\"yaxis\":{\"gridcolor\":\"white\",\"linecolor\":\"white\",\"ticks\":\"\",\"title\":{\"standoff\":15},\"zerolinecolor\":\"white\",\"automargin\":true,\"zerolinewidth\":2},\"scene\":{\"xaxis\":{\"backgroundcolor\":\"#E5ECF6\",\"gridcolor\":\"white\",\"linecolor\":\"white\",\"showbackground\":true,\"ticks\":\"\",\"zerolinecolor\":\"white\",\"gridwidth\":2},\"yaxis\":{\"backgroundcolor\":\"#E5ECF6\",\"gridcolor\":\"white\",\"linecolor\":\"white\",\"showbackground\":true,\"ticks\":\"\",\"zerolinecolor\":\"white\",\"gridwidth\":2},\"zaxis\":{\"backgroundcolor\":\"#E5ECF6\",\"gridcolor\":\"white\",\"linecolor\":\"white\",\"showbackground\":true,\"ticks\":\"\",\"zerolinecolor\":\"white\",\"gridwidth\":2}},\"shapedefaults\":{\"line\":{\"color\":\"#2a3f5f\"}},\"annotationdefaults\":{\"arrowcolor\":\"#2a3f5f\",\"arrowhead\":0,\"arrowwidth\":1},\"geo\":{\"bgcolor\":\"white\",\"landcolor\":\"#E5ECF6\",\"subunitcolor\":\"white\",\"showland\":true,\"showlakes\":true,\"lakecolor\":\"white\"},\"title\":{\"x\":0.05},\"mapbox\":{\"style\":\"light\"}}},\"legend\":{\"tracegroupgap\":0},\"title\":{\"text\":\"Tannins - Smooth\"}},                        {\"responsive\": true}                    ).then(function(){\n",
              "                            \n",
              "var gd = document.getElementById('f795054f-2a15-476d-94c6-00e3aba611f7');\n",
              "var x = new MutationObserver(function (mutations, observer) {{\n",
              "        var display = window.getComputedStyle(gd).display;\n",
              "        if (!display || display === 'none') {{\n",
              "            console.log([gd, 'removed!']);\n",
              "            Plotly.purge(gd);\n",
              "            observer.disconnect();\n",
              "        }}\n",
              "}});\n",
              "\n",
              "// Listen for the removal of the full notebook cells\n",
              "var notebookContainer = gd.closest('#notebook-container');\n",
              "if (notebookContainer) {{\n",
              "    x.observe(notebookContainer, {childList: true});\n",
              "}}\n",
              "\n",
              "// Listen for the clearing of the current output cell\n",
              "var outputEl = gd.closest('.output');\n",
              "if (outputEl) {{\n",
              "    x.observe(outputEl, {childList: true});\n",
              "}}\n",
              "\n",
              "                        })                };                            </script>        </div>\n",
              "</body>\n",
              "</html>"
            ]
          },
          "metadata": {}
        },
        {
          "output_type": "display_data",
          "data": {
            "text/html": [
              "<html>\n",
              "<head><meta charset=\"utf-8\" /></head>\n",
              "<body>\n",
              "    <div>            <script src=\"https://cdnjs.cloudflare.com/ajax/libs/mathjax/2.7.5/MathJax.js?config=TeX-AMS-MML_SVG\"></script><script type=\"text/javascript\">if (window.MathJax && window.MathJax.Hub && window.MathJax.Hub.Config) {window.MathJax.Hub.Config({SVG: {font: \"STIX-Web\"}});}</script>                <script type=\"text/javascript\">window.PlotlyConfig = {MathJaxConfig: 'local'};</script>\n",
              "        <script src=\"https://cdn.plot.ly/plotly-2.18.2.min.js\"></script>                <div id=\"b220cd5b-33d8-451f-81c7-6e119ffd5dac\" class=\"plotly-graph-div\" style=\"height:525px; width:100%;\"></div>            <script type=\"text/javascript\">                                    window.PLOTLYENV=window.PLOTLYENV || {};                                    if (document.getElementById(\"b220cd5b-33d8-451f-81c7-6e119ffd5dac\")) {                    Plotly.newPlot(                        \"b220cd5b-33d8-451f-81c7-6e119ffd5dac\",                        [{\"domain\":{\"x\":[0.0,1.0],\"y\":[0.0,1.0]},\"hovertemplate\":\"label=%{label}<br>value=%{value}<extra></extra>\",\"labels\":[\"Soft\",\"Acidic\"],\"legendgroup\":\"\",\"name\":\"\",\"showlegend\":true,\"values\":[118,78],\"type\":\"pie\",\"marker\":{\"colors\":[\"green\",\"Yellow\"]}}],                        {\"template\":{\"data\":{\"histogram2dcontour\":[{\"type\":\"histogram2dcontour\",\"colorbar\":{\"outlinewidth\":0,\"ticks\":\"\"},\"colorscale\":[[0.0,\"#0d0887\"],[0.1111111111111111,\"#46039f\"],[0.2222222222222222,\"#7201a8\"],[0.3333333333333333,\"#9c179e\"],[0.4444444444444444,\"#bd3786\"],[0.5555555555555556,\"#d8576b\"],[0.6666666666666666,\"#ed7953\"],[0.7777777777777778,\"#fb9f3a\"],[0.8888888888888888,\"#fdca26\"],[1.0,\"#f0f921\"]]}],\"choropleth\":[{\"type\":\"choropleth\",\"colorbar\":{\"outlinewidth\":0,\"ticks\":\"\"}}],\"histogram2d\":[{\"type\":\"histogram2d\",\"colorbar\":{\"outlinewidth\":0,\"ticks\":\"\"},\"colorscale\":[[0.0,\"#0d0887\"],[0.1111111111111111,\"#46039f\"],[0.2222222222222222,\"#7201a8\"],[0.3333333333333333,\"#9c179e\"],[0.4444444444444444,\"#bd3786\"],[0.5555555555555556,\"#d8576b\"],[0.6666666666666666,\"#ed7953\"],[0.7777777777777778,\"#fb9f3a\"],[0.8888888888888888,\"#fdca26\"],[1.0,\"#f0f921\"]]}],\"heatmap\":[{\"type\":\"heatmap\",\"colorbar\":{\"outlinewidth\":0,\"ticks\":\"\"},\"colorscale\":[[0.0,\"#0d0887\"],[0.1111111111111111,\"#46039f\"],[0.2222222222222222,\"#7201a8\"],[0.3333333333333333,\"#9c179e\"],[0.4444444444444444,\"#bd3786\"],[0.5555555555555556,\"#d8576b\"],[0.6666666666666666,\"#ed7953\"],[0.7777777777777778,\"#fb9f3a\"],[0.8888888888888888,\"#fdca26\"],[1.0,\"#f0f921\"]]}],\"heatmapgl\":[{\"type\":\"heatmapgl\",\"colorbar\":{\"outlinewidth\":0,\"ticks\":\"\"},\"colorscale\":[[0.0,\"#0d0887\"],[0.1111111111111111,\"#46039f\"],[0.2222222222222222,\"#7201a8\"],[0.3333333333333333,\"#9c179e\"],[0.4444444444444444,\"#bd3786\"],[0.5555555555555556,\"#d8576b\"],[0.6666666666666666,\"#ed7953\"],[0.7777777777777778,\"#fb9f3a\"],[0.8888888888888888,\"#fdca26\"],[1.0,\"#f0f921\"]]}],\"contourcarpet\":[{\"type\":\"contourcarpet\",\"colorbar\":{\"outlinewidth\":0,\"ticks\":\"\"}}],\"contour\":[{\"type\":\"contour\",\"colorbar\":{\"outlinewidth\":0,\"ticks\":\"\"},\"colorscale\":[[0.0,\"#0d0887\"],[0.1111111111111111,\"#46039f\"],[0.2222222222222222,\"#7201a8\"],[0.3333333333333333,\"#9c179e\"],[0.4444444444444444,\"#bd3786\"],[0.5555555555555556,\"#d8576b\"],[0.6666666666666666,\"#ed7953\"],[0.7777777777777778,\"#fb9f3a\"],[0.8888888888888888,\"#fdca26\"],[1.0,\"#f0f921\"]]}],\"surface\":[{\"type\":\"surface\",\"colorbar\":{\"outlinewidth\":0,\"ticks\":\"\"},\"colorscale\":[[0.0,\"#0d0887\"],[0.1111111111111111,\"#46039f\"],[0.2222222222222222,\"#7201a8\"],[0.3333333333333333,\"#9c179e\"],[0.4444444444444444,\"#bd3786\"],[0.5555555555555556,\"#d8576b\"],[0.6666666666666666,\"#ed7953\"],[0.7777777777777778,\"#fb9f3a\"],[0.8888888888888888,\"#fdca26\"],[1.0,\"#f0f921\"]]}],\"mesh3d\":[{\"type\":\"mesh3d\",\"colorbar\":{\"outlinewidth\":0,\"ticks\":\"\"}}],\"scatter\":[{\"fillpattern\":{\"fillmode\":\"overlay\",\"size\":10,\"solidity\":0.2},\"type\":\"scatter\"}],\"parcoords\":[{\"type\":\"parcoords\",\"line\":{\"colorbar\":{\"outlinewidth\":0,\"ticks\":\"\"}}}],\"scatterpolargl\":[{\"type\":\"scatterpolargl\",\"marker\":{\"colorbar\":{\"outlinewidth\":0,\"ticks\":\"\"}}}],\"bar\":[{\"error_x\":{\"color\":\"#2a3f5f\"},\"error_y\":{\"color\":\"#2a3f5f\"},\"marker\":{\"line\":{\"color\":\"#E5ECF6\",\"width\":0.5},\"pattern\":{\"fillmode\":\"overlay\",\"size\":10,\"solidity\":0.2}},\"type\":\"bar\"}],\"scattergeo\":[{\"type\":\"scattergeo\",\"marker\":{\"colorbar\":{\"outlinewidth\":0,\"ticks\":\"\"}}}],\"scatterpolar\":[{\"type\":\"scatterpolar\",\"marker\":{\"colorbar\":{\"outlinewidth\":0,\"ticks\":\"\"}}}],\"histogram\":[{\"marker\":{\"pattern\":{\"fillmode\":\"overlay\",\"size\":10,\"solidity\":0.2}},\"type\":\"histogram\"}],\"scattergl\":[{\"type\":\"scattergl\",\"marker\":{\"colorbar\":{\"outlinewidth\":0,\"ticks\":\"\"}}}],\"scatter3d\":[{\"type\":\"scatter3d\",\"line\":{\"colorbar\":{\"outlinewidth\":0,\"ticks\":\"\"}},\"marker\":{\"colorbar\":{\"outlinewidth\":0,\"ticks\":\"\"}}}],\"scattermapbox\":[{\"type\":\"scattermapbox\",\"marker\":{\"colorbar\":{\"outlinewidth\":0,\"ticks\":\"\"}}}],\"scatterternary\":[{\"type\":\"scatterternary\",\"marker\":{\"colorbar\":{\"outlinewidth\":0,\"ticks\":\"\"}}}],\"scattercarpet\":[{\"type\":\"scattercarpet\",\"marker\":{\"colorbar\":{\"outlinewidth\":0,\"ticks\":\"\"}}}],\"carpet\":[{\"aaxis\":{\"endlinecolor\":\"#2a3f5f\",\"gridcolor\":\"white\",\"linecolor\":\"white\",\"minorgridcolor\":\"white\",\"startlinecolor\":\"#2a3f5f\"},\"baxis\":{\"endlinecolor\":\"#2a3f5f\",\"gridcolor\":\"white\",\"linecolor\":\"white\",\"minorgridcolor\":\"white\",\"startlinecolor\":\"#2a3f5f\"},\"type\":\"carpet\"}],\"table\":[{\"cells\":{\"fill\":{\"color\":\"#EBF0F8\"},\"line\":{\"color\":\"white\"}},\"header\":{\"fill\":{\"color\":\"#C8D4E3\"},\"line\":{\"color\":\"white\"}},\"type\":\"table\"}],\"barpolar\":[{\"marker\":{\"line\":{\"color\":\"#E5ECF6\",\"width\":0.5},\"pattern\":{\"fillmode\":\"overlay\",\"size\":10,\"solidity\":0.2}},\"type\":\"barpolar\"}],\"pie\":[{\"automargin\":true,\"type\":\"pie\"}]},\"layout\":{\"autotypenumbers\":\"strict\",\"colorway\":[\"#636efa\",\"#EF553B\",\"#00cc96\",\"#ab63fa\",\"#FFA15A\",\"#19d3f3\",\"#FF6692\",\"#B6E880\",\"#FF97FF\",\"#FECB52\"],\"font\":{\"color\":\"#2a3f5f\"},\"hovermode\":\"closest\",\"hoverlabel\":{\"align\":\"left\"},\"paper_bgcolor\":\"white\",\"plot_bgcolor\":\"#E5ECF6\",\"polar\":{\"bgcolor\":\"#E5ECF6\",\"angularaxis\":{\"gridcolor\":\"white\",\"linecolor\":\"white\",\"ticks\":\"\"},\"radialaxis\":{\"gridcolor\":\"white\",\"linecolor\":\"white\",\"ticks\":\"\"}},\"ternary\":{\"bgcolor\":\"#E5ECF6\",\"aaxis\":{\"gridcolor\":\"white\",\"linecolor\":\"white\",\"ticks\":\"\"},\"baxis\":{\"gridcolor\":\"white\",\"linecolor\":\"white\",\"ticks\":\"\"},\"caxis\":{\"gridcolor\":\"white\",\"linecolor\":\"white\",\"ticks\":\"\"}},\"coloraxis\":{\"colorbar\":{\"outlinewidth\":0,\"ticks\":\"\"}},\"colorscale\":{\"sequential\":[[0.0,\"#0d0887\"],[0.1111111111111111,\"#46039f\"],[0.2222222222222222,\"#7201a8\"],[0.3333333333333333,\"#9c179e\"],[0.4444444444444444,\"#bd3786\"],[0.5555555555555556,\"#d8576b\"],[0.6666666666666666,\"#ed7953\"],[0.7777777777777778,\"#fb9f3a\"],[0.8888888888888888,\"#fdca26\"],[1.0,\"#f0f921\"]],\"sequentialminus\":[[0.0,\"#0d0887\"],[0.1111111111111111,\"#46039f\"],[0.2222222222222222,\"#7201a8\"],[0.3333333333333333,\"#9c179e\"],[0.4444444444444444,\"#bd3786\"],[0.5555555555555556,\"#d8576b\"],[0.6666666666666666,\"#ed7953\"],[0.7777777777777778,\"#fb9f3a\"],[0.8888888888888888,\"#fdca26\"],[1.0,\"#f0f921\"]],\"diverging\":[[0,\"#8e0152\"],[0.1,\"#c51b7d\"],[0.2,\"#de77ae\"],[0.3,\"#f1b6da\"],[0.4,\"#fde0ef\"],[0.5,\"#f7f7f7\"],[0.6,\"#e6f5d0\"],[0.7,\"#b8e186\"],[0.8,\"#7fbc41\"],[0.9,\"#4d9221\"],[1,\"#276419\"]]},\"xaxis\":{\"gridcolor\":\"white\",\"linecolor\":\"white\",\"ticks\":\"\",\"title\":{\"standoff\":15},\"zerolinecolor\":\"white\",\"automargin\":true,\"zerolinewidth\":2},\"yaxis\":{\"gridcolor\":\"white\",\"linecolor\":\"white\",\"ticks\":\"\",\"title\":{\"standoff\":15},\"zerolinecolor\":\"white\",\"automargin\":true,\"zerolinewidth\":2},\"scene\":{\"xaxis\":{\"backgroundcolor\":\"#E5ECF6\",\"gridcolor\":\"white\",\"linecolor\":\"white\",\"showbackground\":true,\"ticks\":\"\",\"zerolinecolor\":\"white\",\"gridwidth\":2},\"yaxis\":{\"backgroundcolor\":\"#E5ECF6\",\"gridcolor\":\"white\",\"linecolor\":\"white\",\"showbackground\":true,\"ticks\":\"\",\"zerolinecolor\":\"white\",\"gridwidth\":2},\"zaxis\":{\"backgroundcolor\":\"#E5ECF6\",\"gridcolor\":\"white\",\"linecolor\":\"white\",\"showbackground\":true,\"ticks\":\"\",\"zerolinecolor\":\"white\",\"gridwidth\":2}},\"shapedefaults\":{\"line\":{\"color\":\"#2a3f5f\"}},\"annotationdefaults\":{\"arrowcolor\":\"#2a3f5f\",\"arrowhead\":0,\"arrowwidth\":1},\"geo\":{\"bgcolor\":\"white\",\"landcolor\":\"#E5ECF6\",\"subunitcolor\":\"white\",\"showland\":true,\"showlakes\":true,\"lakecolor\":\"white\"},\"title\":{\"x\":0.05},\"mapbox\":{\"style\":\"light\"}}},\"legend\":{\"tracegroupgap\":0},\"title\":{\"text\":\"Acidic - Soft\"}},                        {\"responsive\": true}                    ).then(function(){\n",
              "                            \n",
              "var gd = document.getElementById('b220cd5b-33d8-451f-81c7-6e119ffd5dac');\n",
              "var x = new MutationObserver(function (mutations, observer) {{\n",
              "        var display = window.getComputedStyle(gd).display;\n",
              "        if (!display || display === 'none') {{\n",
              "            console.log([gd, 'removed!']);\n",
              "            Plotly.purge(gd);\n",
              "            observer.disconnect();\n",
              "        }}\n",
              "}});\n",
              "\n",
              "// Listen for the removal of the full notebook cells\n",
              "var notebookContainer = gd.closest('#notebook-container');\n",
              "if (notebookContainer) {{\n",
              "    x.observe(notebookContainer, {childList: true});\n",
              "}}\n",
              "\n",
              "// Listen for the clearing of the current output cell\n",
              "var outputEl = gd.closest('.output');\n",
              "if (outputEl) {{\n",
              "    x.observe(outputEl, {childList: true});\n",
              "}}\n",
              "\n",
              "                        })                };                            </script>        </div>\n",
              "</body>\n",
              "</html>"
            ]
          },
          "metadata": {}
        },
        {
          "output_type": "display_data",
          "data": {
            "text/html": [
              "<html>\n",
              "<head><meta charset=\"utf-8\" /></head>\n",
              "<body>\n",
              "    <div>            <script src=\"https://cdnjs.cloudflare.com/ajax/libs/mathjax/2.7.5/MathJax.js?config=TeX-AMS-MML_SVG\"></script><script type=\"text/javascript\">if (window.MathJax && window.MathJax.Hub && window.MathJax.Hub.Config) {window.MathJax.Hub.Config({SVG: {font: \"STIX-Web\"}});}</script>                <script type=\"text/javascript\">window.PlotlyConfig = {MathJaxConfig: 'local'};</script>\n",
              "        <script src=\"https://cdn.plot.ly/plotly-2.18.2.min.js\"></script>                <div id=\"5c0b1a43-8e14-4d47-a391-fdc75d422851\" class=\"plotly-graph-div\" style=\"height:525px; width:100%;\"></div>            <script type=\"text/javascript\">                                    window.PLOTLYENV=window.PLOTLYENV || {};                                    if (document.getElementById(\"5c0b1a43-8e14-4d47-a391-fdc75d422851\")) {                    Plotly.newPlot(                        \"5c0b1a43-8e14-4d47-a391-fdc75d422851\",                        [{\"domain\":{\"x\":[0.0,1.0],\"y\":[0.0,1.0]},\"hovertemplate\":\"label=%{label}<br>value=%{value}<extra></extra>\",\"labels\":[\"Bold\",\"Light\"],\"legendgroup\":\"\",\"name\":\"\",\"showlegend\":true,\"values\":[123,45],\"type\":\"pie\",\"marker\":{\"colors\":[\"black\",\"grey\"]}}],                        {\"template\":{\"data\":{\"histogram2dcontour\":[{\"type\":\"histogram2dcontour\",\"colorbar\":{\"outlinewidth\":0,\"ticks\":\"\"},\"colorscale\":[[0.0,\"#0d0887\"],[0.1111111111111111,\"#46039f\"],[0.2222222222222222,\"#7201a8\"],[0.3333333333333333,\"#9c179e\"],[0.4444444444444444,\"#bd3786\"],[0.5555555555555556,\"#d8576b\"],[0.6666666666666666,\"#ed7953\"],[0.7777777777777778,\"#fb9f3a\"],[0.8888888888888888,\"#fdca26\"],[1.0,\"#f0f921\"]]}],\"choropleth\":[{\"type\":\"choropleth\",\"colorbar\":{\"outlinewidth\":0,\"ticks\":\"\"}}],\"histogram2d\":[{\"type\":\"histogram2d\",\"colorbar\":{\"outlinewidth\":0,\"ticks\":\"\"},\"colorscale\":[[0.0,\"#0d0887\"],[0.1111111111111111,\"#46039f\"],[0.2222222222222222,\"#7201a8\"],[0.3333333333333333,\"#9c179e\"],[0.4444444444444444,\"#bd3786\"],[0.5555555555555556,\"#d8576b\"],[0.6666666666666666,\"#ed7953\"],[0.7777777777777778,\"#fb9f3a\"],[0.8888888888888888,\"#fdca26\"],[1.0,\"#f0f921\"]]}],\"heatmap\":[{\"type\":\"heatmap\",\"colorbar\":{\"outlinewidth\":0,\"ticks\":\"\"},\"colorscale\":[[0.0,\"#0d0887\"],[0.1111111111111111,\"#46039f\"],[0.2222222222222222,\"#7201a8\"],[0.3333333333333333,\"#9c179e\"],[0.4444444444444444,\"#bd3786\"],[0.5555555555555556,\"#d8576b\"],[0.6666666666666666,\"#ed7953\"],[0.7777777777777778,\"#fb9f3a\"],[0.8888888888888888,\"#fdca26\"],[1.0,\"#f0f921\"]]}],\"heatmapgl\":[{\"type\":\"heatmapgl\",\"colorbar\":{\"outlinewidth\":0,\"ticks\":\"\"},\"colorscale\":[[0.0,\"#0d0887\"],[0.1111111111111111,\"#46039f\"],[0.2222222222222222,\"#7201a8\"],[0.3333333333333333,\"#9c179e\"],[0.4444444444444444,\"#bd3786\"],[0.5555555555555556,\"#d8576b\"],[0.6666666666666666,\"#ed7953\"],[0.7777777777777778,\"#fb9f3a\"],[0.8888888888888888,\"#fdca26\"],[1.0,\"#f0f921\"]]}],\"contourcarpet\":[{\"type\":\"contourcarpet\",\"colorbar\":{\"outlinewidth\":0,\"ticks\":\"\"}}],\"contour\":[{\"type\":\"contour\",\"colorbar\":{\"outlinewidth\":0,\"ticks\":\"\"},\"colorscale\":[[0.0,\"#0d0887\"],[0.1111111111111111,\"#46039f\"],[0.2222222222222222,\"#7201a8\"],[0.3333333333333333,\"#9c179e\"],[0.4444444444444444,\"#bd3786\"],[0.5555555555555556,\"#d8576b\"],[0.6666666666666666,\"#ed7953\"],[0.7777777777777778,\"#fb9f3a\"],[0.8888888888888888,\"#fdca26\"],[1.0,\"#f0f921\"]]}],\"surface\":[{\"type\":\"surface\",\"colorbar\":{\"outlinewidth\":0,\"ticks\":\"\"},\"colorscale\":[[0.0,\"#0d0887\"],[0.1111111111111111,\"#46039f\"],[0.2222222222222222,\"#7201a8\"],[0.3333333333333333,\"#9c179e\"],[0.4444444444444444,\"#bd3786\"],[0.5555555555555556,\"#d8576b\"],[0.6666666666666666,\"#ed7953\"],[0.7777777777777778,\"#fb9f3a\"],[0.8888888888888888,\"#fdca26\"],[1.0,\"#f0f921\"]]}],\"mesh3d\":[{\"type\":\"mesh3d\",\"colorbar\":{\"outlinewidth\":0,\"ticks\":\"\"}}],\"scatter\":[{\"fillpattern\":{\"fillmode\":\"overlay\",\"size\":10,\"solidity\":0.2},\"type\":\"scatter\"}],\"parcoords\":[{\"type\":\"parcoords\",\"line\":{\"colorbar\":{\"outlinewidth\":0,\"ticks\":\"\"}}}],\"scatterpolargl\":[{\"type\":\"scatterpolargl\",\"marker\":{\"colorbar\":{\"outlinewidth\":0,\"ticks\":\"\"}}}],\"bar\":[{\"error_x\":{\"color\":\"#2a3f5f\"},\"error_y\":{\"color\":\"#2a3f5f\"},\"marker\":{\"line\":{\"color\":\"#E5ECF6\",\"width\":0.5},\"pattern\":{\"fillmode\":\"overlay\",\"size\":10,\"solidity\":0.2}},\"type\":\"bar\"}],\"scattergeo\":[{\"type\":\"scattergeo\",\"marker\":{\"colorbar\":{\"outlinewidth\":0,\"ticks\":\"\"}}}],\"scatterpolar\":[{\"type\":\"scatterpolar\",\"marker\":{\"colorbar\":{\"outlinewidth\":0,\"ticks\":\"\"}}}],\"histogram\":[{\"marker\":{\"pattern\":{\"fillmode\":\"overlay\",\"size\":10,\"solidity\":0.2}},\"type\":\"histogram\"}],\"scattergl\":[{\"type\":\"scattergl\",\"marker\":{\"colorbar\":{\"outlinewidth\":0,\"ticks\":\"\"}}}],\"scatter3d\":[{\"type\":\"scatter3d\",\"line\":{\"colorbar\":{\"outlinewidth\":0,\"ticks\":\"\"}},\"marker\":{\"colorbar\":{\"outlinewidth\":0,\"ticks\":\"\"}}}],\"scattermapbox\":[{\"type\":\"scattermapbox\",\"marker\":{\"colorbar\":{\"outlinewidth\":0,\"ticks\":\"\"}}}],\"scatterternary\":[{\"type\":\"scatterternary\",\"marker\":{\"colorbar\":{\"outlinewidth\":0,\"ticks\":\"\"}}}],\"scattercarpet\":[{\"type\":\"scattercarpet\",\"marker\":{\"colorbar\":{\"outlinewidth\":0,\"ticks\":\"\"}}}],\"carpet\":[{\"aaxis\":{\"endlinecolor\":\"#2a3f5f\",\"gridcolor\":\"white\",\"linecolor\":\"white\",\"minorgridcolor\":\"white\",\"startlinecolor\":\"#2a3f5f\"},\"baxis\":{\"endlinecolor\":\"#2a3f5f\",\"gridcolor\":\"white\",\"linecolor\":\"white\",\"minorgridcolor\":\"white\",\"startlinecolor\":\"#2a3f5f\"},\"type\":\"carpet\"}],\"table\":[{\"cells\":{\"fill\":{\"color\":\"#EBF0F8\"},\"line\":{\"color\":\"white\"}},\"header\":{\"fill\":{\"color\":\"#C8D4E3\"},\"line\":{\"color\":\"white\"}},\"type\":\"table\"}],\"barpolar\":[{\"marker\":{\"line\":{\"color\":\"#E5ECF6\",\"width\":0.5},\"pattern\":{\"fillmode\":\"overlay\",\"size\":10,\"solidity\":0.2}},\"type\":\"barpolar\"}],\"pie\":[{\"automargin\":true,\"type\":\"pie\"}]},\"layout\":{\"autotypenumbers\":\"strict\",\"colorway\":[\"#636efa\",\"#EF553B\",\"#00cc96\",\"#ab63fa\",\"#FFA15A\",\"#19d3f3\",\"#FF6692\",\"#B6E880\",\"#FF97FF\",\"#FECB52\"],\"font\":{\"color\":\"#2a3f5f\"},\"hovermode\":\"closest\",\"hoverlabel\":{\"align\":\"left\"},\"paper_bgcolor\":\"white\",\"plot_bgcolor\":\"#E5ECF6\",\"polar\":{\"bgcolor\":\"#E5ECF6\",\"angularaxis\":{\"gridcolor\":\"white\",\"linecolor\":\"white\",\"ticks\":\"\"},\"radialaxis\":{\"gridcolor\":\"white\",\"linecolor\":\"white\",\"ticks\":\"\"}},\"ternary\":{\"bgcolor\":\"#E5ECF6\",\"aaxis\":{\"gridcolor\":\"white\",\"linecolor\":\"white\",\"ticks\":\"\"},\"baxis\":{\"gridcolor\":\"white\",\"linecolor\":\"white\",\"ticks\":\"\"},\"caxis\":{\"gridcolor\":\"white\",\"linecolor\":\"white\",\"ticks\":\"\"}},\"coloraxis\":{\"colorbar\":{\"outlinewidth\":0,\"ticks\":\"\"}},\"colorscale\":{\"sequential\":[[0.0,\"#0d0887\"],[0.1111111111111111,\"#46039f\"],[0.2222222222222222,\"#7201a8\"],[0.3333333333333333,\"#9c179e\"],[0.4444444444444444,\"#bd3786\"],[0.5555555555555556,\"#d8576b\"],[0.6666666666666666,\"#ed7953\"],[0.7777777777777778,\"#fb9f3a\"],[0.8888888888888888,\"#fdca26\"],[1.0,\"#f0f921\"]],\"sequentialminus\":[[0.0,\"#0d0887\"],[0.1111111111111111,\"#46039f\"],[0.2222222222222222,\"#7201a8\"],[0.3333333333333333,\"#9c179e\"],[0.4444444444444444,\"#bd3786\"],[0.5555555555555556,\"#d8576b\"],[0.6666666666666666,\"#ed7953\"],[0.7777777777777778,\"#fb9f3a\"],[0.8888888888888888,\"#fdca26\"],[1.0,\"#f0f921\"]],\"diverging\":[[0,\"#8e0152\"],[0.1,\"#c51b7d\"],[0.2,\"#de77ae\"],[0.3,\"#f1b6da\"],[0.4,\"#fde0ef\"],[0.5,\"#f7f7f7\"],[0.6,\"#e6f5d0\"],[0.7,\"#b8e186\"],[0.8,\"#7fbc41\"],[0.9,\"#4d9221\"],[1,\"#276419\"]]},\"xaxis\":{\"gridcolor\":\"white\",\"linecolor\":\"white\",\"ticks\":\"\",\"title\":{\"standoff\":15},\"zerolinecolor\":\"white\",\"automargin\":true,\"zerolinewidth\":2},\"yaxis\":{\"gridcolor\":\"white\",\"linecolor\":\"white\",\"ticks\":\"\",\"title\":{\"standoff\":15},\"zerolinecolor\":\"white\",\"automargin\":true,\"zerolinewidth\":2},\"scene\":{\"xaxis\":{\"backgroundcolor\":\"#E5ECF6\",\"gridcolor\":\"white\",\"linecolor\":\"white\",\"showbackground\":true,\"ticks\":\"\",\"zerolinecolor\":\"white\",\"gridwidth\":2},\"yaxis\":{\"backgroundcolor\":\"#E5ECF6\",\"gridcolor\":\"white\",\"linecolor\":\"white\",\"showbackground\":true,\"ticks\":\"\",\"zerolinecolor\":\"white\",\"gridwidth\":2},\"zaxis\":{\"backgroundcolor\":\"#E5ECF6\",\"gridcolor\":\"white\",\"linecolor\":\"white\",\"showbackground\":true,\"ticks\":\"\",\"zerolinecolor\":\"white\",\"gridwidth\":2}},\"shapedefaults\":{\"line\":{\"color\":\"#2a3f5f\"}},\"annotationdefaults\":{\"arrowcolor\":\"#2a3f5f\",\"arrowhead\":0,\"arrowwidth\":1},\"geo\":{\"bgcolor\":\"white\",\"landcolor\":\"#E5ECF6\",\"subunitcolor\":\"white\",\"showland\":true,\"showlakes\":true,\"lakecolor\":\"white\"},\"title\":{\"x\":0.05},\"mapbox\":{\"style\":\"light\"}}},\"legend\":{\"tracegroupgap\":0},\"title\":{\"text\":\"Light - Bold\"}},                        {\"responsive\": true}                    ).then(function(){\n",
              "                            \n",
              "var gd = document.getElementById('5c0b1a43-8e14-4d47-a391-fdc75d422851');\n",
              "var x = new MutationObserver(function (mutations, observer) {{\n",
              "        var display = window.getComputedStyle(gd).display;\n",
              "        if (!display || display === 'none') {{\n",
              "            console.log([gd, 'removed!']);\n",
              "            Plotly.purge(gd);\n",
              "            observer.disconnect();\n",
              "        }}\n",
              "}});\n",
              "\n",
              "// Listen for the removal of the full notebook cells\n",
              "var notebookContainer = gd.closest('#notebook-container');\n",
              "if (notebookContainer) {{\n",
              "    x.observe(notebookContainer, {childList: true});\n",
              "}}\n",
              "\n",
              "// Listen for the clearing of the current output cell\n",
              "var outputEl = gd.closest('.output');\n",
              "if (outputEl) {{\n",
              "    x.observe(outputEl, {childList: true});\n",
              "}}\n",
              "\n",
              "                        })                };                            </script>        </div>\n",
              "</body>\n",
              "</html>"
            ]
          },
          "metadata": {}
        },
        {
          "output_type": "execute_result",
          "data": {
            "text/plain": [
              "'\\n# 서브플롯 생성\\nfig = make_subplots(rows=1, cols=3, specs=[[{\\'type\\': \\'pie\\'}, {\\'type\\': \\'pie\\'}, {\\'type\\': \\'pie\\'}]])\\n\\n\\nfig1 = px.pie(flavors, values=flavors, names=flavors.index, title=\"Sweet - Dry\", hover_data=[flavors], labels=flavors.index)\\n#fig1.update_traces(textposition=\\'inside\\', textinfo=\\'percent+label\\')\\n#fig1.show()\\n\\nflavors1 = pd.Series(flavors_dict_Tannins)\\n\\nfig2 = px.pie(flavors1, values=flavors1, names=flavors1.index, title=\"Taninns - Smooth\", hover_data=[flavors1], labels=flavors1.index)\\n#fig2.update_traces(textposition=\\'inside\\', textinfo=\\'percent+label\\')\\n#fig2.show()\\n\\nflavors2 = pd.Series(flavors_dict_Acidic)\\nfig3 = px.pie(flavors2, values=flavors2, names=flavors2.index, title=\"ACidic - Soft\", hover_data=[flavors2], labels=flavors2.index)\\n#fig3.update_traces(textposition=\\'inside\\', textinfo=\\'percent+label\\')\\n#fig3.show()\\n\\nfig1.show()\\nfig2.show()\\nfig3.show()\\n\\n'"
            ],
            "application/vnd.google.colaboratory.intrinsic+json": {
              "type": "string"
            }
          },
          "metadata": {},
          "execution_count": 36
        }
      ]
    },
    {
      "cell_type": "code",
      "source": [],
      "metadata": {
        "id": "f2CKNANtTzqs"
      },
      "execution_count": null,
      "outputs": []
    },
    {
      "cell_type": "markdown",
      "source": [
        "##2. EDA"
      ],
      "metadata": {
        "id": "FDumf2JaZOhN"
      }
    },
    {
      "cell_type": "code",
      "source": [
        "df = pd.read_csv('/content/WineDataset.csv')"
      ],
      "metadata": {
        "id": "H8bM8OyMZMM9"
      },
      "execution_count": null,
      "outputs": []
    },
    {
      "cell_type": "code",
      "source": [
        "df"
      ],
      "metadata": {
        "id": "EkW7BTAgBJWD",
        "outputId": "a118c72d-a235-425d-dbbd-1b6bb2083f0b",
        "colab": {
          "base_uri": "https://localhost:8080/",
          "height": 424
        }
      },
      "execution_count": null,
      "outputs": [
        {
          "output_type": "execute_result",
          "data": {
            "text/plain": [
              "                                             WineName  Sweet_ex  Tannins_ex  \\\n",
              "0                    Torre Oria Knock Knock Red Blend        54          32   \n",
              "1                              Weinert Carrascal 2002        21          47   \n",
              "2   Bastide Miraflors Vieilles Vignes Syrah - Gren...        23          42   \n",
              "3                             Château Pibran Pauillac        16          52   \n",
              "4                Domain Road Vineyard Pinot Noir 2020        23          47   \n",
              "5                  Dominus Dominus (Christian Moueix)        40          30   \n",
              "6                Duckhorn Three Palms Vineyard Merlot        33          29   \n",
              "7                 Mysterious Diggings Pinot Noir 2022        24          40   \n",
              "8                           River Run Pinot Noir 2021        39          32   \n",
              "9                              Rutherford Hill Merlot        36          29   \n",
              "10                      Sea Smoke Southing Pinot Noir        43          24   \n",
              "\n",
              "    Acidic_ex  Light_ex  Sweet_bg  Tannins_bg  Acidic_bg  Light_bg  Sweet_all  \\\n",
              "0          61        77        55          13         69        90         55   \n",
              "1          42        39        23          41         38        34         22   \n",
              "2          56        49        47          20         43        50         27   \n",
              "3          45        40        22          23         50        47         18   \n",
              "4          62        64        40          21         29        56         28   \n",
              "5          24        39        45          27         17        30         40   \n",
              "6          34        40        25          14         35        41         30   \n",
              "7          67        69        48          12         60        72         38   \n",
              "8          53        78        22          18         54        73         36   \n",
              "9          54        46        36          15         39        55         36   \n",
              "10         53        62        31          12         33        47         39   \n",
              "\n",
              "    ...  Light_all  Sweet_key  Tannins_key  Acidic_key  Light_key  Sweet_vi  \\\n",
              "0   ...         83         46           32          57         68       NaN   \n",
              "1   ...         38         28           47          58         85       NaN   \n",
              "2   ...         49         18           48          59         72       NaN   \n",
              "3   ...         42         14           50          55         74       NaN   \n",
              "4   ...         62         31           49          60         51       NaN   \n",
              "5   ...         38         44           43          68         78       NaN   \n",
              "6   ...         40         26           33          67         74       NaN   \n",
              "7   ...         70         41           41          61         61       NaN   \n",
              "8   ...         76         26           37          52         75       NaN   \n",
              "9   ...         50         25           30          58         65       NaN   \n",
              "10  ...         57         33           28          51         51       NaN   \n",
              "\n",
              "    Tannins_vi  Acidic_vi  Light_vi  Tag  \n",
              "0          NaN        NaN       NaN  NaN  \n",
              "1          NaN        NaN       NaN  NaN  \n",
              "2          NaN        NaN       NaN  NaN  \n",
              "3          NaN        NaN       NaN  NaN  \n",
              "4          NaN        NaN       NaN  NaN  \n",
              "5          NaN        NaN       NaN  NaN  \n",
              "6          NaN        NaN       NaN  NaN  \n",
              "7          NaN        NaN       NaN  NaN  \n",
              "8          NaN        NaN       NaN  NaN  \n",
              "9          NaN        NaN       NaN  NaN  \n",
              "10         NaN        NaN       NaN  NaN  \n",
              "\n",
              "[11 rows x 22 columns]"
            ],
            "text/html": [
              "\n",
              "\n",
              "  <div id=\"df-4b5c19ab-40d9-424f-a005-3cf0bf8f9674\">\n",
              "    <div class=\"colab-df-container\">\n",
              "      <div>\n",
              "<style scoped>\n",
              "    .dataframe tbody tr th:only-of-type {\n",
              "        vertical-align: middle;\n",
              "    }\n",
              "\n",
              "    .dataframe tbody tr th {\n",
              "        vertical-align: top;\n",
              "    }\n",
              "\n",
              "    .dataframe thead th {\n",
              "        text-align: right;\n",
              "    }\n",
              "</style>\n",
              "<table border=\"1\" class=\"dataframe\">\n",
              "  <thead>\n",
              "    <tr style=\"text-align: right;\">\n",
              "      <th></th>\n",
              "      <th>WineName</th>\n",
              "      <th>Sweet_ex</th>\n",
              "      <th>Tannins_ex</th>\n",
              "      <th>Acidic_ex</th>\n",
              "      <th>Light_ex</th>\n",
              "      <th>Sweet_bg</th>\n",
              "      <th>Tannins_bg</th>\n",
              "      <th>Acidic_bg</th>\n",
              "      <th>Light_bg</th>\n",
              "      <th>Sweet_all</th>\n",
              "      <th>...</th>\n",
              "      <th>Light_all</th>\n",
              "      <th>Sweet_key</th>\n",
              "      <th>Tannins_key</th>\n",
              "      <th>Acidic_key</th>\n",
              "      <th>Light_key</th>\n",
              "      <th>Sweet_vi</th>\n",
              "      <th>Tannins_vi</th>\n",
              "      <th>Acidic_vi</th>\n",
              "      <th>Light_vi</th>\n",
              "      <th>Tag</th>\n",
              "    </tr>\n",
              "  </thead>\n",
              "  <tbody>\n",
              "    <tr>\n",
              "      <th>0</th>\n",
              "      <td>Torre Oria Knock Knock Red Blend</td>\n",
              "      <td>54</td>\n",
              "      <td>32</td>\n",
              "      <td>61</td>\n",
              "      <td>77</td>\n",
              "      <td>55</td>\n",
              "      <td>13</td>\n",
              "      <td>69</td>\n",
              "      <td>90</td>\n",
              "      <td>55</td>\n",
              "      <td>...</td>\n",
              "      <td>83</td>\n",
              "      <td>46</td>\n",
              "      <td>32</td>\n",
              "      <td>57</td>\n",
              "      <td>68</td>\n",
              "      <td>NaN</td>\n",
              "      <td>NaN</td>\n",
              "      <td>NaN</td>\n",
              "      <td>NaN</td>\n",
              "      <td>NaN</td>\n",
              "    </tr>\n",
              "    <tr>\n",
              "      <th>1</th>\n",
              "      <td>Weinert Carrascal 2002</td>\n",
              "      <td>21</td>\n",
              "      <td>47</td>\n",
              "      <td>42</td>\n",
              "      <td>39</td>\n",
              "      <td>23</td>\n",
              "      <td>41</td>\n",
              "      <td>38</td>\n",
              "      <td>34</td>\n",
              "      <td>22</td>\n",
              "      <td>...</td>\n",
              "      <td>38</td>\n",
              "      <td>28</td>\n",
              "      <td>47</td>\n",
              "      <td>58</td>\n",
              "      <td>85</td>\n",
              "      <td>NaN</td>\n",
              "      <td>NaN</td>\n",
              "      <td>NaN</td>\n",
              "      <td>NaN</td>\n",
              "      <td>NaN</td>\n",
              "    </tr>\n",
              "    <tr>\n",
              "      <th>2</th>\n",
              "      <td>Bastide Miraflors Vieilles Vignes Syrah - Gren...</td>\n",
              "      <td>23</td>\n",
              "      <td>42</td>\n",
              "      <td>56</td>\n",
              "      <td>49</td>\n",
              "      <td>47</td>\n",
              "      <td>20</td>\n",
              "      <td>43</td>\n",
              "      <td>50</td>\n",
              "      <td>27</td>\n",
              "      <td>...</td>\n",
              "      <td>49</td>\n",
              "      <td>18</td>\n",
              "      <td>48</td>\n",
              "      <td>59</td>\n",
              "      <td>72</td>\n",
              "      <td>NaN</td>\n",
              "      <td>NaN</td>\n",
              "      <td>NaN</td>\n",
              "      <td>NaN</td>\n",
              "      <td>NaN</td>\n",
              "    </tr>\n",
              "    <tr>\n",
              "      <th>3</th>\n",
              "      <td>Château Pibran Pauillac</td>\n",
              "      <td>16</td>\n",
              "      <td>52</td>\n",
              "      <td>45</td>\n",
              "      <td>40</td>\n",
              "      <td>22</td>\n",
              "      <td>23</td>\n",
              "      <td>50</td>\n",
              "      <td>47</td>\n",
              "      <td>18</td>\n",
              "      <td>...</td>\n",
              "      <td>42</td>\n",
              "      <td>14</td>\n",
              "      <td>50</td>\n",
              "      <td>55</td>\n",
              "      <td>74</td>\n",
              "      <td>NaN</td>\n",
              "      <td>NaN</td>\n",
              "      <td>NaN</td>\n",
              "      <td>NaN</td>\n",
              "      <td>NaN</td>\n",
              "    </tr>\n",
              "    <tr>\n",
              "      <th>4</th>\n",
              "      <td>Domain Road Vineyard Pinot Noir 2020</td>\n",
              "      <td>23</td>\n",
              "      <td>47</td>\n",
              "      <td>62</td>\n",
              "      <td>64</td>\n",
              "      <td>40</td>\n",
              "      <td>21</td>\n",
              "      <td>29</td>\n",
              "      <td>56</td>\n",
              "      <td>28</td>\n",
              "      <td>...</td>\n",
              "      <td>62</td>\n",
              "      <td>31</td>\n",
              "      <td>49</td>\n",
              "      <td>60</td>\n",
              "      <td>51</td>\n",
              "      <td>NaN</td>\n",
              "      <td>NaN</td>\n",
              "      <td>NaN</td>\n",
              "      <td>NaN</td>\n",
              "      <td>NaN</td>\n",
              "    </tr>\n",
              "    <tr>\n",
              "      <th>5</th>\n",
              "      <td>Dominus Dominus (Christian Moueix)</td>\n",
              "      <td>40</td>\n",
              "      <td>30</td>\n",
              "      <td>24</td>\n",
              "      <td>39</td>\n",
              "      <td>45</td>\n",
              "      <td>27</td>\n",
              "      <td>17</td>\n",
              "      <td>30</td>\n",
              "      <td>40</td>\n",
              "      <td>...</td>\n",
              "      <td>38</td>\n",
              "      <td>44</td>\n",
              "      <td>43</td>\n",
              "      <td>68</td>\n",
              "      <td>78</td>\n",
              "      <td>NaN</td>\n",
              "      <td>NaN</td>\n",
              "      <td>NaN</td>\n",
              "      <td>NaN</td>\n",
              "      <td>NaN</td>\n",
              "    </tr>\n",
              "    <tr>\n",
              "      <th>6</th>\n",
              "      <td>Duckhorn Three Palms Vineyard Merlot</td>\n",
              "      <td>33</td>\n",
              "      <td>29</td>\n",
              "      <td>34</td>\n",
              "      <td>40</td>\n",
              "      <td>25</td>\n",
              "      <td>14</td>\n",
              "      <td>35</td>\n",
              "      <td>41</td>\n",
              "      <td>30</td>\n",
              "      <td>...</td>\n",
              "      <td>40</td>\n",
              "      <td>26</td>\n",
              "      <td>33</td>\n",
              "      <td>67</td>\n",
              "      <td>74</td>\n",
              "      <td>NaN</td>\n",
              "      <td>NaN</td>\n",
              "      <td>NaN</td>\n",
              "      <td>NaN</td>\n",
              "      <td>NaN</td>\n",
              "    </tr>\n",
              "    <tr>\n",
              "      <th>7</th>\n",
              "      <td>Mysterious Diggings Pinot Noir 2022</td>\n",
              "      <td>24</td>\n",
              "      <td>40</td>\n",
              "      <td>67</td>\n",
              "      <td>69</td>\n",
              "      <td>48</td>\n",
              "      <td>12</td>\n",
              "      <td>60</td>\n",
              "      <td>72</td>\n",
              "      <td>38</td>\n",
              "      <td>...</td>\n",
              "      <td>70</td>\n",
              "      <td>41</td>\n",
              "      <td>41</td>\n",
              "      <td>61</td>\n",
              "      <td>61</td>\n",
              "      <td>NaN</td>\n",
              "      <td>NaN</td>\n",
              "      <td>NaN</td>\n",
              "      <td>NaN</td>\n",
              "      <td>NaN</td>\n",
              "    </tr>\n",
              "    <tr>\n",
              "      <th>8</th>\n",
              "      <td>River Run Pinot Noir 2021</td>\n",
              "      <td>39</td>\n",
              "      <td>32</td>\n",
              "      <td>53</td>\n",
              "      <td>78</td>\n",
              "      <td>22</td>\n",
              "      <td>18</td>\n",
              "      <td>54</td>\n",
              "      <td>73</td>\n",
              "      <td>36</td>\n",
              "      <td>...</td>\n",
              "      <td>76</td>\n",
              "      <td>26</td>\n",
              "      <td>37</td>\n",
              "      <td>52</td>\n",
              "      <td>75</td>\n",
              "      <td>NaN</td>\n",
              "      <td>NaN</td>\n",
              "      <td>NaN</td>\n",
              "      <td>NaN</td>\n",
              "      <td>NaN</td>\n",
              "    </tr>\n",
              "    <tr>\n",
              "      <th>9</th>\n",
              "      <td>Rutherford Hill Merlot</td>\n",
              "      <td>36</td>\n",
              "      <td>29</td>\n",
              "      <td>54</td>\n",
              "      <td>46</td>\n",
              "      <td>36</td>\n",
              "      <td>15</td>\n",
              "      <td>39</td>\n",
              "      <td>55</td>\n",
              "      <td>36</td>\n",
              "      <td>...</td>\n",
              "      <td>50</td>\n",
              "      <td>25</td>\n",
              "      <td>30</td>\n",
              "      <td>58</td>\n",
              "      <td>65</td>\n",
              "      <td>NaN</td>\n",
              "      <td>NaN</td>\n",
              "      <td>NaN</td>\n",
              "      <td>NaN</td>\n",
              "      <td>NaN</td>\n",
              "    </tr>\n",
              "    <tr>\n",
              "      <th>10</th>\n",
              "      <td>Sea Smoke Southing Pinot Noir</td>\n",
              "      <td>43</td>\n",
              "      <td>24</td>\n",
              "      <td>53</td>\n",
              "      <td>62</td>\n",
              "      <td>31</td>\n",
              "      <td>12</td>\n",
              "      <td>33</td>\n",
              "      <td>47</td>\n",
              "      <td>39</td>\n",
              "      <td>...</td>\n",
              "      <td>57</td>\n",
              "      <td>33</td>\n",
              "      <td>28</td>\n",
              "      <td>51</td>\n",
              "      <td>51</td>\n",
              "      <td>NaN</td>\n",
              "      <td>NaN</td>\n",
              "      <td>NaN</td>\n",
              "      <td>NaN</td>\n",
              "      <td>NaN</td>\n",
              "    </tr>\n",
              "  </tbody>\n",
              "</table>\n",
              "<p>11 rows × 22 columns</p>\n",
              "</div>\n",
              "      <button class=\"colab-df-convert\" onclick=\"convertToInteractive('df-4b5c19ab-40d9-424f-a005-3cf0bf8f9674')\"\n",
              "              title=\"Convert this dataframe to an interactive table.\"\n",
              "              style=\"display:none;\">\n",
              "\n",
              "  <svg xmlns=\"http://www.w3.org/2000/svg\" height=\"24px\"viewBox=\"0 0 24 24\"\n",
              "       width=\"24px\">\n",
              "    <path d=\"M0 0h24v24H0V0z\" fill=\"none\"/>\n",
              "    <path d=\"M18.56 5.44l.94 2.06.94-2.06 2.06-.94-2.06-.94-.94-2.06-.94 2.06-2.06.94zm-11 1L8.5 8.5l.94-2.06 2.06-.94-2.06-.94L8.5 2.5l-.94 2.06-2.06.94zm10 10l.94 2.06.94-2.06 2.06-.94-2.06-.94-.94-2.06-.94 2.06-2.06.94z\"/><path d=\"M17.41 7.96l-1.37-1.37c-.4-.4-.92-.59-1.43-.59-.52 0-1.04.2-1.43.59L10.3 9.45l-7.72 7.72c-.78.78-.78 2.05 0 2.83L4 21.41c.39.39.9.59 1.41.59.51 0 1.02-.2 1.41-.59l7.78-7.78 2.81-2.81c.8-.78.8-2.07 0-2.86zM5.41 20L4 18.59l7.72-7.72 1.47 1.35L5.41 20z\"/>\n",
              "  </svg>\n",
              "      </button>\n",
              "\n",
              "\n",
              "\n",
              "    <div id=\"df-36239928-870d-4c4a-b679-9dbc896314c4\">\n",
              "      <button class=\"colab-df-quickchart\" onclick=\"quickchart('df-36239928-870d-4c4a-b679-9dbc896314c4')\"\n",
              "              title=\"Suggest charts.\"\n",
              "              style=\"display:none;\">\n",
              "\n",
              "<svg xmlns=\"http://www.w3.org/2000/svg\" height=\"24px\"viewBox=\"0 0 24 24\"\n",
              "     width=\"24px\">\n",
              "    <g>\n",
              "        <path d=\"M19 3H5c-1.1 0-2 .9-2 2v14c0 1.1.9 2 2 2h14c1.1 0 2-.9 2-2V5c0-1.1-.9-2-2-2zM9 17H7v-7h2v7zm4 0h-2V7h2v10zm4 0h-2v-4h2v4z\"/>\n",
              "    </g>\n",
              "</svg>\n",
              "      </button>\n",
              "    </div>\n",
              "\n",
              "<style>\n",
              "  .colab-df-quickchart {\n",
              "    background-color: #E8F0FE;\n",
              "    border: none;\n",
              "    border-radius: 50%;\n",
              "    cursor: pointer;\n",
              "    display: none;\n",
              "    fill: #1967D2;\n",
              "    height: 32px;\n",
              "    padding: 0 0 0 0;\n",
              "    width: 32px;\n",
              "  }\n",
              "\n",
              "  .colab-df-quickchart:hover {\n",
              "    background-color: #E2EBFA;\n",
              "    box-shadow: 0px 1px 2px rgba(60, 64, 67, 0.3), 0px 1px 3px 1px rgba(60, 64, 67, 0.15);\n",
              "    fill: #174EA6;\n",
              "  }\n",
              "\n",
              "  [theme=dark] .colab-df-quickchart {\n",
              "    background-color: #3B4455;\n",
              "    fill: #D2E3FC;\n",
              "  }\n",
              "\n",
              "  [theme=dark] .colab-df-quickchart:hover {\n",
              "    background-color: #434B5C;\n",
              "    box-shadow: 0px 1px 3px 1px rgba(0, 0, 0, 0.15);\n",
              "    filter: drop-shadow(0px 1px 2px rgba(0, 0, 0, 0.3));\n",
              "    fill: #FFFFFF;\n",
              "  }\n",
              "</style>\n",
              "\n",
              "    <script>\n",
              "      async function quickchart(key) {\n",
              "        const containerElement = document.querySelector('#' + key);\n",
              "        const charts = await google.colab.kernel.invokeFunction(\n",
              "            'suggestCharts', [key], {});\n",
              "      }\n",
              "    </script>\n",
              "\n",
              "      <script>\n",
              "\n",
              "function displayQuickchartButton(domScope) {\n",
              "  let quickchartButtonEl =\n",
              "    domScope.querySelector('#df-36239928-870d-4c4a-b679-9dbc896314c4 button.colab-df-quickchart');\n",
              "  quickchartButtonEl.style.display =\n",
              "    google.colab.kernel.accessAllowed ? 'block' : 'none';\n",
              "}\n",
              "\n",
              "        displayQuickchartButton(document);\n",
              "      </script>\n",
              "      <style>\n",
              "    .colab-df-container {\n",
              "      display:flex;\n",
              "      flex-wrap:wrap;\n",
              "      gap: 12px;\n",
              "    }\n",
              "\n",
              "    .colab-df-convert {\n",
              "      background-color: #E8F0FE;\n",
              "      border: none;\n",
              "      border-radius: 50%;\n",
              "      cursor: pointer;\n",
              "      display: none;\n",
              "      fill: #1967D2;\n",
              "      height: 32px;\n",
              "      padding: 0 0 0 0;\n",
              "      width: 32px;\n",
              "    }\n",
              "\n",
              "    .colab-df-convert:hover {\n",
              "      background-color: #E2EBFA;\n",
              "      box-shadow: 0px 1px 2px rgba(60, 64, 67, 0.3), 0px 1px 3px 1px rgba(60, 64, 67, 0.15);\n",
              "      fill: #174EA6;\n",
              "    }\n",
              "\n",
              "    [theme=dark] .colab-df-convert {\n",
              "      background-color: #3B4455;\n",
              "      fill: #D2E3FC;\n",
              "    }\n",
              "\n",
              "    [theme=dark] .colab-df-convert:hover {\n",
              "      background-color: #434B5C;\n",
              "      box-shadow: 0px 1px 3px 1px rgba(0, 0, 0, 0.15);\n",
              "      filter: drop-shadow(0px 1px 2px rgba(0, 0, 0, 0.3));\n",
              "      fill: #FFFFFF;\n",
              "    }\n",
              "  </style>\n",
              "\n",
              "      <script>\n",
              "        const buttonEl =\n",
              "          document.querySelector('#df-4b5c19ab-40d9-424f-a005-3cf0bf8f9674 button.colab-df-convert');\n",
              "        buttonEl.style.display =\n",
              "          google.colab.kernel.accessAllowed ? 'block' : 'none';\n",
              "\n",
              "        async function convertToInteractive(key) {\n",
              "          const element = document.querySelector('#df-4b5c19ab-40d9-424f-a005-3cf0bf8f9674');\n",
              "          const dataTable =\n",
              "            await google.colab.kernel.invokeFunction('convertToInteractive',\n",
              "                                                     [key], {});\n",
              "          if (!dataTable) return;\n",
              "\n",
              "          const docLinkHtml = 'Like what you see? Visit the ' +\n",
              "            '<a target=\"_blank\" href=https://colab.research.google.com/notebooks/data_table.ipynb>data table notebook</a>'\n",
              "            + ' to learn more about interactive tables.';\n",
              "          element.innerHTML = '';\n",
              "          dataTable['output_type'] = 'display_data';\n",
              "          await google.colab.output.renderOutput(dataTable, element);\n",
              "          const docLink = document.createElement('div');\n",
              "          docLink.innerHTML = docLinkHtml;\n",
              "          element.appendChild(docLink);\n",
              "        }\n",
              "      </script>\n",
              "    </div>\n",
              "  </div>\n"
            ]
          },
          "metadata": {},
          "execution_count": 38
        }
      ]
    },
    {
      "cell_type": "markdown",
      "source": [],
      "metadata": {
        "id": "fJ2wF0ykGim5"
      }
    },
    {
      "cell_type": "code",
      "source": [],
      "metadata": {
        "id": "qUQANT2BBKTS"
      },
      "execution_count": null,
      "outputs": []
    }
  ]
}