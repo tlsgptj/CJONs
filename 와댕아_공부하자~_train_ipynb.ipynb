{
  "nbformat": 4,
  "nbformat_minor": 0,
  "metadata": {
    "colab": {
      "provenance": [],
      "gpuType": "V100",
      "machine_shape": "hm",
      "include_colab_link": true
    },
    "kernelspec": {
      "name": "python3",
      "display_name": "Python 3"
    },
    "language_info": {
      "name": "python"
    },
    "accelerator": "GPU",
    "widgets": {
      "application/vnd.jupyter.widget-state+json": {
        "3690cacf429d41c2bef5d444b9151856": {
          "model_module": "@jupyter-widgets/controls",
          "model_name": "HBoxModel",
          "model_module_version": "1.5.0",
          "state": {
            "_dom_classes": [],
            "_model_module": "@jupyter-widgets/controls",
            "_model_module_version": "1.5.0",
            "_model_name": "HBoxModel",
            "_view_count": null,
            "_view_module": "@jupyter-widgets/controls",
            "_view_module_version": "1.5.0",
            "_view_name": "HBoxView",
            "box_style": "",
            "children": [
              "IPY_MODEL_074a827cd2ec4af6974016ff1b465b49",
              "IPY_MODEL_abc025cebaab4dd194f2e9dca4563e26",
              "IPY_MODEL_0db70689f173450781f7a168b9c8f522"
            ],
            "layout": "IPY_MODEL_979490014eb44d8792343221e07dbded"
          }
        },
        "074a827cd2ec4af6974016ff1b465b49": {
          "model_module": "@jupyter-widgets/controls",
          "model_name": "HTMLModel",
          "model_module_version": "1.5.0",
          "state": {
            "_dom_classes": [],
            "_model_module": "@jupyter-widgets/controls",
            "_model_module_version": "1.5.0",
            "_model_name": "HTMLModel",
            "_view_count": null,
            "_view_module": "@jupyter-widgets/controls",
            "_view_module_version": "1.5.0",
            "_view_name": "HTMLView",
            "description": "",
            "description_tooltip": null,
            "layout": "IPY_MODEL_8117d37ec9df4516a04133c698c8c0fa",
            "placeholder": "​",
            "style": "IPY_MODEL_e43d869871114657ac5753048cd19508",
            "value": "Downloading (…)solve/main/vocab.txt: 100%"
          }
        },
        "abc025cebaab4dd194f2e9dca4563e26": {
          "model_module": "@jupyter-widgets/controls",
          "model_name": "FloatProgressModel",
          "model_module_version": "1.5.0",
          "state": {
            "_dom_classes": [],
            "_model_module": "@jupyter-widgets/controls",
            "_model_module_version": "1.5.0",
            "_model_name": "FloatProgressModel",
            "_view_count": null,
            "_view_module": "@jupyter-widgets/controls",
            "_view_module_version": "1.5.0",
            "_view_name": "ProgressView",
            "bar_style": "success",
            "description": "",
            "description_tooltip": null,
            "layout": "IPY_MODEL_93de0bd0907b46c790102894171acce7",
            "max": 231508,
            "min": 0,
            "orientation": "horizontal",
            "style": "IPY_MODEL_272dffff375844978577eeda5833d88a",
            "value": 231508
          }
        },
        "0db70689f173450781f7a168b9c8f522": {
          "model_module": "@jupyter-widgets/controls",
          "model_name": "HTMLModel",
          "model_module_version": "1.5.0",
          "state": {
            "_dom_classes": [],
            "_model_module": "@jupyter-widgets/controls",
            "_model_module_version": "1.5.0",
            "_model_name": "HTMLModel",
            "_view_count": null,
            "_view_module": "@jupyter-widgets/controls",
            "_view_module_version": "1.5.0",
            "_view_name": "HTMLView",
            "description": "",
            "description_tooltip": null,
            "layout": "IPY_MODEL_4e07e6d0688242d99284a710eca0a6e9",
            "placeholder": "​",
            "style": "IPY_MODEL_b251432d76524eeaa9da0c6315819aac",
            "value": " 232k/232k [00:00&lt;00:00, 1.44MB/s]"
          }
        },
        "979490014eb44d8792343221e07dbded": {
          "model_module": "@jupyter-widgets/base",
          "model_name": "LayoutModel",
          "model_module_version": "1.2.0",
          "state": {
            "_model_module": "@jupyter-widgets/base",
            "_model_module_version": "1.2.0",
            "_model_name": "LayoutModel",
            "_view_count": null,
            "_view_module": "@jupyter-widgets/base",
            "_view_module_version": "1.2.0",
            "_view_name": "LayoutView",
            "align_content": null,
            "align_items": null,
            "align_self": null,
            "border": null,
            "bottom": null,
            "display": null,
            "flex": null,
            "flex_flow": null,
            "grid_area": null,
            "grid_auto_columns": null,
            "grid_auto_flow": null,
            "grid_auto_rows": null,
            "grid_column": null,
            "grid_gap": null,
            "grid_row": null,
            "grid_template_areas": null,
            "grid_template_columns": null,
            "grid_template_rows": null,
            "height": null,
            "justify_content": null,
            "justify_items": null,
            "left": null,
            "margin": null,
            "max_height": null,
            "max_width": null,
            "min_height": null,
            "min_width": null,
            "object_fit": null,
            "object_position": null,
            "order": null,
            "overflow": null,
            "overflow_x": null,
            "overflow_y": null,
            "padding": null,
            "right": null,
            "top": null,
            "visibility": null,
            "width": null
          }
        },
        "8117d37ec9df4516a04133c698c8c0fa": {
          "model_module": "@jupyter-widgets/base",
          "model_name": "LayoutModel",
          "model_module_version": "1.2.0",
          "state": {
            "_model_module": "@jupyter-widgets/base",
            "_model_module_version": "1.2.0",
            "_model_name": "LayoutModel",
            "_view_count": null,
            "_view_module": "@jupyter-widgets/base",
            "_view_module_version": "1.2.0",
            "_view_name": "LayoutView",
            "align_content": null,
            "align_items": null,
            "align_self": null,
            "border": null,
            "bottom": null,
            "display": null,
            "flex": null,
            "flex_flow": null,
            "grid_area": null,
            "grid_auto_columns": null,
            "grid_auto_flow": null,
            "grid_auto_rows": null,
            "grid_column": null,
            "grid_gap": null,
            "grid_row": null,
            "grid_template_areas": null,
            "grid_template_columns": null,
            "grid_template_rows": null,
            "height": null,
            "justify_content": null,
            "justify_items": null,
            "left": null,
            "margin": null,
            "max_height": null,
            "max_width": null,
            "min_height": null,
            "min_width": null,
            "object_fit": null,
            "object_position": null,
            "order": null,
            "overflow": null,
            "overflow_x": null,
            "overflow_y": null,
            "padding": null,
            "right": null,
            "top": null,
            "visibility": null,
            "width": null
          }
        },
        "e43d869871114657ac5753048cd19508": {
          "model_module": "@jupyter-widgets/controls",
          "model_name": "DescriptionStyleModel",
          "model_module_version": "1.5.0",
          "state": {
            "_model_module": "@jupyter-widgets/controls",
            "_model_module_version": "1.5.0",
            "_model_name": "DescriptionStyleModel",
            "_view_count": null,
            "_view_module": "@jupyter-widgets/base",
            "_view_module_version": "1.2.0",
            "_view_name": "StyleView",
            "description_width": ""
          }
        },
        "93de0bd0907b46c790102894171acce7": {
          "model_module": "@jupyter-widgets/base",
          "model_name": "LayoutModel",
          "model_module_version": "1.2.0",
          "state": {
            "_model_module": "@jupyter-widgets/base",
            "_model_module_version": "1.2.0",
            "_model_name": "LayoutModel",
            "_view_count": null,
            "_view_module": "@jupyter-widgets/base",
            "_view_module_version": "1.2.0",
            "_view_name": "LayoutView",
            "align_content": null,
            "align_items": null,
            "align_self": null,
            "border": null,
            "bottom": null,
            "display": null,
            "flex": null,
            "flex_flow": null,
            "grid_area": null,
            "grid_auto_columns": null,
            "grid_auto_flow": null,
            "grid_auto_rows": null,
            "grid_column": null,
            "grid_gap": null,
            "grid_row": null,
            "grid_template_areas": null,
            "grid_template_columns": null,
            "grid_template_rows": null,
            "height": null,
            "justify_content": null,
            "justify_items": null,
            "left": null,
            "margin": null,
            "max_height": null,
            "max_width": null,
            "min_height": null,
            "min_width": null,
            "object_fit": null,
            "object_position": null,
            "order": null,
            "overflow": null,
            "overflow_x": null,
            "overflow_y": null,
            "padding": null,
            "right": null,
            "top": null,
            "visibility": null,
            "width": null
          }
        },
        "272dffff375844978577eeda5833d88a": {
          "model_module": "@jupyter-widgets/controls",
          "model_name": "ProgressStyleModel",
          "model_module_version": "1.5.0",
          "state": {
            "_model_module": "@jupyter-widgets/controls",
            "_model_module_version": "1.5.0",
            "_model_name": "ProgressStyleModel",
            "_view_count": null,
            "_view_module": "@jupyter-widgets/base",
            "_view_module_version": "1.2.0",
            "_view_name": "StyleView",
            "bar_color": null,
            "description_width": ""
          }
        },
        "4e07e6d0688242d99284a710eca0a6e9": {
          "model_module": "@jupyter-widgets/base",
          "model_name": "LayoutModel",
          "model_module_version": "1.2.0",
          "state": {
            "_model_module": "@jupyter-widgets/base",
            "_model_module_version": "1.2.0",
            "_model_name": "LayoutModel",
            "_view_count": null,
            "_view_module": "@jupyter-widgets/base",
            "_view_module_version": "1.2.0",
            "_view_name": "LayoutView",
            "align_content": null,
            "align_items": null,
            "align_self": null,
            "border": null,
            "bottom": null,
            "display": null,
            "flex": null,
            "flex_flow": null,
            "grid_area": null,
            "grid_auto_columns": null,
            "grid_auto_flow": null,
            "grid_auto_rows": null,
            "grid_column": null,
            "grid_gap": null,
            "grid_row": null,
            "grid_template_areas": null,
            "grid_template_columns": null,
            "grid_template_rows": null,
            "height": null,
            "justify_content": null,
            "justify_items": null,
            "left": null,
            "margin": null,
            "max_height": null,
            "max_width": null,
            "min_height": null,
            "min_width": null,
            "object_fit": null,
            "object_position": null,
            "order": null,
            "overflow": null,
            "overflow_x": null,
            "overflow_y": null,
            "padding": null,
            "right": null,
            "top": null,
            "visibility": null,
            "width": null
          }
        },
        "b251432d76524eeaa9da0c6315819aac": {
          "model_module": "@jupyter-widgets/controls",
          "model_name": "DescriptionStyleModel",
          "model_module_version": "1.5.0",
          "state": {
            "_model_module": "@jupyter-widgets/controls",
            "_model_module_version": "1.5.0",
            "_model_name": "DescriptionStyleModel",
            "_view_count": null,
            "_view_module": "@jupyter-widgets/base",
            "_view_module_version": "1.2.0",
            "_view_name": "StyleView",
            "description_width": ""
          }
        },
        "9cc6b1c650bf414c90b3b54ac2dd4edb": {
          "model_module": "@jupyter-widgets/controls",
          "model_name": "HBoxModel",
          "model_module_version": "1.5.0",
          "state": {
            "_dom_classes": [],
            "_model_module": "@jupyter-widgets/controls",
            "_model_module_version": "1.5.0",
            "_model_name": "HBoxModel",
            "_view_count": null,
            "_view_module": "@jupyter-widgets/controls",
            "_view_module_version": "1.5.0",
            "_view_name": "HBoxView",
            "box_style": "",
            "children": [
              "IPY_MODEL_9d9aef356c0b4da2bf0ebbd3e10631a8",
              "IPY_MODEL_0e15e99882764fd2a4286d892da220ba",
              "IPY_MODEL_972789c1d1ae4589b964bd3b9f2a13df"
            ],
            "layout": "IPY_MODEL_dc92c8879ca647308842b41b0ac5786e"
          }
        },
        "9d9aef356c0b4da2bf0ebbd3e10631a8": {
          "model_module": "@jupyter-widgets/controls",
          "model_name": "HTMLModel",
          "model_module_version": "1.5.0",
          "state": {
            "_dom_classes": [],
            "_model_module": "@jupyter-widgets/controls",
            "_model_module_version": "1.5.0",
            "_model_name": "HTMLModel",
            "_view_count": null,
            "_view_module": "@jupyter-widgets/controls",
            "_view_module_version": "1.5.0",
            "_view_name": "HTMLView",
            "description": "",
            "description_tooltip": null,
            "layout": "IPY_MODEL_e62c9063022b43dab2698bfaaefdc484",
            "placeholder": "​",
            "style": "IPY_MODEL_7ee19253a6184d08b003e81e6ce8cec2",
            "value": "Downloading (…)okenizer_config.json: 100%"
          }
        },
        "0e15e99882764fd2a4286d892da220ba": {
          "model_module": "@jupyter-widgets/controls",
          "model_name": "FloatProgressModel",
          "model_module_version": "1.5.0",
          "state": {
            "_dom_classes": [],
            "_model_module": "@jupyter-widgets/controls",
            "_model_module_version": "1.5.0",
            "_model_name": "FloatProgressModel",
            "_view_count": null,
            "_view_module": "@jupyter-widgets/controls",
            "_view_module_version": "1.5.0",
            "_view_name": "ProgressView",
            "bar_style": "success",
            "description": "",
            "description_tooltip": null,
            "layout": "IPY_MODEL_5b5b514931db4938ac028bedc6cb4059",
            "max": 28,
            "min": 0,
            "orientation": "horizontal",
            "style": "IPY_MODEL_b9163b2c9df7410ba201030b15f44f96",
            "value": 28
          }
        },
        "972789c1d1ae4589b964bd3b9f2a13df": {
          "model_module": "@jupyter-widgets/controls",
          "model_name": "HTMLModel",
          "model_module_version": "1.5.0",
          "state": {
            "_dom_classes": [],
            "_model_module": "@jupyter-widgets/controls",
            "_model_module_version": "1.5.0",
            "_model_name": "HTMLModel",
            "_view_count": null,
            "_view_module": "@jupyter-widgets/controls",
            "_view_module_version": "1.5.0",
            "_view_name": "HTMLView",
            "description": "",
            "description_tooltip": null,
            "layout": "IPY_MODEL_514bfa5d2f924243aeaff2faee246b69",
            "placeholder": "​",
            "style": "IPY_MODEL_01febf36feae465f95b24859d7b96743",
            "value": " 28.0/28.0 [00:00&lt;00:00, 2.30kB/s]"
          }
        },
        "dc92c8879ca647308842b41b0ac5786e": {
          "model_module": "@jupyter-widgets/base",
          "model_name": "LayoutModel",
          "model_module_version": "1.2.0",
          "state": {
            "_model_module": "@jupyter-widgets/base",
            "_model_module_version": "1.2.0",
            "_model_name": "LayoutModel",
            "_view_count": null,
            "_view_module": "@jupyter-widgets/base",
            "_view_module_version": "1.2.0",
            "_view_name": "LayoutView",
            "align_content": null,
            "align_items": null,
            "align_self": null,
            "border": null,
            "bottom": null,
            "display": null,
            "flex": null,
            "flex_flow": null,
            "grid_area": null,
            "grid_auto_columns": null,
            "grid_auto_flow": null,
            "grid_auto_rows": null,
            "grid_column": null,
            "grid_gap": null,
            "grid_row": null,
            "grid_template_areas": null,
            "grid_template_columns": null,
            "grid_template_rows": null,
            "height": null,
            "justify_content": null,
            "justify_items": null,
            "left": null,
            "margin": null,
            "max_height": null,
            "max_width": null,
            "min_height": null,
            "min_width": null,
            "object_fit": null,
            "object_position": null,
            "order": null,
            "overflow": null,
            "overflow_x": null,
            "overflow_y": null,
            "padding": null,
            "right": null,
            "top": null,
            "visibility": null,
            "width": null
          }
        },
        "e62c9063022b43dab2698bfaaefdc484": {
          "model_module": "@jupyter-widgets/base",
          "model_name": "LayoutModel",
          "model_module_version": "1.2.0",
          "state": {
            "_model_module": "@jupyter-widgets/base",
            "_model_module_version": "1.2.0",
            "_model_name": "LayoutModel",
            "_view_count": null,
            "_view_module": "@jupyter-widgets/base",
            "_view_module_version": "1.2.0",
            "_view_name": "LayoutView",
            "align_content": null,
            "align_items": null,
            "align_self": null,
            "border": null,
            "bottom": null,
            "display": null,
            "flex": null,
            "flex_flow": null,
            "grid_area": null,
            "grid_auto_columns": null,
            "grid_auto_flow": null,
            "grid_auto_rows": null,
            "grid_column": null,
            "grid_gap": null,
            "grid_row": null,
            "grid_template_areas": null,
            "grid_template_columns": null,
            "grid_template_rows": null,
            "height": null,
            "justify_content": null,
            "justify_items": null,
            "left": null,
            "margin": null,
            "max_height": null,
            "max_width": null,
            "min_height": null,
            "min_width": null,
            "object_fit": null,
            "object_position": null,
            "order": null,
            "overflow": null,
            "overflow_x": null,
            "overflow_y": null,
            "padding": null,
            "right": null,
            "top": null,
            "visibility": null,
            "width": null
          }
        },
        "7ee19253a6184d08b003e81e6ce8cec2": {
          "model_module": "@jupyter-widgets/controls",
          "model_name": "DescriptionStyleModel",
          "model_module_version": "1.5.0",
          "state": {
            "_model_module": "@jupyter-widgets/controls",
            "_model_module_version": "1.5.0",
            "_model_name": "DescriptionStyleModel",
            "_view_count": null,
            "_view_module": "@jupyter-widgets/base",
            "_view_module_version": "1.2.0",
            "_view_name": "StyleView",
            "description_width": ""
          }
        },
        "5b5b514931db4938ac028bedc6cb4059": {
          "model_module": "@jupyter-widgets/base",
          "model_name": "LayoutModel",
          "model_module_version": "1.2.0",
          "state": {
            "_model_module": "@jupyter-widgets/base",
            "_model_module_version": "1.2.0",
            "_model_name": "LayoutModel",
            "_view_count": null,
            "_view_module": "@jupyter-widgets/base",
            "_view_module_version": "1.2.0",
            "_view_name": "LayoutView",
            "align_content": null,
            "align_items": null,
            "align_self": null,
            "border": null,
            "bottom": null,
            "display": null,
            "flex": null,
            "flex_flow": null,
            "grid_area": null,
            "grid_auto_columns": null,
            "grid_auto_flow": null,
            "grid_auto_rows": null,
            "grid_column": null,
            "grid_gap": null,
            "grid_row": null,
            "grid_template_areas": null,
            "grid_template_columns": null,
            "grid_template_rows": null,
            "height": null,
            "justify_content": null,
            "justify_items": null,
            "left": null,
            "margin": null,
            "max_height": null,
            "max_width": null,
            "min_height": null,
            "min_width": null,
            "object_fit": null,
            "object_position": null,
            "order": null,
            "overflow": null,
            "overflow_x": null,
            "overflow_y": null,
            "padding": null,
            "right": null,
            "top": null,
            "visibility": null,
            "width": null
          }
        },
        "b9163b2c9df7410ba201030b15f44f96": {
          "model_module": "@jupyter-widgets/controls",
          "model_name": "ProgressStyleModel",
          "model_module_version": "1.5.0",
          "state": {
            "_model_module": "@jupyter-widgets/controls",
            "_model_module_version": "1.5.0",
            "_model_name": "ProgressStyleModel",
            "_view_count": null,
            "_view_module": "@jupyter-widgets/base",
            "_view_module_version": "1.2.0",
            "_view_name": "StyleView",
            "bar_color": null,
            "description_width": ""
          }
        },
        "514bfa5d2f924243aeaff2faee246b69": {
          "model_module": "@jupyter-widgets/base",
          "model_name": "LayoutModel",
          "model_module_version": "1.2.0",
          "state": {
            "_model_module": "@jupyter-widgets/base",
            "_model_module_version": "1.2.0",
            "_model_name": "LayoutModel",
            "_view_count": null,
            "_view_module": "@jupyter-widgets/base",
            "_view_module_version": "1.2.0",
            "_view_name": "LayoutView",
            "align_content": null,
            "align_items": null,
            "align_self": null,
            "border": null,
            "bottom": null,
            "display": null,
            "flex": null,
            "flex_flow": null,
            "grid_area": null,
            "grid_auto_columns": null,
            "grid_auto_flow": null,
            "grid_auto_rows": null,
            "grid_column": null,
            "grid_gap": null,
            "grid_row": null,
            "grid_template_areas": null,
            "grid_template_columns": null,
            "grid_template_rows": null,
            "height": null,
            "justify_content": null,
            "justify_items": null,
            "left": null,
            "margin": null,
            "max_height": null,
            "max_width": null,
            "min_height": null,
            "min_width": null,
            "object_fit": null,
            "object_position": null,
            "order": null,
            "overflow": null,
            "overflow_x": null,
            "overflow_y": null,
            "padding": null,
            "right": null,
            "top": null,
            "visibility": null,
            "width": null
          }
        },
        "01febf36feae465f95b24859d7b96743": {
          "model_module": "@jupyter-widgets/controls",
          "model_name": "DescriptionStyleModel",
          "model_module_version": "1.5.0",
          "state": {
            "_model_module": "@jupyter-widgets/controls",
            "_model_module_version": "1.5.0",
            "_model_name": "DescriptionStyleModel",
            "_view_count": null,
            "_view_module": "@jupyter-widgets/base",
            "_view_module_version": "1.2.0",
            "_view_name": "StyleView",
            "description_width": ""
          }
        },
        "8bbc4ea4f54944beb30f7d791a2f77ea": {
          "model_module": "@jupyter-widgets/controls",
          "model_name": "HBoxModel",
          "model_module_version": "1.5.0",
          "state": {
            "_dom_classes": [],
            "_model_module": "@jupyter-widgets/controls",
            "_model_module_version": "1.5.0",
            "_model_name": "HBoxModel",
            "_view_count": null,
            "_view_module": "@jupyter-widgets/controls",
            "_view_module_version": "1.5.0",
            "_view_name": "HBoxView",
            "box_style": "",
            "children": [
              "IPY_MODEL_40c6cfd2f6d3480cb5bd47d1db758826",
              "IPY_MODEL_e3387926da6f43888209bb222bb62767",
              "IPY_MODEL_ae0d5c932ec842188e339bb3b822890b"
            ],
            "layout": "IPY_MODEL_b6cc0d58319849ea8b3956027067186d"
          }
        },
        "40c6cfd2f6d3480cb5bd47d1db758826": {
          "model_module": "@jupyter-widgets/controls",
          "model_name": "HTMLModel",
          "model_module_version": "1.5.0",
          "state": {
            "_dom_classes": [],
            "_model_module": "@jupyter-widgets/controls",
            "_model_module_version": "1.5.0",
            "_model_name": "HTMLModel",
            "_view_count": null,
            "_view_module": "@jupyter-widgets/controls",
            "_view_module_version": "1.5.0",
            "_view_name": "HTMLView",
            "description": "",
            "description_tooltip": null,
            "layout": "IPY_MODEL_27e776ad38b649c1a822598c93d89fbf",
            "placeholder": "​",
            "style": "IPY_MODEL_64aa6610d7414cc19e97c797f921eb8a",
            "value": "Downloading (…)lve/main/config.json: 100%"
          }
        },
        "e3387926da6f43888209bb222bb62767": {
          "model_module": "@jupyter-widgets/controls",
          "model_name": "FloatProgressModel",
          "model_module_version": "1.5.0",
          "state": {
            "_dom_classes": [],
            "_model_module": "@jupyter-widgets/controls",
            "_model_module_version": "1.5.0",
            "_model_name": "FloatProgressModel",
            "_view_count": null,
            "_view_module": "@jupyter-widgets/controls",
            "_view_module_version": "1.5.0",
            "_view_name": "ProgressView",
            "bar_style": "success",
            "description": "",
            "description_tooltip": null,
            "layout": "IPY_MODEL_dddb483cc998419f8e2fb165fefd30c5",
            "max": 570,
            "min": 0,
            "orientation": "horizontal",
            "style": "IPY_MODEL_f170fb8125ee4b48aa1d292233257619",
            "value": 570
          }
        },
        "ae0d5c932ec842188e339bb3b822890b": {
          "model_module": "@jupyter-widgets/controls",
          "model_name": "HTMLModel",
          "model_module_version": "1.5.0",
          "state": {
            "_dom_classes": [],
            "_model_module": "@jupyter-widgets/controls",
            "_model_module_version": "1.5.0",
            "_model_name": "HTMLModel",
            "_view_count": null,
            "_view_module": "@jupyter-widgets/controls",
            "_view_module_version": "1.5.0",
            "_view_name": "HTMLView",
            "description": "",
            "description_tooltip": null,
            "layout": "IPY_MODEL_85f5ee0712c2436a805dc66d87f013ab",
            "placeholder": "​",
            "style": "IPY_MODEL_e0b1e98a2e1b4d8b84d71fa9b9d1814f",
            "value": " 570/570 [00:00&lt;00:00, 50.1kB/s]"
          }
        },
        "b6cc0d58319849ea8b3956027067186d": {
          "model_module": "@jupyter-widgets/base",
          "model_name": "LayoutModel",
          "model_module_version": "1.2.0",
          "state": {
            "_model_module": "@jupyter-widgets/base",
            "_model_module_version": "1.2.0",
            "_model_name": "LayoutModel",
            "_view_count": null,
            "_view_module": "@jupyter-widgets/base",
            "_view_module_version": "1.2.0",
            "_view_name": "LayoutView",
            "align_content": null,
            "align_items": null,
            "align_self": null,
            "border": null,
            "bottom": null,
            "display": null,
            "flex": null,
            "flex_flow": null,
            "grid_area": null,
            "grid_auto_columns": null,
            "grid_auto_flow": null,
            "grid_auto_rows": null,
            "grid_column": null,
            "grid_gap": null,
            "grid_row": null,
            "grid_template_areas": null,
            "grid_template_columns": null,
            "grid_template_rows": null,
            "height": null,
            "justify_content": null,
            "justify_items": null,
            "left": null,
            "margin": null,
            "max_height": null,
            "max_width": null,
            "min_height": null,
            "min_width": null,
            "object_fit": null,
            "object_position": null,
            "order": null,
            "overflow": null,
            "overflow_x": null,
            "overflow_y": null,
            "padding": null,
            "right": null,
            "top": null,
            "visibility": null,
            "width": null
          }
        },
        "27e776ad38b649c1a822598c93d89fbf": {
          "model_module": "@jupyter-widgets/base",
          "model_name": "LayoutModel",
          "model_module_version": "1.2.0",
          "state": {
            "_model_module": "@jupyter-widgets/base",
            "_model_module_version": "1.2.0",
            "_model_name": "LayoutModel",
            "_view_count": null,
            "_view_module": "@jupyter-widgets/base",
            "_view_module_version": "1.2.0",
            "_view_name": "LayoutView",
            "align_content": null,
            "align_items": null,
            "align_self": null,
            "border": null,
            "bottom": null,
            "display": null,
            "flex": null,
            "flex_flow": null,
            "grid_area": null,
            "grid_auto_columns": null,
            "grid_auto_flow": null,
            "grid_auto_rows": null,
            "grid_column": null,
            "grid_gap": null,
            "grid_row": null,
            "grid_template_areas": null,
            "grid_template_columns": null,
            "grid_template_rows": null,
            "height": null,
            "justify_content": null,
            "justify_items": null,
            "left": null,
            "margin": null,
            "max_height": null,
            "max_width": null,
            "min_height": null,
            "min_width": null,
            "object_fit": null,
            "object_position": null,
            "order": null,
            "overflow": null,
            "overflow_x": null,
            "overflow_y": null,
            "padding": null,
            "right": null,
            "top": null,
            "visibility": null,
            "width": null
          }
        },
        "64aa6610d7414cc19e97c797f921eb8a": {
          "model_module": "@jupyter-widgets/controls",
          "model_name": "DescriptionStyleModel",
          "model_module_version": "1.5.0",
          "state": {
            "_model_module": "@jupyter-widgets/controls",
            "_model_module_version": "1.5.0",
            "_model_name": "DescriptionStyleModel",
            "_view_count": null,
            "_view_module": "@jupyter-widgets/base",
            "_view_module_version": "1.2.0",
            "_view_name": "StyleView",
            "description_width": ""
          }
        },
        "dddb483cc998419f8e2fb165fefd30c5": {
          "model_module": "@jupyter-widgets/base",
          "model_name": "LayoutModel",
          "model_module_version": "1.2.0",
          "state": {
            "_model_module": "@jupyter-widgets/base",
            "_model_module_version": "1.2.0",
            "_model_name": "LayoutModel",
            "_view_count": null,
            "_view_module": "@jupyter-widgets/base",
            "_view_module_version": "1.2.0",
            "_view_name": "LayoutView",
            "align_content": null,
            "align_items": null,
            "align_self": null,
            "border": null,
            "bottom": null,
            "display": null,
            "flex": null,
            "flex_flow": null,
            "grid_area": null,
            "grid_auto_columns": null,
            "grid_auto_flow": null,
            "grid_auto_rows": null,
            "grid_column": null,
            "grid_gap": null,
            "grid_row": null,
            "grid_template_areas": null,
            "grid_template_columns": null,
            "grid_template_rows": null,
            "height": null,
            "justify_content": null,
            "justify_items": null,
            "left": null,
            "margin": null,
            "max_height": null,
            "max_width": null,
            "min_height": null,
            "min_width": null,
            "object_fit": null,
            "object_position": null,
            "order": null,
            "overflow": null,
            "overflow_x": null,
            "overflow_y": null,
            "padding": null,
            "right": null,
            "top": null,
            "visibility": null,
            "width": null
          }
        },
        "f170fb8125ee4b48aa1d292233257619": {
          "model_module": "@jupyter-widgets/controls",
          "model_name": "ProgressStyleModel",
          "model_module_version": "1.5.0",
          "state": {
            "_model_module": "@jupyter-widgets/controls",
            "_model_module_version": "1.5.0",
            "_model_name": "ProgressStyleModel",
            "_view_count": null,
            "_view_module": "@jupyter-widgets/base",
            "_view_module_version": "1.2.0",
            "_view_name": "StyleView",
            "bar_color": null,
            "description_width": ""
          }
        },
        "85f5ee0712c2436a805dc66d87f013ab": {
          "model_module": "@jupyter-widgets/base",
          "model_name": "LayoutModel",
          "model_module_version": "1.2.0",
          "state": {
            "_model_module": "@jupyter-widgets/base",
            "_model_module_version": "1.2.0",
            "_model_name": "LayoutModel",
            "_view_count": null,
            "_view_module": "@jupyter-widgets/base",
            "_view_module_version": "1.2.0",
            "_view_name": "LayoutView",
            "align_content": null,
            "align_items": null,
            "align_self": null,
            "border": null,
            "bottom": null,
            "display": null,
            "flex": null,
            "flex_flow": null,
            "grid_area": null,
            "grid_auto_columns": null,
            "grid_auto_flow": null,
            "grid_auto_rows": null,
            "grid_column": null,
            "grid_gap": null,
            "grid_row": null,
            "grid_template_areas": null,
            "grid_template_columns": null,
            "grid_template_rows": null,
            "height": null,
            "justify_content": null,
            "justify_items": null,
            "left": null,
            "margin": null,
            "max_height": null,
            "max_width": null,
            "min_height": null,
            "min_width": null,
            "object_fit": null,
            "object_position": null,
            "order": null,
            "overflow": null,
            "overflow_x": null,
            "overflow_y": null,
            "padding": null,
            "right": null,
            "top": null,
            "visibility": null,
            "width": null
          }
        },
        "e0b1e98a2e1b4d8b84d71fa9b9d1814f": {
          "model_module": "@jupyter-widgets/controls",
          "model_name": "DescriptionStyleModel",
          "model_module_version": "1.5.0",
          "state": {
            "_model_module": "@jupyter-widgets/controls",
            "_model_module_version": "1.5.0",
            "_model_name": "DescriptionStyleModel",
            "_view_count": null,
            "_view_module": "@jupyter-widgets/base",
            "_view_module_version": "1.2.0",
            "_view_name": "StyleView",
            "description_width": ""
          }
        },
        "3a35aa85f08d4cc19946684c25b17914": {
          "model_module": "@jupyter-widgets/controls",
          "model_name": "HBoxModel",
          "model_module_version": "1.5.0",
          "state": {
            "_dom_classes": [],
            "_model_module": "@jupyter-widgets/controls",
            "_model_module_version": "1.5.0",
            "_model_name": "HBoxModel",
            "_view_count": null,
            "_view_module": "@jupyter-widgets/controls",
            "_view_module_version": "1.5.0",
            "_view_name": "HBoxView",
            "box_style": "",
            "children": [
              "IPY_MODEL_84fbcb8d3c314c67a1465e66de78382a",
              "IPY_MODEL_acc3823a25cb40e290df60a60e3b46cc",
              "IPY_MODEL_944f81f003c44b3b8d8f7df57795a15b"
            ],
            "layout": "IPY_MODEL_0202fcc9e8b347e5979b583fcc5ff96e"
          }
        },
        "84fbcb8d3c314c67a1465e66de78382a": {
          "model_module": "@jupyter-widgets/controls",
          "model_name": "HTMLModel",
          "model_module_version": "1.5.0",
          "state": {
            "_dom_classes": [],
            "_model_module": "@jupyter-widgets/controls",
            "_model_module_version": "1.5.0",
            "_model_name": "HTMLModel",
            "_view_count": null,
            "_view_module": "@jupyter-widgets/controls",
            "_view_module_version": "1.5.0",
            "_view_name": "HTMLView",
            "description": "",
            "description_tooltip": null,
            "layout": "IPY_MODEL_28f87b3f530049c786c74e65fe00435b",
            "placeholder": "​",
            "style": "IPY_MODEL_d9e547e1c6d84b68b4da503e23498c5c",
            "value": "Downloading model.safetensors: 100%"
          }
        },
        "acc3823a25cb40e290df60a60e3b46cc": {
          "model_module": "@jupyter-widgets/controls",
          "model_name": "FloatProgressModel",
          "model_module_version": "1.5.0",
          "state": {
            "_dom_classes": [],
            "_model_module": "@jupyter-widgets/controls",
            "_model_module_version": "1.5.0",
            "_model_name": "FloatProgressModel",
            "_view_count": null,
            "_view_module": "@jupyter-widgets/controls",
            "_view_module_version": "1.5.0",
            "_view_name": "ProgressView",
            "bar_style": "success",
            "description": "",
            "description_tooltip": null,
            "layout": "IPY_MODEL_8ad50d220ea9441e9d3a7e6edf9cbe4b",
            "max": 440449768,
            "min": 0,
            "orientation": "horizontal",
            "style": "IPY_MODEL_95c347f7f2d34c4db4873958b1be0b45",
            "value": 440449768
          }
        },
        "944f81f003c44b3b8d8f7df57795a15b": {
          "model_module": "@jupyter-widgets/controls",
          "model_name": "HTMLModel",
          "model_module_version": "1.5.0",
          "state": {
            "_dom_classes": [],
            "_model_module": "@jupyter-widgets/controls",
            "_model_module_version": "1.5.0",
            "_model_name": "HTMLModel",
            "_view_count": null,
            "_view_module": "@jupyter-widgets/controls",
            "_view_module_version": "1.5.0",
            "_view_name": "HTMLView",
            "description": "",
            "description_tooltip": null,
            "layout": "IPY_MODEL_408a419da282446cb84ce821b6094ebb",
            "placeholder": "​",
            "style": "IPY_MODEL_7dee77d4093a4aa3b22987186afbed0b",
            "value": " 440M/440M [00:01&lt;00:00, 358MB/s]"
          }
        },
        "0202fcc9e8b347e5979b583fcc5ff96e": {
          "model_module": "@jupyter-widgets/base",
          "model_name": "LayoutModel",
          "model_module_version": "1.2.0",
          "state": {
            "_model_module": "@jupyter-widgets/base",
            "_model_module_version": "1.2.0",
            "_model_name": "LayoutModel",
            "_view_count": null,
            "_view_module": "@jupyter-widgets/base",
            "_view_module_version": "1.2.0",
            "_view_name": "LayoutView",
            "align_content": null,
            "align_items": null,
            "align_self": null,
            "border": null,
            "bottom": null,
            "display": null,
            "flex": null,
            "flex_flow": null,
            "grid_area": null,
            "grid_auto_columns": null,
            "grid_auto_flow": null,
            "grid_auto_rows": null,
            "grid_column": null,
            "grid_gap": null,
            "grid_row": null,
            "grid_template_areas": null,
            "grid_template_columns": null,
            "grid_template_rows": null,
            "height": null,
            "justify_content": null,
            "justify_items": null,
            "left": null,
            "margin": null,
            "max_height": null,
            "max_width": null,
            "min_height": null,
            "min_width": null,
            "object_fit": null,
            "object_position": null,
            "order": null,
            "overflow": null,
            "overflow_x": null,
            "overflow_y": null,
            "padding": null,
            "right": null,
            "top": null,
            "visibility": null,
            "width": null
          }
        },
        "28f87b3f530049c786c74e65fe00435b": {
          "model_module": "@jupyter-widgets/base",
          "model_name": "LayoutModel",
          "model_module_version": "1.2.0",
          "state": {
            "_model_module": "@jupyter-widgets/base",
            "_model_module_version": "1.2.0",
            "_model_name": "LayoutModel",
            "_view_count": null,
            "_view_module": "@jupyter-widgets/base",
            "_view_module_version": "1.2.0",
            "_view_name": "LayoutView",
            "align_content": null,
            "align_items": null,
            "align_self": null,
            "border": null,
            "bottom": null,
            "display": null,
            "flex": null,
            "flex_flow": null,
            "grid_area": null,
            "grid_auto_columns": null,
            "grid_auto_flow": null,
            "grid_auto_rows": null,
            "grid_column": null,
            "grid_gap": null,
            "grid_row": null,
            "grid_template_areas": null,
            "grid_template_columns": null,
            "grid_template_rows": null,
            "height": null,
            "justify_content": null,
            "justify_items": null,
            "left": null,
            "margin": null,
            "max_height": null,
            "max_width": null,
            "min_height": null,
            "min_width": null,
            "object_fit": null,
            "object_position": null,
            "order": null,
            "overflow": null,
            "overflow_x": null,
            "overflow_y": null,
            "padding": null,
            "right": null,
            "top": null,
            "visibility": null,
            "width": null
          }
        },
        "d9e547e1c6d84b68b4da503e23498c5c": {
          "model_module": "@jupyter-widgets/controls",
          "model_name": "DescriptionStyleModel",
          "model_module_version": "1.5.0",
          "state": {
            "_model_module": "@jupyter-widgets/controls",
            "_model_module_version": "1.5.0",
            "_model_name": "DescriptionStyleModel",
            "_view_count": null,
            "_view_module": "@jupyter-widgets/base",
            "_view_module_version": "1.2.0",
            "_view_name": "StyleView",
            "description_width": ""
          }
        },
        "8ad50d220ea9441e9d3a7e6edf9cbe4b": {
          "model_module": "@jupyter-widgets/base",
          "model_name": "LayoutModel",
          "model_module_version": "1.2.0",
          "state": {
            "_model_module": "@jupyter-widgets/base",
            "_model_module_version": "1.2.0",
            "_model_name": "LayoutModel",
            "_view_count": null,
            "_view_module": "@jupyter-widgets/base",
            "_view_module_version": "1.2.0",
            "_view_name": "LayoutView",
            "align_content": null,
            "align_items": null,
            "align_self": null,
            "border": null,
            "bottom": null,
            "display": null,
            "flex": null,
            "flex_flow": null,
            "grid_area": null,
            "grid_auto_columns": null,
            "grid_auto_flow": null,
            "grid_auto_rows": null,
            "grid_column": null,
            "grid_gap": null,
            "grid_row": null,
            "grid_template_areas": null,
            "grid_template_columns": null,
            "grid_template_rows": null,
            "height": null,
            "justify_content": null,
            "justify_items": null,
            "left": null,
            "margin": null,
            "max_height": null,
            "max_width": null,
            "min_height": null,
            "min_width": null,
            "object_fit": null,
            "object_position": null,
            "order": null,
            "overflow": null,
            "overflow_x": null,
            "overflow_y": null,
            "padding": null,
            "right": null,
            "top": null,
            "visibility": null,
            "width": null
          }
        },
        "95c347f7f2d34c4db4873958b1be0b45": {
          "model_module": "@jupyter-widgets/controls",
          "model_name": "ProgressStyleModel",
          "model_module_version": "1.5.0",
          "state": {
            "_model_module": "@jupyter-widgets/controls",
            "_model_module_version": "1.5.0",
            "_model_name": "ProgressStyleModel",
            "_view_count": null,
            "_view_module": "@jupyter-widgets/base",
            "_view_module_version": "1.2.0",
            "_view_name": "StyleView",
            "bar_color": null,
            "description_width": ""
          }
        },
        "408a419da282446cb84ce821b6094ebb": {
          "model_module": "@jupyter-widgets/base",
          "model_name": "LayoutModel",
          "model_module_version": "1.2.0",
          "state": {
            "_model_module": "@jupyter-widgets/base",
            "_model_module_version": "1.2.0",
            "_model_name": "LayoutModel",
            "_view_count": null,
            "_view_module": "@jupyter-widgets/base",
            "_view_module_version": "1.2.0",
            "_view_name": "LayoutView",
            "align_content": null,
            "align_items": null,
            "align_self": null,
            "border": null,
            "bottom": null,
            "display": null,
            "flex": null,
            "flex_flow": null,
            "grid_area": null,
            "grid_auto_columns": null,
            "grid_auto_flow": null,
            "grid_auto_rows": null,
            "grid_column": null,
            "grid_gap": null,
            "grid_row": null,
            "grid_template_areas": null,
            "grid_template_columns": null,
            "grid_template_rows": null,
            "height": null,
            "justify_content": null,
            "justify_items": null,
            "left": null,
            "margin": null,
            "max_height": null,
            "max_width": null,
            "min_height": null,
            "min_width": null,
            "object_fit": null,
            "object_position": null,
            "order": null,
            "overflow": null,
            "overflow_x": null,
            "overflow_y": null,
            "padding": null,
            "right": null,
            "top": null,
            "visibility": null,
            "width": null
          }
        },
        "7dee77d4093a4aa3b22987186afbed0b": {
          "model_module": "@jupyter-widgets/controls",
          "model_name": "DescriptionStyleModel",
          "model_module_version": "1.5.0",
          "state": {
            "_model_module": "@jupyter-widgets/controls",
            "_model_module_version": "1.5.0",
            "_model_name": "DescriptionStyleModel",
            "_view_count": null,
            "_view_module": "@jupyter-widgets/base",
            "_view_module_version": "1.2.0",
            "_view_name": "StyleView",
            "description_width": ""
          }
        }
      }
    }
  },
  "cells": [
    {
      "cell_type": "markdown",
      "metadata": {
        "id": "view-in-github",
        "colab_type": "text"
      },
      "source": [
        "<a href=\"https://colab.research.google.com/github/tlsgptj/CJONs/blob/practice/%EC%99%80%EB%8C%95%EC%95%84_%EA%B3%B5%EB%B6%80%ED%95%98%EC%9E%90~_train_ipynb.ipynb\" target=\"_parent\"><img src=\"https://colab.research.google.com/assets/colab-badge.svg\" alt=\"Open In Colab\"/></a>"
      ]
    },
    {
      "cell_type": "markdown",
      "source": [
        "# 1. 학습을 위한 라이브러리 및 메소드 준비하기\n",
        "라이브러리와 메소드, 사용할 데이터셋 파일 등등 준비합니다."
      ],
      "metadata": {
        "id": "Evz4b09KfXL8"
      }
    },
    {
      "cell_type": "code",
      "execution_count": null,
      "metadata": {
        "id": "busL1Nobiy0T",
        "colab": {
          "base_uri": "https://localhost:8080/"
        },
        "outputId": "0852692e-96d9-43a6-ae99-63641b154805"
      },
      "outputs": [
        {
          "output_type": "stream",
          "name": "stdout",
          "text": [
            "Requirement already satisfied: wordcloud in /usr/local/lib/python3.10/dist-packages (1.8.2.2)\n",
            "Requirement already satisfied: numpy>=1.6.1 in /usr/local/lib/python3.10/dist-packages (from wordcloud) (1.23.4)\n",
            "Requirement already satisfied: pillow in /usr/local/lib/python3.10/dist-packages (from wordcloud) (9.4.0)\n",
            "Requirement already satisfied: matplotlib in /usr/local/lib/python3.10/dist-packages (from wordcloud) (3.7.1)\n",
            "Requirement already satisfied: contourpy>=1.0.1 in /usr/local/lib/python3.10/dist-packages (from matplotlib->wordcloud) (1.1.0)\n",
            "Requirement already satisfied: cycler>=0.10 in /usr/local/lib/python3.10/dist-packages (from matplotlib->wordcloud) (0.11.0)\n",
            "Requirement already satisfied: fonttools>=4.22.0 in /usr/local/lib/python3.10/dist-packages (from matplotlib->wordcloud) (4.41.1)\n",
            "Requirement already satisfied: kiwisolver>=1.0.1 in /usr/local/lib/python3.10/dist-packages (from matplotlib->wordcloud) (1.4.4)\n",
            "Requirement already satisfied: packaging>=20.0 in /usr/local/lib/python3.10/dist-packages (from matplotlib->wordcloud) (23.1)\n",
            "Requirement already satisfied: pyparsing>=2.3.1 in /usr/local/lib/python3.10/dist-packages (from matplotlib->wordcloud) (3.1.0)\n",
            "Requirement already satisfied: python-dateutil>=2.7 in /usr/local/lib/python3.10/dist-packages (from matplotlib->wordcloud) (2.8.2)\n",
            "Requirement already satisfied: six>=1.5 in /usr/local/lib/python3.10/dist-packages (from python-dateutil>=2.7->matplotlib->wordcloud) (1.16.0)\n",
            "Requirement already satisfied: transformers in /usr/local/lib/python3.10/dist-packages (4.31.0)\n",
            "Requirement already satisfied: filelock in /usr/local/lib/python3.10/dist-packages (from transformers) (3.12.2)\n",
            "Requirement already satisfied: huggingface-hub<1.0,>=0.14.1 in /usr/local/lib/python3.10/dist-packages (from transformers) (0.16.4)\n",
            "Requirement already satisfied: numpy>=1.17 in /usr/local/lib/python3.10/dist-packages (from transformers) (1.23.4)\n",
            "Requirement already satisfied: packaging>=20.0 in /usr/local/lib/python3.10/dist-packages (from transformers) (23.1)\n",
            "Requirement already satisfied: pyyaml>=5.1 in /usr/local/lib/python3.10/dist-packages (from transformers) (6.0.1)\n",
            "Requirement already satisfied: regex!=2019.12.17 in /usr/local/lib/python3.10/dist-packages (from transformers) (2022.10.31)\n",
            "Requirement already satisfied: requests in /usr/local/lib/python3.10/dist-packages (from transformers) (2.27.1)\n",
            "Requirement already satisfied: tokenizers!=0.11.3,<0.14,>=0.11.1 in /usr/local/lib/python3.10/dist-packages (from transformers) (0.13.3)\n",
            "Requirement already satisfied: safetensors>=0.3.1 in /usr/local/lib/python3.10/dist-packages (from transformers) (0.3.2)\n",
            "Requirement already satisfied: tqdm>=4.27 in /usr/local/lib/python3.10/dist-packages (from transformers) (4.65.0)\n",
            "Requirement already satisfied: fsspec in /usr/local/lib/python3.10/dist-packages (from huggingface-hub<1.0,>=0.14.1->transformers) (2023.6.0)\n",
            "Requirement already satisfied: typing-extensions>=3.7.4.3 in /usr/local/lib/python3.10/dist-packages (from huggingface-hub<1.0,>=0.14.1->transformers) (4.7.1)\n",
            "Requirement already satisfied: urllib3<1.27,>=1.21.1 in /usr/local/lib/python3.10/dist-packages (from requests->transformers) (1.26.16)\n",
            "Requirement already satisfied: certifi>=2017.4.17 in /usr/local/lib/python3.10/dist-packages (from requests->transformers) (2023.7.22)\n",
            "Requirement already satisfied: charset-normalizer~=2.0.0 in /usr/local/lib/python3.10/dist-packages (from requests->transformers) (2.0.12)\n",
            "Requirement already satisfied: idna<4,>=2.5 in /usr/local/lib/python3.10/dist-packages (from requests->transformers) (3.4)\n",
            "Requirement already satisfied: transformers[torch] in /usr/local/lib/python3.10/dist-packages (4.31.0)\n",
            "Requirement already satisfied: filelock in /usr/local/lib/python3.10/dist-packages (from transformers[torch]) (3.12.2)\n",
            "Requirement already satisfied: huggingface-hub<1.0,>=0.14.1 in /usr/local/lib/python3.10/dist-packages (from transformers[torch]) (0.16.4)\n",
            "Requirement already satisfied: numpy>=1.17 in /usr/local/lib/python3.10/dist-packages (from transformers[torch]) (1.23.4)\n",
            "Requirement already satisfied: packaging>=20.0 in /usr/local/lib/python3.10/dist-packages (from transformers[torch]) (23.1)\n",
            "Requirement already satisfied: pyyaml>=5.1 in /usr/local/lib/python3.10/dist-packages (from transformers[torch]) (6.0.1)\n",
            "Requirement already satisfied: regex!=2019.12.17 in /usr/local/lib/python3.10/dist-packages (from transformers[torch]) (2022.10.31)\n",
            "Requirement already satisfied: requests in /usr/local/lib/python3.10/dist-packages (from transformers[torch]) (2.27.1)\n",
            "Requirement already satisfied: tokenizers!=0.11.3,<0.14,>=0.11.1 in /usr/local/lib/python3.10/dist-packages (from transformers[torch]) (0.13.3)\n",
            "Requirement already satisfied: safetensors>=0.3.1 in /usr/local/lib/python3.10/dist-packages (from transformers[torch]) (0.3.2)\n",
            "Requirement already satisfied: tqdm>=4.27 in /usr/local/lib/python3.10/dist-packages (from transformers[torch]) (4.65.0)\n",
            "Requirement already satisfied: torch!=1.12.0,>=1.9 in /usr/local/lib/python3.10/dist-packages (from transformers[torch]) (2.0.1+cu118)\n",
            "Requirement already satisfied: accelerate>=0.20.3 in /usr/local/lib/python3.10/dist-packages (from transformers[torch]) (0.21.0)\n",
            "Requirement already satisfied: psutil in /usr/local/lib/python3.10/dist-packages (from accelerate>=0.20.3->transformers[torch]) (5.9.5)\n",
            "Requirement already satisfied: fsspec in /usr/local/lib/python3.10/dist-packages (from huggingface-hub<1.0,>=0.14.1->transformers[torch]) (2023.6.0)\n",
            "Requirement already satisfied: typing-extensions>=3.7.4.3 in /usr/local/lib/python3.10/dist-packages (from huggingface-hub<1.0,>=0.14.1->transformers[torch]) (4.7.1)\n",
            "Requirement already satisfied: sympy in /usr/local/lib/python3.10/dist-packages (from torch!=1.12.0,>=1.9->transformers[torch]) (1.11.1)\n",
            "Requirement already satisfied: networkx in /usr/local/lib/python3.10/dist-packages (from torch!=1.12.0,>=1.9->transformers[torch]) (3.1)\n",
            "Requirement already satisfied: jinja2 in /usr/local/lib/python3.10/dist-packages (from torch!=1.12.0,>=1.9->transformers[torch]) (3.1.2)\n",
            "Requirement already satisfied: triton==2.0.0 in /usr/local/lib/python3.10/dist-packages (from torch!=1.12.0,>=1.9->transformers[torch]) (2.0.0)\n",
            "Requirement already satisfied: cmake in /usr/local/lib/python3.10/dist-packages (from triton==2.0.0->torch!=1.12.0,>=1.9->transformers[torch]) (3.25.2)\n",
            "Requirement already satisfied: lit in /usr/local/lib/python3.10/dist-packages (from triton==2.0.0->torch!=1.12.0,>=1.9->transformers[torch]) (16.0.6)\n",
            "Requirement already satisfied: urllib3<1.27,>=1.21.1 in /usr/local/lib/python3.10/dist-packages (from requests->transformers[torch]) (1.26.16)\n",
            "Requirement already satisfied: certifi>=2017.4.17 in /usr/local/lib/python3.10/dist-packages (from requests->transformers[torch]) (2023.7.22)\n",
            "Requirement already satisfied: charset-normalizer~=2.0.0 in /usr/local/lib/python3.10/dist-packages (from requests->transformers[torch]) (2.0.12)\n",
            "Requirement already satisfied: idna<4,>=2.5 in /usr/local/lib/python3.10/dist-packages (from requests->transformers[torch]) (3.4)\n",
            "Requirement already satisfied: MarkupSafe>=2.0 in /usr/local/lib/python3.10/dist-packages (from jinja2->torch!=1.12.0,>=1.9->transformers[torch]) (2.1.3)\n",
            "Requirement already satisfied: mpmath>=0.19 in /usr/local/lib/python3.10/dist-packages (from sympy->torch!=1.12.0,>=1.9->transformers[torch]) (1.3.0)\n",
            "Requirement already satisfied: numpy==1.23.4 in /usr/local/lib/python3.10/dist-packages (1.23.4)\n"
          ]
        }
      ],
      "source": [
        "!pip install wordcloud\n",
        "!pip install transformers\n",
        "!pip install transformers[torch]\n",
        "%pip install numpy==1.23.4\n",
        "\n",
        "\n",
        "# 필요한 라이브러리 불러오기\n",
        "import pandas as pd\n",
        "import urllib.request\n",
        "\n",
        "# Bert 사용에 필요한 모듈 불러오기\n",
        "import torch\n",
        "\n",
        "import pandas as pd\n",
        "import numpy as np\n",
        "import random\n",
        "import time\n",
        "import datetime\n",
        "\n",
        "from transformers import BertTokenizer\n",
        "from transformers import BertForSequenceClassification, AdamW, Adafactor, BertConfig\n",
        "from transformers import get_linear_schedule_with_warmup\n",
        "from torch.utils.data import TensorDataset, DataLoader, RandomSampler, SequentialSampler\n",
        "from keras.preprocessing import sequence\n",
        "from sklearn.model_selection import train_test_split\n",
        "# 여기 오류는 엘리스떄 처럼 넘파이 버전 오류임.\n",
        "# 넘파이를 1.23.4 버전으로 바꾸니 성공.\n",
        "\n",
        "SEED = 42"
      ]
    },
    {
      "cell_type": "code",
      "source": [
        "# 파일을 왼쪽 상단의 파일함에 넣어주세요\n",
        "\n",
        "# 파일 불러오기\n",
        "# combine_df = pd.read_csv('/content/combined_sample_SD.csv')\n",
        "# combine_df = pd.read_csv('/content/combined_sample_ST.csv')\n",
        "# combine_df = pd.read_csv('/content/combined_sample_SA.csv')\n",
        "combine_df = pd.read_csv('/content/combined_sample_LB (1).csv')\n",
        "\n",
        "# 앞뒤로 붙어있는 \\n 없애기\n",
        "combine_df['Review'] = combine_df['Review'].str.strip('\\n')"
      ],
      "metadata": {
        "id": "Iw5od8VXYpzp"
      },
      "execution_count": null,
      "outputs": []
    },
    {
      "cell_type": "code",
      "source": [
        "#데이터 읽어온거 확인하자\n",
        "print(combine_df)"
      ],
      "metadata": {
        "colab": {
          "base_uri": "https://localhost:8080/"
        },
        "id": "Xk_nhE4JjVXV",
        "outputId": "726026ad-8afb-41d3-8741-d37766d7798e"
      },
      "execution_count": null,
      "outputs": [
        {
          "output_type": "stream",
          "name": "stdout",
          "text": [
            "      Label                                             Review\n",
            "0         0  So smooth. Great structure. Spent the evening ...\n",
            "1         0                           Lovely! Crisp and fresh.\n",
            "2         0  Complex but static .. it doesn’t grow on you ....\n",
            "3         0  First day of the ‘21 Sav. Bigggg Sav style. Li...\n",
            "4         0                                 Fruity not too dry\n",
            "...     ...                                                ...\n",
            "3202      2  Cab base, petite Verdot, merlot blend. Deep, d...\n",
            "3203      2  Love this wine. Such an easy going full bodied...\n",
            "3204      2  Predominant cherry with secondary cherry skin ...\n",
            "3205      2  Wow! Cherry and leather nose, and when you tas...\n",
            "3206      2  Bold. Quite tanic. Plum. Delicious and suitabl...\n",
            "\n",
            "[3207 rows x 2 columns]\n"
          ]
        }
      ]
    },
    {
      "cell_type": "markdown",
      "source": [
        "##2. 모델링을 위한 준비 - 와댕이를 위한 준비\n",
        "\n",
        "\n",
        "이 부분은 *BERT를 활용한 영화 리뷰 감정분석 * 코드를 기반으로 구현했습니다.\n",
        "\n",
        "모델링을 시작하기 위해 데이터를 train, vaildation, test 8:1:1 비율로 삼갈죽 한다.\n",
        "\n",
        "train, vaildation data 는 pre-training 에서 사용한다.\n",
        "대략 train 은 학습지. vaildation 은 학습지에 붙은 모의고사 쯤 된다.(정확한 확인 필요)\n",
        "\n",
        "test data 는 Fine-tuning 에서 사용된다.\n",
        "위 학습지로 사전학습한 와댕이가 보게되는 시험이다.\n",
        "\n",
        "계속 테스트를 보면서 와댕이가 공부를 제대로 했는지, 학습을 더 시켜야 하는지, 교육하자"
      ],
      "metadata": {
        "id": "FDumf2JaZOhN"
      }
    },
    {
      "cell_type": "markdown",
      "source": [
        "다시 보니까 우리 코랩이도 똑똑해져서 명령어 아니고 UI 로 클릭클릭해서 GPU 쓸수 있게 해줬네요~~~\n",
        "\n",
        "\n",
        "\n",
        "**런타임 - 런타임 유형 변경을 클릭하여 하드웨어 가속기를 GPU 로 변경해 줍니다.**"
      ],
      "metadata": {
        "id": "l7YttJVnN-iv"
      }
    },
    {
      "cell_type": "markdown",
      "source": [
        "GPU 로 변경해 주었다면, BERT 를 쓸 준비를 해봅시다.\n",
        "\n",
        "우리 컴퓨터는(와댕이는) 사람말을 할줄 모르니까 0과 1로 이루어진 기계어(강아지언어,개소리.)로 단어들을 바꿔주어야 합니다.\n",
        "\n",
        "### 이것이 임베딩(Embedding) 입니다.\n",
        "\n",
        "이 임베딩을 얼마나 효율적으로 하는지도 중요하답니다. 원래는 원핫코드 방식을 쓰려 했는데 너무 비효율적이어서(최소벡터문제 발생) 사람들이 임베딩이라는 방식을 생각해 냈어요.\n",
        "\n",
        "\n",
        "\n",
        "임베딩은 밀집빅터를 이용하는데(아마) 이걸 해주는 역할을 보고 Encoder 인코더 라고 한답니다.\n",
        "우리 bert는 어떤 임베딩을 쓰는지 볼까요?\n",
        "\n",
        "\n",
        "\n",
        "\n",
        "우선 우리 bert 가 트랜스포머 모델 아들인건(기반인건) 알고 있죠?\n",
        "그래서 임베딩도 트랜스 포머 기반으로 합니다.\n",
        "\n",
        "트랜스포머 모델과의 차이점은, bert는 말뭉치 - 여기서는 단맛 라벨링한 리뷰들,문장들입니다. - 를 기반으로 pre-training 을 시킬 수 있습니다. 트랜스포머는 사전학습 할줄 몰라요.\n",
        "\n",
        "그리고 양방향 인코더를 사용하는데 여기서 셀프 어텐션 메커니즘을 쓴다고 합니다. (이게 RNN에서 나온 어텐션 all you need is attention 그 어텐션맞음) 근데 이건 어려우니까 우리가 알 필요까진없어요\n",
        "\n",
        "그리고 우리 bert는 마스킹을- 말뭉치에 우리가 라벨링 한거, 정답 - 한 데이터를 필요로 하는데 트랜스포머는 그런게 필요 없답니다.\n",
        "\n",
        "\n",
        "이제 우리 bert 가 임베딩을 할때도 남들과는 다르게 색다르게 한다는 것을 알았죠? 그럼 어떤 코드를 써서 전처리 해줘야 우리 우리 bert 가 임베딩을 해줄지 봅시다.\n",
        "\n"
      ],
      "metadata": {
        "id": "EeIXf80gOk0a"
      }
    },
    {
      "cell_type": "markdown",
      "source": [
        "해당 코드는 json 자료형을 갖고와서 라벨이 str 아니고int 입니다. 이러면 오류가 납니다.\n",
        "\n",
        "때문에 밑의 코드를 써서 int 로 바꿔줍니다."
      ],
      "metadata": {
        "id": "Bc-t4Yw1jGFM"
      }
    },
    {
      "cell_type": "code",
      "source": [
        "# Label 데이터 str에서 int로 바꿔주기\n",
        "int_labels = []\n",
        "\n",
        "for i in range(len(combine_df['Label'])):\n",
        "    int_labels.append(int(combine_df['Label'][i]))\n",
        "\n",
        "combine_df['Label'] = int_labels"
      ],
      "metadata": {
        "id": "RiLJDMHZdGvE"
      },
      "execution_count": null,
      "outputs": []
    },
    {
      "cell_type": "markdown",
      "source": [
        "random함수의 shuffle을 이용해서 순서를 섞어주자.\n"
      ],
      "metadata": {
        "id": "dIYGBr_RASkE"
      }
    },
    {
      "cell_type": "code",
      "source": [
        "import random\n",
        "\n",
        "tmp_review = []\n",
        "tmp_label = []\n",
        "\n",
        "lst = [i for i in range(len(combine_df))]\n",
        "print(lst) # 기존의 0~2999까지의 인덱스\n",
        "\n",
        "random.seed(SEED)\n",
        "random.shuffle(lst)\n",
        "print(lst) # 순서가 섞인 0~2999까지의 인덱스\n",
        "\n",
        "# 순서 인덱스에 맞춰서 Review와 Label을 섞어준다.\n",
        "for i in lst:\n",
        "  tmp_review.append(combine_df[\"Review\"][i])\n",
        "  tmp_label.append(combine_df[\"Label\"][i])\n",
        "\n",
        "combine_df[\"Review\"] = tmp_review\n",
        "combine_df[\"Label\"] = tmp_label"
      ],
      "metadata": {
        "colab": {
          "base_uri": "https://localhost:8080/"
        },
        "id": "CnfCnT-2AgZA",
        "outputId": "d283d3a7-3b0e-4b4b-d1a2-a8e350fade49"
      },
      "execution_count": null,
      "outputs": [
        {
          "output_type": "stream",
          "name": "stdout",
          "text": [
            "[0, 1, 2, 3, 4, 5, 6, 7, 8, 9, 10, 11, 12, 13, 14, 15, 16, 17, 18, 19, 20, 21, 22, 23, 24, 25, 26, 27, 28, 29, 30, 31, 32, 33, 34, 35, 36, 37, 38, 39, 40, 41, 42, 43, 44, 45, 46, 47, 48, 49, 50, 51, 52, 53, 54, 55, 56, 57, 58, 59, 60, 61, 62, 63, 64, 65, 66, 67, 68, 69, 70, 71, 72, 73, 74, 75, 76, 77, 78, 79, 80, 81, 82, 83, 84, 85, 86, 87, 88, 89, 90, 91, 92, 93, 94, 95, 96, 97, 98, 99, 100, 101, 102, 103, 104, 105, 106, 107, 108, 109, 110, 111, 112, 113, 114, 115, 116, 117, 118, 119, 120, 121, 122, 123, 124, 125, 126, 127, 128, 129, 130, 131, 132, 133, 134, 135, 136, 137, 138, 139, 140, 141, 142, 143, 144, 145, 146, 147, 148, 149, 150, 151, 152, 153, 154, 155, 156, 157, 158, 159, 160, 161, 162, 163, 164, 165, 166, 167, 168, 169, 170, 171, 172, 173, 174, 175, 176, 177, 178, 179, 180, 181, 182, 183, 184, 185, 186, 187, 188, 189, 190, 191, 192, 193, 194, 195, 196, 197, 198, 199, 200, 201, 202, 203, 204, 205, 206, 207, 208, 209, 210, 211, 212, 213, 214, 215, 216, 217, 218, 219, 220, 221, 222, 223, 224, 225, 226, 227, 228, 229, 230, 231, 232, 233, 234, 235, 236, 237, 238, 239, 240, 241, 242, 243, 244, 245, 246, 247, 248, 249, 250, 251, 252, 253, 254, 255, 256, 257, 258, 259, 260, 261, 262, 263, 264, 265, 266, 267, 268, 269, 270, 271, 272, 273, 274, 275, 276, 277, 278, 279, 280, 281, 282, 283, 284, 285, 286, 287, 288, 289, 290, 291, 292, 293, 294, 295, 296, 297, 298, 299, 300, 301, 302, 303, 304, 305, 306, 307, 308, 309, 310, 311, 312, 313, 314, 315, 316, 317, 318, 319, 320, 321, 322, 323, 324, 325, 326, 327, 328, 329, 330, 331, 332, 333, 334, 335, 336, 337, 338, 339, 340, 341, 342, 343, 344, 345, 346, 347, 348, 349, 350, 351, 352, 353, 354, 355, 356, 357, 358, 359, 360, 361, 362, 363, 364, 365, 366, 367, 368, 369, 370, 371, 372, 373, 374, 375, 376, 377, 378, 379, 380, 381, 382, 383, 384, 385, 386, 387, 388, 389, 390, 391, 392, 393, 394, 395, 396, 397, 398, 399, 400, 401, 402, 403, 404, 405, 406, 407, 408, 409, 410, 411, 412, 413, 414, 415, 416, 417, 418, 419, 420, 421, 422, 423, 424, 425, 426, 427, 428, 429, 430, 431, 432, 433, 434, 435, 436, 437, 438, 439, 440, 441, 442, 443, 444, 445, 446, 447, 448, 449, 450, 451, 452, 453, 454, 455, 456, 457, 458, 459, 460, 461, 462, 463, 464, 465, 466, 467, 468, 469, 470, 471, 472, 473, 474, 475, 476, 477, 478, 479, 480, 481, 482, 483, 484, 485, 486, 487, 488, 489, 490, 491, 492, 493, 494, 495, 496, 497, 498, 499, 500, 501, 502, 503, 504, 505, 506, 507, 508, 509, 510, 511, 512, 513, 514, 515, 516, 517, 518, 519, 520, 521, 522, 523, 524, 525, 526, 527, 528, 529, 530, 531, 532, 533, 534, 535, 536, 537, 538, 539, 540, 541, 542, 543, 544, 545, 546, 547, 548, 549, 550, 551, 552, 553, 554, 555, 556, 557, 558, 559, 560, 561, 562, 563, 564, 565, 566, 567, 568, 569, 570, 571, 572, 573, 574, 575, 576, 577, 578, 579, 580, 581, 582, 583, 584, 585, 586, 587, 588, 589, 590, 591, 592, 593, 594, 595, 596, 597, 598, 599, 600, 601, 602, 603, 604, 605, 606, 607, 608, 609, 610, 611, 612, 613, 614, 615, 616, 617, 618, 619, 620, 621, 622, 623, 624, 625, 626, 627, 628, 629, 630, 631, 632, 633, 634, 635, 636, 637, 638, 639, 640, 641, 642, 643, 644, 645, 646, 647, 648, 649, 650, 651, 652, 653, 654, 655, 656, 657, 658, 659, 660, 661, 662, 663, 664, 665, 666, 667, 668, 669, 670, 671, 672, 673, 674, 675, 676, 677, 678, 679, 680, 681, 682, 683, 684, 685, 686, 687, 688, 689, 690, 691, 692, 693, 694, 695, 696, 697, 698, 699, 700, 701, 702, 703, 704, 705, 706, 707, 708, 709, 710, 711, 712, 713, 714, 715, 716, 717, 718, 719, 720, 721, 722, 723, 724, 725, 726, 727, 728, 729, 730, 731, 732, 733, 734, 735, 736, 737, 738, 739, 740, 741, 742, 743, 744, 745, 746, 747, 748, 749, 750, 751, 752, 753, 754, 755, 756, 757, 758, 759, 760, 761, 762, 763, 764, 765, 766, 767, 768, 769, 770, 771, 772, 773, 774, 775, 776, 777, 778, 779, 780, 781, 782, 783, 784, 785, 786, 787, 788, 789, 790, 791, 792, 793, 794, 795, 796, 797, 798, 799, 800, 801, 802, 803, 804, 805, 806, 807, 808, 809, 810, 811, 812, 813, 814, 815, 816, 817, 818, 819, 820, 821, 822, 823, 824, 825, 826, 827, 828, 829, 830, 831, 832, 833, 834, 835, 836, 837, 838, 839, 840, 841, 842, 843, 844, 845, 846, 847, 848, 849, 850, 851, 852, 853, 854, 855, 856, 857, 858, 859, 860, 861, 862, 863, 864, 865, 866, 867, 868, 869, 870, 871, 872, 873, 874, 875, 876, 877, 878, 879, 880, 881, 882, 883, 884, 885, 886, 887, 888, 889, 890, 891, 892, 893, 894, 895, 896, 897, 898, 899, 900, 901, 902, 903, 904, 905, 906, 907, 908, 909, 910, 911, 912, 913, 914, 915, 916, 917, 918, 919, 920, 921, 922, 923, 924, 925, 926, 927, 928, 929, 930, 931, 932, 933, 934, 935, 936, 937, 938, 939, 940, 941, 942, 943, 944, 945, 946, 947, 948, 949, 950, 951, 952, 953, 954, 955, 956, 957, 958, 959, 960, 961, 962, 963, 964, 965, 966, 967, 968, 969, 970, 971, 972, 973, 974, 975, 976, 977, 978, 979, 980, 981, 982, 983, 984, 985, 986, 987, 988, 989, 990, 991, 992, 993, 994, 995, 996, 997, 998, 999, 1000, 1001, 1002, 1003, 1004, 1005, 1006, 1007, 1008, 1009, 1010, 1011, 1012, 1013, 1014, 1015, 1016, 1017, 1018, 1019, 1020, 1021, 1022, 1023, 1024, 1025, 1026, 1027, 1028, 1029, 1030, 1031, 1032, 1033, 1034, 1035, 1036, 1037, 1038, 1039, 1040, 1041, 1042, 1043, 1044, 1045, 1046, 1047, 1048, 1049, 1050, 1051, 1052, 1053, 1054, 1055, 1056, 1057, 1058, 1059, 1060, 1061, 1062, 1063, 1064, 1065, 1066, 1067, 1068, 1069, 1070, 1071, 1072, 1073, 1074, 1075, 1076, 1077, 1078, 1079, 1080, 1081, 1082, 1083, 1084, 1085, 1086, 1087, 1088, 1089, 1090, 1091, 1092, 1093, 1094, 1095, 1096, 1097, 1098, 1099, 1100, 1101, 1102, 1103, 1104, 1105, 1106, 1107, 1108, 1109, 1110, 1111, 1112, 1113, 1114, 1115, 1116, 1117, 1118, 1119, 1120, 1121, 1122, 1123, 1124, 1125, 1126, 1127, 1128, 1129, 1130, 1131, 1132, 1133, 1134, 1135, 1136, 1137, 1138, 1139, 1140, 1141, 1142, 1143, 1144, 1145, 1146, 1147, 1148, 1149, 1150, 1151, 1152, 1153, 1154, 1155, 1156, 1157, 1158, 1159, 1160, 1161, 1162, 1163, 1164, 1165, 1166, 1167, 1168, 1169, 1170, 1171, 1172, 1173, 1174, 1175, 1176, 1177, 1178, 1179, 1180, 1181, 1182, 1183, 1184, 1185, 1186, 1187, 1188, 1189, 1190, 1191, 1192, 1193, 1194, 1195, 1196, 1197, 1198, 1199, 1200, 1201, 1202, 1203, 1204, 1205, 1206, 1207, 1208, 1209, 1210, 1211, 1212, 1213, 1214, 1215, 1216, 1217, 1218, 1219, 1220, 1221, 1222, 1223, 1224, 1225, 1226, 1227, 1228, 1229, 1230, 1231, 1232, 1233, 1234, 1235, 1236, 1237, 1238, 1239, 1240, 1241, 1242, 1243, 1244, 1245, 1246, 1247, 1248, 1249, 1250, 1251, 1252, 1253, 1254, 1255, 1256, 1257, 1258, 1259, 1260, 1261, 1262, 1263, 1264, 1265, 1266, 1267, 1268, 1269, 1270, 1271, 1272, 1273, 1274, 1275, 1276, 1277, 1278, 1279, 1280, 1281, 1282, 1283, 1284, 1285, 1286, 1287, 1288, 1289, 1290, 1291, 1292, 1293, 1294, 1295, 1296, 1297, 1298, 1299, 1300, 1301, 1302, 1303, 1304, 1305, 1306, 1307, 1308, 1309, 1310, 1311, 1312, 1313, 1314, 1315, 1316, 1317, 1318, 1319, 1320, 1321, 1322, 1323, 1324, 1325, 1326, 1327, 1328, 1329, 1330, 1331, 1332, 1333, 1334, 1335, 1336, 1337, 1338, 1339, 1340, 1341, 1342, 1343, 1344, 1345, 1346, 1347, 1348, 1349, 1350, 1351, 1352, 1353, 1354, 1355, 1356, 1357, 1358, 1359, 1360, 1361, 1362, 1363, 1364, 1365, 1366, 1367, 1368, 1369, 1370, 1371, 1372, 1373, 1374, 1375, 1376, 1377, 1378, 1379, 1380, 1381, 1382, 1383, 1384, 1385, 1386, 1387, 1388, 1389, 1390, 1391, 1392, 1393, 1394, 1395, 1396, 1397, 1398, 1399, 1400, 1401, 1402, 1403, 1404, 1405, 1406, 1407, 1408, 1409, 1410, 1411, 1412, 1413, 1414, 1415, 1416, 1417, 1418, 1419, 1420, 1421, 1422, 1423, 1424, 1425, 1426, 1427, 1428, 1429, 1430, 1431, 1432, 1433, 1434, 1435, 1436, 1437, 1438, 1439, 1440, 1441, 1442, 1443, 1444, 1445, 1446, 1447, 1448, 1449, 1450, 1451, 1452, 1453, 1454, 1455, 1456, 1457, 1458, 1459, 1460, 1461, 1462, 1463, 1464, 1465, 1466, 1467, 1468, 1469, 1470, 1471, 1472, 1473, 1474, 1475, 1476, 1477, 1478, 1479, 1480, 1481, 1482, 1483, 1484, 1485, 1486, 1487, 1488, 1489, 1490, 1491, 1492, 1493, 1494, 1495, 1496, 1497, 1498, 1499, 1500, 1501, 1502, 1503, 1504, 1505, 1506, 1507, 1508, 1509, 1510, 1511, 1512, 1513, 1514, 1515, 1516, 1517, 1518, 1519, 1520, 1521, 1522, 1523, 1524, 1525, 1526, 1527, 1528, 1529, 1530, 1531, 1532, 1533, 1534, 1535, 1536, 1537, 1538, 1539, 1540, 1541, 1542, 1543, 1544, 1545, 1546, 1547, 1548, 1549, 1550, 1551, 1552, 1553, 1554, 1555, 1556, 1557, 1558, 1559, 1560, 1561, 1562, 1563, 1564, 1565, 1566, 1567, 1568, 1569, 1570, 1571, 1572, 1573, 1574, 1575, 1576, 1577, 1578, 1579, 1580, 1581, 1582, 1583, 1584, 1585, 1586, 1587, 1588, 1589, 1590, 1591, 1592, 1593, 1594, 1595, 1596, 1597, 1598, 1599, 1600, 1601, 1602, 1603, 1604, 1605, 1606, 1607, 1608, 1609, 1610, 1611, 1612, 1613, 1614, 1615, 1616, 1617, 1618, 1619, 1620, 1621, 1622, 1623, 1624, 1625, 1626, 1627, 1628, 1629, 1630, 1631, 1632, 1633, 1634, 1635, 1636, 1637, 1638, 1639, 1640, 1641, 1642, 1643, 1644, 1645, 1646, 1647, 1648, 1649, 1650, 1651, 1652, 1653, 1654, 1655, 1656, 1657, 1658, 1659, 1660, 1661, 1662, 1663, 1664, 1665, 1666, 1667, 1668, 1669, 1670, 1671, 1672, 1673, 1674, 1675, 1676, 1677, 1678, 1679, 1680, 1681, 1682, 1683, 1684, 1685, 1686, 1687, 1688, 1689, 1690, 1691, 1692, 1693, 1694, 1695, 1696, 1697, 1698, 1699, 1700, 1701, 1702, 1703, 1704, 1705, 1706, 1707, 1708, 1709, 1710, 1711, 1712, 1713, 1714, 1715, 1716, 1717, 1718, 1719, 1720, 1721, 1722, 1723, 1724, 1725, 1726, 1727, 1728, 1729, 1730, 1731, 1732, 1733, 1734, 1735, 1736, 1737, 1738, 1739, 1740, 1741, 1742, 1743, 1744, 1745, 1746, 1747, 1748, 1749, 1750, 1751, 1752, 1753, 1754, 1755, 1756, 1757, 1758, 1759, 1760, 1761, 1762, 1763, 1764, 1765, 1766, 1767, 1768, 1769, 1770, 1771, 1772, 1773, 1774, 1775, 1776, 1777, 1778, 1779, 1780, 1781, 1782, 1783, 1784, 1785, 1786, 1787, 1788, 1789, 1790, 1791, 1792, 1793, 1794, 1795, 1796, 1797, 1798, 1799, 1800, 1801, 1802, 1803, 1804, 1805, 1806, 1807, 1808, 1809, 1810, 1811, 1812, 1813, 1814, 1815, 1816, 1817, 1818, 1819, 1820, 1821, 1822, 1823, 1824, 1825, 1826, 1827, 1828, 1829, 1830, 1831, 1832, 1833, 1834, 1835, 1836, 1837, 1838, 1839, 1840, 1841, 1842, 1843, 1844, 1845, 1846, 1847, 1848, 1849, 1850, 1851, 1852, 1853, 1854, 1855, 1856, 1857, 1858, 1859, 1860, 1861, 1862, 1863, 1864, 1865, 1866, 1867, 1868, 1869, 1870, 1871, 1872, 1873, 1874, 1875, 1876, 1877, 1878, 1879, 1880, 1881, 1882, 1883, 1884, 1885, 1886, 1887, 1888, 1889, 1890, 1891, 1892, 1893, 1894, 1895, 1896, 1897, 1898, 1899, 1900, 1901, 1902, 1903, 1904, 1905, 1906, 1907, 1908, 1909, 1910, 1911, 1912, 1913, 1914, 1915, 1916, 1917, 1918, 1919, 1920, 1921, 1922, 1923, 1924, 1925, 1926, 1927, 1928, 1929, 1930, 1931, 1932, 1933, 1934, 1935, 1936, 1937, 1938, 1939, 1940, 1941, 1942, 1943, 1944, 1945, 1946, 1947, 1948, 1949, 1950, 1951, 1952, 1953, 1954, 1955, 1956, 1957, 1958, 1959, 1960, 1961, 1962, 1963, 1964, 1965, 1966, 1967, 1968, 1969, 1970, 1971, 1972, 1973, 1974, 1975, 1976, 1977, 1978, 1979, 1980, 1981, 1982, 1983, 1984, 1985, 1986, 1987, 1988, 1989, 1990, 1991, 1992, 1993, 1994, 1995, 1996, 1997, 1998, 1999, 2000, 2001, 2002, 2003, 2004, 2005, 2006, 2007, 2008, 2009, 2010, 2011, 2012, 2013, 2014, 2015, 2016, 2017, 2018, 2019, 2020, 2021, 2022, 2023, 2024, 2025, 2026, 2027, 2028, 2029, 2030, 2031, 2032, 2033, 2034, 2035, 2036, 2037, 2038, 2039, 2040, 2041, 2042, 2043, 2044, 2045, 2046, 2047, 2048, 2049, 2050, 2051, 2052, 2053, 2054, 2055, 2056, 2057, 2058, 2059, 2060, 2061, 2062, 2063, 2064, 2065, 2066, 2067, 2068, 2069, 2070, 2071, 2072, 2073, 2074, 2075, 2076, 2077, 2078, 2079, 2080, 2081, 2082, 2083, 2084, 2085, 2086, 2087, 2088, 2089, 2090, 2091, 2092, 2093, 2094, 2095, 2096, 2097, 2098, 2099, 2100, 2101, 2102, 2103, 2104, 2105, 2106, 2107, 2108, 2109, 2110, 2111, 2112, 2113, 2114, 2115, 2116, 2117, 2118, 2119, 2120, 2121, 2122, 2123, 2124, 2125, 2126, 2127, 2128, 2129, 2130, 2131, 2132, 2133, 2134, 2135, 2136, 2137, 2138, 2139, 2140, 2141, 2142, 2143, 2144, 2145, 2146, 2147, 2148, 2149, 2150, 2151, 2152, 2153, 2154, 2155, 2156, 2157, 2158, 2159, 2160, 2161, 2162, 2163, 2164, 2165, 2166, 2167, 2168, 2169, 2170, 2171, 2172, 2173, 2174, 2175, 2176, 2177, 2178, 2179, 2180, 2181, 2182, 2183, 2184, 2185, 2186, 2187, 2188, 2189, 2190, 2191, 2192, 2193, 2194, 2195, 2196, 2197, 2198, 2199, 2200, 2201, 2202, 2203, 2204, 2205, 2206, 2207, 2208, 2209, 2210, 2211, 2212, 2213, 2214, 2215, 2216, 2217, 2218, 2219, 2220, 2221, 2222, 2223, 2224, 2225, 2226, 2227, 2228, 2229, 2230, 2231, 2232, 2233, 2234, 2235, 2236, 2237, 2238, 2239, 2240, 2241, 2242, 2243, 2244, 2245, 2246, 2247, 2248, 2249, 2250, 2251, 2252, 2253, 2254, 2255, 2256, 2257, 2258, 2259, 2260, 2261, 2262, 2263, 2264, 2265, 2266, 2267, 2268, 2269, 2270, 2271, 2272, 2273, 2274, 2275, 2276, 2277, 2278, 2279, 2280, 2281, 2282, 2283, 2284, 2285, 2286, 2287, 2288, 2289, 2290, 2291, 2292, 2293, 2294, 2295, 2296, 2297, 2298, 2299, 2300, 2301, 2302, 2303, 2304, 2305, 2306, 2307, 2308, 2309, 2310, 2311, 2312, 2313, 2314, 2315, 2316, 2317, 2318, 2319, 2320, 2321, 2322, 2323, 2324, 2325, 2326, 2327, 2328, 2329, 2330, 2331, 2332, 2333, 2334, 2335, 2336, 2337, 2338, 2339, 2340, 2341, 2342, 2343, 2344, 2345, 2346, 2347, 2348, 2349, 2350, 2351, 2352, 2353, 2354, 2355, 2356, 2357, 2358, 2359, 2360, 2361, 2362, 2363, 2364, 2365, 2366, 2367, 2368, 2369, 2370, 2371, 2372, 2373, 2374, 2375, 2376, 2377, 2378, 2379, 2380, 2381, 2382, 2383, 2384, 2385, 2386, 2387, 2388, 2389, 2390, 2391, 2392, 2393, 2394, 2395, 2396, 2397, 2398, 2399, 2400, 2401, 2402, 2403, 2404, 2405, 2406, 2407, 2408, 2409, 2410, 2411, 2412, 2413, 2414, 2415, 2416, 2417, 2418, 2419, 2420, 2421, 2422, 2423, 2424, 2425, 2426, 2427, 2428, 2429, 2430, 2431, 2432, 2433, 2434, 2435, 2436, 2437, 2438, 2439, 2440, 2441, 2442, 2443, 2444, 2445, 2446, 2447, 2448, 2449, 2450, 2451, 2452, 2453, 2454, 2455, 2456, 2457, 2458, 2459, 2460, 2461, 2462, 2463, 2464, 2465, 2466, 2467, 2468, 2469, 2470, 2471, 2472, 2473, 2474, 2475, 2476, 2477, 2478, 2479, 2480, 2481, 2482, 2483, 2484, 2485, 2486, 2487, 2488, 2489, 2490, 2491, 2492, 2493, 2494, 2495, 2496, 2497, 2498, 2499, 2500, 2501, 2502, 2503, 2504, 2505, 2506, 2507, 2508, 2509, 2510, 2511, 2512, 2513, 2514, 2515, 2516, 2517, 2518, 2519, 2520, 2521, 2522, 2523, 2524, 2525, 2526, 2527, 2528, 2529, 2530, 2531, 2532, 2533, 2534, 2535, 2536, 2537, 2538, 2539, 2540, 2541, 2542, 2543, 2544, 2545, 2546, 2547, 2548, 2549, 2550, 2551, 2552, 2553, 2554, 2555, 2556, 2557, 2558, 2559, 2560, 2561, 2562, 2563, 2564, 2565, 2566, 2567, 2568, 2569, 2570, 2571, 2572, 2573, 2574, 2575, 2576, 2577, 2578, 2579, 2580, 2581, 2582, 2583, 2584, 2585, 2586, 2587, 2588, 2589, 2590, 2591, 2592, 2593, 2594, 2595, 2596, 2597, 2598, 2599, 2600, 2601, 2602, 2603, 2604, 2605, 2606, 2607, 2608, 2609, 2610, 2611, 2612, 2613, 2614, 2615, 2616, 2617, 2618, 2619, 2620, 2621, 2622, 2623, 2624, 2625, 2626, 2627, 2628, 2629, 2630, 2631, 2632, 2633, 2634, 2635, 2636, 2637, 2638, 2639, 2640, 2641, 2642, 2643, 2644, 2645, 2646, 2647, 2648, 2649, 2650, 2651, 2652, 2653, 2654, 2655, 2656, 2657, 2658, 2659, 2660, 2661, 2662, 2663, 2664, 2665, 2666, 2667, 2668, 2669, 2670, 2671, 2672, 2673, 2674, 2675, 2676, 2677, 2678, 2679, 2680, 2681, 2682, 2683, 2684, 2685, 2686, 2687, 2688, 2689, 2690, 2691, 2692, 2693, 2694, 2695, 2696, 2697, 2698, 2699, 2700, 2701, 2702, 2703, 2704, 2705, 2706, 2707, 2708, 2709, 2710, 2711, 2712, 2713, 2714, 2715, 2716, 2717, 2718, 2719, 2720, 2721, 2722, 2723, 2724, 2725, 2726, 2727, 2728, 2729, 2730, 2731, 2732, 2733, 2734, 2735, 2736, 2737, 2738, 2739, 2740, 2741, 2742, 2743, 2744, 2745, 2746, 2747, 2748, 2749, 2750, 2751, 2752, 2753, 2754, 2755, 2756, 2757, 2758, 2759, 2760, 2761, 2762, 2763, 2764, 2765, 2766, 2767, 2768, 2769, 2770, 2771, 2772, 2773, 2774, 2775, 2776, 2777, 2778, 2779, 2780, 2781, 2782, 2783, 2784, 2785, 2786, 2787, 2788, 2789, 2790, 2791, 2792, 2793, 2794, 2795, 2796, 2797, 2798, 2799, 2800, 2801, 2802, 2803, 2804, 2805, 2806, 2807, 2808, 2809, 2810, 2811, 2812, 2813, 2814, 2815, 2816, 2817, 2818, 2819, 2820, 2821, 2822, 2823, 2824, 2825, 2826, 2827, 2828, 2829, 2830, 2831, 2832, 2833, 2834, 2835, 2836, 2837, 2838, 2839, 2840, 2841, 2842, 2843, 2844, 2845, 2846, 2847, 2848, 2849, 2850, 2851, 2852, 2853, 2854, 2855, 2856, 2857, 2858, 2859, 2860, 2861, 2862, 2863, 2864, 2865, 2866, 2867, 2868, 2869, 2870, 2871, 2872, 2873, 2874, 2875, 2876, 2877, 2878, 2879, 2880, 2881, 2882, 2883, 2884, 2885, 2886, 2887, 2888, 2889, 2890, 2891, 2892, 2893, 2894, 2895, 2896, 2897, 2898, 2899, 2900, 2901, 2902, 2903, 2904, 2905, 2906, 2907, 2908, 2909, 2910, 2911, 2912, 2913, 2914, 2915, 2916, 2917, 2918, 2919, 2920, 2921, 2922, 2923, 2924, 2925, 2926, 2927, 2928, 2929, 2930, 2931, 2932, 2933, 2934, 2935, 2936, 2937, 2938, 2939, 2940, 2941, 2942, 2943, 2944, 2945, 2946, 2947, 2948, 2949, 2950, 2951, 2952, 2953, 2954, 2955, 2956, 2957, 2958, 2959, 2960, 2961, 2962, 2963, 2964, 2965, 2966, 2967, 2968, 2969, 2970, 2971, 2972, 2973, 2974, 2975, 2976, 2977, 2978, 2979, 2980, 2981, 2982, 2983, 2984, 2985, 2986, 2987, 2988, 2989, 2990, 2991, 2992, 2993, 2994, 2995, 2996, 2997, 2998, 2999, 3000, 3001, 3002, 3003, 3004, 3005, 3006, 3007, 3008, 3009, 3010, 3011, 3012, 3013, 3014, 3015, 3016, 3017, 3018, 3019, 3020, 3021, 3022, 3023, 3024, 3025, 3026, 3027, 3028, 3029, 3030, 3031, 3032, 3033, 3034, 3035, 3036, 3037, 3038, 3039, 3040, 3041, 3042, 3043, 3044, 3045, 3046, 3047, 3048, 3049, 3050, 3051, 3052, 3053, 3054, 3055, 3056, 3057, 3058, 3059, 3060, 3061, 3062, 3063, 3064, 3065, 3066, 3067, 3068, 3069, 3070, 3071, 3072, 3073, 3074, 3075, 3076, 3077, 3078, 3079, 3080, 3081, 3082, 3083, 3084, 3085, 3086, 3087, 3088, 3089, 3090, 3091, 3092, 3093, 3094, 3095, 3096, 3097, 3098, 3099, 3100, 3101, 3102, 3103, 3104, 3105, 3106, 3107, 3108, 3109, 3110, 3111, 3112, 3113, 3114, 3115, 3116, 3117, 3118, 3119, 3120, 3121, 3122, 3123, 3124, 3125, 3126, 3127, 3128, 3129, 3130, 3131, 3132, 3133, 3134, 3135, 3136, 3137, 3138, 3139, 3140, 3141, 3142, 3143, 3144, 3145, 3146, 3147, 3148, 3149, 3150, 3151, 3152, 3153, 3154, 3155, 3156, 3157, 3158, 3159, 3160, 3161, 3162, 3163, 3164, 3165, 3166, 3167, 3168, 3169, 3170, 3171, 3172, 3173, 3174, 3175, 3176, 3177, 3178, 3179, 3180, 3181, 3182, 3183, 3184, 3185, 3186, 3187, 3188, 3189, 3190, 3191, 3192, 3193, 3194, 3195, 3196, 3197, 3198, 3199, 3200, 3201, 3202, 3203, 3204, 3205, 3206]\n",
            "[2227, 2778, 3112, 804, 2749, 1778, 2151, 1155, 993, 2888, 44, 2618, 503, 1753, 2620, 1508, 2189, 1152, 2867, 400, 2103, 1411, 1959, 2241, 236, 2160, 2138, 445, 1082, 3135, 399, 1711, 2590, 1464, 1709, 2011, 3056, 1095, 645, 3013, 1396, 1921, 2373, 805, 615, 1280, 842, 95, 783, 2313, 1163, 1723, 346, 871, 713, 3002, 1066, 1603, 3053, 1194, 64, 1795, 1047, 1322, 3130, 1219, 2588, 1538, 1789, 1773, 475, 2666, 2523, 824, 72, 1991, 390, 455, 1522, 1071, 334, 964, 1264, 1749, 612, 1909, 2303, 2488, 2031, 3186, 1424, 1113, 2930, 1127, 2829, 1052, 2307, 1816, 3128, 55, 1629, 599, 407, 727, 2009, 2754, 2075, 375, 0, 774, 803, 215, 821, 214, 1569, 1948, 2905, 342, 2238, 2253, 629, 1369, 569, 1551, 2046, 496, 2496, 1444, 776, 1715, 502, 2258, 684, 2449, 1918, 2487, 3087, 786, 1799, 2155, 1776, 888, 1542, 366, 1300, 1724, 364, 310, 1557, 854, 1657, 972, 2458, 1622, 499, 1802, 2083, 3154, 1582, 2764, 2023, 3162, 1358, 747, 2324, 2286, 2065, 1046, 365, 1560, 2650, 1391, 2647, 976, 81, 735, 834, 201, 2113, 1506, 958, 3011, 18, 3200, 2680, 934, 1515, 673, 1500, 1281, 762, 846, 1616, 3131, 2682, 3019, 2032, 2342, 1855, 3161, 69, 1298, 2061, 1282, 2448, 926, 1160, 1136, 789, 1240, 2240, 1974, 1450, 2124, 25, 3032, 2572, 1608, 1374, 800, 185, 1130, 1310, 35, 2981, 2000, 2158, 1330, 1841, 3083, 1417, 2190, 3118, 1231, 145, 564, 387, 1452, 602, 1485, 1627, 1646, 2408, 2294, 1430, 553, 36, 2143, 732, 2965, 2775, 887, 217, 446, 2814, 333, 3058, 2512, 367, 3094, 394, 2417, 3180, 21, 48, 3147, 2339, 349, 1570, 87, 319, 1996, 243, 826, 2162, 3201, 2030, 940, 2893, 830, 1042, 3157, 1383, 1940, 2558, 2720, 2423, 598, 2681, 2115, 1853, 98, 1967, 1898, 2564, 1212, 1752, 710, 970, 2159, 539, 146, 2685, 2941, 1875, 2462, 2583, 852, 414, 272, 2876, 363, 2670, 1013, 568, 1057, 2958, 2171, 1125, 2221, 2968, 520, 2114, 1111, 723, 1721, 544, 2700, 1121, 2201, 2406, 1852, 1399, 748, 2762, 2837, 2384, 981, 340, 702, 2063, 3196, 2587, 714, 3133, 1469, 2747, 595, 2963, 2664, 1102, 1190, 398, 1263, 2401, 2623, 1306, 839, 1876, 726, 1308, 2130, 380, 955, 1693, 2391, 1977, 2168, 443, 160, 3107, 1543, 2327, 2892, 1187, 2343, 806, 2667, 818, 1332, 2777, 1146, 183, 3106, 1418, 1851, 1713, 1007, 797, 530, 2335, 912, 2537, 2228, 901, 2782, 662, 1021, 882, 619, 1116, 2191, 2278, 2971, 7, 827, 170, 2454, 2377, 2246, 1036, 504, 1467, 2820, 840, 2995, 2715, 701, 20, 1471, 844, 2677, 529, 2687, 3171, 1184, 1878, 1001, 274, 3046, 2474, 1153, 40, 1906, 1675, 104, 736, 769, 198, 588, 1819, 2910, 3038, 1578, 287, 2961, 825, 2380, 775, 2068, 1128, 1009, 528, 537, 123, 242, 275, 552, 94, 3062, 1864, 2739, 209, 2493, 548, 2188, 1645, 1689, 832, 690, 2262, 3093, 2541, 534, 2040, 218, 917, 2403, 1702, 466, 1559, 450, 628, 1484, 31, 2946, 3068, 1607, 1075, 1739, 677, 73, 448, 1526, 2917, 2252, 3197, 883, 3134, 2639, 930, 2173, 2807, 1173, 2576, 2830, 1633, 148, 508, 1886, 1698, 1312, 2218, 2875, 3061, 1147, 45, 3167, 1834, 1037, 34, 2195, 68, 2109, 2522, 16, 429, 561, 1850, 2707, 2450, 1446, 756, 1594, 613, 2612, 3151, 1895, 2224, 2755, 2688, 578, 228, 2396, 1995, 889, 182, 2791, 2376, 1199, 82, 384, 2936, 1107, 1210, 1261, 430, 1242, 2027, 2518, 1677, 1958, 728, 2395, 61, 554, 65, 352, 433, 906, 1502, 3035, 1267, 3054, 405, 2607, 865, 2686, 2341, 1899, 3177, 2531, 1108, 2994, 135, 2714, 2200, 3203, 2513, 1048, 2878, 3176, 119, 2430, 532, 2839, 2455, 2810, 1030, 642, 1626, 973, 2146, 637, 114, 1856, 3114, 2575, 540, 2387, 2926, 2485, 2280, 1951, 1828, 2796, 1900, 1252, 425, 1364, 1410, 2017, 1547, 2415, 2052, 224, 226, 376, 1302, 120, 1650, 514, 2891, 997, 1151, 476, 2943, 1763, 2819, 368, 650, 11, 2085, 1269, 2475, 3122, 3078, 457, 3140, 392, 2332, 2679, 1339, 2934, 1680, 1935, 2622, 1207, 2099, 1823, 3194, 2112, 437, 415, 2186, 2301, 1623, 2316, 2653, 1727, 3007, 2773, 1661, 2557, 2903, 2473, 2614, 729, 1501, 1744, 279, 1363, 2798, 1337, 505, 927, 2452, 656, 465, 2288, 2514, 3184, 1612, 1064, 2659, 9, 2783, 2886, 2120, 1460, 2309, 1401, 3052, 427, 1601, 2128, 2149, 2398, 2217, 667, 91, 2901, 2388, 1994, 1820, 2016, 204, 3124, 1283, 1848, 668, 416, 1427, 1740, 1866, 2721, 2582, 2977, 3041, 338, 423, 3204, 1101, 1957, 1832, 231, 2581, 2547, 966, 2742, 1821, 1379, 2951, 2515, 904, 2857, 2656, 939, 1505, 551, 206, 2328, 490, 1291, 856, 452, 2427, 1461, 2048, 2402, 2511, 1806, 2432, 1120, 3017, 2601, 556, 798, 1305, 1973, 1472, 2249, 2613, 573, 2697, 1767, 324, 500, 2026, 1241, 2463, 1431, 935, 304, 230, 305, 916, 2178, 252, 196, 2706, 2644, 949, 709, 1475, 1089, 843, 3123, 1447, 1525, 1847, 1053, 1975, 2599, 3152, 2192, 1725, 3028, 2164, 678, 3030, 2914, 1474, 1457, 141, 1171, 1654, 2292, 1203, 1920, 3077, 1596, 2508, 2441, 2779, 2467, 422, 155, 2770, 321, 1618, 19, 195, 2231, 1710, 2096, 2296, 1861, 697, 2134, 389, 1459, 1416, 2045, 861, 2177, 2586, 2883, 1290, 1583, 2638, 2013, 990, 1573, 794, 801, 1181, 3092, 2728, 2855, 27, 2864, 704, 1400, 2913, 3143, 2359, 426, 2596, 1695, 1808, 377, 17, 2295, 1287, 885, 576, 2223, 1253, 545, 1916, 2610, 1800, 1548, 607, 1294, 3174, 1659, 3084, 1473, 2712, 1014, 1580, 992, 143, 983, 2412, 152, 1768, 531, 2321, 2982, 1176, 730, 2092, 2763, 943, 1251, 2719, 2133, 2660, 1743, 1970, 1589, 773, 2374, 3079, 2635, 1588, 1986, 2974, 1006, 3096, 121, 2559, 2035, 1658, 845, 2422, 1796, 946, 1818, 2492, 395, 1445, 295, 2563, 1678, 1949, 2347, 1335, 1854, 410, 46, 2008, 2980, 2672, 2256, 1165, 2042, 1969, 1157, 2827, 2519, 1911, 2889, 549, 1161, 2369, 688, 3170, 863, 3142, 2326, 506, 2585, 3202, 49, 361, 597, 220, 2479, 2480, 2147, 1456, 1304, 1955, 23, 2800, 1054, 1032, 1929, 1978, 1017, 2669, 1639, 781, 2925, 320, 1258, 591, 2157, 2497, 2265, 2273, 1442, 1696, 985, 1074, 2237, 2193, 1745, 1518, 2959, 2826, 2353, 99, 144, 2880, 460, 1236, 125, 1873, 247, 3132, 3183, 575, 527, 3159, 2538, 2741, 1867, 2185, 707, 3169, 1757, 1270, 2102, 2459, 2668, 991, 1762, 2824, 2100, 2082, 149, 2553, 609, 1166, 501, 989, 2340, 593, 1019, 2555, 2750, 431, 2815, 2127, 1428, 58, 1480, 691, 2404, 2998, 345, 1091, 1407, 1504, 2036, 1169, 402, 1860, 1189, 1434, 1062, 708, 461, 660, 1348, 337, 622, 2938, 2580, 1204, 2701, 1351, 2366, 1419, 3063, 2969, 705, 1059, 954, 2776, 2279, 649, 256, 1122, 838, 1370, 3074, 2658, 2844, 2744, 2540, 176, 265, 957, 1492, 739, 1137, 1523, 484, 2154, 2043, 2923, 2421, 1409, 740, 1868, 2922, 614, 594, 1110, 132, 2302, 654, 179, 2722, 1466, 1495, 1498, 1945, 251, 2821, 2428, 584, 439, 2088, 533, 1987, 3031, 1691, 1060, 3120, 2198, 2219, 2915, 3148, 1705, 2304, 3049, 2912, 3080, 2803, 1490, 2319, 2860, 1942, 1479, 314, 66, 2367, 1402, 750, 2108, 1750, 1797, 71, 2060, 2277, 1814, 327, 1050, 2416, 831, 153, 2419, 1503, 890, 2445, 1586, 915, 1539, 1367, 341, 872, 2716, 627, 1436, 1605, 3145, 2047, 657, 601, 2530, 1398, 1600, 1555, 869, 169, 2595, 1063, 1708, 1602, 2322, 2629, 2674, 1961, 1509, 819, 2073, 1896, 254, 2632, 2275, 2757, 1638, 3081, 391, 74, 2352, 2737, 2568, 2433, 2616, 1423, 2809, 85, 1690, 1454, 412, 600, 75, 2255, 1966, 2955, 2243, 2589, 2095, 358, 2020, 1118, 2591, 90, 273, 680, 1191, 1719, 493, 1630, 1257, 2698, 2471, 519, 764, 792, 1371, 2628, 799, 2407, 1134, 2389, 1387, 1114, 1838, 138, 738, 2769, 175, 3188, 853, 1421, 492, 722, 1487, 3, 1579, 2106, 294, 2457, 2216, 1055, 2066, 1097, 2873, 2909, 1289, 2954, 936, 1275, 2652, 488, 97, 3178, 616, 1591, 2139, 2132, 2499, 2235, 1246, 1792, 2136, 2979, 1532, 1584, 2848, 3014, 1982, 1833, 2481, 2709, 967, 2675, 78, 2593, 2097, 686, 1928, 2727, 2354, 1712, 767, 1644, 790, 482, 765, 2780, 811, 109, 1930, 54, 1540, 923, 454, 1668, 3187, 301, 1830, 2197, 2033, 2131, 2831, 2239, 2550, 1056, 1534, 2215, 2025, 2399, 1313, 106, 512, 2999, 2355, 2142, 331, 857, 1080, 2645, 2405, 577, 1496, 2962, 3138, 753, 1541, 1507, 2738, 2469, 2210, 479, 1587, 583, 2516, 909, 486, 746, 1730, 3185, 1791, 339, 1514, 2602, 2325, 315, 1414, 1788, 268, 1880, 689, 3116, 2345, 2383, 3105, 1499, 2904, 605, 2724, 2571, 1609, 1748, 393, 3089, 699, 2793, 2759, 2156, 1913, 37, 1564, 1041, 2985, 1941, 1463, 191, 3029, 1403, 2003, 261, 2828, 2907, 771, 2526, 2879, 1652, 1218, 1598, 802, 2993, 1343, 1497, 716, 289, 2145, 1193, 166, 1549, 2300, 1234, 1714, 516, 581, 2713, 1625, 2431, 193, 3110, 2272, 685, 1325, 2850, 3192, 1224, 1390, 692, 837, 793, 579, 2284, 745, 325, 1248, 1070, 3100, 3101, 2604, 1449, 507, 2545, 353, 1323, 2226, 172, 1462, 703, 2565, 922, 126, 2761, 2058, 2950, 2439, 2535, 385, 1334, 3073, 921, 2381, 3082, 1188, 3024, 3139, 1038, 1216, 1824, 2532, 1907, 157, 587, 2337, 116, 77, 1827, 945, 1553, 2363, 2845, 2446, 115, 2071, 562, 620, 1293, 2704, 2569, 139, 900, 309, 3065, 2690, 2768, 1279, 1965, 2933, 1884, 2411, 919, 1186, 2789, 1963, 1011, 2836, 362, 2015, 1342, 313, 1233, 355, 404, 524, 299, 2336, 1915, 2064, 1321, 1822, 719, 715, 2056, 1044, 1666, 1631, 1670, 2091, 2695, 344, 682, 1825, 1681, 1836, 635, 2320, 2055, 1073, 1674, 1206, 2478, 1887, 216, 894, 2774, 1831, 1412, 2062, 2002, 351, 1790, 42, 829, 2250, 1606, 855, 1311, 3173, 828, 1174, 879, 2945, 3076, 159, 941, 2090, 893, 2967, 1840, 2169, 2126, 2801, 1368, 1144, 2180, 471, 2379, 1090, 2866, 264, 3085, 3064, 2976, 2919, 2973, 245, 2895, 2183, 523, 1565, 2490, 3150, 2444, 1947, 3160, 15, 112, 1227, 809, 451, 93, 631, 2772, 1079, 2843, 1214, 2921, 1388, 580, 227, 1770, 706, 233, 2476, 1546, 441, 1685, 848, 905, 1243, 2460, 2414, 2554, 2546, 557, 167, 1380, 2733, 2054, 2163, 1660, 318, 1842, 173, 1221, 2634, 1590, 664, 1477, 638, 757, 3001, 698, 2245, 859, 770, 1771, 2689, 2264, 1897, 2317, 2039, 2451, 3044, 142, 820, 1346, 2362, 293, 371, 12, 718, 2636, 2858, 1706, 1439, 2179, 2348, 59, 547, 1420, 1347, 1247, 53, 2911, 1316, 2012, 1256, 1273, 1676, 3012, 1148, 878, 2854, 463, 2648, 570, 2152, 2018, 1910, 1738, 2101, 1807, 459, 987, 2881, 1932, 3025, 1039, 1183, 212, 3126, 639, 1229, 589, 2257, 1772, 2805, 1536, 2312, 724, 841, 1901, 2630, 675, 2248, 1150, 2110, 3189, 2247, 1962, 1662, 763, 2811, 1524, 197, 884, 190, 174, 2551, 2350, 137, 2074, 1406, 312, 766, 2655, 1362, 1759, 874, 640, 194, 2051, 2308, 2486, 928, 1694, 694, 2549, 2852, 2456, 880, 440, 1476, 1129, 1574, 1333, 2506, 1746, 2870, 1437, 2464, 2929, 3163, 2806, 1035, 1943, 2624, 2816, 2539, 2206, 2736, 2053, 2351, 1198, 1296, 1278, 563, 258, 134, 2329, 2269, 659, 165, 2282, 3050, 1458, 1004, 2004, 1405, 3103, 822, 1735, 2203, 2089, 63, 1317, 3097, 2562, 1067, 1349, 2693, 1604, 1489, 88, 2400, 1968, 1031, 925, 2349, 2877, 1051, 741, 1593, 2491, 975, 3190, 1527, 2863, 1077, 3057, 1519, 259, 107, 543, 3193, 2802, 663, 2393, 487, 1614, 1617, 733, 30, 269, 52, 1774, 2953, 225, 357, 3069, 513, 2386, 266, 296, 1758, 567, 5, 1220, 1844, 1615, 2705, 1585, 672, 477, 1781, 1665, 2534, 3144, 2797, 2578, 1567, 2176, 140, 2344, 1156, 1889, 257, 498, 683, 1611, 103, 43, 2170, 2566, 1314, 434, 1357, 3136, 1992, 1964, 1736, 250, 388, 565, 2078, 124, 2356, 2766, 2461, 2756, 752, 3045, 203, 742, 2856, 483, 910, 908, 2694, 2368, 2165, 67, 572, 2577, 835, 1260, 3104, 1707, 202, 1341, 849, 2314, 316, 1488, 1520, 3036, 3121, 2436, 1954, 1426, 1521, 1373, 759, 929, 2942, 277, 1100, 2117, 480, 199, 3004, 2851, 2150, 76, 2153, 92, 2673, 238, 2838, 1329, 618, 1435, 2229, 950, 2104, 1301, 129, 1326, 453, 1249, 1874, 671, 1149, 1931, 2213, 1268, 2447, 965, 478, 2502, 2928, 760, 2242, 1307, 1684, 2996, 1197, 3020, 2525, 1533, 2420, 754, 2122, 253, 1098, 2944, 28, 808, 1619, 184, 2037, 2710, 2019, 2884, 2434, 813, 2006, 1381, 3055, 1385, 1761, 462, 2076, 1544, 288, 154, 1972, 959, 235, 1647, 693, 1782, 1528, 2608, 1651, 1981, 2098, 1933, 2734, 2862, 526, 336, 1700, 558, 2184, 1027, 2696, 749, 2528, 3075, 1104, 1610, 270, 2118, 359, 850, 1530, 3206, 1208, 369, 538, 3125, 136, 1805, 1265, 161, 2935, 560, 1026, 2683, 897, 1443, 2964, 1172, 2034, 200, 33, 2573, 2833, 89, 1209, 2662, 3156, 1562, 971, 2606, 1979, 1575, 3039, 1237, 2841, 1024, 1737, 1225, 2691, 2641, 302, 3034, 1178, 1905, 2983, 1045, 1882, 1040, 1888, 951, 586, 2038, 3003, 2725, 323, 2991, 696, 737, 1687, 2812, 596, 1764, 1535, 1468, 1201, 3098, 3099, 188, 2849, 3117, 2898, 1817, 2144, 2924, 1777, 370, 2466, 1177, 961, 3168, 2927, 1998, 1297, 3129, 1345, 2861, 1628, 1386, 2989, 1923, 306, 632, 1679, 590, 62, 1871, 408, 1803, 3086, 1359, 2057, 2346, 151, 2028, 623, 1581, 1561, 2939, 1303, 178, 1682, 2287, 2560, 978, 772, 1318, 3022, 1545, 1361, 1413, 2365, 1829, 608, 2005, 3023, 2290, 3182, 1094, 3021, 1392, 2556, 2966, 285, 559, 2081, 780, 1571, 592, 1870, 2517, 1934, 1976, 1701, 1119, 2084, 1195, 2902, 630, 481, 1890, 464, 3102, 3072, 1671, 56, 1272, 648, 3005, 2527, 2784, 1985, 2808, 1179, 2832, 3119, 2785, 211, 1810, 2041, 3141, 2123, 768, 222, 1692, 1892, 4, 2107, 1655, 474, 1324, 2498, 3088, 360, 2504, 150, 1640, 2291, 2029, 2730, 1350, 658, 428, 1315, 1365, 2665, 1425, 1925, 373, 2330, 2529, 743, 2500, 2640, 2125, 2723, 717, 2489, 1103, 84, 2956, 374, 2468, 1025, 2429, 1769, 2748, 329, 1793, 2022, 2211, 2049, 2790, 2663, 1245, 1919, 509, 1798, 1182, 3006, 679, 244, 3115, 582, 1088, 2760, 2626, 2230, 470, 2605, 810, 2822, 956, 291, 1859, 1158, 1180, 948, 133, 1192, 1924, 2842, 1673, 10, 641, 307, 2260, 711, 982, 643, 332, 2795, 3091, 851, 406, 246, 2718, 1756, 1217, 1813, 1845, 2543, 2140, 924, 1704, 2285, 485, 2729, 348, 2649, 2305, 611, 621, 219, 303, 2014, 1641, 267, 467, 1956, 1034, 210, 755, 1395, 1804, 1960, 1922, 1164, 50, 420, 2397, 2482, 1196, 3042, 223, 186, 1123, 518, 2520, 57, 1238, 2732, 1478, 931, 1213, 795, 411, 1159, 2148, 1132, 1983, 886, 2918, 758, 2194, 489, 3095, 788, 494, 944, 3048, 1255, 1109, 3195, 1441, 1354, 2906, 1742, 3155, 2174, 2267, 2637, 1511, 2382, 1254, 996, 2524, 907, 1205, 381, 70, 1835, 2010, 1950, 984, 2274, 2781, 2948, 988, 3000, 782, 2116, 41, 2882, 1131, 1145, 1394, 1058, 1453, 868, 1997, 2510, 1331, 2611, 117, 1377, 2501, 2334, 2594, 998, 1846, 1142, 354, 1005, 1320, 1099, 2426, 1784, 2788, 1980, 2631, 1106, 2137, 721, 1783, 3018, 1883, 1483, 1775, 432, 2007, 2548, 51, 1397, 2817, 282, 1517, 3071, 2182, 1422, 168, 2318, 2972, 1235, 417, 994, 2425, 311, 812, 1624, 1537, 2823, 1277, 105, 2370, 2726, 1274, 670, 3043, 687, 1510, 1049, 2642, 892, 2310, 468, 1939, 517, 2835, 624, 83, 816, 2615, 127, 164, 2813, 918, 1433, 213, 3015, 3009, 1926, 2846, 1033, 1726, 3172, 2507, 1382, 1338, 1862, 866, 1340, 2657, 1065, 3113, 744, 1891, 555, 1755, 343, 111, 2311, 2424, 1613, 110, 3111, 2752, 1914, 2990, 1656, 1376, 1592, 118, 2896, 1785, 1117, 3067, 1999, 903, 2470, 2236, 2204, 1716, 1597, 1223, 1440, 24, 1953, 1558, 2358, 80, 2868, 1595, 1720, 847, 255, 1703, 1908, 2222, 1355, 1669, 1699, 263, 876, 625, 1568, 947, 617, 3066, 330, 2212, 1309, 1375, 1112, 960, 1170, 317, 1801, 1124, 979, 2567, 1984, 2135, 1135, 1012, 1061, 1843, 1944, 651, 1826, 2651, 1747, 2067, 2509, 1812, 1299, 2438, 2289, 2865, 1903, 546, 1869, 497, 1020, 2283, 2869, 1902, 2121, 720, 896, 1741, 436, 22, 604, 999, 1636, 2024, 1572, 796, 2357, 2579, 1697, 1865, 298, 2503, 2992, 3109, 189, 100, 603, 815, 2970, 1271, 962, 2900, 1372, 2847, 2592, 2111, 1162, 347, 695, 1938, 2093, 2894, 1811, 2767, 1904, 1319, 2987, 2375, 2753, 2746, 1175, 1244, 1, 2244, 1663, 1232, 2331, 2521, 712, 2890, 1722, 785, 521, 2270, 1211, 1648, 1336, 1672, 1266, 2077, 1230, 510, 1285, 2552, 1352, 286, 1766, 1491, 807, 2205, 2129, 6, 1786, 181, 1043, 778, 2361, 1577, 473, 2094, 2483, 1787, 2871, 1415, 1779, 2443, 444, 156, 2834, 2378, 3027, 1069, 2794, 113, 1356, 2916, 1637, 2086, 2627, 1438, 1143, 3137, 1141, 1344, 1632, 791, 2703, 96, 913, 932, 1250, 1432, 1885, 817, 911, 1927, 158, 1566, 442, 652, 3040, 1016, 1686, 1360, 734, 101, 1688, 725, 665, 969, 633, 2542, 2897, 2293, 1448, 421, 2731, 1022, 860, 1465, 163, 1493, 1262, 171, 522, 1760, 606, 2263, 2385, 1512, 147, 2234, 610, 2908, 3008, 39, 2297, 1751, 2259, 1809, 3198, 1072, 2609, 535, 1366, 14, 180, 1133, 2931, 2598, 378, 208, 1028, 3010, 2070, 1081, 2597, 833, 1404, 862, 2477, 1154, 1115, 3164, 3047, 438, 472, 3153, 550, 424, 2717, 1226, 2271, 2735, 32, 2166, 2678, 2505, 1239, 2225, 2975, 646, 1167, 1513, 1000, 281, 1429, 542, 2887, 2072, 873, 2202, 300, 409, 2306, 2544, 1877, 38, 297, 2840, 1872, 1228, 2643, 2978, 536, 1621, 1087, 977, 1286, 2743, 836, 1068, 1295, 2141, 2315, 3070, 2692, 1717, 335, 2536, 162, 2435, 2371, 1008, 2333, 491, 1653, 963, 2765, 278, 2437, 280, 761, 328, 2080, 232, 644, 2175, 2059, 1952, 2392, 205, 234, 1284, 249, 2220, 2372, 239, 891, 1215, 777, 634, 1993, 2711, 2276, 2853, 1732, 1168, 1863, 1086, 1599, 8, 1552, 674, 240, 1642, 875, 1971, 1989, 1664, 681, 968, 382, 60, 2214, 2671, 207, 401, 2254, 1815, 308, 1023, 1894, 2949, 751, 3191, 574, 1837, 3149, 2937, 784, 1018, 447, 1389, 1649, 248, 403, 2646, 2676, 2758, 221, 1912, 1683, 1734, 1451, 1765, 2699, 397, 386, 779, 1667, 1937, 995, 1936, 2360, 2338, 541, 2984, 877, 1988, 2740, 1140, 974, 2105, 2960, 1353, 128, 276, 937, 241, 2584, 2899, 290, 29, 3175, 2410, 942, 2268, 2409, 86, 1384, 262, 920, 1015, 495, 1849, 2119, 1794, 1529, 3179, 2751, 1634, 1276, 2920, 823, 2825, 2208, 867, 1733, 2484, 2161, 1085, 676, 2251, 1946, 2702, 525, 515, 2181, 283, 1990, 2997, 350, 3146, 3090, 986, 237, 980, 1259, 1486, 458, 79, 2001, 1327, 2453, 2, 2172, 2209, 661, 1531, 3060, 3181, 2494, 3026, 2617, 1222, 2561, 435, 2079, 731, 2050, 1078, 2947, 2957, 13, 1858, 647, 1780, 1202, 3205, 3166, 2625, 1092, 2199, 2792, 469, 2952, 2786, 47, 2266, 1029, 2167, 1917, 2440, 1563, 1576, 260, 2442, 1729, 2787, 655, 2570, 626, 449, 192, 372, 2021, 2087, 566, 898, 1482, 1635, 2390, 1754, 2394, 3059, 1076, 2207, 2299, 3051, 1010, 3199, 1084, 585, 1879, 2633, 1620, 2044, 2684, 870, 1288, 2940, 2323, 864, 271, 1096, 1643, 1292, 131, 938, 229, 1328, 2804, 899, 2281, 2818, 2621, 1105, 1554, 1893, 669, 1002, 2986, 2187, 700, 2600, 2495, 292, 2654, 2799, 2874, 1093, 2745, 858, 1455, 1516, 666, 1494, 2603, 1857, 3165, 3158, 413, 953, 326, 1185, 933, 2708, 187, 284, 2885, 787, 2364, 1481, 2533, 2574, 1200, 2261, 322, 1550, 511, 2196, 1881, 2988, 177, 1083, 2472, 1408, 1470, 396, 1556, 379, 418, 1378, 3127, 881, 636, 1138, 1393, 1731, 2859, 653, 3108, 26, 1139, 2413, 1839, 902, 1718, 2232, 2872, 2661, 2932, 814, 2298, 108, 2465, 2069, 952, 895, 383, 122, 130, 1728, 2418, 356, 2233, 3033, 2771, 419, 3016, 571, 914, 1003, 1126, 3037, 102, 456, 2619]\n"
          ]
        }
      ]
    },
    {
      "cell_type": "markdown",
      "source": [
        "# train_test_split 이용하기"
      ],
      "metadata": {
        "id": "VgwSHQJiKXG0"
      }
    },
    {
      "cell_type": "code",
      "source": [
        "X_train, X_test, y_train, y_test = train_test_split(combine_df[\"Review\"], combine_df[\"Label\"].values, random_state=SEED, test_size=0.2)"
      ],
      "metadata": {
        "id": "966UK0lvKcJ-"
      },
      "execution_count": null,
      "outputs": []
    },
    {
      "cell_type": "markdown",
      "source": [
        "# 패딩 & 마스크하기"
      ],
      "metadata": {
        "id": "lpNEMrIRjul8"
      }
    },
    {
      "cell_type": "code",
      "source": [
        "import tensorflow as tf\n",
        "from transformers import AutoTokenizer\n",
        "\n",
        "tokenizer = BertTokenizer.from_pretrained('bert-base-uncased')"
      ],
      "metadata": {
        "id": "91RRlZbNtcA4",
        "colab": {
          "base_uri": "https://localhost:8080/",
          "height": 113,
          "referenced_widgets": [
            "3690cacf429d41c2bef5d444b9151856",
            "074a827cd2ec4af6974016ff1b465b49",
            "abc025cebaab4dd194f2e9dca4563e26",
            "0db70689f173450781f7a168b9c8f522",
            "979490014eb44d8792343221e07dbded",
            "8117d37ec9df4516a04133c698c8c0fa",
            "e43d869871114657ac5753048cd19508",
            "93de0bd0907b46c790102894171acce7",
            "272dffff375844978577eeda5833d88a",
            "4e07e6d0688242d99284a710eca0a6e9",
            "b251432d76524eeaa9da0c6315819aac",
            "9cc6b1c650bf414c90b3b54ac2dd4edb",
            "9d9aef356c0b4da2bf0ebbd3e10631a8",
            "0e15e99882764fd2a4286d892da220ba",
            "972789c1d1ae4589b964bd3b9f2a13df",
            "dc92c8879ca647308842b41b0ac5786e",
            "e62c9063022b43dab2698bfaaefdc484",
            "7ee19253a6184d08b003e81e6ce8cec2",
            "5b5b514931db4938ac028bedc6cb4059",
            "b9163b2c9df7410ba201030b15f44f96",
            "514bfa5d2f924243aeaff2faee246b69",
            "01febf36feae465f95b24859d7b96743",
            "8bbc4ea4f54944beb30f7d791a2f77ea",
            "40c6cfd2f6d3480cb5bd47d1db758826",
            "e3387926da6f43888209bb222bb62767",
            "ae0d5c932ec842188e339bb3b822890b",
            "b6cc0d58319849ea8b3956027067186d",
            "27e776ad38b649c1a822598c93d89fbf",
            "64aa6610d7414cc19e97c797f921eb8a",
            "dddb483cc998419f8e2fb165fefd30c5",
            "f170fb8125ee4b48aa1d292233257619",
            "85f5ee0712c2436a805dc66d87f013ab",
            "e0b1e98a2e1b4d8b84d71fa9b9d1814f"
          ]
        },
        "outputId": "2059b9bc-553b-4c73-9423-9a48200eea8a"
      },
      "execution_count": null,
      "outputs": [
        {
          "output_type": "display_data",
          "data": {
            "text/plain": [
              "Downloading (…)solve/main/vocab.txt:   0%|          | 0.00/232k [00:00<?, ?B/s]"
            ],
            "application/vnd.jupyter.widget-view+json": {
              "version_major": 2,
              "version_minor": 0,
              "model_id": "3690cacf429d41c2bef5d444b9151856"
            }
          },
          "metadata": {}
        },
        {
          "output_type": "display_data",
          "data": {
            "text/plain": [
              "Downloading (…)okenizer_config.json:   0%|          | 0.00/28.0 [00:00<?, ?B/s]"
            ],
            "application/vnd.jupyter.widget-view+json": {
              "version_major": 2,
              "version_minor": 0,
              "model_id": "9cc6b1c650bf414c90b3b54ac2dd4edb"
            }
          },
          "metadata": {}
        },
        {
          "output_type": "display_data",
          "data": {
            "text/plain": [
              "Downloading (…)lve/main/config.json:   0%|          | 0.00/570 [00:00<?, ?B/s]"
            ],
            "application/vnd.jupyter.widget-view+json": {
              "version_major": 2,
              "version_minor": 0,
              "model_id": "8bbc4ea4f54944beb30f7d791a2f77ea"
            }
          },
          "metadata": {}
        }
      ]
    },
    {
      "cell_type": "code",
      "source": [
        "# def encode(sents, tokenizer):\n",
        "#     input_ids = [] # 각 문서를 구성하는 토큰의 ID 정보를 저장하는 리스트\n",
        "#     attention_masks = [] # 각 문서의 어텐션 마스크 정보를 저장하는 리스트\n",
        "#     for text in sents:\n",
        "#         tokenized_text = tokenizer.encode_plus(text,\n",
        "#                                             max_length=30,    # 문서 길이 30으로 통일\n",
        "#                                             add_special_tokens = True,    #[CLS], [SEP] 토큰 추가\n",
        "#                                             pad_to_max_length=True,\n",
        "# #                                             padding_side='right',\n",
        "#                                             return_attention_mask=True)\n",
        "#         input_ids.append(tokenized_text['input_ids'])\n",
        "#         attention_masks.append(tokenized_text['attention_mask'])\n",
        "\n",
        "#     return tf.convert_to_tensor(input_ids, dtype=tf.int32), tf.convert_to_tensor(attention_masks, dtype=tf.int32)\n",
        "\n",
        "# for review in train_df:\n",
        "#     tokenized_train_sents = encode(review, tokenizer)\n",
        "\n",
        "# for review in test_df:\n",
        "#     tokenized_test_sents = encode(review, tokenizer)\n",
        "\n",
        "# for review in val_df:\n",
        "#     tokenized_val_sentss= encode(review, tokenizer)\n",
        "\n",
        "# tokenizes_train_sent[0]은 ID 정보이고,\n",
        "# tokenizes_train_sent[1]은 mask 정보입니다."
      ],
      "metadata": {
        "id": "bbli4znQT1pe"
      },
      "execution_count": null,
      "outputs": []
    },
    {
      "cell_type": "markdown",
      "source": [
        "다른방식으로 토크나이저 / 패딩 / 마스킹 하기"
      ],
      "metadata": {
        "id": "_8M8w7Amp3Ts"
      }
    },
    {
      "cell_type": "code",
      "source": [
        "def encode(data, tokenizer, MAX_LENGTH):\n",
        "    input_ids = []          # 각 문서를 구성하는 토큰의 ID 정보를 저장하는 리스트\n",
        "    attention_masks = []    # 각 문서의 어텐션 마스크 정보를 저장하는 리스트\n",
        "    token_type_ids = []\n",
        "\n",
        "    for text in data:\n",
        "        tokenized_text = tokenizer.encode_plus(text,\n",
        "                                            max_length=MAX_LENGTH,\n",
        "                                            add_special_tokens = True,      #[CLS], [SEP] 토큰 추가 -> 앞선 두 개는 special token이라고 하는데, 그걸 붙여줄지 여부를 묻는 것이다.\n",
        "                                            pad_to_max_length=True,\n",
        "                                            return_attention_mask=True,\n",
        "                                              truncation=True)\n",
        "\n",
        "        input_ids.append(tokenized_text['input_ids'])\n",
        "        attention_masks.append(tokenized_text['attention_mask'])\n",
        "        token_type_ids.append(tokenized_text['token_type_ids'])\n",
        "\n",
        "    return input_ids, attention_masks, token_type_ids"
      ],
      "metadata": {
        "id": "DureQXpFpHsl"
      },
      "execution_count": null,
      "outputs": []
    },
    {
      "cell_type": "code",
      "source": [
        "MAX_LENGTH = 150           # 문서 길이 150으로 통일\n",
        "\n",
        "# 이쪽은 train_test_split 이용해서 나눈 경우\n",
        "\n",
        "#학습데이터 토큰화\n",
        "train_input_ids, train_attention_masks, train_token_type_ids = encode(X_train, tokenizer, MAX_LENGTH)\n",
        "\n",
        "#테스트데이터 토큰화\n",
        "test_input_ids, test_attention_masks, test_token_type_ids = encode(X_test, tokenizer, MAX_LENGTH)\n",
        "\n",
        "\n",
        "# 이쪽은 train / test / val 직접 나눈 경우\n",
        "\n",
        "# #train_data 토큰화\n",
        "# train_input_ids, train_attention_masks, train_token_type_ids = encode(train_df[\"Review\"], tokenizer)\n",
        "\n",
        "# #test_data 토큰화\n",
        "# test_input_ids, test_attention_masks, test_token_type_ids = encode(test_df[\"Review\"], tokenizer)\n",
        "\n",
        "# #val_data 토큰화\n",
        "# val_input_ids, val_attention_masks, val_token_type_ids = encode(val_df[\"Review\"], tokenizer)"
      ],
      "metadata": {
        "colab": {
          "base_uri": "https://localhost:8080/"
        },
        "id": "DS2OjuQtjyH4",
        "outputId": "aa57128a-374e-4846-b49a-fd76fb0f06ee"
      },
      "execution_count": null,
      "outputs": [
        {
          "output_type": "stream",
          "name": "stderr",
          "text": [
            "/usr/local/lib/python3.10/dist-packages/transformers/tokenization_utils_base.py:2393: FutureWarning: The `pad_to_max_length` argument is deprecated and will be removed in a future version, use `padding=True` or `padding='longest'` to pad to the longest sequence in the batch, or use `padding='max_length'` to pad to a max length. In this case, you can give a specific length with `max_length` (e.g. `max_length=45`) or leave max_length to None to pad to the maximal input size of the model (e.g. 512 for Bert).\n",
            "  warnings.warn(\n"
          ]
        }
      ]
    },
    {
      "cell_type": "markdown",
      "source": [
        "# 임베딩?\n",
        "\n",
        "엘리스 코딩에 있던 임베딩 코드를 가져온다"
      ],
      "metadata": {
        "id": "ZKTuj1zTYc6F"
      }
    },
    {
      "cell_type": "markdown",
      "source": [
        "우리가 설정한 MAX_LENGTH는 100인데, 저 숫자 이상인 문장의 개수가 얼마나 되는지 파악해본다."
      ],
      "metadata": {
        "id": "9u1ohzQDYjV4"
      }
    },
    {
      "cell_type": "code",
      "source": [
        "import seaborn as sns\n",
        "\n",
        "counter_list = []\n",
        "for text_seq in train_input_ids:\n",
        "    counter_list.append(tf.math.count_nonzero(text_seq).numpy())\n",
        "\n",
        "counter_df = pd.DataFrame(counter_list, columns=['length'])\n",
        "sns.histplot(data=counter_df, x='length', kde=True)\n",
        "\n",
        "print(\n",
        "    f\"0이 아닌 인덱스의 길이가 최대치인 문장의 비율: \"\n",
        "    f\"{(len(counter_df[counter_df['length'] == MAX_LENGTH]) / len(counter_df)) * 100:.3f}%\"\n",
        ")"
      ],
      "metadata": {
        "colab": {
          "base_uri": "https://localhost:8080/",
          "height": 467
        },
        "id": "lfGU2YkCYiXL",
        "outputId": "a705380a-9892-46c4-e335-8239a9e4d53b"
      },
      "execution_count": null,
      "outputs": [
        {
          "output_type": "stream",
          "name": "stdout",
          "text": [
            "0이 아닌 인덱스의 길이가 최대치인 문장의 비율: 0.117%\n"
          ]
        },
        {
          "output_type": "display_data",
          "data": {
            "text/plain": [
              "<Figure size 640x480 with 1 Axes>"
            ],
            "image/png": "[encoded data removed]"
          },
          "metadata": {}
        }
      ]
    },
    {
      "cell_type": "markdown",
      "source": [
        "# 딕셔너리로 변경\n",
        "BERT에 입력하기 위해서는 데이터를 딕셔너리 형태로 변경해야 한다."
      ],
      "metadata": {
        "id": "QSLrstats6oZ"
      }
    },
    {
      "cell_type": "code",
      "source": [
        "#딕셔너리 형태로 변환해서 출력\n",
        "def map_example_to_dict(input_ids, attention_masks, token_type_ids, label):\n",
        "    return {\n",
        "      \"input_ids\": input_ids,\n",
        "      \"token_type_ids\": token_type_ids,\n",
        "      \"attention_mask\": attention_masks,\n",
        "      }, label\n",
        "\n",
        " #데이터를 BERT에 넣을 수 있는 형태로 변경\n",
        "def data_encode(input_ids_list, attention_mask_list, token_type_ids_list, label_list):\n",
        "    return tf.data.Dataset.from_tensor_slices((input_ids_list, attention_mask_list, token_type_ids_list, label_list)).map(map_example_to_dict)"
      ],
      "metadata": {
        "id": "GTjS9mAWs5yt"
      },
      "execution_count": null,
      "outputs": []
    },
    {
      "cell_type": "markdown",
      "source": [
        "batch 사이즈는 한 번의 시행마다 몇 개씩 랜덤으로 뽑아서 학습시킬 것인지를 말하는 것이다.\n",
        "\n",
        "예를 들어 4000개의 데이터를 80개의 batch 사이즈로 나누면 literation이 50개가 나온다. 그러면 50번만큼 데이터를 돌리는 것이다.\n",
        "\n",
        "그리고 이렇게 모든 데이터를 한 번 씩 다 돌렸으면 그것을 하나의 epoch라고 한다.\n",
        "\n",
        "epoch가 10이면 4000개의 데이터를 처음부터 끝까지 10번 학습했다는 뜻이다.\n",
        "\n",
        "그러면 왜 같은 데이터로 여러번 학습시키느냐? 바로 학습마다 각 batch의 가중치를 다르게 설정하기 때문이다.\n",
        "\n",
        "그렇기 때문에 epoch를 학습할 때마다 정확도가 올라간다. 하지만, 너무 많은 epoch를 학습시키면 안타깝게도 과적합의 문제가 발생한다. 따라서 과적합되지 않으면서도 정확도가 높은 적당한 수치를 입력해야 한다.\n",
        "\n",
        "그러면 왜 한 번에 다 넣어서 돌리지 않고 batch를 나눠서 각각 돌리는지 궁금할 수 있다. 그 이유는 빅데이터 등에서 수십억개의 데이터를 한 번에 넣을 경우 RAM이 터질 수 있기 때문에 적은 양씩 나눠서 넣는 것이다."
      ],
      "metadata": {
        "id": "luUYhhXfOs6V"
      }
    },
    {
      "cell_type": "code",
      "source": [
        "BATCH_SIZE = 24 # 임시로 batch 사이즈 64로 설정해둠\n",
        "\n",
        "# 이쪽은 train_test_split 이용해서 나눈 경우\n",
        "\n",
        "#학습 데이터\n",
        "train_data_encoded = data_encode(train_input_ids, train_attention_masks, train_token_type_ids,y_train).batch(BATCH_SIZE)\n",
        "\n",
        "#평가 데이터\n",
        "test_data_encoded = data_encode(test_input_ids, test_attention_masks, test_token_type_ids, y_test).batch(BATCH_SIZE)\n",
        "\n",
        "\n",
        "# 이쪽은 train / test / val 직접 나눈 경우\n",
        "\n",
        "# #학습 데이터\n",
        "# train_data_encoded = data_encode(train_input_ids, train_attention_masks, train_token_type_ids, train_df[\"Label\"]).batch(BATCH_SIZE)\n",
        "\n",
        "# #평가 데이터\n",
        "# test_data_encoded = data_encode(test_input_ids, test_attention_masks, test_token_type_ids, test_df[\"Label\"]).batch(BATCH_SIZE)\n",
        "\n",
        "# #검증 데이터\n",
        "# val_data_encoded = data_encode(val_input_ids, val_attention_masks, val_token_type_ids, val_df[\"Label\"]).batch(BATCH_SIZE)"
      ],
      "metadata": {
        "id": "OfzQHndMtoZS"
      },
      "execution_count": null,
      "outputs": []
    },
    {
      "cell_type": "markdown",
      "source": [
        "# GPU 사용가능 체크\n",
        "이제 거의 마지막으로. GPU 가 사용한지 체크를 해줍니다."
      ],
      "metadata": {
        "id": "YJ0Yhr_0X9Ag"
      }
    },
    {
      "cell_type": "code",
      "source": [
        "if torch.cuda.is_available():\n",
        "    device = torch.device(\"cuda\")\n",
        "    print('There are %d GPU(s) available.' % torch.cuda.device_count())\n",
        "    print('We will use the GPU:', torch.cuda.get_device_name(0))\n",
        "else:\n",
        "    device = torch.device(\"cpu\")\n",
        "    print('No GPU available, using the CPU instead.')"
      ],
      "metadata": {
        "id": "le2SiDaTV94K",
        "colab": {
          "base_uri": "https://localhost:8080/"
        },
        "outputId": "678abfce-5ade-46b3-d762-11b630a1b6b2"
      },
      "execution_count": null,
      "outputs": [
        {
          "output_type": "stream",
          "name": "stdout",
          "text": [
            "There are 1 GPU(s) available.\n",
            "We will use the GPU: Tesla V100-SXM2-16GB\n"
          ]
        }
      ]
    },
    {
      "cell_type": "markdown",
      "source": [
        "# 학습 실행"
      ],
      "metadata": {
        "id": "iLNa_v4YKAyw"
      }
    },
    {
      "cell_type": "code",
      "source": [
        "from transformers import BertTokenizer, TFBertForSequenceClassification\n",
        "\n",
        "Dropout_Probablitity = 0.5\n",
        "\n",
        "model = TFBertForSequenceClassification.from_pretrained(\n",
        "    \"bert-base-uncased\",                        # 12-layer짜리 BERT model 사용, 소문자로 바꿔줌.\n",
        "    num_labels = 3,                             # 우리의 데이터셋에는 LABEL이 3개가 필요하쥬?\n",
        "    hidden_dropout_prob=Dropout_Probablitity    # DropOut 0.5 실행, 안 하고 싶으면 주석처리하면 됨.\n",
        "#     output_attentions = False, # Whether the model returns attentions weights.\n",
        "#     output_hidden_states = False, # Whether the model returns all hidden-states.\n",
        ")"
      ],
      "metadata": {
        "colab": {
          "base_uri": "https://localhost:8080/",
          "height": 122,
          "referenced_widgets": [
            "3a35aa85f08d4cc19946684c25b17914",
            "84fbcb8d3c314c67a1465e66de78382a",
            "acc3823a25cb40e290df60a60e3b46cc",
            "944f81f003c44b3b8d8f7df57795a15b",
            "0202fcc9e8b347e5979b583fcc5ff96e",
            "28f87b3f530049c786c74e65fe00435b",
            "d9e547e1c6d84b68b4da503e23498c5c",
            "8ad50d220ea9441e9d3a7e6edf9cbe4b",
            "95c347f7f2d34c4db4873958b1be0b45",
            "408a419da282446cb84ce821b6094ebb",
            "7dee77d4093a4aa3b22987186afbed0b"
          ]
        },
        "id": "8sJtxsQUyoDJ",
        "outputId": "e3f31079-a301-4ed7-d251-c6a9e716e3f3"
      },
      "execution_count": null,
      "outputs": [
        {
          "output_type": "display_data",
          "data": {
            "text/plain": [
              "Downloading model.safetensors:   0%|          | 0.00/440M [00:00<?, ?B/s]"
            ],
            "application/vnd.jupyter.widget-view+json": {
              "version_major": 2,
              "version_minor": 0,
              "model_id": "3a35aa85f08d4cc19946684c25b17914"
            }
          },
          "metadata": {}
        },
        {
          "output_type": "stream",
          "name": "stderr",
          "text": [
            "All PyTorch model weights were used when initializing TFBertForSequenceClassification.\n",
            "\n",
            "Some weights or buffers of the TF 2.0 model TFBertForSequenceClassification were not initialized from the PyTorch model and are newly initialized: ['classifier.weight', 'classifier.bias']\n",
            "You should probably TRAIN this model on a down-stream task to be able to use it for predictions and inference.\n"
          ]
        }
      ]
    },
    {
      "cell_type": "code",
      "source": [
        "#위에 무슨 모델 돌렸느냐에 따라 드롭아웃 적용/비적용임\n",
        "\n",
        "optimizer = tf.keras.optimizers.Adam(1e-5)\n",
        "loss = tf.keras.losses.SparseCategoricalCrossentropy(from_logits=True)\n",
        "metric = tf.keras.metrics.SparseCategoricalAccuracy('accuracy')\n",
        "model.compile(optimizer=optimizer, loss=loss, metrics=[metric])\n",
        "\n",
        "NUM_EPOCHS = 20\n",
        "history = model.fit(train_data_encoded, epochs=NUM_EPOCHS, batch_size=BATCH_SIZE, validation_data=test_data_encoded)\n"
      ],
      "metadata": {
        "colab": {
          "base_uri": "https://localhost:8080/"
        },
        "id": "Z4tA4DZeysar",
        "outputId": "46cfd1e0-f331-4c35-f794-1e887c52ac0b"
      },
      "execution_count": null,
      "outputs": [
        {
          "output_type": "stream",
          "name": "stdout",
          "text": [
            "Epoch 1/20\n",
            "107/107 [==============================] - 89s 388ms/step - loss: 1.1178 - accuracy: 0.3563 - val_loss: 1.0767 - val_accuracy: 0.4424\n",
            "Epoch 2/20\n",
            "107/107 [==============================] - 29s 270ms/step - loss: 1.0931 - accuracy: 0.3813 - val_loss: 1.0541 - val_accuracy: 0.4891\n",
            "Epoch 3/20\n",
            "107/107 [==============================] - 29s 270ms/step - loss: 1.0717 - accuracy: 0.4109 - val_loss: 1.0363 - val_accuracy: 0.4782\n",
            "Epoch 4/20\n",
            "107/107 [==============================] - 29s 270ms/step - loss: 1.0416 - accuracy: 0.4651 - val_loss: 1.0117 - val_accuracy: 0.4751\n",
            "Epoch 5/20\n",
            "107/107 [==============================] - 29s 271ms/step - loss: 0.8672 - accuracy: 0.6125 - val_loss: 0.7694 - val_accuracy: 0.6791\n",
            "Epoch 6/20\n",
            "107/107 [==============================] - 29s 270ms/step - loss: 0.6683 - accuracy: 0.7154 - val_loss: 0.6744 - val_accuracy: 0.7352\n",
            "Epoch 7/20\n",
            "107/107 [==============================] - 29s 270ms/step - loss: 0.5324 - accuracy: 0.7875 - val_loss: 0.5068 - val_accuracy: 0.7944\n",
            "Epoch 8/20\n",
            "107/107 [==============================] - 29s 270ms/step - loss: 0.4066 - accuracy: 0.8589 - val_loss: 0.3872 - val_accuracy: 0.8505\n",
            "Epoch 9/20\n",
            "107/107 [==============================] - 29s 270ms/step - loss: 0.3107 - accuracy: 0.9021 - val_loss: 0.2967 - val_accuracy: 0.8956\n",
            "Epoch 10/20\n",
            "107/107 [==============================] - 29s 270ms/step - loss: 0.2629 - accuracy: 0.9150 - val_loss: 0.2627 - val_accuracy: 0.9003\n",
            "Epoch 11/20\n",
            "107/107 [==============================] - 29s 271ms/step - loss: 0.2072 - accuracy: 0.9396 - val_loss: 0.2384 - val_accuracy: 0.9206\n",
            "Epoch 12/20\n",
            "107/107 [==============================] - 29s 270ms/step - loss: 0.1782 - accuracy: 0.9528 - val_loss: 0.2220 - val_accuracy: 0.9268\n",
            "Epoch 13/20\n",
            "107/107 [==============================] - 29s 270ms/step - loss: 0.1587 - accuracy: 0.9567 - val_loss: 0.1679 - val_accuracy: 0.9533\n",
            "Epoch 14/20\n",
            "107/107 [==============================] - 29s 271ms/step - loss: 0.1443 - accuracy: 0.9610 - val_loss: 0.1881 - val_accuracy: 0.9377\n",
            "Epoch 15/20\n",
            "107/107 [==============================] - 29s 271ms/step - loss: 0.1205 - accuracy: 0.9688 - val_loss: 0.1584 - val_accuracy: 0.9486\n",
            "Epoch 16/20\n",
            "107/107 [==============================] - 29s 270ms/step - loss: 0.1192 - accuracy: 0.9669 - val_loss: 0.1634 - val_accuracy: 0.9439\n",
            "Epoch 17/20\n",
            "107/107 [==============================] - 29s 270ms/step - loss: 0.1139 - accuracy: 0.9708 - val_loss: 0.1461 - val_accuracy: 0.9517\n",
            "Epoch 18/20\n",
            "107/107 [==============================] - 29s 271ms/step - loss: 0.0959 - accuracy: 0.9731 - val_loss: 0.1207 - val_accuracy: 0.9611\n",
            "Epoch 19/20\n",
            "107/107 [==============================] - 29s 271ms/step - loss: 0.0734 - accuracy: 0.9825 - val_loss: 0.1259 - val_accuracy: 0.9611\n",
            "Epoch 20/20\n",
            "107/107 [==============================] - 29s 270ms/step - loss: 0.0764 - accuracy: 0.9793 - val_loss: 0.1486 - val_accuracy: 0.9517\n"
          ]
        }
      ]
    },
    {
      "cell_type": "code",
      "source": [
        "#loss 확인\n",
        "\n",
        "import matplotlib.pyplot as plt\n",
        "plt.plot(history.history['loss'])\n",
        "plt.plot(history.history['val_loss'])\n",
        "plt.xlabel('epoch')\n",
        "plt.ylabel('loss')\n",
        "plt.legend(['train','val'])\n",
        "plt.show()"
      ],
      "metadata": {
        "colab": {
          "base_uri": "https://localhost:8080/",
          "height": 449
        },
        "id": "ILniAeGHyvI9",
        "outputId": "b3bec9ae-30ac-4f33-8126-e7f0a1f829c1"
      },
      "execution_count": null,
      "outputs": [
        {
          "output_type": "display_data",
          "data": {
            "text/plain": [
              "<Figure size 640x480 with 1 Axes>"
            ],
            "image/png": "[encoded data removed]"
          },
          "metadata": {}
        }
      ]
    },
    {
      "cell_type": "code",
      "source": [
        "#정확도 확인\n",
        "\n",
        "import matplotlib.pyplot as plt\n",
        "plt.plot(history.history['accuracy'])\n",
        "plt.plot(history.history['val_accuracy'])\n",
        "plt.xlabel('epoch')\n",
        "plt.ylabel('accuracy')\n",
        "plt.legend(['train','val'])\n",
        "plt.show()"
      ],
      "metadata": {
        "colab": {
          "base_uri": "https://localhost:8080/",
          "height": 449
        },
        "id": "saoOnnzXmsOe",
        "outputId": "875eeb58-ff5c-4643-91e0-56b1a0022ceb"
      },
      "execution_count": null,
      "outputs": [
        {
          "output_type": "display_data",
          "data": {
            "text/plain": [
              "<Figure size 640x480 with 1 Axes>"
            ],
            "image/png": "[encoded data removed]"
          },
          "metadata": {}
        }
      ]
    },
    {
      "cell_type": "code",
      "source": [
        "# unseendata에 대해서 잘 예측하는지 판단하기\n",
        "\n",
        "\n",
        "num_labels = 3  # 클래스 개수\n",
        "\n",
        "# TFBertForSequenceClassification 모델 초기화\n",
        "#model = TFBertForSequenceClassification.from_pretrained('bert-base-uncased',num_labels = num_labels)\n",
        "\n",
        "# Tokenizer 초기화\n",
        "tokenizer = BertTokenizer.from_pretrained('bert-base-uncased')\n",
        "\n",
        "# \"unseendata\" 준비\n",
        "unseen_input_text = \"its so bold, not light\"\n",
        "# 입력 데이터를 토큰화하고 모델에 주입하여 예측 결과 얻기\n",
        "inputs = tokenizer(unseen_input_text, return_tensors=\"tf\")\n",
        "logits = model(inputs.input_ids, attention_mask=inputs.attention_mask)[0]\n",
        "predictions = tf.nn.softmax(logits, axis=1)\n",
        "\n",
        "# 예측 결과 출력\n",
        "predicted_class = tf.argmax(predictions, axis=1).numpy()[0]\n",
        "print(\"Predicted class:\", predicted_class)\n",
        "print(\"Class probabilities:\", predictions.numpy()[0])\n",
        "print(\"Class probabilities:\", \"unknown,       flavor1,        flavor2\")"
      ],
      "metadata": {
        "id": "SEHgVVzYshhs",
        "colab": {
          "base_uri": "https://localhost:8080/"
        },
        "outputId": "adee5db1-acf4-4d3f-8e2a-4e6af2bf08e5"
      },
      "execution_count": null,
      "outputs": [
        {
          "output_type": "stream",
          "name": "stdout",
          "text": [
            "Predicted class: 1\n",
            "Class probabilities: [0.32921746 0.4663759  0.20440662]\n",
            "Class probabilities: unknown,       flavor1,        flavor2\n"
          ]
        }
      ]
    },
    {
      "cell_type": "code",
      "source": [
        "from google.colab import drive\n",
        "drive.mount('/content/drive')"
      ],
      "metadata": {
        "colab": {
          "base_uri": "https://localhost:8080/"
        },
        "id": "5N-o-TdAYGrw",
        "outputId": "23ad0eeb-3112-4b0c-df6e-0746ef1b0702"
      },
      "execution_count": null,
      "outputs": [
        {
          "output_type": "stream",
          "name": "stdout",
          "text": [
            "Mounted at /content/drive\n"
          ]
        }
      ]
    },
    {
      "cell_type": "code",
      "source": [
        "from transformers import BertForMaskedLM, TFAutoModelWithLMHead\n",
        "\n",
        "model.save_pretrained('bert_model_LB.h5')"
      ],
      "metadata": {
        "id": "v-Rj51jWyLWT"
      },
      "execution_count": null,
      "outputs": []
    },
    {
      "cell_type": "code",
      "source": [],
      "metadata": {
        "id": "B6HXNq60ZBMQ"
      },
      "execution_count": null,
      "outputs": []
    }
  ]
}