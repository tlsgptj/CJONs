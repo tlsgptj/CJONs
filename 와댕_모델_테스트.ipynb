{
  "cells": [
    {
      "cell_type": "markdown",
      "metadata": {
        "id": "view-in-github",
        "colab_type": "text"
      },
      "source": [
        "<a href=\"https://colab.research.google.com/github/tlsgptj/CJONs/blob/test/%EC%99%80%EB%8C%95_%EB%AA%A8%EB%8D%B8_%ED%85%8C%EC%8A%A4%ED%8A%B8.ipynb\" target=\"_parent\"><img src=\"https://colab.research.google.com/assets/colab-badge.svg\" alt=\"Open In Colab\"/></a>"
      ]
    },
    {
      "cell_type": "markdown",
      "source": [
        "# 1. 준비단계"
      ],
      "metadata": {
        "id": "frNkkuBZRPKw"
      }
    },
    {
      "cell_type": "markdown",
      "source": [
        "## 1.0. 필요한 라이브러리 부르기"
      ],
      "metadata": {
        "id": "h6pI8uDoRUSL"
      }
    },
    {
      "cell_type": "code",
      "execution_count": null,
      "metadata": {
        "colab": {
          "base_uri": "https://localhost:8080/",
          "height": 284
        },
        "id": "NGCl5S7lg9GN",
        "outputId": "a14c80e4-f61b-4543-83dc-2c5e1984cc93"
      },
      "outputs": [
        {
          "output_type": "stream",
          "name": "stdout",
          "text": [
            "Collecting numpy==1.23.4\n",
            "  Downloading numpy-1.23.4-cp310-cp310-manylinux_2_17_x86_64.manylinux2014_x86_64.whl (17.1 MB)\n",
            "\u001b[2K     \u001b[90m━━━━━━━━━━━━━━━━━━━━━━━━━━━━━━━━━━━━━━━━\u001b[0m \u001b[32m17.1/17.1 MB\u001b[0m \u001b[31m69.5 MB/s\u001b[0m eta \u001b[36m0:00:00\u001b[0m\n",
            "\u001b[?25hInstalling collected packages: numpy\n",
            "  Attempting uninstall: numpy\n",
            "    Found existing installation: numpy 1.22.4\n",
            "    Uninstalling numpy-1.22.4:\n",
            "      Successfully uninstalled numpy-1.22.4\n",
            "Successfully installed numpy-1.23.4\n"
          ]
        },
        {
          "output_type": "display_data",
          "data": {
            "application/vnd.colab-display-data+json": {
              "pip_warning": {
                "packages": [
                  "numpy"
                ]
              }
            }
          },
          "metadata": {}
        }
      ],
      "source": [
        "%pip install numpy==1.23.4\n",
        "\n",
        "from keras.preprocessing import sequence\n",
        "#from sklearn.model_selection import train_test_split\n",
        "# 여기 오류는 엘리스떄 처럼 넘파이 버전 오류임.\n",
        "# 넘파이를 1.23.4 버전으로 바꾸니 성공."
      ]
    },
    {
      "cell_type": "code",
      "execution_count": null,
      "metadata": {
        "colab": {
          "base_uri": "https://localhost:8080/"
        },
        "id": "aMOD5Jd4Y5DZ",
        "outputId": "7e4bda12-6508-41f0-f43e-be6fce27f003"
      },
      "outputs": [
        {
          "output_type": "stream",
          "name": "stdout",
          "text": [
            "Requirement already satisfied: wordcloud in /usr/local/lib/python3.10/dist-packages (1.8.2.2)\n",
            "Requirement already satisfied: numpy>=1.6.1 in /usr/local/lib/python3.10/dist-packages (from wordcloud) (1.23.4)\n",
            "Requirement already satisfied: pillow in /usr/local/lib/python3.10/dist-packages (from wordcloud) (9.4.0)\n",
            "Requirement already satisfied: matplotlib in /usr/local/lib/python3.10/dist-packages (from wordcloud) (3.7.1)\n",
            "Requirement already satisfied: contourpy>=1.0.1 in /usr/local/lib/python3.10/dist-packages (from matplotlib->wordcloud) (1.1.0)\n",
            "Requirement already satisfied: cycler>=0.10 in /usr/local/lib/python3.10/dist-packages (from matplotlib->wordcloud) (0.11.0)\n",
            "Requirement already satisfied: fonttools>=4.22.0 in /usr/local/lib/python3.10/dist-packages (from matplotlib->wordcloud) (4.41.1)\n",
            "Requirement already satisfied: kiwisolver>=1.0.1 in /usr/local/lib/python3.10/dist-packages (from matplotlib->wordcloud) (1.4.4)\n",
            "Requirement already satisfied: packaging>=20.0 in /usr/local/lib/python3.10/dist-packages (from matplotlib->wordcloud) (23.1)\n",
            "Requirement already satisfied: pyparsing>=2.3.1 in /usr/local/lib/python3.10/dist-packages (from matplotlib->wordcloud) (3.1.0)\n",
            "Requirement already satisfied: python-dateutil>=2.7 in /usr/local/lib/python3.10/dist-packages (from matplotlib->wordcloud) (2.8.2)\n",
            "Requirement already satisfied: six>=1.5 in /usr/local/lib/python3.10/dist-packages (from python-dateutil>=2.7->matplotlib->wordcloud) (1.16.0)\n",
            "Collecting transformers\n",
            "  Downloading transformers-4.31.0-py3-none-any.whl (7.4 MB)\n",
            "\u001b[2K     \u001b[90m━━━━━━━━━━━━━━━━━━━━━━━━━━━━━━━━━━━━━━━━\u001b[0m \u001b[32m7.4/7.4 MB\u001b[0m \u001b[31m50.8 MB/s\u001b[0m eta \u001b[36m0:00:00\u001b[0m\n",
            "\u001b[?25hRequirement already satisfied: filelock in /usr/local/lib/python3.10/dist-packages (from transformers) (3.12.2)\n",
            "Collecting huggingface-hub<1.0,>=0.14.1 (from transformers)\n",
            "  Downloading huggingface_hub-0.16.4-py3-none-any.whl (268 kB)\n",
            "\u001b[2K     \u001b[90m━━━━━━━━━━━━━━━━━━━━━━━━━━━━━━━━━━━━━━\u001b[0m \u001b[32m268.8/268.8 kB\u001b[0m \u001b[31m28.2 MB/s\u001b[0m eta \u001b[36m0:00:00\u001b[0m\n",
            "\u001b[?25hRequirement already satisfied: numpy>=1.17 in /usr/local/lib/python3.10/dist-packages (from transformers) (1.23.4)\n",
            "Requirement already satisfied: packaging>=20.0 in /usr/local/lib/python3.10/dist-packages (from transformers) (23.1)\n",
            "Requirement already satisfied: pyyaml>=5.1 in /usr/local/lib/python3.10/dist-packages (from transformers) (6.0.1)\n",
            "Requirement already satisfied: regex!=2019.12.17 in /usr/local/lib/python3.10/dist-packages (from transformers) (2022.10.31)\n",
            "Requirement already satisfied: requests in /usr/local/lib/python3.10/dist-packages (from transformers) (2.27.1)\n",
            "Collecting tokenizers!=0.11.3,<0.14,>=0.11.1 (from transformers)\n",
            "  Downloading tokenizers-0.13.3-cp310-cp310-manylinux_2_17_x86_64.manylinux2014_x86_64.whl (7.8 MB)\n",
            "\u001b[2K     \u001b[90m━━━━━━━━━━━━━━━━━━━━━━━━━━━━━━━━━━━━━━━━\u001b[0m \u001b[32m7.8/7.8 MB\u001b[0m \u001b[31m49.4 MB/s\u001b[0m eta \u001b[36m0:00:00\u001b[0m\n",
            "\u001b[?25hCollecting safetensors>=0.3.1 (from transformers)\n",
            "  Downloading safetensors-0.3.2-cp310-cp310-manylinux_2_17_x86_64.manylinux2014_x86_64.whl (1.3 MB)\n",
            "\u001b[2K     \u001b[90m━━━━━━━━━━━━━━━━━━━━━━━━━━━━━━━━━━━━━━━━\u001b[0m \u001b[32m1.3/1.3 MB\u001b[0m \u001b[31m28.5 MB/s\u001b[0m eta \u001b[36m0:00:00\u001b[0m\n",
            "\u001b[?25hRequirement already satisfied: tqdm>=4.27 in /usr/local/lib/python3.10/dist-packages (from transformers) (4.65.0)\n",
            "Requirement already satisfied: fsspec in /usr/local/lib/python3.10/dist-packages (from huggingface-hub<1.0,>=0.14.1->transformers) (2023.6.0)\n",
            "Requirement already satisfied: typing-extensions>=3.7.4.3 in /usr/local/lib/python3.10/dist-packages (from huggingface-hub<1.0,>=0.14.1->transformers) (4.7.1)\n",
            "Requirement already satisfied: urllib3<1.27,>=1.21.1 in /usr/local/lib/python3.10/dist-packages (from requests->transformers) (1.26.16)\n",
            "Requirement already satisfied: certifi>=2017.4.17 in /usr/local/lib/python3.10/dist-packages (from requests->transformers) (2023.7.22)\n",
            "Requirement already satisfied: charset-normalizer~=2.0.0 in /usr/local/lib/python3.10/dist-packages (from requests->transformers) (2.0.12)\n",
            "Requirement already satisfied: idna<4,>=2.5 in /usr/local/lib/python3.10/dist-packages (from requests->transformers) (3.4)\n",
            "Installing collected packages: tokenizers, safetensors, huggingface-hub, transformers\n",
            "Successfully installed huggingface-hub-0.16.4 safetensors-0.3.2 tokenizers-0.13.3 transformers-4.31.0\n",
            "Requirement already satisfied: transformers[torch] in /usr/local/lib/python3.10/dist-packages (4.31.0)\n",
            "Requirement already satisfied: filelock in /usr/local/lib/python3.10/dist-packages (from transformers[torch]) (3.12.2)\n",
            "Requirement already satisfied: huggingface-hub<1.0,>=0.14.1 in /usr/local/lib/python3.10/dist-packages (from transformers[torch]) (0.16.4)\n",
            "Requirement already satisfied: numpy>=1.17 in /usr/local/lib/python3.10/dist-packages (from transformers[torch]) (1.23.4)\n",
            "Requirement already satisfied: packaging>=20.0 in /usr/local/lib/python3.10/dist-packages (from transformers[torch]) (23.1)\n",
            "Requirement already satisfied: pyyaml>=5.1 in /usr/local/lib/python3.10/dist-packages (from transformers[torch]) (6.0.1)\n",
            "Requirement already satisfied: regex!=2019.12.17 in /usr/local/lib/python3.10/dist-packages (from transformers[torch]) (2022.10.31)\n",
            "Requirement already satisfied: requests in /usr/local/lib/python3.10/dist-packages (from transformers[torch]) (2.27.1)\n",
            "Requirement already satisfied: tokenizers!=0.11.3,<0.14,>=0.11.1 in /usr/local/lib/python3.10/dist-packages (from transformers[torch]) (0.13.3)\n",
            "Requirement already satisfied: safetensors>=0.3.1 in /usr/local/lib/python3.10/dist-packages (from transformers[torch]) (0.3.2)\n",
            "Requirement already satisfied: tqdm>=4.27 in /usr/local/lib/python3.10/dist-packages (from transformers[torch]) (4.65.0)\n",
            "Requirement already satisfied: torch!=1.12.0,>=1.9 in /usr/local/lib/python3.10/dist-packages (from transformers[torch]) (2.0.1+cu118)\n",
            "Collecting accelerate>=0.20.3 (from transformers[torch])\n",
            "  Downloading accelerate-0.21.0-py3-none-any.whl (244 kB)\n",
            "\u001b[2K     \u001b[90m━━━━━━━━━━━━━━━━━━━━━━━━━━━━━━━━━━━━━━━\u001b[0m \u001b[32m244.2/244.2 kB\u001b[0m \u001b[31m4.6 MB/s\u001b[0m eta \u001b[36m0:00:00\u001b[0m\n",
            "\u001b[?25hRequirement already satisfied: psutil in /usr/local/lib/python3.10/dist-packages (from accelerate>=0.20.3->transformers[torch]) (5.9.5)\n",
            "Requirement already satisfied: fsspec in /usr/local/lib/python3.10/dist-packages (from huggingface-hub<1.0,>=0.14.1->transformers[torch]) (2023.6.0)\n",
            "Requirement already satisfied: typing-extensions>=3.7.4.3 in /usr/local/lib/python3.10/dist-packages (from huggingface-hub<1.0,>=0.14.1->transformers[torch]) (4.7.1)\n",
            "Requirement already satisfied: sympy in /usr/local/lib/python3.10/dist-packages (from torch!=1.12.0,>=1.9->transformers[torch]) (1.11.1)\n",
            "Requirement already satisfied: networkx in /usr/local/lib/python3.10/dist-packages (from torch!=1.12.0,>=1.9->transformers[torch]) (3.1)\n",
            "Requirement already satisfied: jinja2 in /usr/local/lib/python3.10/dist-packages (from torch!=1.12.0,>=1.9->transformers[torch]) (3.1.2)\n",
            "Requirement already satisfied: triton==2.0.0 in /usr/local/lib/python3.10/dist-packages (from torch!=1.12.0,>=1.9->transformers[torch]) (2.0.0)\n",
            "Requirement already satisfied: cmake in /usr/local/lib/python3.10/dist-packages (from triton==2.0.0->torch!=1.12.0,>=1.9->transformers[torch]) (3.25.2)\n",
            "Requirement already satisfied: lit in /usr/local/lib/python3.10/dist-packages (from triton==2.0.0->torch!=1.12.0,>=1.9->transformers[torch]) (16.0.6)\n",
            "Requirement already satisfied: urllib3<1.27,>=1.21.1 in /usr/local/lib/python3.10/dist-packages (from requests->transformers[torch]) (1.26.16)\n",
            "Requirement already satisfied: certifi>=2017.4.17 in /usr/local/lib/python3.10/dist-packages (from requests->transformers[torch]) (2023.7.22)\n",
            "Requirement already satisfied: charset-normalizer~=2.0.0 in /usr/local/lib/python3.10/dist-packages (from requests->transformers[torch]) (2.0.12)\n",
            "Requirement already satisfied: idna<4,>=2.5 in /usr/local/lib/python3.10/dist-packages (from requests->transformers[torch]) (3.4)\n",
            "Requirement already satisfied: MarkupSafe>=2.0 in /usr/local/lib/python3.10/dist-packages (from jinja2->torch!=1.12.0,>=1.9->transformers[torch]) (2.1.3)\n",
            "Requirement already satisfied: mpmath>=0.19 in /usr/local/lib/python3.10/dist-packages (from sympy->torch!=1.12.0,>=1.9->transformers[torch]) (1.3.0)\n",
            "Installing collected packages: accelerate\n",
            "Successfully installed accelerate-0.21.0\n"
          ]
        }
      ],
      "source": [
        "!pip install wordcloud\n",
        "!pip install transformers\n",
        "!pip install transformers[torch]\n",
        "\n",
        "\n",
        "# 필요한 라이브러리 불러오기\n",
        "import pandas as pd\n",
        "import urllib.request\n",
        "\n",
        "# Bert 사용에 필요한 모듈 불러오기\n",
        "import torch\n",
        "\n",
        "import pandas as pd\n",
        "import numpy as np\n",
        "import random\n",
        "import time\n",
        "import datetime\n",
        "\n",
        "from transformers import BertTokenizer\n",
        "from transformers import AdamW, Adafactor, BertConfig\n",
        "from transformers import get_linear_schedule_with_warmup\n",
        "from torch.utils.data import TensorDataset, DataLoader, RandomSampler, SequentialSampler\n",
        "\n",
        "SEED = 42"
      ]
    },
    {
      "cell_type": "markdown",
      "source": [
        "## 1.1. 파일 불러오기"
      ],
      "metadata": {
        "id": "UTPjNagKOEfL"
      }
    },
    {
      "cell_type": "code",
      "execution_count": null,
      "metadata": {
        "colab": {
          "base_uri": "https://localhost:8080/"
        },
        "id": "6yPCFjzNZ2C2",
        "outputId": "0391a238-256e-4029-c2be-fd17c5f53805"
      },
      "outputs": [
        {
          "output_type": "stream",
          "name": "stdout",
          "text": [
            "Mounted at /content/drive\n"
          ]
        }
      ],
      "source": [
        "from google.colab import drive\n",
        "drive.mount('/content/drive')"
      ]
    },
    {
      "cell_type": "code",
      "source": [
        "file_path_test_dataset = '/content/Sea Smoke Southing Pinot Noir_cleaning.csv'\n",
        "test_df = pd.read_csv(file_path_test_dataset)\n",
        "\n",
        "test_df = test_df[~test_df['Review'].isnull()]\n",
        "test_df.isnull().sum()\n",
        "\n",
        "test_df.shape"
      ],
      "metadata": {
        "colab": {
          "base_uri": "https://localhost:8080/"
        },
        "id": "BBDAyhW2N15E",
        "outputId": "7f205ade-a6af-40d1-cdf5-809508c1d2bf"
      },
      "execution_count": null,
      "outputs": [
        {
          "output_type": "execute_result",
          "data": {
            "text/plain": [
              "(725, 3)"
            ]
          },
          "metadata": {},
          "execution_count": 372
        }
      ]
    },
    {
      "cell_type": "markdown",
      "source": [
        "## 1.2. stopword"
      ],
      "metadata": {
        "id": "Ldom61oEOKJ9"
      }
    },
    {
      "cell_type": "code",
      "source": [
        "#소문자로 바꾸고 쪼개기\n",
        "import re\n",
        "new_test_df =[]\n",
        "for review in test_df['Review']:\n",
        "    words = review.lower() # 소문자화\n",
        "\n",
        "    # words = re.sub(r'[!\"#$%&\\'()*+,-./:;<=>?@\\[\\]^_\\`{|}~\\\\\\\\]','', words) # 문장 속 문장부호 지우기\n",
        "    # words = review.split()\n",
        "\n",
        "    new_test_df.append(words)\n",
        "\n",
        "# # 필터링할 추가적인 stopwords\n",
        "# new_test_df2 =[]\n",
        "# stopwords =[\n",
        "#             'incense', 'currant', 'coffee', 'allspice', 'strawberry',\n",
        "#             'cigar', 'cassis', 'boysenberry', 'cola', 'oak', 'milk',\n",
        "#             'blackcurrant', 'cotton', 'blackberry', 'berry', 'candy', 'clove',\n",
        "#             'sandalwood', 'smoke', 'blueberry', 'ripe', 'raspberry', 'fresh', 'cherry', 'watermelon',\n",
        "#             'espresso', 'butter', 'baking', 'bramble',  'olive', 'cranberry', 'camphor',\n",
        "#             'pomegranate', 'pastry', 'bread', 'chocolate', 'coconut', 'mocha', 'cedar',\n",
        "#             'fruit', 'toffee', 'tobacco', 'nutmeg', \"fruity\", \"fruitful\", \"cherries\", \"blackberries\", \"vanilla\"\n",
        "#             ]\n",
        "\n",
        "\n",
        "# def filter_stopwords(tokenized_text, stopwords_2):\n",
        "#   tokenized_filtered = []\n",
        "\n",
        "#   for i in tokenized_text:\n",
        "#       if i not in stopwords and i is not None:\n",
        "#         tokenized_filtered.append(i)\n",
        "\n",
        "#   return tokenized_filtered\n",
        "\n",
        "# for j in new_test_df:\n",
        "#   tokenized_filtered = filter_stopwords(j, stopwords)\n",
        "#   new_test_df2.append(tokenized_filtered)\n",
        "# new_test_df = [inner_list for inner_list in new_test_df2 if any(inner_list)]\n",
        "\n",
        "test_df['Review'] = new_test_df"
      ],
      "metadata": {
        "id": "DqHSPx5tN5nF"
      },
      "execution_count": null,
      "outputs": []
    },
    {
      "cell_type": "markdown",
      "source": [
        "## 1.3. Rating 값에 따라 전문가 / 초심자 분류"
      ],
      "metadata": {
        "id": "JJ_dJXBvZRf2"
      }
    },
    {
      "cell_type": "code",
      "source": [
        "df = test_df\n",
        "\n",
        "threshold = 100     # 이 값에 따라 rating 자를 거임. 즉, 전문가 / 초심자 나누는 기준\n",
        "\n",
        "# 'Rating' 값에 따라 분류\n",
        "df_expert = df[df['Rating'] > threshold]\n",
        "df_beginner = df[df['Rating'] <= threshold]"
      ],
      "metadata": {
        "id": "t-VhREHNZP_o"
      },
      "execution_count": null,
      "outputs": []
    },
    {
      "cell_type": "code",
      "source": [
        "df_expert.shape, df_beginner.shape"
      ],
      "metadata": {
        "colab": {
          "base_uri": "https://localhost:8080/"
        },
        "id": "zwZf878EhYt6",
        "outputId": "46fd7a95-b705-465c-ca38-1d884172f9a3"
      },
      "execution_count": null,
      "outputs": [
        {
          "output_type": "execute_result",
          "data": {
            "text/plain": [
              "((450, 3), (275, 3))"
            ]
          },
          "metadata": {},
          "execution_count": 375
        }
      ]
    },
    {
      "cell_type": "markdown",
      "source": [
        "# 2. 맛구별 시작"
      ],
      "metadata": {
        "id": "i-8EU5SaOZEn"
      }
    },
    {
      "cell_type": "markdown",
      "source": [
        "## 2.0. 모델 호출"
      ],
      "metadata": {
        "id": "yh_lS8d9THjH"
      }
    },
    {
      "cell_type": "code",
      "execution_count": null,
      "metadata": {
        "colab": {
          "base_uri": "https://localhost:8080/"
        },
        "id": "V36NawZAZFqd",
        "outputId": "e3e432c7-ae15-4545-f33a-e0274f62fc6c"
      },
      "outputs": [
        {
          "output_type": "stream",
          "name": "stderr",
          "text": [
            "Some layers from the model checkpoint at /content/drive/MyDrive/와인 리뷰/bert 관련/bert_model_SD.h5 were not used when initializing TFBertForSequenceClassification: ['dropout_265']\n",
            "- This IS expected if you are initializing TFBertForSequenceClassification from the checkpoint of a model trained on another task or with another architecture (e.g. initializing a BertForSequenceClassification model from a BertForPreTraining model).\n",
            "- This IS NOT expected if you are initializing TFBertForSequenceClassification from the checkpoint of a model that you expect to be exactly identical (initializing a BertForSequenceClassification model from a BertForSequenceClassification model).\n",
            "All the layers of TFBertForSequenceClassification were initialized from the model checkpoint at /content/drive/MyDrive/와인 리뷰/bert 관련/bert_model_SD.h5.\n",
            "If your task is similar to the task the model of the checkpoint was trained on, you can already use TFBertForSequenceClassification for predictions without further training.\n",
            "Some layers from the model checkpoint at /content/drive/MyDrive/와인 리뷰/bert 관련/bert_model_ST.h5 were not used when initializing TFBertForSequenceClassification: ['dropout_303']\n",
            "- This IS expected if you are initializing TFBertForSequenceClassification from the checkpoint of a model trained on another task or with another architecture (e.g. initializing a BertForSequenceClassification model from a BertForPreTraining model).\n",
            "- This IS NOT expected if you are initializing TFBertForSequenceClassification from the checkpoint of a model that you expect to be exactly identical (initializing a BertForSequenceClassification model from a BertForSequenceClassification model).\n",
            "All the layers of TFBertForSequenceClassification were initialized from the model checkpoint at /content/drive/MyDrive/와인 리뷰/bert 관련/bert_model_ST.h5.\n",
            "If your task is similar to the task the model of the checkpoint was trained on, you can already use TFBertForSequenceClassification for predictions without further training.\n",
            "Some layers from the model checkpoint at /content/drive/MyDrive/와인 리뷰/bert 관련/bert_model_SA.h5 were not used when initializing TFBertForSequenceClassification: ['dropout_455']\n",
            "- This IS expected if you are initializing TFBertForSequenceClassification from the checkpoint of a model trained on another task or with another architecture (e.g. initializing a BertForSequenceClassification model from a BertForPreTraining model).\n",
            "- This IS NOT expected if you are initializing TFBertForSequenceClassification from the checkpoint of a model that you expect to be exactly identical (initializing a BertForSequenceClassification model from a BertForSequenceClassification model).\n",
            "All the layers of TFBertForSequenceClassification were initialized from the model checkpoint at /content/drive/MyDrive/와인 리뷰/bert 관련/bert_model_SA.h5.\n",
            "If your task is similar to the task the model of the checkpoint was trained on, you can already use TFBertForSequenceClassification for predictions without further training.\n",
            "Some layers from the model checkpoint at /content/drive/MyDrive/와인 리뷰/bert 관련/bert_model_LB.h5 were not used when initializing TFBertForSequenceClassification: ['dropout_37']\n",
            "- This IS expected if you are initializing TFBertForSequenceClassification from the checkpoint of a model trained on another task or with another architecture (e.g. initializing a BertForSequenceClassification model from a BertForPreTraining model).\n",
            "- This IS NOT expected if you are initializing TFBertForSequenceClassification from the checkpoint of a model that you expect to be exactly identical (initializing a BertForSequenceClassification model from a BertForSequenceClassification model).\n",
            "All the layers of TFBertForSequenceClassification were initialized from the model checkpoint at /content/drive/MyDrive/와인 리뷰/bert 관련/bert_model_LB.h5.\n",
            "If your task is similar to the task the model of the checkpoint was trained on, you can already use TFBertForSequenceClassification for predictions without further training.\n"
          ]
        }
      ],
      "source": [
        "import tensorflow as tf\n",
        "from transformers import TFBertForSequenceClassification      #여기서 Error 날 때 있는데, 그냥 다시 돌리면 실행됨;; 왜 그런지 모름;;\n",
        "\n",
        "num_labels = 3  # 클래스 개수\n",
        "\n",
        "# 맛 구별 모델 호출!!!!!!!!!!!!!\n",
        "model_Sweet = TFBertForSequenceClassification.from_pretrained('/content/drive/MyDrive/와인 리뷰/bert 관련/bert_model_SD.h5')\n",
        "model_Tannin = TFBertForSequenceClassification.from_pretrained('/content/drive/MyDrive/와인 리뷰/bert 관련/bert_model_ST.h5')\n",
        "model_Acidic = TFBertForSequenceClassification.from_pretrained('/content/drive/MyDrive/와인 리뷰/bert 관련/bert_model_SA.h5')\n",
        "model_Bold = TFBertForSequenceClassification.from_pretrained('/content/drive/MyDrive/와인 리뷰/bert 관련/bert_model_LB.h5')\n",
        "\n",
        "# Tokenizer 초기화\n",
        "tokenizer = BertTokenizer.from_pretrained('bert-base-uncased')\n"
      ]
    },
    {
      "cell_type": "markdown",
      "source": [
        "## 2.1. 라이브러리 호출"
      ],
      "metadata": {
        "id": "BpWWrpFqXMB_"
      }
    },
    {
      "cell_type": "code",
      "source": [
        "from copy import copy\n",
        "import math"
      ],
      "metadata": {
        "id": "XALCQ4WsXP4L"
      },
      "execution_count": null,
      "outputs": []
    },
    {
      "cell_type": "markdown",
      "source": [
        "## 2.2. 단맛 와댕이"
      ],
      "metadata": {
        "id": "iydE8RaHTmh0"
      }
    },
    {
      "cell_type": "code",
      "source": [
        "# 추론\n",
        "label_counts = [[0, 0, 0], [0, 0, 0]]  # 각 라벨 별 카운트 초기화\n",
        "# [[0,     0,    0],   [0,     0,    0]]\n",
        "# [[ex_un, ex_1, ex_2] [bg_un, bg_1, bg_2]]\n",
        "\n",
        "for review in df_expert[\"Review\"]:\n",
        "\n",
        "    # 토큰화 및 인코딩\n",
        "    inputs = tokenizer.encode_plus(review, add_special_tokens=True, return_tensors=\"tf\", padding=True, truncation=True)\n",
        "\n",
        "    # attention_mask 생성 (패딩 토큰도 고려)\n",
        "    attention_mask = tf.where(inputs[\"input_ids\"] != tokenizer.pad_token_id, 1, 0)\n",
        "\n",
        "    # 추론\n",
        "    outputs = model_Sweet(inputs)\n",
        "\n",
        "    # 가장 높은 확률 값을 가진 클래스 선택\n",
        "    predicted_label_id = tf.argmax(outputs.logits, axis=-1).numpy()[0]\n",
        "\n",
        "    # 해당 클래스의 카운트 증가\n",
        "    label_counts[0][predicted_label_id] += 1\n",
        "\n",
        "for review in df_beginner[\"Review\"]:\n",
        "\n",
        "    # 토큰화 및 인코딩\n",
        "    inputs = tokenizer.encode_plus(review, add_special_tokens=True, return_tensors=\"tf\", padding=True, truncation=True)\n",
        "\n",
        "    # attention_mask 생성 (패딩 토큰도 고려)\n",
        "    attention_mask = tf.where(inputs[\"input_ids\"] != tokenizer.pad_token_id, 1, 0)\n",
        "\n",
        "    # 추론\n",
        "    outputs = model_Sweet(inputs)\n",
        "\n",
        "    # 가장 높은 확률 값을 가진 클래스 선택\n",
        "    predicted_label_id = tf.argmax(outputs.logits, axis=-1).numpy()[0]\n",
        "\n",
        "    # 해당 클래스의 카운트 증가\n",
        "    label_counts[1][predicted_label_id] += 1"
      ],
      "metadata": {
        "id": "M-t6TmhyToH0"
      },
      "execution_count": null,
      "outputs": []
    },
    {
      "cell_type": "code",
      "source": [
        "# 라벨 1과 2의 비율 계산 및 출력\n",
        "label_ex_count = label_counts[0]\n",
        "label_bg_count = label_counts[1]\n",
        "\n",
        "total_label_count_ex = label_ex_count[1] + label_ex_count[2]\n",
        "total_label_count_bg = label_bg_count[1] + label_bg_count[2]\n",
        "\n",
        "label_1_ratio_ex = label_ex_count[1] / total_label_count_ex * 100\n",
        "label_2_ratio_ex = 100 - label_1_ratio_ex\n",
        "label_1_ratio_bg = label_bg_count[1] / total_label_count_bg * 100\n",
        "label_2_ratio_bg = 100 - label_1_ratio_bg\n",
        "label_1_ratio_all = (label_ex_count[1] + label_bg_count[1]) / (total_label_count_ex + total_label_count_bg) * 100\n",
        "label_2_ratio_all = 100 - label_1_ratio_all\n",
        "\n",
        "print(f\"sweet and dry Ratio (Expert)   : {label_1_ratio_ex:.2f} : {label_2_ratio_ex:.2f}\")\n",
        "print(f\"sweet and dry Ratio (Beginner) : {label_1_ratio_bg:.2f} : {label_2_ratio_bg:.2f}\")\n",
        "\n",
        "print(\"expert : \",label_ex_count,\"\\nbeginner : \",label_bg_count)\n",
        "\n",
        "sweet_ratio_ex = round(copy(label_1_ratio_ex))\n",
        "dry_ratio_ex = round(copy(label_2_ratio_ex))\n",
        "sweet_ratio_bg = round(copy(label_1_ratio_bg))\n",
        "dry_ratio_bg = round(copy(label_2_ratio_bg))\n",
        "sweet_ratio_all = round(copy(label_1_ratio_all))\n",
        "dry_ratio_all = round(copy(label_2_ratio_all))"
      ],
      "metadata": {
        "colab": {
          "base_uri": "https://localhost:8080/"
        },
        "id": "mgBosZiMTriX",
        "outputId": "c049c542-33ea-4f8a-f84e-901e9c7a863b"
      },
      "execution_count": null,
      "outputs": [
        {
          "output_type": "stream",
          "name": "stdout",
          "text": [
            "sweet and dry Ratio (Expert)   : 43.28 : 56.72\n",
            "sweet and dry Ratio (Beginner) : 31.43 : 68.57\n",
            "expert :  [383, 29, 38] \n",
            "beginner :  [240, 11, 24]\n"
          ]
        }
      ]
    },
    {
      "cell_type": "markdown",
      "source": [
        "## 2.3. 쓴 맛 와댕이"
      ],
      "metadata": {
        "id": "sJUINn0hTtTT"
      }
    },
    {
      "cell_type": "code",
      "source": [
        "# 추론\n",
        "label_counts = [[0, 0, 0], [0, 0, 0]]  # 각 라벨 별 카운트 초기화\n",
        "# [[0,     0,    0],   [0,     0,    0]]\n",
        "# [[ex_un, ex_1, ex_2] [bg_un, bg_1, bg_2]]\n",
        "\n",
        "for review in df_expert[\"Review\"]:\n",
        "\n",
        "    # 토큰화 및 인코딩\n",
        "    inputs = tokenizer.encode_plus(review, add_special_tokens=True, return_tensors=\"tf\", padding=True, truncation=True)\n",
        "\n",
        "    # attention_mask 생성 (패딩 토큰도 고려)\n",
        "    attention_mask = tf.where(inputs[\"input_ids\"] != tokenizer.pad_token_id, 1, 0)\n",
        "\n",
        "    # 추론\n",
        "    outputs = model_Tannin(inputs)\n",
        "\n",
        "    # 가장 높은 확률 값을 가진 클래스 선택\n",
        "    predicted_label_id = tf.argmax(outputs.logits, axis=-1).numpy()[0]\n",
        "\n",
        "    # 해당 클래스의 카운트 증가\n",
        "    label_counts[0][predicted_label_id] += 1\n",
        "\n",
        "for review in df_beginner[\"Review\"]:\n",
        "\n",
        "    # 토큰화 및 인코딩\n",
        "    inputs = tokenizer.encode_plus(review, add_special_tokens=True, return_tensors=\"tf\", padding=True, truncation=True)\n",
        "\n",
        "    # attention_mask 생성 (패딩 토큰도 고려)\n",
        "    attention_mask = tf.where(inputs[\"input_ids\"] != tokenizer.pad_token_id, 1, 0)\n",
        "\n",
        "    # 추론\n",
        "    outputs = model_Tannin(inputs)\n",
        "\n",
        "    # 가장 높은 확률 값을 가진 클래스 선택\n",
        "    predicted_label_id = tf.argmax(outputs.logits, axis=-1).numpy()[0]\n",
        "\n",
        "    # 해당 클래스의 카운트 증가\n",
        "    label_counts[1][predicted_label_id] += 1"
      ],
      "metadata": {
        "id": "f8_pvesxT6eV"
      },
      "execution_count": null,
      "outputs": []
    },
    {
      "cell_type": "code",
      "source": [
        "# 라벨 1과 2의 비율 계산 및 출력\n",
        "label_ex_count = label_counts[0]\n",
        "label_bg_count = label_counts[1]\n",
        "\n",
        "total_label_count_ex = label_ex_count[1] + label_ex_count[2]\n",
        "total_label_count_bg = label_bg_count[1] + label_bg_count[2]\n",
        "\n",
        "label_1_ratio_ex = label_ex_count[1] / total_label_count_ex * 100\n",
        "label_2_ratio_ex = 100 - label_1_ratio_ex\n",
        "label_1_ratio_bg = label_bg_count[1] / total_label_count_bg * 100\n",
        "label_2_ratio_bg = 100 - label_1_ratio_bg\n",
        "label_1_ratio_all = (label_ex_count[1] + label_bg_count[1]) / (total_label_count_ex + total_label_count_bg) * 100\n",
        "label_2_ratio_all = 100 - label_1_ratio_all\n",
        "\n",
        "print(f\"tannin and smooth Ratio (Expert)   : {label_1_ratio_ex:.2f} : {label_2_ratio_ex:.2f}\")\n",
        "print(f\"tannin and smooth Ratio (Beginner) : {label_1_ratio_bg:.2f} : {label_2_ratio_bg:.2f}\")\n",
        "\n",
        "print(\"expert : \",label_ex_count,\"\\nbeginner : \",label_bg_count)\n",
        "\n",
        "tannin_ratio_ex = round(copy(label_1_ratio_ex))\n",
        "smooth_ratio_ex = round(copy(label_2_ratio_ex))\n",
        "tannin_ratio_bg = round(copy(label_1_ratio_bg))\n",
        "smooth_ratio_bg = round(copy(label_2_ratio_bg))\n",
        "tannin_ratio_all = round(copy(label_1_ratio_all))\n",
        "smooth_ratio_all = round(copy(label_2_ratio_all))"
      ],
      "metadata": {
        "colab": {
          "base_uri": "https://localhost:8080/"
        },
        "id": "lnB2vI92T6s7",
        "outputId": "1c797d1c-7fa2-479f-f5ea-6c7be78f39e5"
      },
      "execution_count": null,
      "outputs": [
        {
          "output_type": "stream",
          "name": "stdout",
          "text": [
            "tannin and smooth Ratio (Expert)   : 24.28 : 75.72\n",
            "tannin and smooth Ratio (Beginner) : 11.61 : 88.39\n",
            "expert :  [277, 42, 131] \n",
            "beginner :  [163, 13, 99]\n"
          ]
        }
      ]
    },
    {
      "cell_type": "markdown",
      "source": [
        "## 2.4. 신 맛 와댕이"
      ],
      "metadata": {
        "id": "7vRAy0sOTtij"
      }
    },
    {
      "cell_type": "code",
      "source": [
        "# 추론\n",
        "label_counts = [[0, 0, 0], [0, 0, 0]]  # 각 라벨 별 카운트 초기화\n",
        "# [[0,     0,    0],   [0,     0,    0]]\n",
        "# [[ex_un, ex_1, ex_2] [bg_un, bg_1, bg_2]]\n",
        "\n",
        "for review in df_expert[\"Review\"]:\n",
        "\n",
        "    # 토큰화 및 인코딩\n",
        "    inputs = tokenizer.encode_plus(review, add_special_tokens=True, return_tensors=\"tf\", padding=True, truncation=True)\n",
        "\n",
        "    # attention_mask 생성 (패딩 토큰도 고려)\n",
        "    attention_mask = tf.where(inputs[\"input_ids\"] != tokenizer.pad_token_id, 1, 0)\n",
        "\n",
        "    # 추론\n",
        "    outputs = model_Acidic(inputs)\n",
        "\n",
        "    # 가장 높은 확률 값을 가진 클래스 선택\n",
        "    predicted_label_id = tf.argmax(outputs.logits, axis=-1).numpy()[0]\n",
        "\n",
        "    # 해당 클래스의 카운트 증가\n",
        "    label_counts[0][predicted_label_id] += 1\n",
        "\n",
        "for review in df_beginner[\"Review\"]:\n",
        "\n",
        "    # 토큰화 및 인코딩\n",
        "    inputs = tokenizer.encode_plus(review, add_special_tokens=True, return_tensors=\"tf\", padding=True, truncation=True)\n",
        "\n",
        "    # attention_mask 생성 (패딩 토큰도 고려)\n",
        "    attention_mask = tf.where(inputs[\"input_ids\"] != tokenizer.pad_token_id, 1, 0)\n",
        "\n",
        "    # 추론\n",
        "    outputs = model_Acidic(inputs)\n",
        "\n",
        "    # 가장 높은 확률 값을 가진 클래스 선택\n",
        "    predicted_label_id = tf.argmax(outputs.logits, axis=-1).numpy()[0]\n",
        "\n",
        "    # 해당 클래스의 카운트 증가\n",
        "    label_counts[1][predicted_label_id] += 1\n"
      ],
      "metadata": {
        "id": "b0zLAFKlT4F9"
      },
      "execution_count": null,
      "outputs": []
    },
    {
      "cell_type": "code",
      "source": [
        "# 라벨 1과 2의 비율 계산 및 출력\n",
        "label_ex_count = label_counts[0]\n",
        "label_bg_count = label_counts[1]\n",
        "\n",
        "total_label_count_ex = label_ex_count[1] + label_ex_count[2]\n",
        "total_label_count_bg = label_bg_count[1] + label_bg_count[2]\n",
        "\n",
        "label_1_ratio_ex = label_ex_count[1] / total_label_count_ex * 100\n",
        "label_2_ratio_ex = 100 - label_1_ratio_ex\n",
        "label_1_ratio_bg = label_bg_count[1] / total_label_count_bg * 100\n",
        "label_2_ratio_bg = 100 - label_1_ratio_bg\n",
        "label_1_ratio_all = (label_ex_count[1] + label_bg_count[1]) / (total_label_count_ex + total_label_count_bg) * 100\n",
        "label_2_ratio_all = 100 - label_1_ratio_all\n",
        "\n",
        "print(f\"acidic and soft Ratio (Expert)   : {label_1_ratio_ex:.2f} : {label_2_ratio_ex:.2f}\")\n",
        "print(f\"acidic and soft Ratio (Beginner) : {label_1_ratio_bg:.2f} : {label_2_ratio_bg:.2f}\")\n",
        "\n",
        "print(\"expert : \",label_ex_count,\"\\nbeginner : \",label_bg_count)\n",
        "\n",
        "acidic_ratio_ex = round(copy(label_1_ratio_ex))\n",
        "soft_ratio_ex = round(copy(label_2_ratio_ex))\n",
        "acidic_ratio_bg = round(copy(label_1_ratio_bg))\n",
        "soft_ratio_bg = round(copy(label_2_ratio_bg))\n",
        "acidic_ratio_all = round(copy(label_1_ratio_all))\n",
        "soft_ratio_all = round(copy(label_2_ratio_all))"
      ],
      "metadata": {
        "colab": {
          "base_uri": "https://localhost:8080/"
        },
        "id": "V20m4XaLT7Ei",
        "outputId": "42eceafc-1db2-4d1b-f418-219d3087dd5c"
      },
      "execution_count": null,
      "outputs": [
        {
          "output_type": "stream",
          "name": "stdout",
          "text": [
            "acidic and soft Ratio (Expert)   : 52.94 : 47.06\n",
            "acidic and soft Ratio (Beginner) : 32.89 : 67.11\n",
            "expert :  [263, 99, 88] \n",
            "beginner :  [199, 25, 51]\n"
          ]
        }
      ]
    },
    {
      "cell_type": "markdown",
      "source": [
        "## 2.5. 바디감"
      ],
      "metadata": {
        "id": "DJCjLzwp5f_s"
      }
    },
    {
      "cell_type": "code",
      "source": [
        "# 추론\n",
        "label_counts = [[0, 0, 0], [0, 0, 0]]  # 각 라벨 별 카운트 초기화\n",
        "# [[0,     0,    0],   [0,     0,    0]]\n",
        "# [[ex_un, ex_1, ex_2] [bg_un, bg_1, bg_2]]\n",
        "\n",
        "for review in df_expert[\"Review\"]:\n",
        "\n",
        "    # 토큰화 및 인코딩\n",
        "    inputs = tokenizer.encode_plus(review, add_special_tokens=True, return_tensors=\"tf\", padding=True, truncation=True)\n",
        "\n",
        "    # attention_mask 생성 (패딩 토큰도 고려)\n",
        "    attention_mask = tf.where(inputs[\"input_ids\"] != tokenizer.pad_token_id, 1, 0)\n",
        "\n",
        "    # 추론\n",
        "    outputs = model_Bold(inputs)\n",
        "\n",
        "    # 가장 높은 확률 값을 가진 클래스 선택\n",
        "    predicted_label_id = tf.argmax(outputs.logits, axis=-1).numpy()[0]\n",
        "\n",
        "    # 해당 클래스의 카운트 증가\n",
        "    label_counts[0][predicted_label_id] += 1\n",
        "\n",
        "for review in df_beginner[\"Review\"]:\n",
        "\n",
        "    # 토큰화 및 인코딩\n",
        "    inputs = tokenizer.encode_plus(review, add_special_tokens=True, return_tensors=\"tf\", padding=True, truncation=True)\n",
        "\n",
        "    # attention_mask 생성 (패딩 토큰도 고려)\n",
        "    attention_mask = tf.where(inputs[\"input_ids\"] != tokenizer.pad_token_id, 1, 0)\n",
        "\n",
        "    # 추론\n",
        "    outputs = model_Bold(inputs)\n",
        "\n",
        "    # 가장 높은 확률 값을 가진 클래스 선택\n",
        "    predicted_label_id = tf.argmax(outputs.logits, axis=-1).numpy()[0]\n",
        "\n",
        "    # 해당 클래스의 카운트 증가\n",
        "    label_counts[1][predicted_label_id] += 1\n"
      ],
      "metadata": {
        "id": "EkoLI2lj5fql"
      },
      "execution_count": null,
      "outputs": []
    },
    {
      "cell_type": "code",
      "source": [
        "# 라벨 1과 2의 비율 계산 및 출력\n",
        "label_ex_count = label_counts[0]\n",
        "label_bg_count = label_counts[1]\n",
        "\n",
        "total_label_count_ex = label_ex_count[1] + label_ex_count[2]\n",
        "total_label_count_bg = label_bg_count[1] + label_bg_count[2]\n",
        "\n",
        "label_1_ratio_ex = label_ex_count[1] / total_label_count_ex * 100\n",
        "label_2_ratio_ex = 100 - label_1_ratio_ex\n",
        "label_1_ratio_bg = label_bg_count[1] / total_label_count_bg * 100\n",
        "label_2_ratio_bg = 100 - label_1_ratio_bg\n",
        "label_1_ratio_all = (label_ex_count[1] + label_bg_count[1]) / (total_label_count_ex + total_label_count_bg) * 100\n",
        "label_2_ratio_all = 100 - label_1_ratio_all\n",
        "\n",
        "print(f\"light and bold Ratio (Expert)   : {label_1_ratio_ex:.2f} : {label_2_ratio_ex:.2f}\")\n",
        "print(f\"light and bold Ratio (Beginner) : {label_1_ratio_bg:.2f} : {label_2_ratio_bg:.2f}\")\n",
        "\n",
        "print(\"expert : \",label_ex_count,\"\\nbeginner : \",label_bg_count)\n",
        "\n",
        "light_ratio_ex = round(copy(label_1_ratio_ex))\n",
        "bold_ratio_ex = round(copy(label_2_ratio_ex))\n",
        "light_ratio_bg = round(copy(label_1_ratio_bg))\n",
        "bold_ratio_bg = round(copy(label_2_ratio_bg))\n",
        "light_ratio_all = round(copy(label_1_ratio_all))\n",
        "bold_ratio_all = round(copy(label_2_ratio_all))"
      ],
      "metadata": {
        "colab": {
          "base_uri": "https://localhost:8080/"
        },
        "id": "uCNWQNFf7OMx",
        "outputId": "c09b1510-e164-454e-a51b-6dcf018ba1ae"
      },
      "execution_count": null,
      "outputs": [
        {
          "output_type": "stream",
          "name": "stdout",
          "text": [
            "light and bold Ratio (Expert)   : 61.97 : 38.03\n",
            "light and bold Ratio (Beginner) : 47.06 : 52.94\n",
            "expert :  [308, 88, 54] \n",
            "beginner :  [207, 32, 36]\n"
          ]
        }
      ]
    },
    {
      "cell_type": "markdown",
      "source": [
        "## 2.6. 데이터 모아보기"
      ],
      "metadata": {
        "id": "9Wra7xXFVO1G"
      }
    },
    {
      "cell_type": "code",
      "source": [
        "print(\"Expert Review Flavor\\n\")\n",
        "print(\"Sweet and Dry Ratio           \",  sweet_ratio_ex, \" : \", dry_ratio_ex)\n",
        "print(\"Tannins and Smooth Ratio      \",  tannin_ratio_ex, \" : \", smooth_ratio_ex)\n",
        "print(\"Acidic and Soft Ratio         \",  acidic_ratio_ex, \" : \", soft_ratio_ex)\n",
        "print(\"Light and Bold Ratio          \",  light_ratio_ex, \" : \", bold_ratio_ex)\n",
        "\n",
        "print('\\n')\n",
        "\n",
        "print(\"Beginner Review Flavor\\n\")\n",
        "print(\"Sweet and Dry Ratio           \",  sweet_ratio_bg, \" : \", dry_ratio_bg)\n",
        "print(\"Tannins and Smooth Ratio      \",  tannin_ratio_bg, \" : \", smooth_ratio_bg)\n",
        "print(\"Acidic and Soft Ratio         \",  acidic_ratio_bg, \" : \", soft_ratio_bg)\n",
        "print(\"Light and Bold Ratio          \",  light_ratio_bg, \" : \", bold_ratio_bg)\n",
        "\n",
        "print('\\n')\n",
        "\n",
        "print(\"All Review Flavor\\n\")\n",
        "print(\"Sweet and Dry Ratio           \",  sweet_ratio_all, \" : \", dry_ratio_all)\n",
        "print(\"Tannins and Smooth Ratio      \",  tannin_ratio_all, \" : \", smooth_ratio_all)\n",
        "print(\"Acidic and Soft Ratio         \",  acidic_ratio_all, \" : \", soft_ratio_all)\n",
        "print(\"Light and Bold Ratio          \",  light_ratio_all, \" : \", bold_ratio_all)"
      ],
      "metadata": {
        "colab": {
          "base_uri": "https://localhost:8080/"
        },
        "id": "CXy9O-7JVUP2",
        "outputId": "6e710e75-ce80-42b9-98ae-c99468b7987b"
      },
      "execution_count": null,
      "outputs": [
        {
          "output_type": "stream",
          "name": "stdout",
          "text": [
            "Expert Review Flavor\n",
            "\n",
            "Sweet and Dry Ratio            43  :  57\n",
            "Tannins and Smooth Ratio       24  :  76\n",
            "Acidic and Soft Ratio          53  :  47\n",
            "Light and Bold Ratio           62  :  38\n",
            "\n",
            "\n",
            "Beginner Review Flavor\n",
            "\n",
            "Sweet and Dry Ratio            31  :  69\n",
            "Tannins and Smooth Ratio       12  :  88\n",
            "Acidic and Soft Ratio          33  :  67\n",
            "Light and Bold Ratio           47  :  53\n",
            "\n",
            "\n",
            "All Review Flavor\n",
            "\n",
            "Sweet and Dry Ratio            39  :  61\n",
            "Tannins and Smooth Ratio       19  :  81\n",
            "Acidic and Soft Ratio          47  :  53\n",
            "Light and Bold Ratio           57  :  43\n"
          ]
        }
      ]
    },
    {
      "cell_type": "markdown",
      "source": [
        "# 3. 키워드분석"
      ],
      "metadata": {
        "id": "LHSB92oi8i8y"
      }
    },
    {
      "cell_type": "code",
      "source": [
        "!pip install wordcloud\n",
        "!pip install transformers\n",
        "\n",
        "# 필요한 라이브러리 불러오기\n",
        "import pandas as pd\n",
        "import urllib.request"
      ],
      "metadata": {
        "colab": {
          "base_uri": "https://localhost:8080/"
        },
        "id": "OpzU9pLK8t4e",
        "outputId": "5b93da90-9b3d-4ac7-eb25-6141f320fa78"
      },
      "execution_count": null,
      "outputs": [
        {
          "output_type": "stream",
          "name": "stdout",
          "text": [
            "Requirement already satisfied: wordcloud in /usr/local/lib/python3.10/dist-packages (1.8.2.2)\n",
            "Requirement already satisfied: numpy>=1.6.1 in /usr/local/lib/python3.10/dist-packages (from wordcloud) (1.23.4)\n",
            "Requirement already satisfied: pillow in /usr/local/lib/python3.10/dist-packages (from wordcloud) (9.4.0)\n",
            "Requirement already satisfied: matplotlib in /usr/local/lib/python3.10/dist-packages (from wordcloud) (3.7.1)\n",
            "Requirement already satisfied: contourpy>=1.0.1 in /usr/local/lib/python3.10/dist-packages (from matplotlib->wordcloud) (1.1.0)\n",
            "Requirement already satisfied: cycler>=0.10 in /usr/local/lib/python3.10/dist-packages (from matplotlib->wordcloud) (0.11.0)\n",
            "Requirement already satisfied: fonttools>=4.22.0 in /usr/local/lib/python3.10/dist-packages (from matplotlib->wordcloud) (4.41.1)\n",
            "Requirement already satisfied: kiwisolver>=1.0.1 in /usr/local/lib/python3.10/dist-packages (from matplotlib->wordcloud) (1.4.4)\n",
            "Requirement already satisfied: packaging>=20.0 in /usr/local/lib/python3.10/dist-packages (from matplotlib->wordcloud) (23.1)\n",
            "Requirement already satisfied: pyparsing>=2.3.1 in /usr/local/lib/python3.10/dist-packages (from matplotlib->wordcloud) (3.1.0)\n",
            "Requirement already satisfied: python-dateutil>=2.7 in /usr/local/lib/python3.10/dist-packages (from matplotlib->wordcloud) (2.8.2)\n",
            "Requirement already satisfied: six>=1.5 in /usr/local/lib/python3.10/dist-packages (from python-dateutil>=2.7->matplotlib->wordcloud) (1.16.0)\n",
            "Requirement already satisfied: transformers in /usr/local/lib/python3.10/dist-packages (4.31.0)\n",
            "Requirement already satisfied: filelock in /usr/local/lib/python3.10/dist-packages (from transformers) (3.12.2)\n",
            "Requirement already satisfied: huggingface-hub<1.0,>=0.14.1 in /usr/local/lib/python3.10/dist-packages (from transformers) (0.16.4)\n",
            "Requirement already satisfied: numpy>=1.17 in /usr/local/lib/python3.10/dist-packages (from transformers) (1.23.4)\n",
            "Requirement already satisfied: packaging>=20.0 in /usr/local/lib/python3.10/dist-packages (from transformers) (23.1)\n",
            "Requirement already satisfied: pyyaml>=5.1 in /usr/local/lib/python3.10/dist-packages (from transformers) (6.0.1)\n",
            "Requirement already satisfied: regex!=2019.12.17 in /usr/local/lib/python3.10/dist-packages (from transformers) (2022.10.31)\n",
            "Requirement already satisfied: requests in /usr/local/lib/python3.10/dist-packages (from transformers) (2.27.1)\n",
            "Requirement already satisfied: tokenizers!=0.11.3,<0.14,>=0.11.1 in /usr/local/lib/python3.10/dist-packages (from transformers) (0.13.3)\n",
            "Requirement already satisfied: safetensors>=0.3.1 in /usr/local/lib/python3.10/dist-packages (from transformers) (0.3.2)\n",
            "Requirement already satisfied: tqdm>=4.27 in /usr/local/lib/python3.10/dist-packages (from transformers) (4.65.0)\n",
            "Requirement already satisfied: fsspec in /usr/local/lib/python3.10/dist-packages (from huggingface-hub<1.0,>=0.14.1->transformers) (2023.6.0)\n",
            "Requirement already satisfied: typing-extensions>=3.7.4.3 in /usr/local/lib/python3.10/dist-packages (from huggingface-hub<1.0,>=0.14.1->transformers) (4.7.1)\n",
            "Requirement already satisfied: urllib3<1.27,>=1.21.1 in /usr/local/lib/python3.10/dist-packages (from requests->transformers) (1.26.16)\n",
            "Requirement already satisfied: certifi>=2017.4.17 in /usr/local/lib/python3.10/dist-packages (from requests->transformers) (2023.7.22)\n",
            "Requirement already satisfied: charset-normalizer~=2.0.0 in /usr/local/lib/python3.10/dist-packages (from requests->transformers) (2.0.12)\n",
            "Requirement already satisfied: idna<4,>=2.5 in /usr/local/lib/python3.10/dist-packages (from requests->transformers) (3.4)\n"
          ]
        }
      ]
    },
    {
      "cell_type": "code",
      "source": [
        "# 1. 필요한 모듈 불러오기\n",
        "from wordcloud import WordCloud, STOPWORDS\n",
        "import matplotlib.pyplot as plt\n",
        "from matplotlib import rc\n",
        "import re"
      ],
      "metadata": {
        "id": "pYmOZTxMK0NF"
      },
      "execution_count": null,
      "outputs": []
    },
    {
      "cell_type": "code",
      "source": [
        "# 2. Stopwords 및 특수문자 필터링을 위한 준비\n",
        "\n",
        "comment_words = ''\n",
        "stopwords = set(STOPWORDS)\n",
        "\n",
        "tokenized_text = []\n",
        "\n",
        "# 3. 문장 데이터를 단어화하기\n",
        "for val in df[\"Review\"]:\n",
        "\n",
        "  # 문장을 string으로 만들기\n",
        "  val = str(val)\n",
        "\n",
        "  # 문장을 소문자로 바꾸기\n",
        "  val = val.lower()\n",
        "\n",
        "  #문장 속 문장부호 지우기\n",
        "  val = re.sub(r'[!\"#$%&\\'()*+,-./:;<=>?@\\[\\]^_\\`{|}~\\\\\\\\]','', val)\n",
        "\n",
        "  # 문장을 쪼개기\n",
        "  tokens = val.split()\n",
        "\n",
        "  tokenized_text.append(tokens)\n",
        "  comment_words += \" \".join(tokens) + \" \"\n",
        "\n",
        "wordcloud = WordCloud(width = 800, height = 800,\n",
        "                background_color ='white',\n",
        "                stopwords = stopwords,\n",
        "                min_font_size = 10).generate(comment_words)"
      ],
      "metadata": {
        "id": "wsph0NdnK4A6"
      },
      "execution_count": null,
      "outputs": []
    },
    {
      "cell_type": "code",
      "source": [
        "# 필터링할 추가적인 stopwords들 정의\n",
        "\n",
        "stopwords_Rose = ['wine', 'good', 'nice', 'nose', 'really', 'first', 'great', 'little',\n",
        "                  'high', 'easy', 'top', 'color', 'long', 'tasty', 'excellent', 'very', 'notes',\n",
        "                  'taste', 'colour', 'still', 'one', 'well', 'perfect', 'drink', 'aftertaste',\n",
        "                  'value'\n",
        "]\n",
        "stopwords_name = ['provence'\n",
        "]"
      ],
      "metadata": {
        "id": "D0IFc-HyK6ZJ"
      },
      "execution_count": null,
      "outputs": []
    },
    {
      "cell_type": "code",
      "source": [
        "def filter_stopwords(tokenized_text, stopwords_2, stopword_3):\n",
        "  tokenized_filtered = []\n",
        "\n",
        "  for i in tokenized_text:\n",
        "    for word in i:\n",
        "      if word not in stopwords and word not in stopwords_2 and word not in stopword_3:\n",
        "        tokenized_filtered.append(word)\n",
        "\n",
        "  return tokenized_filtered\n",
        "\n",
        "tokenized_filtered = filter_stopwords(tokenized_text, stopwords_Rose, stopwords_name)"
      ],
      "metadata": {
        "id": "VJzgRyX8K8N9"
      },
      "execution_count": null,
      "outputs": []
    },
    {
      "cell_type": "code",
      "source": [
        "import operator\n",
        "\n",
        "def word_count(tokenized_data):\n",
        "  word_counter = {}\n",
        "\n",
        "  for i in tokenized_data:\n",
        "    if i in word_counter.keys():\n",
        "      word_counter[i] += 1\n",
        "    else:\n",
        "      word_counter[i] = 1\n",
        "\n",
        "  # 많이 나온 순서대로 정렬\n",
        "\n",
        "  sorted_dict = dict( sorted(word_counter.items(),\n",
        "                           key=operator.itemgetter(1), reverse=True))\n",
        "\n",
        "  return sorted_dict"
      ],
      "metadata": {
        "id": "N_bcx09FLWv7"
      },
      "execution_count": null,
      "outputs": []
    },
    {
      "cell_type": "code",
      "source": [
        "tokenized_dict = word_count(tokenized_filtered)"
      ],
      "metadata": {
        "id": "Eo3qPk0_LYh7"
      },
      "execution_count": null,
      "outputs": []
    },
    {
      "cell_type": "code",
      "source": [
        "# Dry-Sweet 지표가 잘 나타난 것 구하기\n",
        "\n",
        "import re\n",
        "\n",
        "# 단어 분류 기준\n",
        "\n",
        "flavor_dict_sweet_dry = {\"dry\": \"Dry\", \"astringent\": \"Dry\", \"lean\": \"Dry\", \"crisp\": \"Dry\", \"tart\": \"Dry\",\n",
        "               \"off-dry\": \"Dry\", \"bone-dry\": \"Dry\", \"stony\": \"Dry\", \"dusty\": \"Dry\", \"dried\": \"Dry\", \"dryness\": \"Dry\",\n",
        "               \"sweet\": \"Sweet\", \"sweetness\": \"Sweet\", \"sugary\": \"Sweet\", \"sweetish\": \"Sweet\",\n",
        "               \"honeyed\": \"Sweet\", \"luscious\": \"Sweet\", \"nectar-like\": \"Sweet\", \"sweety\": \"Sweet\", \"desert\": \"Sweet\"\n",
        "}\n",
        "flavor_dict_tannin_smooth = {\n",
        "    \"astringency\": \"Tannins\", \"austere\": \"Tannins\", \"bitterness\": \"Tannins\",\n",
        "    \"hard\": \"Tannins\", \"harsh\": \"Tannins\", \"tannins\": \"Tannins\", \"tannin\": \"Tannins\",\n",
        "    \"structured\": \"Tannins\", \"grippy\": \"Tannins\",\"tannic\": \"Tannins\", \"smooth\": \"Smooth\",\n",
        "    \"silky\": \"Smooth\", \"velvety\": \"Smooth\", \"elegant\": \"Smooth\",\n",
        "    \"round\": \"Smooth\", \"supple\": \"Smooth\", \"luscious\": \"Smooth\",\n",
        "    \"balanced\": \"Smooth\"\n",
        "}\n",
        "flavor_dict_acidic_soft = {\n",
        "    \"tart\": \"Acidic\", \"crisp\": \"Acidic\", \"zesty\": \"Acidic\", \"vinegary\": \"Acidic\",\n",
        "    \"lively\": \"Acidic\", \"bright\": \"Acidic\", \"tangy\": \"Acidic\", 'acid': \"Acidic\",\n",
        "    \"grippy\": \"Acidic\", \"hard\": \"Acidic\", \"acidic\": \"Acidic\", 'acidity': \"Acidic\",\n",
        "    \"harsh\": \"Acidic\" , \"austere\": \"Acidic\",\"sour\":\"Acidic\",\"pungent\":\"Acidic\",\"acidulous\":\"Acidic\",\n",
        "\n",
        "    \"silky\": \"Soft\", \"supple\": \"Soft\", \"velvety\": \"Soft\",\n",
        "    \"elegant\": \"Soft\", \"round\": \"Soft\", \"luscious\": \"Soft\",\n",
        "    \"balanced\": \"Soft\",\"softness\":\"Soft\", \"soft\": \"Soft\",\n",
        "    \"softly\": \"Soft\", \"soften\": \"Soft\", \"softness\": \"Soft\", \"softy\": \"Soft\",\n",
        "}\n",
        "flavor_dict_Light_Bold = {\n",
        "    \"full-bodied\": \"Bold\", \"bodied\": \"Bold\", \"robust\": \"Bold\", \"bold\": \"Bold\", \"rich\": \"Bold\",\n",
        "    \"full-flavored\": \"Bold\", \"intense\": \"Bold\", \"weighty\": \"Bold\", \"concentrated\": \"Bold\", \"weight\": \"Bold\", \"boldness\": \"Bold\",\n",
        "\n",
        "    \"light\": \"Light\", \"light-bodied\": \"Light\", \"ethereal\": \"Light\", \"delicate\": \"Light\",\n",
        "    \"luscious\": \"Light\", \"unburdened\": \"Light\", \"lighty\": \"Light\", \"feathery\": \"Light\",\n",
        "    \"airy\": \"Light\", \"mild\": \"Light\", \"graceful\": \"Light\", \"easygoing\": \"Light\"\n",
        "}"
      ],
      "metadata": {
        "id": "4nCt_9NeK_wo"
      },
      "execution_count": null,
      "outputs": []
    },
    {
      "cell_type": "code",
      "source": [
        "from collections import defaultdict, OrderedDict\n",
        "\n",
        "flavors_dict_SWEET = defaultdict(int)\n",
        "flavors_dict_Tannins = defaultdict(int)\n",
        "flavors_dict_Acidic = defaultdict(int)\n",
        "flavors_dict_Light = defaultdict(int)\n",
        "\n",
        "flavors_list_SWEET = []\n",
        "flavors_list_Tannins = []\n",
        "flavors_list_Acidic = []\n",
        "flavors_list_Light = []\n",
        "\n",
        "#단맛 키워드 기반 감정분석\n",
        "\n",
        "for k, v in tokenized_dict.items():\n",
        "  for key, value in flavor_dict_sweet_dry.items():\n",
        "    if k == key:\n",
        "      flavors_list_SWEET.append((value, v))\n",
        "\n",
        "for k, v in flavors_list_SWEET:\n",
        "  if k in flavors_dict_SWEET:\n",
        "    flavors_dict_SWEET[k] += v\n",
        "  else:\n",
        "    flavors_dict_SWEET[k] = v\n",
        "\n",
        "flavors_dict_SWEET = OrderedDict(sorted(flavors_dict_SWEET.items(),\n",
        "                            key=lambda item: item[1],\n",
        "                            reverse=True))\n",
        "\n",
        "print(\"flavors_dict_SWEET : \", flavors_dict_SWEET)\n",
        "\n",
        "\n",
        "#쓴맛 키워드 기반 감정분석\n",
        "\n",
        "for k, v in tokenized_dict.items():\n",
        "  for key, value in flavor_dict_tannin_smooth.items():\n",
        "    if k == key:\n",
        "      flavors_list_Tannins.append((value, v))\n",
        "\n",
        "for k, v in flavors_list_Tannins:\n",
        "  if k in flavors_dict_Tannins:\n",
        "    flavors_dict_Tannins[k] += v\n",
        "  else:\n",
        "    flavors_dict_Tannins[k] = v\n",
        "\n",
        "flavors_dict_Tannins = OrderedDict(sorted(flavors_dict_Tannins.items(),\n",
        "                            key=lambda item: item[1],\n",
        "                            reverse=True))\n",
        "\n",
        "print(\"flavors_dict_Tannins : \", flavors_dict_Tannins)\n",
        "\n",
        "\n",
        "#신맛 키워드 기반 분석\n",
        "\n",
        "for k, v in tokenized_dict.items():\n",
        "  for key, value in flavor_dict_acidic_soft.items():\n",
        "    if k == key:\n",
        "      flavors_list_Acidic.append((value, v))\n",
        "\n",
        "for k, v in flavors_list_Acidic:\n",
        "  if k in flavors_dict_Acidic:\n",
        "    flavors_dict_Acidic[k] += v\n",
        "  else:\n",
        "    flavors_dict_Acidic[k] = v\n",
        "\n",
        "flavors_dict_Acidic = OrderedDict(sorted(flavors_dict_Acidic.items(),\n",
        "                            key=lambda item: item[1],\n",
        "                            reverse=True))\n",
        "\n",
        "print(\"flavors_dict_Acidic : \", flavors_dict_Acidic)\n",
        "\n",
        "\n",
        "#바디감 키워드 기반 분석\n",
        "\n",
        "for k, v in tokenized_dict.items():\n",
        "  for key, value in flavor_dict_Light_Bold.items():\n",
        "    if k == key:\n",
        "      flavors_list_Light.append((value, v))\n",
        "\n",
        "for k, v in flavors_list_Light:\n",
        "  if k in flavors_dict_Light:\n",
        "    flavors_dict_Light[k] += v\n",
        "  else:\n",
        "    flavors_dict_Light[k] = v\n",
        "\n",
        "flavors_dict_Light = OrderedDict(sorted(flavors_dict_Light.items(),\n",
        "                            key=lambda item: item[1],\n",
        "                            reverse=True))\n",
        "\n",
        "print(\"flavors_dict_Light : \", flavors_dict_Light)"
      ],
      "metadata": {
        "colab": {
          "base_uri": "https://localhost:8080/"
        },
        "id": "gZ-v9yIjK-I2",
        "outputId": "266a2a66-f8e7-4dc1-c330-10102c19b331"
      },
      "execution_count": null,
      "outputs": [
        {
          "output_type": "stream",
          "name": "stdout",
          "text": [
            "flavors_dict_SWEET :  OrderedDict([('Dry', 54), ('Sweet', 27)])\n",
            "flavors_dict_Tannins :  OrderedDict([('Smooth', 232), ('Tannins', 92)])\n",
            "flavors_dict_Acidic :  OrderedDict([('Acidic', 129), ('Soft', 122)])\n",
            "flavors_dict_Light :  OrderedDict([('Light', 79), ('Bold', 77)])\n"
          ]
        }
      ]
    },
    {
      "cell_type": "markdown",
      "source": [
        "## 3.1. 그림으로 나타내기"
      ],
      "metadata": {
        "id": "eiVVAra6LJfr"
      }
    },
    {
      "cell_type": "code",
      "source": [
        "# Plotly로 시각화\n",
        "\n",
        "# Pie Chart\n",
        "import pandas as pd\n",
        "import plotly.express as px\n",
        "from plotly.subplots import make_subplots\n",
        "import plotly.graph_objects as go\n",
        "\n",
        "flavors = pd.Series(flavors_dict_SWEET)\n",
        "\n",
        "# 세 개의 플롯을 한 화면에 나타내기\n",
        "import pandas as pd\n",
        "import plotly.graph_objects as go\n",
        "from plotly.subplots import make_subplots\n",
        "# 서브플롯 생성\n",
        "fig = make_subplots(rows=1, cols=3, specs=[[{'type': 'pie'}, {'type': 'pie'}, {'type': 'pie'}]])\n",
        "\n",
        "# Sweet - Dry 플롯\n",
        "fig1 = px.pie(values=list(flavors_dict_SWEET.values()), names=list(flavors_dict_SWEET.keys()), title='Sweet - Dry')\n",
        "fig1.update_traces(marker=dict(colors=['Pink', 'skyBlue']))\n",
        "\n",
        "fig1.show()\n",
        "\n",
        "# Tannins - Smooth 플롯\n",
        "fig2 = px.pie(values=list(flavors_dict_Tannins.values()), names=list(flavors_dict_Tannins.keys()), title='Tannins - Smooth')\n",
        "fig2.update_traces(marker=dict(colors=['red', 'blue']))\n",
        "\n",
        "fig2.show()\n",
        "\n",
        "# Acidic - Soft 플롯\n",
        "fig3 = px.pie(values=list(flavors_dict_Acidic.values()), names=list(flavors_dict_Acidic.keys()), title='Acidic - Soft')\n",
        "fig3.update_traces(marker=dict(colors=['green', 'Yellow']))\n",
        "\n",
        "fig3.show()\n",
        "\n",
        "# Light - Bold 플롯\n",
        "fig4 = px.pie(values=list(flavors_dict_Light.values()), names=list(flavors_dict_Light.keys()), title='Light - Bold')\n",
        "fig4.update_traces(marker=dict(colors=['black', 'grey']))\n",
        "\n",
        "fig4.show()"
      ],
      "metadata": {
        "colab": {
          "base_uri": "https://localhost:8080/",
          "height": 1000
        },
        "id": "nHO6Uhp5LGyh",
        "outputId": "51de69ad-22b0-4d17-bb79-b6ace00d7742"
      },
      "execution_count": null,
      "outputs": [
        {
          "output_type": "display_data",
          "data": {
            "text/html": [
              "<html>\n",
              "<head><meta charset=\"utf-8\" /></head>\n",
              "<body>\n",
              "    <div>            <script src=\"https://cdnjs.cloudflare.com/ajax/libs/mathjax/2.7.5/MathJax.js?config=TeX-AMS-MML_SVG\"></script><script type=\"text/javascript\">if (window.MathJax && window.MathJax.Hub && window.MathJax.Hub.Config) {window.MathJax.Hub.Config({SVG: {font: \"STIX-Web\"}});}</script>                <script type=\"text/javascript\">window.PlotlyConfig = {MathJaxConfig: 'local'};</script>\n",
              "        <script src=\"https://cdn.plot.ly/plotly-2.18.2.min.js\"></script>                <div id=\"8e002b17-1ef2-4234-ae68-0c6d84c0df14\" class=\"plotly-graph-div\" style=\"height:525px; width:100%;\"></div>            <script type=\"text/javascript\">                                    window.PLOTLYENV=window.PLOTLYENV || {};                                    if (document.getElementById(\"8e002b17-1ef2-4234-ae68-0c6d84c0df14\")) {                    Plotly.newPlot(                        \"8e002b17-1ef2-4234-ae68-0c6d84c0df14\",                        [{\"domain\":{\"x\":[0.0,1.0],\"y\":[0.0,1.0]},\"hovertemplate\":\"label=%{label}<br>value=%{value}<extra></extra>\",\"labels\":[\"Dry\",\"Sweet\"],\"legendgroup\":\"\",\"name\":\"\",\"showlegend\":true,\"values\":[54,27],\"type\":\"pie\",\"marker\":{\"colors\":[\"Pink\",\"skyBlue\"]}}],                        {\"template\":{\"data\":{\"histogram2dcontour\":[{\"type\":\"histogram2dcontour\",\"colorbar\":{\"outlinewidth\":0,\"ticks\":\"\"},\"colorscale\":[[0.0,\"#0d0887\"],[0.1111111111111111,\"#46039f\"],[0.2222222222222222,\"#7201a8\"],[0.3333333333333333,\"#9c179e\"],[0.4444444444444444,\"#bd3786\"],[0.5555555555555556,\"#d8576b\"],[0.6666666666666666,\"#ed7953\"],[0.7777777777777778,\"#fb9f3a\"],[0.8888888888888888,\"#fdca26\"],[1.0,\"#f0f921\"]]}],\"choropleth\":[{\"type\":\"choropleth\",\"colorbar\":{\"outlinewidth\":0,\"ticks\":\"\"}}],\"histogram2d\":[{\"type\":\"histogram2d\",\"colorbar\":{\"outlinewidth\":0,\"ticks\":\"\"},\"colorscale\":[[0.0,\"#0d0887\"],[0.1111111111111111,\"#46039f\"],[0.2222222222222222,\"#7201a8\"],[0.3333333333333333,\"#9c179e\"],[0.4444444444444444,\"#bd3786\"],[0.5555555555555556,\"#d8576b\"],[0.6666666666666666,\"#ed7953\"],[0.7777777777777778,\"#fb9f3a\"],[0.8888888888888888,\"#fdca26\"],[1.0,\"#f0f921\"]]}],\"heatmap\":[{\"type\":\"heatmap\",\"colorbar\":{\"outlinewidth\":0,\"ticks\":\"\"},\"colorscale\":[[0.0,\"#0d0887\"],[0.1111111111111111,\"#46039f\"],[0.2222222222222222,\"#7201a8\"],[0.3333333333333333,\"#9c179e\"],[0.4444444444444444,\"#bd3786\"],[0.5555555555555556,\"#d8576b\"],[0.6666666666666666,\"#ed7953\"],[0.7777777777777778,\"#fb9f3a\"],[0.8888888888888888,\"#fdca26\"],[1.0,\"#f0f921\"]]}],\"heatmapgl\":[{\"type\":\"heatmapgl\",\"colorbar\":{\"outlinewidth\":0,\"ticks\":\"\"},\"colorscale\":[[0.0,\"#0d0887\"],[0.1111111111111111,\"#46039f\"],[0.2222222222222222,\"#7201a8\"],[0.3333333333333333,\"#9c179e\"],[0.4444444444444444,\"#bd3786\"],[0.5555555555555556,\"#d8576b\"],[0.6666666666666666,\"#ed7953\"],[0.7777777777777778,\"#fb9f3a\"],[0.8888888888888888,\"#fdca26\"],[1.0,\"#f0f921\"]]}],\"contourcarpet\":[{\"type\":\"contourcarpet\",\"colorbar\":{\"outlinewidth\":0,\"ticks\":\"\"}}],\"contour\":[{\"type\":\"contour\",\"colorbar\":{\"outlinewidth\":0,\"ticks\":\"\"},\"colorscale\":[[0.0,\"#0d0887\"],[0.1111111111111111,\"#46039f\"],[0.2222222222222222,\"#7201a8\"],[0.3333333333333333,\"#9c179e\"],[0.4444444444444444,\"#bd3786\"],[0.5555555555555556,\"#d8576b\"],[0.6666666666666666,\"#ed7953\"],[0.7777777777777778,\"#fb9f3a\"],[0.8888888888888888,\"#fdca26\"],[1.0,\"#f0f921\"]]}],\"surface\":[{\"type\":\"surface\",\"colorbar\":{\"outlinewidth\":0,\"ticks\":\"\"},\"colorscale\":[[0.0,\"#0d0887\"],[0.1111111111111111,\"#46039f\"],[0.2222222222222222,\"#7201a8\"],[0.3333333333333333,\"#9c179e\"],[0.4444444444444444,\"#bd3786\"],[0.5555555555555556,\"#d8576b\"],[0.6666666666666666,\"#ed7953\"],[0.7777777777777778,\"#fb9f3a\"],[0.8888888888888888,\"#fdca26\"],[1.0,\"#f0f921\"]]}],\"mesh3d\":[{\"type\":\"mesh3d\",\"colorbar\":{\"outlinewidth\":0,\"ticks\":\"\"}}],\"scatter\":[{\"fillpattern\":{\"fillmode\":\"overlay\",\"size\":10,\"solidity\":0.2},\"type\":\"scatter\"}],\"parcoords\":[{\"type\":\"parcoords\",\"line\":{\"colorbar\":{\"outlinewidth\":0,\"ticks\":\"\"}}}],\"scatterpolargl\":[{\"type\":\"scatterpolargl\",\"marker\":{\"colorbar\":{\"outlinewidth\":0,\"ticks\":\"\"}}}],\"bar\":[{\"error_x\":{\"color\":\"#2a3f5f\"},\"error_y\":{\"color\":\"#2a3f5f\"},\"marker\":{\"line\":{\"color\":\"#E5ECF6\",\"width\":0.5},\"pattern\":{\"fillmode\":\"overlay\",\"size\":10,\"solidity\":0.2}},\"type\":\"bar\"}],\"scattergeo\":[{\"type\":\"scattergeo\",\"marker\":{\"colorbar\":{\"outlinewidth\":0,\"ticks\":\"\"}}}],\"scatterpolar\":[{\"type\":\"scatterpolar\",\"marker\":{\"colorbar\":{\"outlinewidth\":0,\"ticks\":\"\"}}}],\"histogram\":[{\"marker\":{\"pattern\":{\"fillmode\":\"overlay\",\"size\":10,\"solidity\":0.2}},\"type\":\"histogram\"}],\"scattergl\":[{\"type\":\"scattergl\",\"marker\":{\"colorbar\":{\"outlinewidth\":0,\"ticks\":\"\"}}}],\"scatter3d\":[{\"type\":\"scatter3d\",\"line\":{\"colorbar\":{\"outlinewidth\":0,\"ticks\":\"\"}},\"marker\":{\"colorbar\":{\"outlinewidth\":0,\"ticks\":\"\"}}}],\"scattermapbox\":[{\"type\":\"scattermapbox\",\"marker\":{\"colorbar\":{\"outlinewidth\":0,\"ticks\":\"\"}}}],\"scatterternary\":[{\"type\":\"scatterternary\",\"marker\":{\"colorbar\":{\"outlinewidth\":0,\"ticks\":\"\"}}}],\"scattercarpet\":[{\"type\":\"scattercarpet\",\"marker\":{\"colorbar\":{\"outlinewidth\":0,\"ticks\":\"\"}}}],\"carpet\":[{\"aaxis\":{\"endlinecolor\":\"#2a3f5f\",\"gridcolor\":\"white\",\"linecolor\":\"white\",\"minorgridcolor\":\"white\",\"startlinecolor\":\"#2a3f5f\"},\"baxis\":{\"endlinecolor\":\"#2a3f5f\",\"gridcolor\":\"white\",\"linecolor\":\"white\",\"minorgridcolor\":\"white\",\"startlinecolor\":\"#2a3f5f\"},\"type\":\"carpet\"}],\"table\":[{\"cells\":{\"fill\":{\"color\":\"#EBF0F8\"},\"line\":{\"color\":\"white\"}},\"header\":{\"fill\":{\"color\":\"#C8D4E3\"},\"line\":{\"color\":\"white\"}},\"type\":\"table\"}],\"barpolar\":[{\"marker\":{\"line\":{\"color\":\"#E5ECF6\",\"width\":0.5},\"pattern\":{\"fillmode\":\"overlay\",\"size\":10,\"solidity\":0.2}},\"type\":\"barpolar\"}],\"pie\":[{\"automargin\":true,\"type\":\"pie\"}]},\"layout\":{\"autotypenumbers\":\"strict\",\"colorway\":[\"#636efa\",\"#EF553B\",\"#00cc96\",\"#ab63fa\",\"#FFA15A\",\"#19d3f3\",\"#FF6692\",\"#B6E880\",\"#FF97FF\",\"#FECB52\"],\"font\":{\"color\":\"#2a3f5f\"},\"hovermode\":\"closest\",\"hoverlabel\":{\"align\":\"left\"},\"paper_bgcolor\":\"white\",\"plot_bgcolor\":\"#E5ECF6\",\"polar\":{\"bgcolor\":\"#E5ECF6\",\"angularaxis\":{\"gridcolor\":\"white\",\"linecolor\":\"white\",\"ticks\":\"\"},\"radialaxis\":{\"gridcolor\":\"white\",\"linecolor\":\"white\",\"ticks\":\"\"}},\"ternary\":{\"bgcolor\":\"#E5ECF6\",\"aaxis\":{\"gridcolor\":\"white\",\"linecolor\":\"white\",\"ticks\":\"\"},\"baxis\":{\"gridcolor\":\"white\",\"linecolor\":\"white\",\"ticks\":\"\"},\"caxis\":{\"gridcolor\":\"white\",\"linecolor\":\"white\",\"ticks\":\"\"}},\"coloraxis\":{\"colorbar\":{\"outlinewidth\":0,\"ticks\":\"\"}},\"colorscale\":{\"sequential\":[[0.0,\"#0d0887\"],[0.1111111111111111,\"#46039f\"],[0.2222222222222222,\"#7201a8\"],[0.3333333333333333,\"#9c179e\"],[0.4444444444444444,\"#bd3786\"],[0.5555555555555556,\"#d8576b\"],[0.6666666666666666,\"#ed7953\"],[0.7777777777777778,\"#fb9f3a\"],[0.8888888888888888,\"#fdca26\"],[1.0,\"#f0f921\"]],\"sequentialminus\":[[0.0,\"#0d0887\"],[0.1111111111111111,\"#46039f\"],[0.2222222222222222,\"#7201a8\"],[0.3333333333333333,\"#9c179e\"],[0.4444444444444444,\"#bd3786\"],[0.5555555555555556,\"#d8576b\"],[0.6666666666666666,\"#ed7953\"],[0.7777777777777778,\"#fb9f3a\"],[0.8888888888888888,\"#fdca26\"],[1.0,\"#f0f921\"]],\"diverging\":[[0,\"#8e0152\"],[0.1,\"#c51b7d\"],[0.2,\"#de77ae\"],[0.3,\"#f1b6da\"],[0.4,\"#fde0ef\"],[0.5,\"#f7f7f7\"],[0.6,\"#e6f5d0\"],[0.7,\"#b8e186\"],[0.8,\"#7fbc41\"],[0.9,\"#4d9221\"],[1,\"#276419\"]]},\"xaxis\":{\"gridcolor\":\"white\",\"linecolor\":\"white\",\"ticks\":\"\",\"title\":{\"standoff\":15},\"zerolinecolor\":\"white\",\"automargin\":true,\"zerolinewidth\":2},\"yaxis\":{\"gridcolor\":\"white\",\"linecolor\":\"white\",\"ticks\":\"\",\"title\":{\"standoff\":15},\"zerolinecolor\":\"white\",\"automargin\":true,\"zerolinewidth\":2},\"scene\":{\"xaxis\":{\"backgroundcolor\":\"#E5ECF6\",\"gridcolor\":\"white\",\"linecolor\":\"white\",\"showbackground\":true,\"ticks\":\"\",\"zerolinecolor\":\"white\",\"gridwidth\":2},\"yaxis\":{\"backgroundcolor\":\"#E5ECF6\",\"gridcolor\":\"white\",\"linecolor\":\"white\",\"showbackground\":true,\"ticks\":\"\",\"zerolinecolor\":\"white\",\"gridwidth\":2},\"zaxis\":{\"backgroundcolor\":\"#E5ECF6\",\"gridcolor\":\"white\",\"linecolor\":\"white\",\"showbackground\":true,\"ticks\":\"\",\"zerolinecolor\":\"white\",\"gridwidth\":2}},\"shapedefaults\":{\"line\":{\"color\":\"#2a3f5f\"}},\"annotationdefaults\":{\"arrowcolor\":\"#2a3f5f\",\"arrowhead\":0,\"arrowwidth\":1},\"geo\":{\"bgcolor\":\"white\",\"landcolor\":\"#E5ECF6\",\"subunitcolor\":\"white\",\"showland\":true,\"showlakes\":true,\"lakecolor\":\"white\"},\"title\":{\"x\":0.05},\"mapbox\":{\"style\":\"light\"}}},\"legend\":{\"tracegroupgap\":0},\"title\":{\"text\":\"Sweet - Dry\"}},                        {\"responsive\": true}                    ).then(function(){\n",
              "                            \n",
              "var gd = document.getElementById('8e002b17-1ef2-4234-ae68-0c6d84c0df14');\n",
              "var x = new MutationObserver(function (mutations, observer) {{\n",
              "        var display = window.getComputedStyle(gd).display;\n",
              "        if (!display || display === 'none') {{\n",
              "            console.log([gd, 'removed!']);\n",
              "            Plotly.purge(gd);\n",
              "            observer.disconnect();\n",
              "        }}\n",
              "}});\n",
              "\n",
              "// Listen for the removal of the full notebook cells\n",
              "var notebookContainer = gd.closest('#notebook-container');\n",
              "if (notebookContainer) {{\n",
              "    x.observe(notebookContainer, {childList: true});\n",
              "}}\n",
              "\n",
              "// Listen for the clearing of the current output cell\n",
              "var outputEl = gd.closest('.output');\n",
              "if (outputEl) {{\n",
              "    x.observe(outputEl, {childList: true});\n",
              "}}\n",
              "\n",
              "                        })                };                            </script>        </div>\n",
              "</body>\n",
              "</html>"
            ]
          },
          "metadata": {}
        },
        {
          "output_type": "display_data",
          "data": {
            "text/html": [
              "<html>\n",
              "<head><meta charset=\"utf-8\" /></head>\n",
              "<body>\n",
              "    <div>            <script src=\"https://cdnjs.cloudflare.com/ajax/libs/mathjax/2.7.5/MathJax.js?config=TeX-AMS-MML_SVG\"></script><script type=\"text/javascript\">if (window.MathJax && window.MathJax.Hub && window.MathJax.Hub.Config) {window.MathJax.Hub.Config({SVG: {font: \"STIX-Web\"}});}</script>                <script type=\"text/javascript\">window.PlotlyConfig = {MathJaxConfig: 'local'};</script>\n",
              "        <script src=\"https://cdn.plot.ly/plotly-2.18.2.min.js\"></script>                <div id=\"6c67ef2f-fda8-4835-b640-b921597e13af\" class=\"plotly-graph-div\" style=\"height:525px; width:100%;\"></div>            <script type=\"text/javascript\">                                    window.PLOTLYENV=window.PLOTLYENV || {};                                    if (document.getElementById(\"6c67ef2f-fda8-4835-b640-b921597e13af\")) {                    Plotly.newPlot(                        \"6c67ef2f-fda8-4835-b640-b921597e13af\",                        [{\"domain\":{\"x\":[0.0,1.0],\"y\":[0.0,1.0]},\"hovertemplate\":\"label=%{label}<br>value=%{value}<extra></extra>\",\"labels\":[\"Smooth\",\"Tannins\"],\"legendgroup\":\"\",\"name\":\"\",\"showlegend\":true,\"values\":[232,92],\"type\":\"pie\",\"marker\":{\"colors\":[\"red\",\"blue\"]}}],                        {\"template\":{\"data\":{\"histogram2dcontour\":[{\"type\":\"histogram2dcontour\",\"colorbar\":{\"outlinewidth\":0,\"ticks\":\"\"},\"colorscale\":[[0.0,\"#0d0887\"],[0.1111111111111111,\"#46039f\"],[0.2222222222222222,\"#7201a8\"],[0.3333333333333333,\"#9c179e\"],[0.4444444444444444,\"#bd3786\"],[0.5555555555555556,\"#d8576b\"],[0.6666666666666666,\"#ed7953\"],[0.7777777777777778,\"#fb9f3a\"],[0.8888888888888888,\"#fdca26\"],[1.0,\"#f0f921\"]]}],\"choropleth\":[{\"type\":\"choropleth\",\"colorbar\":{\"outlinewidth\":0,\"ticks\":\"\"}}],\"histogram2d\":[{\"type\":\"histogram2d\",\"colorbar\":{\"outlinewidth\":0,\"ticks\":\"\"},\"colorscale\":[[0.0,\"#0d0887\"],[0.1111111111111111,\"#46039f\"],[0.2222222222222222,\"#7201a8\"],[0.3333333333333333,\"#9c179e\"],[0.4444444444444444,\"#bd3786\"],[0.5555555555555556,\"#d8576b\"],[0.6666666666666666,\"#ed7953\"],[0.7777777777777778,\"#fb9f3a\"],[0.8888888888888888,\"#fdca26\"],[1.0,\"#f0f921\"]]}],\"heatmap\":[{\"type\":\"heatmap\",\"colorbar\":{\"outlinewidth\":0,\"ticks\":\"\"},\"colorscale\":[[0.0,\"#0d0887\"],[0.1111111111111111,\"#46039f\"],[0.2222222222222222,\"#7201a8\"],[0.3333333333333333,\"#9c179e\"],[0.4444444444444444,\"#bd3786\"],[0.5555555555555556,\"#d8576b\"],[0.6666666666666666,\"#ed7953\"],[0.7777777777777778,\"#fb9f3a\"],[0.8888888888888888,\"#fdca26\"],[1.0,\"#f0f921\"]]}],\"heatmapgl\":[{\"type\":\"heatmapgl\",\"colorbar\":{\"outlinewidth\":0,\"ticks\":\"\"},\"colorscale\":[[0.0,\"#0d0887\"],[0.1111111111111111,\"#46039f\"],[0.2222222222222222,\"#7201a8\"],[0.3333333333333333,\"#9c179e\"],[0.4444444444444444,\"#bd3786\"],[0.5555555555555556,\"#d8576b\"],[0.6666666666666666,\"#ed7953\"],[0.7777777777777778,\"#fb9f3a\"],[0.8888888888888888,\"#fdca26\"],[1.0,\"#f0f921\"]]}],\"contourcarpet\":[{\"type\":\"contourcarpet\",\"colorbar\":{\"outlinewidth\":0,\"ticks\":\"\"}}],\"contour\":[{\"type\":\"contour\",\"colorbar\":{\"outlinewidth\":0,\"ticks\":\"\"},\"colorscale\":[[0.0,\"#0d0887\"],[0.1111111111111111,\"#46039f\"],[0.2222222222222222,\"#7201a8\"],[0.3333333333333333,\"#9c179e\"],[0.4444444444444444,\"#bd3786\"],[0.5555555555555556,\"#d8576b\"],[0.6666666666666666,\"#ed7953\"],[0.7777777777777778,\"#fb9f3a\"],[0.8888888888888888,\"#fdca26\"],[1.0,\"#f0f921\"]]}],\"surface\":[{\"type\":\"surface\",\"colorbar\":{\"outlinewidth\":0,\"ticks\":\"\"},\"colorscale\":[[0.0,\"#0d0887\"],[0.1111111111111111,\"#46039f\"],[0.2222222222222222,\"#7201a8\"],[0.3333333333333333,\"#9c179e\"],[0.4444444444444444,\"#bd3786\"],[0.5555555555555556,\"#d8576b\"],[0.6666666666666666,\"#ed7953\"],[0.7777777777777778,\"#fb9f3a\"],[0.8888888888888888,\"#fdca26\"],[1.0,\"#f0f921\"]]}],\"mesh3d\":[{\"type\":\"mesh3d\",\"colorbar\":{\"outlinewidth\":0,\"ticks\":\"\"}}],\"scatter\":[{\"fillpattern\":{\"fillmode\":\"overlay\",\"size\":10,\"solidity\":0.2},\"type\":\"scatter\"}],\"parcoords\":[{\"type\":\"parcoords\",\"line\":{\"colorbar\":{\"outlinewidth\":0,\"ticks\":\"\"}}}],\"scatterpolargl\":[{\"type\":\"scatterpolargl\",\"marker\":{\"colorbar\":{\"outlinewidth\":0,\"ticks\":\"\"}}}],\"bar\":[{\"error_x\":{\"color\":\"#2a3f5f\"},\"error_y\":{\"color\":\"#2a3f5f\"},\"marker\":{\"line\":{\"color\":\"#E5ECF6\",\"width\":0.5},\"pattern\":{\"fillmode\":\"overlay\",\"size\":10,\"solidity\":0.2}},\"type\":\"bar\"}],\"scattergeo\":[{\"type\":\"scattergeo\",\"marker\":{\"colorbar\":{\"outlinewidth\":0,\"ticks\":\"\"}}}],\"scatterpolar\":[{\"type\":\"scatterpolar\",\"marker\":{\"colorbar\":{\"outlinewidth\":0,\"ticks\":\"\"}}}],\"histogram\":[{\"marker\":{\"pattern\":{\"fillmode\":\"overlay\",\"size\":10,\"solidity\":0.2}},\"type\":\"histogram\"}],\"scattergl\":[{\"type\":\"scattergl\",\"marker\":{\"colorbar\":{\"outlinewidth\":0,\"ticks\":\"\"}}}],\"scatter3d\":[{\"type\":\"scatter3d\",\"line\":{\"colorbar\":{\"outlinewidth\":0,\"ticks\":\"\"}},\"marker\":{\"colorbar\":{\"outlinewidth\":0,\"ticks\":\"\"}}}],\"scattermapbox\":[{\"type\":\"scattermapbox\",\"marker\":{\"colorbar\":{\"outlinewidth\":0,\"ticks\":\"\"}}}],\"scatterternary\":[{\"type\":\"scatterternary\",\"marker\":{\"colorbar\":{\"outlinewidth\":0,\"ticks\":\"\"}}}],\"scattercarpet\":[{\"type\":\"scattercarpet\",\"marker\":{\"colorbar\":{\"outlinewidth\":0,\"ticks\":\"\"}}}],\"carpet\":[{\"aaxis\":{\"endlinecolor\":\"#2a3f5f\",\"gridcolor\":\"white\",\"linecolor\":\"white\",\"minorgridcolor\":\"white\",\"startlinecolor\":\"#2a3f5f\"},\"baxis\":{\"endlinecolor\":\"#2a3f5f\",\"gridcolor\":\"white\",\"linecolor\":\"white\",\"minorgridcolor\":\"white\",\"startlinecolor\":\"#2a3f5f\"},\"type\":\"carpet\"}],\"table\":[{\"cells\":{\"fill\":{\"color\":\"#EBF0F8\"},\"line\":{\"color\":\"white\"}},\"header\":{\"fill\":{\"color\":\"#C8D4E3\"},\"line\":{\"color\":\"white\"}},\"type\":\"table\"}],\"barpolar\":[{\"marker\":{\"line\":{\"color\":\"#E5ECF6\",\"width\":0.5},\"pattern\":{\"fillmode\":\"overlay\",\"size\":10,\"solidity\":0.2}},\"type\":\"barpolar\"}],\"pie\":[{\"automargin\":true,\"type\":\"pie\"}]},\"layout\":{\"autotypenumbers\":\"strict\",\"colorway\":[\"#636efa\",\"#EF553B\",\"#00cc96\",\"#ab63fa\",\"#FFA15A\",\"#19d3f3\",\"#FF6692\",\"#B6E880\",\"#FF97FF\",\"#FECB52\"],\"font\":{\"color\":\"#2a3f5f\"},\"hovermode\":\"closest\",\"hoverlabel\":{\"align\":\"left\"},\"paper_bgcolor\":\"white\",\"plot_bgcolor\":\"#E5ECF6\",\"polar\":{\"bgcolor\":\"#E5ECF6\",\"angularaxis\":{\"gridcolor\":\"white\",\"linecolor\":\"white\",\"ticks\":\"\"},\"radialaxis\":{\"gridcolor\":\"white\",\"linecolor\":\"white\",\"ticks\":\"\"}},\"ternary\":{\"bgcolor\":\"#E5ECF6\",\"aaxis\":{\"gridcolor\":\"white\",\"linecolor\":\"white\",\"ticks\":\"\"},\"baxis\":{\"gridcolor\":\"white\",\"linecolor\":\"white\",\"ticks\":\"\"},\"caxis\":{\"gridcolor\":\"white\",\"linecolor\":\"white\",\"ticks\":\"\"}},\"coloraxis\":{\"colorbar\":{\"outlinewidth\":0,\"ticks\":\"\"}},\"colorscale\":{\"sequential\":[[0.0,\"#0d0887\"],[0.1111111111111111,\"#46039f\"],[0.2222222222222222,\"#7201a8\"],[0.3333333333333333,\"#9c179e\"],[0.4444444444444444,\"#bd3786\"],[0.5555555555555556,\"#d8576b\"],[0.6666666666666666,\"#ed7953\"],[0.7777777777777778,\"#fb9f3a\"],[0.8888888888888888,\"#fdca26\"],[1.0,\"#f0f921\"]],\"sequentialminus\":[[0.0,\"#0d0887\"],[0.1111111111111111,\"#46039f\"],[0.2222222222222222,\"#7201a8\"],[0.3333333333333333,\"#9c179e\"],[0.4444444444444444,\"#bd3786\"],[0.5555555555555556,\"#d8576b\"],[0.6666666666666666,\"#ed7953\"],[0.7777777777777778,\"#fb9f3a\"],[0.8888888888888888,\"#fdca26\"],[1.0,\"#f0f921\"]],\"diverging\":[[0,\"#8e0152\"],[0.1,\"#c51b7d\"],[0.2,\"#de77ae\"],[0.3,\"#f1b6da\"],[0.4,\"#fde0ef\"],[0.5,\"#f7f7f7\"],[0.6,\"#e6f5d0\"],[0.7,\"#b8e186\"],[0.8,\"#7fbc41\"],[0.9,\"#4d9221\"],[1,\"#276419\"]]},\"xaxis\":{\"gridcolor\":\"white\",\"linecolor\":\"white\",\"ticks\":\"\",\"title\":{\"standoff\":15},\"zerolinecolor\":\"white\",\"automargin\":true,\"zerolinewidth\":2},\"yaxis\":{\"gridcolor\":\"white\",\"linecolor\":\"white\",\"ticks\":\"\",\"title\":{\"standoff\":15},\"zerolinecolor\":\"white\",\"automargin\":true,\"zerolinewidth\":2},\"scene\":{\"xaxis\":{\"backgroundcolor\":\"#E5ECF6\",\"gridcolor\":\"white\",\"linecolor\":\"white\",\"showbackground\":true,\"ticks\":\"\",\"zerolinecolor\":\"white\",\"gridwidth\":2},\"yaxis\":{\"backgroundcolor\":\"#E5ECF6\",\"gridcolor\":\"white\",\"linecolor\":\"white\",\"showbackground\":true,\"ticks\":\"\",\"zerolinecolor\":\"white\",\"gridwidth\":2},\"zaxis\":{\"backgroundcolor\":\"#E5ECF6\",\"gridcolor\":\"white\",\"linecolor\":\"white\",\"showbackground\":true,\"ticks\":\"\",\"zerolinecolor\":\"white\",\"gridwidth\":2}},\"shapedefaults\":{\"line\":{\"color\":\"#2a3f5f\"}},\"annotationdefaults\":{\"arrowcolor\":\"#2a3f5f\",\"arrowhead\":0,\"arrowwidth\":1},\"geo\":{\"bgcolor\":\"white\",\"landcolor\":\"#E5ECF6\",\"subunitcolor\":\"white\",\"showland\":true,\"showlakes\":true,\"lakecolor\":\"white\"},\"title\":{\"x\":0.05},\"mapbox\":{\"style\":\"light\"}}},\"legend\":{\"tracegroupgap\":0},\"title\":{\"text\":\"Tannins - Smooth\"}},                        {\"responsive\": true}                    ).then(function(){\n",
              "                            \n",
              "var gd = document.getElementById('6c67ef2f-fda8-4835-b640-b921597e13af');\n",
              "var x = new MutationObserver(function (mutations, observer) {{\n",
              "        var display = window.getComputedStyle(gd).display;\n",
              "        if (!display || display === 'none') {{\n",
              "            console.log([gd, 'removed!']);\n",
              "            Plotly.purge(gd);\n",
              "            observer.disconnect();\n",
              "        }}\n",
              "}});\n",
              "\n",
              "// Listen for the removal of the full notebook cells\n",
              "var notebookContainer = gd.closest('#notebook-container');\n",
              "if (notebookContainer) {{\n",
              "    x.observe(notebookContainer, {childList: true});\n",
              "}}\n",
              "\n",
              "// Listen for the clearing of the current output cell\n",
              "var outputEl = gd.closest('.output');\n",
              "if (outputEl) {{\n",
              "    x.observe(outputEl, {childList: true});\n",
              "}}\n",
              "\n",
              "                        })                };                            </script>        </div>\n",
              "</body>\n",
              "</html>"
            ]
          },
          "metadata": {}
        },
        {
          "output_type": "display_data",
          "data": {
            "text/html": [
              "<html>\n",
              "<head><meta charset=\"utf-8\" /></head>\n",
              "<body>\n",
              "    <div>            <script src=\"https://cdnjs.cloudflare.com/ajax/libs/mathjax/2.7.5/MathJax.js?config=TeX-AMS-MML_SVG\"></script><script type=\"text/javascript\">if (window.MathJax && window.MathJax.Hub && window.MathJax.Hub.Config) {window.MathJax.Hub.Config({SVG: {font: \"STIX-Web\"}});}</script>                <script type=\"text/javascript\">window.PlotlyConfig = {MathJaxConfig: 'local'};</script>\n",
              "        <script src=\"https://cdn.plot.ly/plotly-2.18.2.min.js\"></script>                <div id=\"98b73139-5977-42aa-b9bf-39ecaf6cc03f\" class=\"plotly-graph-div\" style=\"height:525px; width:100%;\"></div>            <script type=\"text/javascript\">                                    window.PLOTLYENV=window.PLOTLYENV || {};                                    if (document.getElementById(\"98b73139-5977-42aa-b9bf-39ecaf6cc03f\")) {                    Plotly.newPlot(                        \"98b73139-5977-42aa-b9bf-39ecaf6cc03f\",                        [{\"domain\":{\"x\":[0.0,1.0],\"y\":[0.0,1.0]},\"hovertemplate\":\"label=%{label}<br>value=%{value}<extra></extra>\",\"labels\":[\"Acidic\",\"Soft\"],\"legendgroup\":\"\",\"name\":\"\",\"showlegend\":true,\"values\":[129,122],\"type\":\"pie\",\"marker\":{\"colors\":[\"green\",\"Yellow\"]}}],                        {\"template\":{\"data\":{\"histogram2dcontour\":[{\"type\":\"histogram2dcontour\",\"colorbar\":{\"outlinewidth\":0,\"ticks\":\"\"},\"colorscale\":[[0.0,\"#0d0887\"],[0.1111111111111111,\"#46039f\"],[0.2222222222222222,\"#7201a8\"],[0.3333333333333333,\"#9c179e\"],[0.4444444444444444,\"#bd3786\"],[0.5555555555555556,\"#d8576b\"],[0.6666666666666666,\"#ed7953\"],[0.7777777777777778,\"#fb9f3a\"],[0.8888888888888888,\"#fdca26\"],[1.0,\"#f0f921\"]]}],\"choropleth\":[{\"type\":\"choropleth\",\"colorbar\":{\"outlinewidth\":0,\"ticks\":\"\"}}],\"histogram2d\":[{\"type\":\"histogram2d\",\"colorbar\":{\"outlinewidth\":0,\"ticks\":\"\"},\"colorscale\":[[0.0,\"#0d0887\"],[0.1111111111111111,\"#46039f\"],[0.2222222222222222,\"#7201a8\"],[0.3333333333333333,\"#9c179e\"],[0.4444444444444444,\"#bd3786\"],[0.5555555555555556,\"#d8576b\"],[0.6666666666666666,\"#ed7953\"],[0.7777777777777778,\"#fb9f3a\"],[0.8888888888888888,\"#fdca26\"],[1.0,\"#f0f921\"]]}],\"heatmap\":[{\"type\":\"heatmap\",\"colorbar\":{\"outlinewidth\":0,\"ticks\":\"\"},\"colorscale\":[[0.0,\"#0d0887\"],[0.1111111111111111,\"#46039f\"],[0.2222222222222222,\"#7201a8\"],[0.3333333333333333,\"#9c179e\"],[0.4444444444444444,\"#bd3786\"],[0.5555555555555556,\"#d8576b\"],[0.6666666666666666,\"#ed7953\"],[0.7777777777777778,\"#fb9f3a\"],[0.8888888888888888,\"#fdca26\"],[1.0,\"#f0f921\"]]}],\"heatmapgl\":[{\"type\":\"heatmapgl\",\"colorbar\":{\"outlinewidth\":0,\"ticks\":\"\"},\"colorscale\":[[0.0,\"#0d0887\"],[0.1111111111111111,\"#46039f\"],[0.2222222222222222,\"#7201a8\"],[0.3333333333333333,\"#9c179e\"],[0.4444444444444444,\"#bd3786\"],[0.5555555555555556,\"#d8576b\"],[0.6666666666666666,\"#ed7953\"],[0.7777777777777778,\"#fb9f3a\"],[0.8888888888888888,\"#fdca26\"],[1.0,\"#f0f921\"]]}],\"contourcarpet\":[{\"type\":\"contourcarpet\",\"colorbar\":{\"outlinewidth\":0,\"ticks\":\"\"}}],\"contour\":[{\"type\":\"contour\",\"colorbar\":{\"outlinewidth\":0,\"ticks\":\"\"},\"colorscale\":[[0.0,\"#0d0887\"],[0.1111111111111111,\"#46039f\"],[0.2222222222222222,\"#7201a8\"],[0.3333333333333333,\"#9c179e\"],[0.4444444444444444,\"#bd3786\"],[0.5555555555555556,\"#d8576b\"],[0.6666666666666666,\"#ed7953\"],[0.7777777777777778,\"#fb9f3a\"],[0.8888888888888888,\"#fdca26\"],[1.0,\"#f0f921\"]]}],\"surface\":[{\"type\":\"surface\",\"colorbar\":{\"outlinewidth\":0,\"ticks\":\"\"},\"colorscale\":[[0.0,\"#0d0887\"],[0.1111111111111111,\"#46039f\"],[0.2222222222222222,\"#7201a8\"],[0.3333333333333333,\"#9c179e\"],[0.4444444444444444,\"#bd3786\"],[0.5555555555555556,\"#d8576b\"],[0.6666666666666666,\"#ed7953\"],[0.7777777777777778,\"#fb9f3a\"],[0.8888888888888888,\"#fdca26\"],[1.0,\"#f0f921\"]]}],\"mesh3d\":[{\"type\":\"mesh3d\",\"colorbar\":{\"outlinewidth\":0,\"ticks\":\"\"}}],\"scatter\":[{\"fillpattern\":{\"fillmode\":\"overlay\",\"size\":10,\"solidity\":0.2},\"type\":\"scatter\"}],\"parcoords\":[{\"type\":\"parcoords\",\"line\":{\"colorbar\":{\"outlinewidth\":0,\"ticks\":\"\"}}}],\"scatterpolargl\":[{\"type\":\"scatterpolargl\",\"marker\":{\"colorbar\":{\"outlinewidth\":0,\"ticks\":\"\"}}}],\"bar\":[{\"error_x\":{\"color\":\"#2a3f5f\"},\"error_y\":{\"color\":\"#2a3f5f\"},\"marker\":{\"line\":{\"color\":\"#E5ECF6\",\"width\":0.5},\"pattern\":{\"fillmode\":\"overlay\",\"size\":10,\"solidity\":0.2}},\"type\":\"bar\"}],\"scattergeo\":[{\"type\":\"scattergeo\",\"marker\":{\"colorbar\":{\"outlinewidth\":0,\"ticks\":\"\"}}}],\"scatterpolar\":[{\"type\":\"scatterpolar\",\"marker\":{\"colorbar\":{\"outlinewidth\":0,\"ticks\":\"\"}}}],\"histogram\":[{\"marker\":{\"pattern\":{\"fillmode\":\"overlay\",\"size\":10,\"solidity\":0.2}},\"type\":\"histogram\"}],\"scattergl\":[{\"type\":\"scattergl\",\"marker\":{\"colorbar\":{\"outlinewidth\":0,\"ticks\":\"\"}}}],\"scatter3d\":[{\"type\":\"scatter3d\",\"line\":{\"colorbar\":{\"outlinewidth\":0,\"ticks\":\"\"}},\"marker\":{\"colorbar\":{\"outlinewidth\":0,\"ticks\":\"\"}}}],\"scattermapbox\":[{\"type\":\"scattermapbox\",\"marker\":{\"colorbar\":{\"outlinewidth\":0,\"ticks\":\"\"}}}],\"scatterternary\":[{\"type\":\"scatterternary\",\"marker\":{\"colorbar\":{\"outlinewidth\":0,\"ticks\":\"\"}}}],\"scattercarpet\":[{\"type\":\"scattercarpet\",\"marker\":{\"colorbar\":{\"outlinewidth\":0,\"ticks\":\"\"}}}],\"carpet\":[{\"aaxis\":{\"endlinecolor\":\"#2a3f5f\",\"gridcolor\":\"white\",\"linecolor\":\"white\",\"minorgridcolor\":\"white\",\"startlinecolor\":\"#2a3f5f\"},\"baxis\":{\"endlinecolor\":\"#2a3f5f\",\"gridcolor\":\"white\",\"linecolor\":\"white\",\"minorgridcolor\":\"white\",\"startlinecolor\":\"#2a3f5f\"},\"type\":\"carpet\"}],\"table\":[{\"cells\":{\"fill\":{\"color\":\"#EBF0F8\"},\"line\":{\"color\":\"white\"}},\"header\":{\"fill\":{\"color\":\"#C8D4E3\"},\"line\":{\"color\":\"white\"}},\"type\":\"table\"}],\"barpolar\":[{\"marker\":{\"line\":{\"color\":\"#E5ECF6\",\"width\":0.5},\"pattern\":{\"fillmode\":\"overlay\",\"size\":10,\"solidity\":0.2}},\"type\":\"barpolar\"}],\"pie\":[{\"automargin\":true,\"type\":\"pie\"}]},\"layout\":{\"autotypenumbers\":\"strict\",\"colorway\":[\"#636efa\",\"#EF553B\",\"#00cc96\",\"#ab63fa\",\"#FFA15A\",\"#19d3f3\",\"#FF6692\",\"#B6E880\",\"#FF97FF\",\"#FECB52\"],\"font\":{\"color\":\"#2a3f5f\"},\"hovermode\":\"closest\",\"hoverlabel\":{\"align\":\"left\"},\"paper_bgcolor\":\"white\",\"plot_bgcolor\":\"#E5ECF6\",\"polar\":{\"bgcolor\":\"#E5ECF6\",\"angularaxis\":{\"gridcolor\":\"white\",\"linecolor\":\"white\",\"ticks\":\"\"},\"radialaxis\":{\"gridcolor\":\"white\",\"linecolor\":\"white\",\"ticks\":\"\"}},\"ternary\":{\"bgcolor\":\"#E5ECF6\",\"aaxis\":{\"gridcolor\":\"white\",\"linecolor\":\"white\",\"ticks\":\"\"},\"baxis\":{\"gridcolor\":\"white\",\"linecolor\":\"white\",\"ticks\":\"\"},\"caxis\":{\"gridcolor\":\"white\",\"linecolor\":\"white\",\"ticks\":\"\"}},\"coloraxis\":{\"colorbar\":{\"outlinewidth\":0,\"ticks\":\"\"}},\"colorscale\":{\"sequential\":[[0.0,\"#0d0887\"],[0.1111111111111111,\"#46039f\"],[0.2222222222222222,\"#7201a8\"],[0.3333333333333333,\"#9c179e\"],[0.4444444444444444,\"#bd3786\"],[0.5555555555555556,\"#d8576b\"],[0.6666666666666666,\"#ed7953\"],[0.7777777777777778,\"#fb9f3a\"],[0.8888888888888888,\"#fdca26\"],[1.0,\"#f0f921\"]],\"sequentialminus\":[[0.0,\"#0d0887\"],[0.1111111111111111,\"#46039f\"],[0.2222222222222222,\"#7201a8\"],[0.3333333333333333,\"#9c179e\"],[0.4444444444444444,\"#bd3786\"],[0.5555555555555556,\"#d8576b\"],[0.6666666666666666,\"#ed7953\"],[0.7777777777777778,\"#fb9f3a\"],[0.8888888888888888,\"#fdca26\"],[1.0,\"#f0f921\"]],\"diverging\":[[0,\"#8e0152\"],[0.1,\"#c51b7d\"],[0.2,\"#de77ae\"],[0.3,\"#f1b6da\"],[0.4,\"#fde0ef\"],[0.5,\"#f7f7f7\"],[0.6,\"#e6f5d0\"],[0.7,\"#b8e186\"],[0.8,\"#7fbc41\"],[0.9,\"#4d9221\"],[1,\"#276419\"]]},\"xaxis\":{\"gridcolor\":\"white\",\"linecolor\":\"white\",\"ticks\":\"\",\"title\":{\"standoff\":15},\"zerolinecolor\":\"white\",\"automargin\":true,\"zerolinewidth\":2},\"yaxis\":{\"gridcolor\":\"white\",\"linecolor\":\"white\",\"ticks\":\"\",\"title\":{\"standoff\":15},\"zerolinecolor\":\"white\",\"automargin\":true,\"zerolinewidth\":2},\"scene\":{\"xaxis\":{\"backgroundcolor\":\"#E5ECF6\",\"gridcolor\":\"white\",\"linecolor\":\"white\",\"showbackground\":true,\"ticks\":\"\",\"zerolinecolor\":\"white\",\"gridwidth\":2},\"yaxis\":{\"backgroundcolor\":\"#E5ECF6\",\"gridcolor\":\"white\",\"linecolor\":\"white\",\"showbackground\":true,\"ticks\":\"\",\"zerolinecolor\":\"white\",\"gridwidth\":2},\"zaxis\":{\"backgroundcolor\":\"#E5ECF6\",\"gridcolor\":\"white\",\"linecolor\":\"white\",\"showbackground\":true,\"ticks\":\"\",\"zerolinecolor\":\"white\",\"gridwidth\":2}},\"shapedefaults\":{\"line\":{\"color\":\"#2a3f5f\"}},\"annotationdefaults\":{\"arrowcolor\":\"#2a3f5f\",\"arrowhead\":0,\"arrowwidth\":1},\"geo\":{\"bgcolor\":\"white\",\"landcolor\":\"#E5ECF6\",\"subunitcolor\":\"white\",\"showland\":true,\"showlakes\":true,\"lakecolor\":\"white\"},\"title\":{\"x\":0.05},\"mapbox\":{\"style\":\"light\"}}},\"legend\":{\"tracegroupgap\":0},\"title\":{\"text\":\"Acidic - Soft\"}},                        {\"responsive\": true}                    ).then(function(){\n",
              "                            \n",
              "var gd = document.getElementById('98b73139-5977-42aa-b9bf-39ecaf6cc03f');\n",
              "var x = new MutationObserver(function (mutations, observer) {{\n",
              "        var display = window.getComputedStyle(gd).display;\n",
              "        if (!display || display === 'none') {{\n",
              "            console.log([gd, 'removed!']);\n",
              "            Plotly.purge(gd);\n",
              "            observer.disconnect();\n",
              "        }}\n",
              "}});\n",
              "\n",
              "// Listen for the removal of the full notebook cells\n",
              "var notebookContainer = gd.closest('#notebook-container');\n",
              "if (notebookContainer) {{\n",
              "    x.observe(notebookContainer, {childList: true});\n",
              "}}\n",
              "\n",
              "// Listen for the clearing of the current output cell\n",
              "var outputEl = gd.closest('.output');\n",
              "if (outputEl) {{\n",
              "    x.observe(outputEl, {childList: true});\n",
              "}}\n",
              "\n",
              "                        })                };                            </script>        </div>\n",
              "</body>\n",
              "</html>"
            ]
          },
          "metadata": {}
        },
        {
          "output_type": "display_data",
          "data": {
            "text/html": [
              "<html>\n",
              "<head><meta charset=\"utf-8\" /></head>\n",
              "<body>\n",
              "    <div>            <script src=\"https://cdnjs.cloudflare.com/ajax/libs/mathjax/2.7.5/MathJax.js?config=TeX-AMS-MML_SVG\"></script><script type=\"text/javascript\">if (window.MathJax && window.MathJax.Hub && window.MathJax.Hub.Config) {window.MathJax.Hub.Config({SVG: {font: \"STIX-Web\"}});}</script>                <script type=\"text/javascript\">window.PlotlyConfig = {MathJaxConfig: 'local'};</script>\n",
              "        <script src=\"https://cdn.plot.ly/plotly-2.18.2.min.js\"></script>                <div id=\"2997e086-7daf-4c8c-a14d-109e2a2c8842\" class=\"plotly-graph-div\" style=\"height:525px; width:100%;\"></div>            <script type=\"text/javascript\">                                    window.PLOTLYENV=window.PLOTLYENV || {};                                    if (document.getElementById(\"2997e086-7daf-4c8c-a14d-109e2a2c8842\")) {                    Plotly.newPlot(                        \"2997e086-7daf-4c8c-a14d-109e2a2c8842\",                        [{\"domain\":{\"x\":[0.0,1.0],\"y\":[0.0,1.0]},\"hovertemplate\":\"label=%{label}<br>value=%{value}<extra></extra>\",\"labels\":[\"Light\",\"Bold\"],\"legendgroup\":\"\",\"name\":\"\",\"showlegend\":true,\"values\":[79,77],\"type\":\"pie\",\"marker\":{\"colors\":[\"black\",\"grey\"]}}],                        {\"template\":{\"data\":{\"histogram2dcontour\":[{\"type\":\"histogram2dcontour\",\"colorbar\":{\"outlinewidth\":0,\"ticks\":\"\"},\"colorscale\":[[0.0,\"#0d0887\"],[0.1111111111111111,\"#46039f\"],[0.2222222222222222,\"#7201a8\"],[0.3333333333333333,\"#9c179e\"],[0.4444444444444444,\"#bd3786\"],[0.5555555555555556,\"#d8576b\"],[0.6666666666666666,\"#ed7953\"],[0.7777777777777778,\"#fb9f3a\"],[0.8888888888888888,\"#fdca26\"],[1.0,\"#f0f921\"]]}],\"choropleth\":[{\"type\":\"choropleth\",\"colorbar\":{\"outlinewidth\":0,\"ticks\":\"\"}}],\"histogram2d\":[{\"type\":\"histogram2d\",\"colorbar\":{\"outlinewidth\":0,\"ticks\":\"\"},\"colorscale\":[[0.0,\"#0d0887\"],[0.1111111111111111,\"#46039f\"],[0.2222222222222222,\"#7201a8\"],[0.3333333333333333,\"#9c179e\"],[0.4444444444444444,\"#bd3786\"],[0.5555555555555556,\"#d8576b\"],[0.6666666666666666,\"#ed7953\"],[0.7777777777777778,\"#fb9f3a\"],[0.8888888888888888,\"#fdca26\"],[1.0,\"#f0f921\"]]}],\"heatmap\":[{\"type\":\"heatmap\",\"colorbar\":{\"outlinewidth\":0,\"ticks\":\"\"},\"colorscale\":[[0.0,\"#0d0887\"],[0.1111111111111111,\"#46039f\"],[0.2222222222222222,\"#7201a8\"],[0.3333333333333333,\"#9c179e\"],[0.4444444444444444,\"#bd3786\"],[0.5555555555555556,\"#d8576b\"],[0.6666666666666666,\"#ed7953\"],[0.7777777777777778,\"#fb9f3a\"],[0.8888888888888888,\"#fdca26\"],[1.0,\"#f0f921\"]]}],\"heatmapgl\":[{\"type\":\"heatmapgl\",\"colorbar\":{\"outlinewidth\":0,\"ticks\":\"\"},\"colorscale\":[[0.0,\"#0d0887\"],[0.1111111111111111,\"#46039f\"],[0.2222222222222222,\"#7201a8\"],[0.3333333333333333,\"#9c179e\"],[0.4444444444444444,\"#bd3786\"],[0.5555555555555556,\"#d8576b\"],[0.6666666666666666,\"#ed7953\"],[0.7777777777777778,\"#fb9f3a\"],[0.8888888888888888,\"#fdca26\"],[1.0,\"#f0f921\"]]}],\"contourcarpet\":[{\"type\":\"contourcarpet\",\"colorbar\":{\"outlinewidth\":0,\"ticks\":\"\"}}],\"contour\":[{\"type\":\"contour\",\"colorbar\":{\"outlinewidth\":0,\"ticks\":\"\"},\"colorscale\":[[0.0,\"#0d0887\"],[0.1111111111111111,\"#46039f\"],[0.2222222222222222,\"#7201a8\"],[0.3333333333333333,\"#9c179e\"],[0.4444444444444444,\"#bd3786\"],[0.5555555555555556,\"#d8576b\"],[0.6666666666666666,\"#ed7953\"],[0.7777777777777778,\"#fb9f3a\"],[0.8888888888888888,\"#fdca26\"],[1.0,\"#f0f921\"]]}],\"surface\":[{\"type\":\"surface\",\"colorbar\":{\"outlinewidth\":0,\"ticks\":\"\"},\"colorscale\":[[0.0,\"#0d0887\"],[0.1111111111111111,\"#46039f\"],[0.2222222222222222,\"#7201a8\"],[0.3333333333333333,\"#9c179e\"],[0.4444444444444444,\"#bd3786\"],[0.5555555555555556,\"#d8576b\"],[0.6666666666666666,\"#ed7953\"],[0.7777777777777778,\"#fb9f3a\"],[0.8888888888888888,\"#fdca26\"],[1.0,\"#f0f921\"]]}],\"mesh3d\":[{\"type\":\"mesh3d\",\"colorbar\":{\"outlinewidth\":0,\"ticks\":\"\"}}],\"scatter\":[{\"fillpattern\":{\"fillmode\":\"overlay\",\"size\":10,\"solidity\":0.2},\"type\":\"scatter\"}],\"parcoords\":[{\"type\":\"parcoords\",\"line\":{\"colorbar\":{\"outlinewidth\":0,\"ticks\":\"\"}}}],\"scatterpolargl\":[{\"type\":\"scatterpolargl\",\"marker\":{\"colorbar\":{\"outlinewidth\":0,\"ticks\":\"\"}}}],\"bar\":[{\"error_x\":{\"color\":\"#2a3f5f\"},\"error_y\":{\"color\":\"#2a3f5f\"},\"marker\":{\"line\":{\"color\":\"#E5ECF6\",\"width\":0.5},\"pattern\":{\"fillmode\":\"overlay\",\"size\":10,\"solidity\":0.2}},\"type\":\"bar\"}],\"scattergeo\":[{\"type\":\"scattergeo\",\"marker\":{\"colorbar\":{\"outlinewidth\":0,\"ticks\":\"\"}}}],\"scatterpolar\":[{\"type\":\"scatterpolar\",\"marker\":{\"colorbar\":{\"outlinewidth\":0,\"ticks\":\"\"}}}],\"histogram\":[{\"marker\":{\"pattern\":{\"fillmode\":\"overlay\",\"size\":10,\"solidity\":0.2}},\"type\":\"histogram\"}],\"scattergl\":[{\"type\":\"scattergl\",\"marker\":{\"colorbar\":{\"outlinewidth\":0,\"ticks\":\"\"}}}],\"scatter3d\":[{\"type\":\"scatter3d\",\"line\":{\"colorbar\":{\"outlinewidth\":0,\"ticks\":\"\"}},\"marker\":{\"colorbar\":{\"outlinewidth\":0,\"ticks\":\"\"}}}],\"scattermapbox\":[{\"type\":\"scattermapbox\",\"marker\":{\"colorbar\":{\"outlinewidth\":0,\"ticks\":\"\"}}}],\"scatterternary\":[{\"type\":\"scatterternary\",\"marker\":{\"colorbar\":{\"outlinewidth\":0,\"ticks\":\"\"}}}],\"scattercarpet\":[{\"type\":\"scattercarpet\",\"marker\":{\"colorbar\":{\"outlinewidth\":0,\"ticks\":\"\"}}}],\"carpet\":[{\"aaxis\":{\"endlinecolor\":\"#2a3f5f\",\"gridcolor\":\"white\",\"linecolor\":\"white\",\"minorgridcolor\":\"white\",\"startlinecolor\":\"#2a3f5f\"},\"baxis\":{\"endlinecolor\":\"#2a3f5f\",\"gridcolor\":\"white\",\"linecolor\":\"white\",\"minorgridcolor\":\"white\",\"startlinecolor\":\"#2a3f5f\"},\"type\":\"carpet\"}],\"table\":[{\"cells\":{\"fill\":{\"color\":\"#EBF0F8\"},\"line\":{\"color\":\"white\"}},\"header\":{\"fill\":{\"color\":\"#C8D4E3\"},\"line\":{\"color\":\"white\"}},\"type\":\"table\"}],\"barpolar\":[{\"marker\":{\"line\":{\"color\":\"#E5ECF6\",\"width\":0.5},\"pattern\":{\"fillmode\":\"overlay\",\"size\":10,\"solidity\":0.2}},\"type\":\"barpolar\"}],\"pie\":[{\"automargin\":true,\"type\":\"pie\"}]},\"layout\":{\"autotypenumbers\":\"strict\",\"colorway\":[\"#636efa\",\"#EF553B\",\"#00cc96\",\"#ab63fa\",\"#FFA15A\",\"#19d3f3\",\"#FF6692\",\"#B6E880\",\"#FF97FF\",\"#FECB52\"],\"font\":{\"color\":\"#2a3f5f\"},\"hovermode\":\"closest\",\"hoverlabel\":{\"align\":\"left\"},\"paper_bgcolor\":\"white\",\"plot_bgcolor\":\"#E5ECF6\",\"polar\":{\"bgcolor\":\"#E5ECF6\",\"angularaxis\":{\"gridcolor\":\"white\",\"linecolor\":\"white\",\"ticks\":\"\"},\"radialaxis\":{\"gridcolor\":\"white\",\"linecolor\":\"white\",\"ticks\":\"\"}},\"ternary\":{\"bgcolor\":\"#E5ECF6\",\"aaxis\":{\"gridcolor\":\"white\",\"linecolor\":\"white\",\"ticks\":\"\"},\"baxis\":{\"gridcolor\":\"white\",\"linecolor\":\"white\",\"ticks\":\"\"},\"caxis\":{\"gridcolor\":\"white\",\"linecolor\":\"white\",\"ticks\":\"\"}},\"coloraxis\":{\"colorbar\":{\"outlinewidth\":0,\"ticks\":\"\"}},\"colorscale\":{\"sequential\":[[0.0,\"#0d0887\"],[0.1111111111111111,\"#46039f\"],[0.2222222222222222,\"#7201a8\"],[0.3333333333333333,\"#9c179e\"],[0.4444444444444444,\"#bd3786\"],[0.5555555555555556,\"#d8576b\"],[0.6666666666666666,\"#ed7953\"],[0.7777777777777778,\"#fb9f3a\"],[0.8888888888888888,\"#fdca26\"],[1.0,\"#f0f921\"]],\"sequentialminus\":[[0.0,\"#0d0887\"],[0.1111111111111111,\"#46039f\"],[0.2222222222222222,\"#7201a8\"],[0.3333333333333333,\"#9c179e\"],[0.4444444444444444,\"#bd3786\"],[0.5555555555555556,\"#d8576b\"],[0.6666666666666666,\"#ed7953\"],[0.7777777777777778,\"#fb9f3a\"],[0.8888888888888888,\"#fdca26\"],[1.0,\"#f0f921\"]],\"diverging\":[[0,\"#8e0152\"],[0.1,\"#c51b7d\"],[0.2,\"#de77ae\"],[0.3,\"#f1b6da\"],[0.4,\"#fde0ef\"],[0.5,\"#f7f7f7\"],[0.6,\"#e6f5d0\"],[0.7,\"#b8e186\"],[0.8,\"#7fbc41\"],[0.9,\"#4d9221\"],[1,\"#276419\"]]},\"xaxis\":{\"gridcolor\":\"white\",\"linecolor\":\"white\",\"ticks\":\"\",\"title\":{\"standoff\":15},\"zerolinecolor\":\"white\",\"automargin\":true,\"zerolinewidth\":2},\"yaxis\":{\"gridcolor\":\"white\",\"linecolor\":\"white\",\"ticks\":\"\",\"title\":{\"standoff\":15},\"zerolinecolor\":\"white\",\"automargin\":true,\"zerolinewidth\":2},\"scene\":{\"xaxis\":{\"backgroundcolor\":\"#E5ECF6\",\"gridcolor\":\"white\",\"linecolor\":\"white\",\"showbackground\":true,\"ticks\":\"\",\"zerolinecolor\":\"white\",\"gridwidth\":2},\"yaxis\":{\"backgroundcolor\":\"#E5ECF6\",\"gridcolor\":\"white\",\"linecolor\":\"white\",\"showbackground\":true,\"ticks\":\"\",\"zerolinecolor\":\"white\",\"gridwidth\":2},\"zaxis\":{\"backgroundcolor\":\"#E5ECF6\",\"gridcolor\":\"white\",\"linecolor\":\"white\",\"showbackground\":true,\"ticks\":\"\",\"zerolinecolor\":\"white\",\"gridwidth\":2}},\"shapedefaults\":{\"line\":{\"color\":\"#2a3f5f\"}},\"annotationdefaults\":{\"arrowcolor\":\"#2a3f5f\",\"arrowhead\":0,\"arrowwidth\":1},\"geo\":{\"bgcolor\":\"white\",\"landcolor\":\"#E5ECF6\",\"subunitcolor\":\"white\",\"showland\":true,\"showlakes\":true,\"lakecolor\":\"white\"},\"title\":{\"x\":0.05},\"mapbox\":{\"style\":\"light\"}}},\"legend\":{\"tracegroupgap\":0},\"title\":{\"text\":\"Light - Bold\"}},                        {\"responsive\": true}                    ).then(function(){\n",
              "                            \n",
              "var gd = document.getElementById('2997e086-7daf-4c8c-a14d-109e2a2c8842');\n",
              "var x = new MutationObserver(function (mutations, observer) {{\n",
              "        var display = window.getComputedStyle(gd).display;\n",
              "        if (!display || display === 'none') {{\n",
              "            console.log([gd, 'removed!']);\n",
              "            Plotly.purge(gd);\n",
              "            observer.disconnect();\n",
              "        }}\n",
              "}});\n",
              "\n",
              "// Listen for the removal of the full notebook cells\n",
              "var notebookContainer = gd.closest('#notebook-container');\n",
              "if (notebookContainer) {{\n",
              "    x.observe(notebookContainer, {childList: true});\n",
              "}}\n",
              "\n",
              "// Listen for the clearing of the current output cell\n",
              "var outputEl = gd.closest('.output');\n",
              "if (outputEl) {{\n",
              "    x.observe(outputEl, {childList: true});\n",
              "}}\n",
              "\n",
              "                        })                };                            </script>        </div>\n",
              "</body>\n",
              "</html>"
            ]
          },
          "metadata": {}
        }
      ]
    },
    {
      "cell_type": "code",
      "source": [
        "flavor1, flavor2 = list(flavors_dict_SWEET.values())\n",
        "sweet_key = round(copy(flavor2 / (flavor1+flavor2) * 100))     #sweet 2번\n",
        "\n",
        "flavor1, flavor2 = list(flavors_dict_Tannins.values())\n",
        "tannins_key = round(copy(flavor2 / (flavor1+flavor2) * 100))   #tannin 2번\n",
        "\n",
        "flavor1, flavor2 = list(flavors_dict_Acidic.values())\n",
        "acidic_key = round(copy(flavor1 / (flavor1+flavor2) * 100))    #acidic 1번\n",
        "\n",
        "flavor1, flavor2 = list(flavors_dict_Light.values())\n",
        "light_key = round(copy(flavor1 / (flavor1+flavor2) * 100))     #light 1번"
      ],
      "metadata": {
        "id": "3gGENboEP4k5"
      },
      "execution_count": null,
      "outputs": []
    },
    {
      "cell_type": "markdown",
      "source": [
        "# 4. 데이터셋 만들기"
      ],
      "metadata": {
        "id": "-cMChW79LesE"
      }
    },
    {
      "cell_type": "markdown",
      "source": [
        "## 4.0. 저장할 데이터셋 csv로 받기"
      ],
      "metadata": {
        "id": "suki4SNiMAnM"
      }
    },
    {
      "cell_type": "code",
      "source": [
        "df_Dataset = pd.read_csv('/content/WineDataset.csv')\n"
      ],
      "metadata": {
        "id": "1FE9Hr7eLdah"
      },
      "execution_count": null,
      "outputs": []
    },
    {
      "cell_type": "markdown",
      "source": [
        "## 4.1. 데이터셋에 필요한 데이터들 추가하기"
      ],
      "metadata": {
        "id": "fuAZNQeUMvyx"
      }
    },
    {
      "cell_type": "code",
      "source": [
        "df_tmp = pd.DataFrame({\n",
        "    \"WineName\": \"Sea Smoke Southing Pinot Noir\",  #이름 바꿔주기\n",
        "    \"Sweet_ex\": [sweet_ratio_ex],\n",
        "    \"Tannins_ex\": [tannin_ratio_ex],\n",
        "    \"Acidic_ex\": [acidic_ratio_ex],\n",
        "    \"Light_ex\": [light_ratio_ex],\n",
        "    \"Sweet_bg\": [sweet_ratio_bg],\n",
        "    \"Tannins_bg\": [tannin_ratio_bg],\n",
        "    \"Acidic_bg\": [acidic_ratio_bg],\n",
        "    \"Light_bg\": [light_ratio_bg],\n",
        "    \"Sweet_all\": [sweet_ratio_all],\n",
        "    \"Tannins_all\": [tannin_ratio_all],\n",
        "    \"Acidic_all\": [acidic_ratio_all],\n",
        "    \"Light_all\": [light_ratio_all],\n",
        "    \"Sweet_key\": [sweet_key],\n",
        "    \"Tannins_key\": [tannins_key],\n",
        "    \"Acidic_key\": [acidic_key],\n",
        "    \"Light_key\": [light_key]\n",
        "})"
      ],
      "metadata": {
        "id": "5qK4-Iy7MyZL"
      },
      "execution_count": null,
      "outputs": []
    },
    {
      "cell_type": "code",
      "source": [
        "df_Dataset = df_Dataset.append(df_tmp, ignore_index = True)"
      ],
      "metadata": {
        "colab": {
          "base_uri": "https://localhost:8080/"
        },
        "id": "fufOczXTS5Al",
        "outputId": "4977a71e-f3c2-43ba-9364-a46e78982fc1"
      },
      "execution_count": null,
      "outputs": [
        {
          "output_type": "stream",
          "name": "stderr",
          "text": [
            "<ipython-input-400-45b4f3f6052c>:1: FutureWarning:\n",
            "\n",
            "The frame.append method is deprecated and will be removed from pandas in a future version. Use pandas.concat instead.\n",
            "\n"
          ]
        }
      ]
    },
    {
      "cell_type": "code",
      "source": [
        "df_Dataset"
      ],
      "metadata": {
        "colab": {
          "base_uri": "https://localhost:8080/",
          "height": 468
        },
        "id": "jgg6vyOVTlDM",
        "outputId": "605fa968-2ecd-4876-e758-fea903cc40e2"
      },
      "execution_count": null,
      "outputs": [
        {
          "output_type": "execute_result",
          "data": {
            "text/plain": [
              "                                             WineName  Sweet_ex  Tannins_ex  \\\n",
              "0                    Torre Oria Knock Knock Red Blend        54          32   \n",
              "1                              Weinert Carrascal 2002        21          47   \n",
              "2   Bastide Miraflors Vieilles Vignes Syrah - Gren...        23          42   \n",
              "3                             Château Pibran Pauillac        16          52   \n",
              "4                Domain Road Vineyard Pinot Noir 2020        23          47   \n",
              "5                  Dominus Dominus (Christian Moueix)        40          30   \n",
              "6                Duckhorn Three Palms Vineyard Merlot        33          29   \n",
              "7                 Mysterious Diggings Pinot Noir 2022        24          40   \n",
              "8                           River Run Pinot Noir 2021        39          32   \n",
              "9                              Rutherford Hill Merlot        36          29   \n",
              "10                      Sea Smoke Southing Pinot Noir        43          24   \n",
              "\n",
              "    Acidic_ex  Light_ex  Sweet_bg  Tannins_bg  Acidic_bg  Light_bg  Sweet_all  \\\n",
              "0          61        77        55          13         69        90         55   \n",
              "1          42        39        23          41         38        34         22   \n",
              "2          56        49        47          20         43        50         27   \n",
              "3          45        40        22          23         50        47         18   \n",
              "4          62        64        40          21         29        56         28   \n",
              "5          24        39        45          27         17        30         40   \n",
              "6          34        40        25          14         35        41         30   \n",
              "7          67        69        48          12         60        72         38   \n",
              "8          53        78        22          18         54        73         36   \n",
              "9          54        46        36          15         39        55         36   \n",
              "10         53        62        31          12         33        47         39   \n",
              "\n",
              "    ...  Light_all  Sweet_key  Tannins_key  Acidic_key  Light_key  Sweet_vi  \\\n",
              "0   ...         83         46           32          57         68       NaN   \n",
              "1   ...         38         28           47          58         85       NaN   \n",
              "2   ...         49         18           48          59         72       NaN   \n",
              "3   ...         42         14           50          55         74       NaN   \n",
              "4   ...         62         31           49          60         51       NaN   \n",
              "5   ...         38         44           43          68         78       NaN   \n",
              "6   ...         40         26           33          67         74       NaN   \n",
              "7   ...         70         41           41          61         61       NaN   \n",
              "8   ...         76         26           37          52         75       NaN   \n",
              "9   ...         50         25           30          58         65       NaN   \n",
              "10  ...         57         33           28          51         51       NaN   \n",
              "\n",
              "    Tannins_vi  Acidic_vi  Light_vi  Tag  \n",
              "0          NaN        NaN       NaN  NaN  \n",
              "1          NaN        NaN       NaN  NaN  \n",
              "2          NaN        NaN       NaN  NaN  \n",
              "3          NaN        NaN       NaN  NaN  \n",
              "4          NaN        NaN       NaN  NaN  \n",
              "5          NaN        NaN       NaN  NaN  \n",
              "6          NaN        NaN       NaN  NaN  \n",
              "7          NaN        NaN       NaN  NaN  \n",
              "8          NaN        NaN       NaN  NaN  \n",
              "9          NaN        NaN       NaN  NaN  \n",
              "10         NaN        NaN       NaN  NaN  \n",
              "\n",
              "[11 rows x 22 columns]"
            ],
            "text/html": [
              "\n",
              "\n",
              "  <div id=\"df-d6d37203-356b-444d-bce2-83b872cca155\">\n",
              "    <div class=\"colab-df-container\">\n",
              "      <div>\n",
              "<style scoped>\n",
              "    .dataframe tbody tr th:only-of-type {\n",
              "        vertical-align: middle;\n",
              "    }\n",
              "\n",
              "    .dataframe tbody tr th {\n",
              "        vertical-align: top;\n",
              "    }\n",
              "\n",
              "    .dataframe thead th {\n",
              "        text-align: right;\n",
              "    }\n",
              "</style>\n",
              "<table border=\"1\" class=\"dataframe\">\n",
              "  <thead>\n",
              "    <tr style=\"text-align: right;\">\n",
              "      <th></th>\n",
              "      <th>WineName</th>\n",
              "      <th>Sweet_ex</th>\n",
              "      <th>Tannins_ex</th>\n",
              "      <th>Acidic_ex</th>\n",
              "      <th>Light_ex</th>\n",
              "      <th>Sweet_bg</th>\n",
              "      <th>Tannins_bg</th>\n",
              "      <th>Acidic_bg</th>\n",
              "      <th>Light_bg</th>\n",
              "      <th>Sweet_all</th>\n",
              "      <th>...</th>\n",
              "      <th>Light_all</th>\n",
              "      <th>Sweet_key</th>\n",
              "      <th>Tannins_key</th>\n",
              "      <th>Acidic_key</th>\n",
              "      <th>Light_key</th>\n",
              "      <th>Sweet_vi</th>\n",
              "      <th>Tannins_vi</th>\n",
              "      <th>Acidic_vi</th>\n",
              "      <th>Light_vi</th>\n",
              "      <th>Tag</th>\n",
              "    </tr>\n",
              "  </thead>\n",
              "  <tbody>\n",
              "    <tr>\n",
              "      <th>0</th>\n",
              "      <td>Torre Oria Knock Knock Red Blend</td>\n",
              "      <td>54</td>\n",
              "      <td>32</td>\n",
              "      <td>61</td>\n",
              "      <td>77</td>\n",
              "      <td>55</td>\n",
              "      <td>13</td>\n",
              "      <td>69</td>\n",
              "      <td>90</td>\n",
              "      <td>55</td>\n",
              "      <td>...</td>\n",
              "      <td>83</td>\n",
              "      <td>46</td>\n",
              "      <td>32</td>\n",
              "      <td>57</td>\n",
              "      <td>68</td>\n",
              "      <td>NaN</td>\n",
              "      <td>NaN</td>\n",
              "      <td>NaN</td>\n",
              "      <td>NaN</td>\n",
              "      <td>NaN</td>\n",
              "    </tr>\n",
              "    <tr>\n",
              "      <th>1</th>\n",
              "      <td>Weinert Carrascal 2002</td>\n",
              "      <td>21</td>\n",
              "      <td>47</td>\n",
              "      <td>42</td>\n",
              "      <td>39</td>\n",
              "      <td>23</td>\n",
              "      <td>41</td>\n",
              "      <td>38</td>\n",
              "      <td>34</td>\n",
              "      <td>22</td>\n",
              "      <td>...</td>\n",
              "      <td>38</td>\n",
              "      <td>28</td>\n",
              "      <td>47</td>\n",
              "      <td>58</td>\n",
              "      <td>85</td>\n",
              "      <td>NaN</td>\n",
              "      <td>NaN</td>\n",
              "      <td>NaN</td>\n",
              "      <td>NaN</td>\n",
              "      <td>NaN</td>\n",
              "    </tr>\n",
              "    <tr>\n",
              "      <th>2</th>\n",
              "      <td>Bastide Miraflors Vieilles Vignes Syrah - Gren...</td>\n",
              "      <td>23</td>\n",
              "      <td>42</td>\n",
              "      <td>56</td>\n",
              "      <td>49</td>\n",
              "      <td>47</td>\n",
              "      <td>20</td>\n",
              "      <td>43</td>\n",
              "      <td>50</td>\n",
              "      <td>27</td>\n",
              "      <td>...</td>\n",
              "      <td>49</td>\n",
              "      <td>18</td>\n",
              "      <td>48</td>\n",
              "      <td>59</td>\n",
              "      <td>72</td>\n",
              "      <td>NaN</td>\n",
              "      <td>NaN</td>\n",
              "      <td>NaN</td>\n",
              "      <td>NaN</td>\n",
              "      <td>NaN</td>\n",
              "    </tr>\n",
              "    <tr>\n",
              "      <th>3</th>\n",
              "      <td>Château Pibran Pauillac</td>\n",
              "      <td>16</td>\n",
              "      <td>52</td>\n",
              "      <td>45</td>\n",
              "      <td>40</td>\n",
              "      <td>22</td>\n",
              "      <td>23</td>\n",
              "      <td>50</td>\n",
              "      <td>47</td>\n",
              "      <td>18</td>\n",
              "      <td>...</td>\n",
              "      <td>42</td>\n",
              "      <td>14</td>\n",
              "      <td>50</td>\n",
              "      <td>55</td>\n",
              "      <td>74</td>\n",
              "      <td>NaN</td>\n",
              "      <td>NaN</td>\n",
              "      <td>NaN</td>\n",
              "      <td>NaN</td>\n",
              "      <td>NaN</td>\n",
              "    </tr>\n",
              "    <tr>\n",
              "      <th>4</th>\n",
              "      <td>Domain Road Vineyard Pinot Noir 2020</td>\n",
              "      <td>23</td>\n",
              "      <td>47</td>\n",
              "      <td>62</td>\n",
              "      <td>64</td>\n",
              "      <td>40</td>\n",
              "      <td>21</td>\n",
              "      <td>29</td>\n",
              "      <td>56</td>\n",
              "      <td>28</td>\n",
              "      <td>...</td>\n",
              "      <td>62</td>\n",
              "      <td>31</td>\n",
              "      <td>49</td>\n",
              "      <td>60</td>\n",
              "      <td>51</td>\n",
              "      <td>NaN</td>\n",
              "      <td>NaN</td>\n",
              "      <td>NaN</td>\n",
              "      <td>NaN</td>\n",
              "      <td>NaN</td>\n",
              "    </tr>\n",
              "    <tr>\n",
              "      <th>5</th>\n",
              "      <td>Dominus Dominus (Christian Moueix)</td>\n",
              "      <td>40</td>\n",
              "      <td>30</td>\n",
              "      <td>24</td>\n",
              "      <td>39</td>\n",
              "      <td>45</td>\n",
              "      <td>27</td>\n",
              "      <td>17</td>\n",
              "      <td>30</td>\n",
              "      <td>40</td>\n",
              "      <td>...</td>\n",
              "      <td>38</td>\n",
              "      <td>44</td>\n",
              "      <td>43</td>\n",
              "      <td>68</td>\n",
              "      <td>78</td>\n",
              "      <td>NaN</td>\n",
              "      <td>NaN</td>\n",
              "      <td>NaN</td>\n",
              "      <td>NaN</td>\n",
              "      <td>NaN</td>\n",
              "    </tr>\n",
              "    <tr>\n",
              "      <th>6</th>\n",
              "      <td>Duckhorn Three Palms Vineyard Merlot</td>\n",
              "      <td>33</td>\n",
              "      <td>29</td>\n",
              "      <td>34</td>\n",
              "      <td>40</td>\n",
              "      <td>25</td>\n",
              "      <td>14</td>\n",
              "      <td>35</td>\n",
              "      <td>41</td>\n",
              "      <td>30</td>\n",
              "      <td>...</td>\n",
              "      <td>40</td>\n",
              "      <td>26</td>\n",
              "      <td>33</td>\n",
              "      <td>67</td>\n",
              "      <td>74</td>\n",
              "      <td>NaN</td>\n",
              "      <td>NaN</td>\n",
              "      <td>NaN</td>\n",
              "      <td>NaN</td>\n",
              "      <td>NaN</td>\n",
              "    </tr>\n",
              "    <tr>\n",
              "      <th>7</th>\n",
              "      <td>Mysterious Diggings Pinot Noir 2022</td>\n",
              "      <td>24</td>\n",
              "      <td>40</td>\n",
              "      <td>67</td>\n",
              "      <td>69</td>\n",
              "      <td>48</td>\n",
              "      <td>12</td>\n",
              "      <td>60</td>\n",
              "      <td>72</td>\n",
              "      <td>38</td>\n",
              "      <td>...</td>\n",
              "      <td>70</td>\n",
              "      <td>41</td>\n",
              "      <td>41</td>\n",
              "      <td>61</td>\n",
              "      <td>61</td>\n",
              "      <td>NaN</td>\n",
              "      <td>NaN</td>\n",
              "      <td>NaN</td>\n",
              "      <td>NaN</td>\n",
              "      <td>NaN</td>\n",
              "    </tr>\n",
              "    <tr>\n",
              "      <th>8</th>\n",
              "      <td>River Run Pinot Noir 2021</td>\n",
              "      <td>39</td>\n",
              "      <td>32</td>\n",
              "      <td>53</td>\n",
              "      <td>78</td>\n",
              "      <td>22</td>\n",
              "      <td>18</td>\n",
              "      <td>54</td>\n",
              "      <td>73</td>\n",
              "      <td>36</td>\n",
              "      <td>...</td>\n",
              "      <td>76</td>\n",
              "      <td>26</td>\n",
              "      <td>37</td>\n",
              "      <td>52</td>\n",
              "      <td>75</td>\n",
              "      <td>NaN</td>\n",
              "      <td>NaN</td>\n",
              "      <td>NaN</td>\n",
              "      <td>NaN</td>\n",
              "      <td>NaN</td>\n",
              "    </tr>\n",
              "    <tr>\n",
              "      <th>9</th>\n",
              "      <td>Rutherford Hill Merlot</td>\n",
              "      <td>36</td>\n",
              "      <td>29</td>\n",
              "      <td>54</td>\n",
              "      <td>46</td>\n",
              "      <td>36</td>\n",
              "      <td>15</td>\n",
              "      <td>39</td>\n",
              "      <td>55</td>\n",
              "      <td>36</td>\n",
              "      <td>...</td>\n",
              "      <td>50</td>\n",
              "      <td>25</td>\n",
              "      <td>30</td>\n",
              "      <td>58</td>\n",
              "      <td>65</td>\n",
              "      <td>NaN</td>\n",
              "      <td>NaN</td>\n",
              "      <td>NaN</td>\n",
              "      <td>NaN</td>\n",
              "      <td>NaN</td>\n",
              "    </tr>\n",
              "    <tr>\n",
              "      <th>10</th>\n",
              "      <td>Sea Smoke Southing Pinot Noir</td>\n",
              "      <td>43</td>\n",
              "      <td>24</td>\n",
              "      <td>53</td>\n",
              "      <td>62</td>\n",
              "      <td>31</td>\n",
              "      <td>12</td>\n",
              "      <td>33</td>\n",
              "      <td>47</td>\n",
              "      <td>39</td>\n",
              "      <td>...</td>\n",
              "      <td>57</td>\n",
              "      <td>33</td>\n",
              "      <td>28</td>\n",
              "      <td>51</td>\n",
              "      <td>51</td>\n",
              "      <td>NaN</td>\n",
              "      <td>NaN</td>\n",
              "      <td>NaN</td>\n",
              "      <td>NaN</td>\n",
              "      <td>NaN</td>\n",
              "    </tr>\n",
              "  </tbody>\n",
              "</table>\n",
              "<p>11 rows × 22 columns</p>\n",
              "</div>\n",
              "      <button class=\"colab-df-convert\" onclick=\"convertToInteractive('df-d6d37203-356b-444d-bce2-83b872cca155')\"\n",
              "              title=\"Convert this dataframe to an interactive table.\"\n",
              "              style=\"display:none;\">\n",
              "\n",
              "  <svg xmlns=\"http://www.w3.org/2000/svg\" height=\"24px\"viewBox=\"0 0 24 24\"\n",
              "       width=\"24px\">\n",
              "    <path d=\"M0 0h24v24H0V0z\" fill=\"none\"/>\n",
              "    <path d=\"M18.56 5.44l.94 2.06.94-2.06 2.06-.94-2.06-.94-.94-2.06-.94 2.06-2.06.94zm-11 1L8.5 8.5l.94-2.06 2.06-.94-2.06-.94L8.5 2.5l-.94 2.06-2.06.94zm10 10l.94 2.06.94-2.06 2.06-.94-2.06-.94-.94-2.06-.94 2.06-2.06.94z\"/><path d=\"M17.41 7.96l-1.37-1.37c-.4-.4-.92-.59-1.43-.59-.52 0-1.04.2-1.43.59L10.3 9.45l-7.72 7.72c-.78.78-.78 2.05 0 2.83L4 21.41c.39.39.9.59 1.41.59.51 0 1.02-.2 1.41-.59l7.78-7.78 2.81-2.81c.8-.78.8-2.07 0-2.86zM5.41 20L4 18.59l7.72-7.72 1.47 1.35L5.41 20z\"/>\n",
              "  </svg>\n",
              "      </button>\n",
              "\n",
              "\n",
              "\n",
              "    <div id=\"df-ffde935f-7bbd-4f63-8cd6-1c6a3a9c91e1\">\n",
              "      <button class=\"colab-df-quickchart\" onclick=\"quickchart('df-ffde935f-7bbd-4f63-8cd6-1c6a3a9c91e1')\"\n",
              "              title=\"Suggest charts.\"\n",
              "              style=\"display:none;\">\n",
              "\n",
              "<svg xmlns=\"http://www.w3.org/2000/svg\" height=\"24px\"viewBox=\"0 0 24 24\"\n",
              "     width=\"24px\">\n",
              "    <g>\n",
              "        <path d=\"M19 3H5c-1.1 0-2 .9-2 2v14c0 1.1.9 2 2 2h14c1.1 0 2-.9 2-2V5c0-1.1-.9-2-2-2zM9 17H7v-7h2v7zm4 0h-2V7h2v10zm4 0h-2v-4h2v4z\"/>\n",
              "    </g>\n",
              "</svg>\n",
              "      </button>\n",
              "    </div>\n",
              "\n",
              "<style>\n",
              "  .colab-df-quickchart {\n",
              "    background-color: #E8F0FE;\n",
              "    border: none;\n",
              "    border-radius: 50%;\n",
              "    cursor: pointer;\n",
              "    display: none;\n",
              "    fill: #1967D2;\n",
              "    height: 32px;\n",
              "    padding: 0 0 0 0;\n",
              "    width: 32px;\n",
              "  }\n",
              "\n",
              "  .colab-df-quickchart:hover {\n",
              "    background-color: #E2EBFA;\n",
              "    box-shadow: 0px 1px 2px rgba(60, 64, 67, 0.3), 0px 1px 3px 1px rgba(60, 64, 67, 0.15);\n",
              "    fill: #174EA6;\n",
              "  }\n",
              "\n",
              "  [theme=dark] .colab-df-quickchart {\n",
              "    background-color: #3B4455;\n",
              "    fill: #D2E3FC;\n",
              "  }\n",
              "\n",
              "  [theme=dark] .colab-df-quickchart:hover {\n",
              "    background-color: #434B5C;\n",
              "    box-shadow: 0px 1px 3px 1px rgba(0, 0, 0, 0.15);\n",
              "    filter: drop-shadow(0px 1px 2px rgba(0, 0, 0, 0.3));\n",
              "    fill: #FFFFFF;\n",
              "  }\n",
              "</style>\n",
              "\n",
              "    <script>\n",
              "      async function quickchart(key) {\n",
              "        const containerElement = document.querySelector('#' + key);\n",
              "        const charts = await google.colab.kernel.invokeFunction(\n",
              "            'suggestCharts', [key], {});\n",
              "      }\n",
              "    </script>\n",
              "\n",
              "      <script>\n",
              "\n",
              "function displayQuickchartButton(domScope) {\n",
              "  let quickchartButtonEl =\n",
              "    domScope.querySelector('#df-ffde935f-7bbd-4f63-8cd6-1c6a3a9c91e1 button.colab-df-quickchart');\n",
              "  quickchartButtonEl.style.display =\n",
              "    google.colab.kernel.accessAllowed ? 'block' : 'none';\n",
              "}\n",
              "\n",
              "        displayQuickchartButton(document);\n",
              "      </script>\n",
              "      <style>\n",
              "    .colab-df-container {\n",
              "      display:flex;\n",
              "      flex-wrap:wrap;\n",
              "      gap: 12px;\n",
              "    }\n",
              "\n",
              "    .colab-df-convert {\n",
              "      background-color: #E8F0FE;\n",
              "      border: none;\n",
              "      border-radius: 50%;\n",
              "      cursor: pointer;\n",
              "      display: none;\n",
              "      fill: #1967D2;\n",
              "      height: 32px;\n",
              "      padding: 0 0 0 0;\n",
              "      width: 32px;\n",
              "    }\n",
              "\n",
              "    .colab-df-convert:hover {\n",
              "      background-color: #E2EBFA;\n",
              "      box-shadow: 0px 1px 2px rgba(60, 64, 67, 0.3), 0px 1px 3px 1px rgba(60, 64, 67, 0.15);\n",
              "      fill: #174EA6;\n",
              "    }\n",
              "\n",
              "    [theme=dark] .colab-df-convert {\n",
              "      background-color: #3B4455;\n",
              "      fill: #D2E3FC;\n",
              "    }\n",
              "\n",
              "    [theme=dark] .colab-df-convert:hover {\n",
              "      background-color: #434B5C;\n",
              "      box-shadow: 0px 1px 3px 1px rgba(0, 0, 0, 0.15);\n",
              "      filter: drop-shadow(0px 1px 2px rgba(0, 0, 0, 0.3));\n",
              "      fill: #FFFFFF;\n",
              "    }\n",
              "  </style>\n",
              "\n",
              "      <script>\n",
              "        const buttonEl =\n",
              "          document.querySelector('#df-d6d37203-356b-444d-bce2-83b872cca155 button.colab-df-convert');\n",
              "        buttonEl.style.display =\n",
              "          google.colab.kernel.accessAllowed ? 'block' : 'none';\n",
              "\n",
              "        async function convertToInteractive(key) {\n",
              "          const element = document.querySelector('#df-d6d37203-356b-444d-bce2-83b872cca155');\n",
              "          const dataTable =\n",
              "            await google.colab.kernel.invokeFunction('convertToInteractive',\n",
              "                                                     [key], {});\n",
              "          if (!dataTable) return;\n",
              "\n",
              "          const docLinkHtml = 'Like what you see? Visit the ' +\n",
              "            '<a target=\"_blank\" href=https://colab.research.google.com/notebooks/data_table.ipynb>data table notebook</a>'\n",
              "            + ' to learn more about interactive tables.';\n",
              "          element.innerHTML = '';\n",
              "          dataTable['output_type'] = 'display_data';\n",
              "          await google.colab.output.renderOutput(dataTable, element);\n",
              "          const docLink = document.createElement('div');\n",
              "          docLink.innerHTML = docLinkHtml;\n",
              "          element.appendChild(docLink);\n",
              "        }\n",
              "      </script>\n",
              "    </div>\n",
              "  </div>\n"
            ]
          },
          "metadata": {},
          "execution_count": 401
        }
      ]
    },
    {
      "cell_type": "code",
      "source": [
        "df_Dataset.to_csv('WineDataset.csv', index=False)"
      ],
      "metadata": {
        "id": "TpNMrzzSTnGc"
      },
      "execution_count": null,
      "outputs": []
    },
    {
      "cell_type": "code",
      "source": [],
      "metadata": {
        "id": "XHbh1QhtTyVc"
      },
      "execution_count": null,
      "outputs": []
    }
  ],
  "metadata": {
    "colab": {
      "provenance": [],
      "include_colab_link": true
    },
    "kernelspec": {
      "display_name": "Python 3",
      "name": "python3"
    },
    "language_info": {
      "name": "python"
    }
  },
  "nbformat": 4,
  "nbformat_minor": 0
}